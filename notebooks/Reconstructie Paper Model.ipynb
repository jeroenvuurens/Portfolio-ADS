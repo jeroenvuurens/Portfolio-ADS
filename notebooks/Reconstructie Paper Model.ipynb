{
 "cells": [
  {
   "cell_type": "markdown",
   "metadata": {},
   "source": [
    "This notebook contains the original paper's model for the ensemble for the maximal angles for the right and left arms for each exercise 'AB', 'AF', 'EL', 'RF'.\n",
    "\n",
    "This is a reconstruction of the model, which deviates a little in setup, but not in implementation.\n",
    "\n",
    "This document uses the compiled `ortho_lib` package, which is a collected package from the files used in the original notebooks. `ortho_lib` also contains some other convenience functions to make our lives a little easier."
   ]
  },
  {
   "cell_type": "code",
   "execution_count": 1,
   "metadata": {},
   "outputs": [],
   "source": [
    "from ortho_lib import *\n",
    "import pandas as pd\n",
    "import numpy as np"
   ]
  },
  {
   "cell_type": "code",
   "execution_count": 2,
   "metadata": {},
   "outputs": [],
   "source": [
    "dffs = merge_dffs(create_dfframes([1,3], extype = 'AB', dfframe_class = DFFrame, print_errors= False, show_progress=False),\n",
    "                  create_dfframes([1,3], extype = 'AF', dfframe_class = DFFrame, print_errors= False, show_progress=False))\n",
    "dffs = merge_dffs(dffs,\n",
    "                  create_dfframes([1,3], extype = 'EL', dfframe_class = DFFrame, print_errors= False, show_progress=False))\n",
    "dffs = merge_dffs(dffs,\n",
    "                  create_dfframes([1,3], extype = 'RF', dfframe_class = DFFrame, print_errors= False, show_progress=False))"
   ]
  },
  {
   "cell_type": "code",
   "execution_count": 3,
   "metadata": {},
   "outputs": [],
   "source": [
    "exercises = dffs_to_exercises(dffs)\n",
    "exercises = exercises.drop_patient(130, 338, 235, 236)"
   ]
  },
  {
   "cell_type": "code",
   "execution_count": 4,
   "metadata": {},
   "outputs": [],
   "source": [
    "exp = Experiment(exercises)\n",
    "featureset = [\n",
    "    'left_max_AB', 'right_max_AB',\n",
    "    'left_max_AF', 'right_max_AF',\n",
    "    'left_max_EL', 'right_max_EL'\n",
    "              ]\n",
    "results = exp.fit_inliers(featureset, factor = 1.1)\n",
    "results = exp.fit_inliers_ensemble(featureset, factor=1.1, results=results)"
   ]
  },
  {
   "cell_type": "code",
   "execution_count": 5,
   "metadata": {},
   "outputs": [
    {
     "data": {
      "text/html": [
       "<div>\n",
       "<style scoped>\n",
       "    .dataframe tbody tr th:only-of-type {\n",
       "        vertical-align: middle;\n",
       "    }\n",
       "\n",
       "    .dataframe tbody tr th {\n",
       "        vertical-align: top;\n",
       "    }\n",
       "\n",
       "    .dataframe thead th {\n",
       "        text-align: right;\n",
       "    }\n",
       "</style>\n",
       "<table border=\"1\" class=\"dataframe\">\n",
       "  <thead>\n",
       "    <tr style=\"text-align: right;\">\n",
       "      <th></th>\n",
       "      <th>features</th>\n",
       "      <th>recall</th>\n",
       "      <th>precision</th>\n",
       "      <th>accuracy</th>\n",
       "    </tr>\n",
       "  </thead>\n",
       "  <tbody>\n",
       "    <tr>\n",
       "      <th>0</th>\n",
       "      <td>right_max_AB</td>\n",
       "      <td>0.277778</td>\n",
       "      <td>1.0</td>\n",
       "      <td>0.600000</td>\n",
       "    </tr>\n",
       "    <tr>\n",
       "      <th>1</th>\n",
       "      <td>left_max_AB</td>\n",
       "      <td>0.250000</td>\n",
       "      <td>1.0</td>\n",
       "      <td>0.584615</td>\n",
       "    </tr>\n",
       "    <tr>\n",
       "      <th>2</th>\n",
       "      <td>right_max_AB,left_max_AB,right_max_EL,left_max...</td>\n",
       "      <td>0.722222</td>\n",
       "      <td>1.0</td>\n",
       "      <td>0.846154</td>\n",
       "    </tr>\n",
       "    <tr>\n",
       "      <th>3</th>\n",
       "      <td>right_max_EL</td>\n",
       "      <td>0.277778</td>\n",
       "      <td>1.0</td>\n",
       "      <td>0.600000</td>\n",
       "    </tr>\n",
       "    <tr>\n",
       "      <th>4</th>\n",
       "      <td>left_max_EL</td>\n",
       "      <td>0.166667</td>\n",
       "      <td>1.0</td>\n",
       "      <td>0.538462</td>\n",
       "    </tr>\n",
       "    <tr>\n",
       "      <th>5</th>\n",
       "      <td>right_max_AF</td>\n",
       "      <td>0.138889</td>\n",
       "      <td>1.0</td>\n",
       "      <td>0.523077</td>\n",
       "    </tr>\n",
       "    <tr>\n",
       "      <th>6</th>\n",
       "      <td>left_max_AF</td>\n",
       "      <td>0.527778</td>\n",
       "      <td>1.0</td>\n",
       "      <td>0.738462</td>\n",
       "    </tr>\n",
       "  </tbody>\n",
       "</table>\n",
       "</div>"
      ],
      "text/plain": [
       "                                            features    recall  precision  \\\n",
       "0                                       right_max_AB  0.277778        1.0   \n",
       "1                                        left_max_AB  0.250000        1.0   \n",
       "2  right_max_AB,left_max_AB,right_max_EL,left_max...  0.722222        1.0   \n",
       "3                                       right_max_EL  0.277778        1.0   \n",
       "4                                        left_max_EL  0.166667        1.0   \n",
       "5                                       right_max_AF  0.138889        1.0   \n",
       "6                                        left_max_AF  0.527778        1.0   \n",
       "\n",
       "   accuracy  \n",
       "0  0.600000  \n",
       "1  0.584615  \n",
       "2  0.846154  \n",
       "3  0.600000  \n",
       "4  0.538462  \n",
       "5  0.523077  \n",
       "6  0.738462  "
      ]
     },
     "execution_count": 5,
     "metadata": {},
     "output_type": "execute_result"
    }
   ],
   "source": [
    "results.report()"
   ]
  }
 ],
 "metadata": {
  "kernelspec": {
   "display_name": "Python 3",
   "language": "python",
   "name": "python3"
  },
  "language_info": {
   "codemirror_mode": {
    "name": "ipython",
    "version": 3
   },
   "file_extension": ".py",
   "mimetype": "text/x-python",
   "name": "python",
   "nbconvert_exporter": "python",
   "pygments_lexer": "ipython3",
   "version": "3.6.10"
  },
  "varInspector": {
   "cols": {
    "lenName": 16,
    "lenType": 16,
    "lenVar": 40
   },
   "kernels_config": {
    "python": {
     "delete_cmd_postfix": "",
     "delete_cmd_prefix": "del ",
     "library": "var_list.py",
     "varRefreshCmd": "print(var_dic_list())"
    },
    "r": {
     "delete_cmd_postfix": ") ",
     "delete_cmd_prefix": "rm(",
     "library": "var_list.r",
     "varRefreshCmd": "cat(var_dic_list()) "
    }
   },
   "types_to_exclude": [
    "module",
    "function",
    "builtin_function_or_method",
    "instance",
    "_Feature"
   ],
   "window_display": false
  }
 },
 "nbformat": 4,
 "nbformat_minor": 4
}
