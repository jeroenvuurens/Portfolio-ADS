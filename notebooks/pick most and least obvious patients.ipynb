{
 "cells": [
  {
   "cell_type": "code",
   "execution_count": 1,
   "metadata": {},
   "outputs": [],
   "source": [
    "import sys\n",
    "sys.path.append(\"../\")\n",
    "import pandas as pd\n",
    "from ortho_lib3 import *"
   ]
  },
  {
   "cell_type": "code",
   "execution_count": 2,
   "metadata": {},
   "outputs": [],
   "source": [
    "class InsightfullExperiment(Experiment):\n",
    "    \n",
    "    def fit_inliers_auto_ensemble(self, \n",
    "                                  features, \n",
    "                                  factor=1.1, \n",
    "                                  results=None, \n",
    "                                  name=None, \n",
    "                                  thresholds = (0.0, 1.0, 0.0), \n",
    "                                  show_progress = True):\n",
    "        if results is None:\n",
    "            results = Results(self)\n",
    "        auto_ensemble = []\n",
    "        excluded = {}\n",
    "        \n",
    "        if show_progress is True:\n",
    "            _features = log_progress(features)\n",
    "        else:\n",
    "            _features = features\n",
    "        \n",
    "        for fs in _features:\n",
    "            name = fs\n",
    "            _results = self.fit_inliers_ensemble([fs], factor=factor)\n",
    "            \n",
    "            if thresholds is not None:\n",
    "                if _results.precision(name) != thresholds[1]:\n",
    "                    excluded[name] = _results\n",
    "                elif _results.recall(name) <= thresholds[0]:\n",
    "                    excluded[name] = _results\n",
    "                elif _results.accuracy(name) <= thresholds[2]:\n",
    "                    excluded[name] = _results\n",
    "                else:\n",
    "                    results = self.fit_inliers_ensemble([fs], results=results, factor=factor)\n",
    "                    auto_ensemble.append(fs)\n",
    "            else:\n",
    "                results = self.fit_inliers_ensemble([fs], results=results, factor=factor)\n",
    "                auto_ensemble.append(fs)\n",
    "        \n",
    "        auto_ensemble = set(auto_ensemble)\n",
    "#         features = set(features)\n",
    "        if show_progress is True:\n",
    "            print (f'Auto ensemble ({len(auto_ensemble)}/{len(features)}): ' + ', '.join(auto_ensemble))\n",
    "        \n",
    "        tps = []\n",
    "        \n",
    "        for feature in auto_ensemble:\n",
    "            tps.append(results.get_true_positives(feature))\n",
    "            \n",
    "        return (self.fit_inliers_ensemble(auto_ensemble, results = results, name = 'Auto ensemble'), \n",
    "                tps)\n",
    "    \n",
    "    def fit_inliers_ensemble_pred(self, featureset, factor=1.1, results=None, name=None):\n",
    "        if name is None:\n",
    "            name = str(FeatureSet(featureset))\n",
    "        y_pred = [ self.fit_inliers1(f, factor=factor) for f in featureset ]\n",
    "        return np.array([ max( y ) for y in zip(*y_pred) ])"
   ]
  },
  {
   "cell_type": "code",
   "execution_count": 3,
   "metadata": {},
   "outputs": [
    {
     "data": {
      "application/vnd.jupyter.widget-view+json": {
       "model_id": "5a089777856c43dc8bf8a229d7152bb1",
       "version_major": 2,
       "version_minor": 0
      },
      "text/plain": [
       "VBox(children=(HTML(value=''), IntProgress(value=0, max=1103)))"
      ]
     },
     "metadata": {},
     "output_type": "display_data"
    },
    {
     "name": "stdout",
     "output_type": "stream",
     "text": [
      "dropped 130 because there is (a) missing exercise(s):  ['AB', 'AF', 'EL']\n",
      "dropped 441 because there is (a) missing exercise(s):  ['AB', 'EL', 'RF']\n",
      "dropped 423 because there is (a) missing exercise(s):  ['AB', 'AF', 'RF']\n",
      "dropped 421 because there is (a) missing exercise(s):  ['AB', 'AF', 'RF']\n"
     ]
    }
   ],
   "source": [
    "data_dir = '..//transformed_data/'\n",
    "category = ['Category_1', 'Category_2', 'Category_3', 'Category_4']\n",
    "exercise = 'AB1.txt'\n",
    "extype = ['AB', 'AF', 'RF', 'EL']\n",
    "pat_id = '3'\n",
    "rotation = 'ZXZ'\n",
    "\n",
    "dffs = create_dfframes(category, extype = extype, data_dir = data_dir, print_errors=False)\n",
    "\n",
    "Patient.fs['left_shoulder'] = {'operations': ['min', 'max'], 'exercises': ['AB', 'AF']}\n",
    "Patient.fs['right_shoulder'] = {'operations': ['min', 'max'], 'exercises': ['AB', 'AF']}\n",
    "Patient.fs['left_arm'] = {'operations': ['min', 'max'], 'exercises': ['EL']}\n",
    "Patient.fs['right_arm'] = {'operations': ['min', 'max'], 'exercises': ['EL']}\n",
    "Patient.fs['diff_x_wrist'] = {'operations': ['min', 'max', 'mean'], 'exercises': ['EL', 'AF', 'RF']}\n",
    "Patient.fs['diff_y_wrist'] = {'operations': ['min', 'max', 'mean'], 'exercises': ['EL', 'AF', 'RF']}\n",
    "Patient.fs['diff_x_elbow'] = {'operations': ['min', 'max', 'mean'], 'exercises': ['AB']}\n",
    "Patient.fs['diff_y_elbow'] = {'operations': ['min', 'max', 'mean'], 'exercises': ['AF', 'RF']}\n",
    "Patient.fs['diff_y_shoulder'] = {'operations': ['min', 'max', 'mean'], 'exercises': ['EL']}\n",
    "Patient.fs['diff_z_shoulder'] = {'operations': ['min', 'max', 'mean'], 'exercises': ['AB', 'AF', 'RF']}\n",
    "Patient.fs['diff_z_elbow'] = {'operations': ['min', 'max', 'mean'], 'exercises': ['AB', 'AF', 'RF']}\n",
    "Patient.fs['diff_z_wrist'] = {'operations': ['min', 'max', 'mean'], 'exercises': ['AB', 'AF', 'RF']}\n",
    "Patient.fs['z_left_sh_max_el'] = {'operations': ['mean'], 'exercises': ['AB', 'AF', 'RF']}\n",
    "Patient.fs['z_right_sh_max_el'] = {'operations': ['mean'], 'exercises': ['AB', 'AF', 'RF']}\n",
    "Patient.fs['z_elbow'] = {'operations': ['max'], 'exercises': ['AB', 'AF', 'RF']}\n",
    "Patient.fs['z_wrist'] = {'operations': ['max'], 'exercises': ['AB', 'AF', 'RF']}\n",
    "Patient.fs['lowest_max_shoulder_angle'] = {'operations': ['max'], 'exercises': ['AB', 'AF', 'RF']}\n",
    "\n",
    "exercises = dffs_to_exercises(dffs)"
   ]
  },
  {
   "cell_type": "code",
   "execution_count": 4,
   "metadata": {
    "scrolled": false
   },
   "outputs": [
    {
     "data": {
      "application/vnd.jupyter.widget-view+json": {
       "model_id": "2f37107eb126485d99107902d67b399e",
       "version_major": 2,
       "version_minor": 0
      },
      "text/plain": [
       "VBox(children=(HTML(value=''), IntProgress(value=0, max=84)))"
      ]
     },
     "metadata": {},
     "output_type": "display_data"
    },
    {
     "name": "stderr",
     "output_type": "stream",
     "text": [
      "../ortho_lib3.py:1007: RuntimeWarning:\n",
      "\n",
      "invalid value encountered in double_scalars\n",
      "\n",
      "../ortho_lib3.py:1007: RuntimeWarning:\n",
      "\n",
      "invalid value encountered in double_scalars\n",
      "\n",
      "../ortho_lib3.py:1007: RuntimeWarning:\n",
      "\n",
      "invalid value encountered in double_scalars\n",
      "\n",
      "../ortho_lib3.py:1007: RuntimeWarning:\n",
      "\n",
      "invalid value encountered in double_scalars\n",
      "\n"
     ]
    },
    {
     "name": "stdout",
     "output_type": "stream",
     "text": [
      "Auto ensemble (18/84): diff_y_elbow_min_AF, diff_y_wrist_max_RF, diff_z_shoulder_mean_RF, diff_z_wrist_min_AF, diff_z_wrist_max_AB, diff_z_wrist_max_RF, diff_z_shoulder_min_AF, diff_z_elbow_min_AB, diff_y_wrist_min_EL, diff_z_elbow_max_AF, diff_z_elbow_min_RF, diff_y_elbow_min_RF, diff_z_wrist_max_AF, diff_z_wrist_mean_RF, diff_y_shoulder_mean_EL, diff_z_wrist_mean_AF, z_right_sh_max_el_mean_AB, diff_x_wrist_max_AF\n"
     ]
    }
   ],
   "source": [
    "exp = InsightfullExperiment(exercises, y_condition= lambda y: y != 'Category_1')\n",
    "\n",
    "columns = exp.df.columns.to_numpy()\n",
    "\n",
    "(res, tps) = exp.fit_inliers_auto_ensemble(columns)\n"
   ]
  },
  {
   "cell_type": "code",
   "execution_count": 5,
   "metadata": {
    "scrolled": false
   },
   "outputs": [
    {
     "data": {
      "text/html": [
       "<div>\n",
       "<style scoped>\n",
       "    .dataframe tbody tr th:only-of-type {\n",
       "        vertical-align: middle;\n",
       "    }\n",
       "\n",
       "    .dataframe tbody tr th {\n",
       "        vertical-align: top;\n",
       "    }\n",
       "\n",
       "    .dataframe thead th {\n",
       "        text-align: right;\n",
       "    }\n",
       "</style>\n",
       "<table border=\"1\" class=\"dataframe\">\n",
       "  <thead>\n",
       "    <tr style=\"text-align: right;\">\n",
       "      <th></th>\n",
       "      <th>features</th>\n",
       "      <th>recall</th>\n",
       "      <th>precision</th>\n",
       "      <th>accuracy</th>\n",
       "    </tr>\n",
       "  </thead>\n",
       "  <tbody>\n",
       "    <tr>\n",
       "      <th>0</th>\n",
       "      <td>Auto ensemble</td>\n",
       "      <td>0.877358</td>\n",
       "      <td>1.0</td>\n",
       "      <td>0.903704</td>\n",
       "    </tr>\n",
       "    <tr>\n",
       "      <th>1</th>\n",
       "      <td>diff_y_elbow_min_AF</td>\n",
       "      <td>0.009434</td>\n",
       "      <td>1.0</td>\n",
       "      <td>0.222222</td>\n",
       "    </tr>\n",
       "    <tr>\n",
       "      <th>2</th>\n",
       "      <td>diff_y_wrist_max_RF</td>\n",
       "      <td>0.103774</td>\n",
       "      <td>1.0</td>\n",
       "      <td>0.296296</td>\n",
       "    </tr>\n",
       "    <tr>\n",
       "      <th>3</th>\n",
       "      <td>diff_z_shoulder_mean_RF</td>\n",
       "      <td>0.009434</td>\n",
       "      <td>1.0</td>\n",
       "      <td>0.222222</td>\n",
       "    </tr>\n",
       "    <tr>\n",
       "      <th>4</th>\n",
       "      <td>diff_z_wrist_min_AF</td>\n",
       "      <td>0.037736</td>\n",
       "      <td>1.0</td>\n",
       "      <td>0.244444</td>\n",
       "    </tr>\n",
       "    <tr>\n",
       "      <th>5</th>\n",
       "      <td>diff_z_wrist_max_AB</td>\n",
       "      <td>0.641509</td>\n",
       "      <td>1.0</td>\n",
       "      <td>0.718519</td>\n",
       "    </tr>\n",
       "    <tr>\n",
       "      <th>6</th>\n",
       "      <td>diff_z_wrist_max_RF</td>\n",
       "      <td>0.169811</td>\n",
       "      <td>1.0</td>\n",
       "      <td>0.348148</td>\n",
       "    </tr>\n",
       "    <tr>\n",
       "      <th>7</th>\n",
       "      <td>diff_z_shoulder_min_AF</td>\n",
       "      <td>0.047170</td>\n",
       "      <td>1.0</td>\n",
       "      <td>0.251852</td>\n",
       "    </tr>\n",
       "    <tr>\n",
       "      <th>8</th>\n",
       "      <td>diff_z_elbow_min_AB</td>\n",
       "      <td>0.018868</td>\n",
       "      <td>1.0</td>\n",
       "      <td>0.229630</td>\n",
       "    </tr>\n",
       "    <tr>\n",
       "      <th>9</th>\n",
       "      <td>diff_y_wrist_min_EL</td>\n",
       "      <td>0.009434</td>\n",
       "      <td>1.0</td>\n",
       "      <td>0.222222</td>\n",
       "    </tr>\n",
       "    <tr>\n",
       "      <th>10</th>\n",
       "      <td>diff_z_elbow_max_AF</td>\n",
       "      <td>0.471698</td>\n",
       "      <td>1.0</td>\n",
       "      <td>0.585185</td>\n",
       "    </tr>\n",
       "    <tr>\n",
       "      <th>11</th>\n",
       "      <td>diff_z_elbow_min_RF</td>\n",
       "      <td>0.047170</td>\n",
       "      <td>1.0</td>\n",
       "      <td>0.251852</td>\n",
       "    </tr>\n",
       "    <tr>\n",
       "      <th>12</th>\n",
       "      <td>diff_y_elbow_min_RF</td>\n",
       "      <td>0.141509</td>\n",
       "      <td>1.0</td>\n",
       "      <td>0.325926</td>\n",
       "    </tr>\n",
       "    <tr>\n",
       "      <th>13</th>\n",
       "      <td>diff_z_wrist_max_AF</td>\n",
       "      <td>0.575472</td>\n",
       "      <td>1.0</td>\n",
       "      <td>0.666667</td>\n",
       "    </tr>\n",
       "    <tr>\n",
       "      <th>14</th>\n",
       "      <td>diff_z_wrist_mean_RF</td>\n",
       "      <td>0.094340</td>\n",
       "      <td>1.0</td>\n",
       "      <td>0.288889</td>\n",
       "    </tr>\n",
       "    <tr>\n",
       "      <th>15</th>\n",
       "      <td>diff_y_shoulder_mean_EL</td>\n",
       "      <td>0.009434</td>\n",
       "      <td>1.0</td>\n",
       "      <td>0.222222</td>\n",
       "    </tr>\n",
       "    <tr>\n",
       "      <th>16</th>\n",
       "      <td>diff_z_wrist_mean_AF</td>\n",
       "      <td>0.490566</td>\n",
       "      <td>1.0</td>\n",
       "      <td>0.600000</td>\n",
       "    </tr>\n",
       "    <tr>\n",
       "      <th>17</th>\n",
       "      <td>z_right_sh_max_el_mean_AB</td>\n",
       "      <td>0.084906</td>\n",
       "      <td>1.0</td>\n",
       "      <td>0.281481</td>\n",
       "    </tr>\n",
       "    <tr>\n",
       "      <th>18</th>\n",
       "      <td>diff_x_wrist_max_AF</td>\n",
       "      <td>0.613208</td>\n",
       "      <td>1.0</td>\n",
       "      <td>0.696296</td>\n",
       "    </tr>\n",
       "  </tbody>\n",
       "</table>\n",
       "</div>"
      ],
      "text/plain": [
       "                     features    recall  precision  accuracy\n",
       "0               Auto ensemble  0.877358        1.0  0.903704\n",
       "1         diff_y_elbow_min_AF  0.009434        1.0  0.222222\n",
       "2         diff_y_wrist_max_RF  0.103774        1.0  0.296296\n",
       "3     diff_z_shoulder_mean_RF  0.009434        1.0  0.222222\n",
       "4         diff_z_wrist_min_AF  0.037736        1.0  0.244444\n",
       "5         diff_z_wrist_max_AB  0.641509        1.0  0.718519\n",
       "6         diff_z_wrist_max_RF  0.169811        1.0  0.348148\n",
       "7      diff_z_shoulder_min_AF  0.047170        1.0  0.251852\n",
       "8         diff_z_elbow_min_AB  0.018868        1.0  0.229630\n",
       "9         diff_y_wrist_min_EL  0.009434        1.0  0.222222\n",
       "10        diff_z_elbow_max_AF  0.471698        1.0  0.585185\n",
       "11        diff_z_elbow_min_RF  0.047170        1.0  0.251852\n",
       "12        diff_y_elbow_min_RF  0.141509        1.0  0.325926\n",
       "13        diff_z_wrist_max_AF  0.575472        1.0  0.666667\n",
       "14       diff_z_wrist_mean_RF  0.094340        1.0  0.288889\n",
       "15    diff_y_shoulder_mean_EL  0.009434        1.0  0.222222\n",
       "16       diff_z_wrist_mean_AF  0.490566        1.0  0.600000\n",
       "17  z_right_sh_max_el_mean_AB  0.084906        1.0  0.281481\n",
       "18        diff_x_wrist_max_AF  0.613208        1.0  0.696296"
      ]
     },
     "execution_count": 5,
     "metadata": {},
     "output_type": "execute_result"
    }
   ],
   "source": [
    "res.report()"
   ]
  },
  {
   "cell_type": "code",
   "execution_count": 6,
   "metadata": {},
   "outputs": [],
   "source": [
    "counts = {}\n",
    "\n",
    "for l in tps:\n",
    "    for pat_id, f in l:\n",
    "        if pat_id not in counts:\n",
    "            counts[pat_id] = []\n",
    "        counts[pat_id].append(f)"
   ]
  },
  {
   "cell_type": "code",
   "execution_count": 7,
   "metadata": {},
   "outputs": [],
   "source": [
    "sorted_pats = {k: v for k, v in sorted(counts.items(), key=lambda item: len(item[1]))}"
   ]
  },
  {
   "cell_type": "code",
   "execution_count": null,
   "metadata": {},
   "outputs": [],
   "source": [
    "counts_list = [len(v) for v in counts.values()]\n",
    "max_count = max(counts_list)\n",
    "min_count = min(counts_list)\n",
    "most_obvious = [p for p, l in counts.items() if len(l) == max_count]\n",
    "least_obvious = [p for p, l in counts.items() if len(l) == min_count]\n",
    "\n",
    "print(most_obvious, least_obvious)"
   ]
  },
  {
   "cell_type": "code",
   "execution_count": 18,
   "metadata": {},
   "outputs": [
    {
     "name": "stdout",
     "output_type": "stream",
     "text": [
      "Showing features that selected the most obvious patients\n"
     ]
    },
    {
     "data": {
      "application/vnd.jupyter.widget-view+json": {
       "model_id": "db62bfc4a6fd44acb6a271fba79d04e7",
       "version_major": 2,
       "version_minor": 0
      },
      "text/plain": [
       "VBox(children=(HTML(value=''), IntProgress(value=0, max=1)))"
      ]
     },
     "metadata": {},
     "output_type": "display_data"
    },
    {
     "name": "stdout",
     "output_type": "stream",
     "text": [
      "features selected for 323: ['diff_z_wrist_max_AB', 'diff_z_wrist_max_RF', 'diff_z_shoulder_min_AF', 'diff_z_elbow_min_AB', 'diff_z_elbow_max_AF', 'diff_z_wrist_max_AF', 'diff_z_wrist_mean_RF', 'diff_z_wrist_mean_AF', 'diff_x_wrist_max_AF']\n"
     ]
    }
   ],
   "source": [
    "print('Showing features that selected the most obvious patients')\n",
    "for mo in log_progress(most_obvious):\n",
    "    print(f'features selected for {mo}:', sorted_pats[mo])"
   ]
  },
  {
   "cell_type": "code",
   "execution_count": 19,
   "metadata": {},
   "outputs": [
    {
     "name": "stdout",
     "output_type": "stream",
     "text": [
      "Showing features that selected the least obvious patients\n"
     ]
    },
    {
     "data": {
      "application/vnd.jupyter.widget-view+json": {
       "model_id": "11de0c42d2f146a6ac969b0f1c236cfd",
       "version_major": 2,
       "version_minor": 0
      },
      "text/plain": [
       "VBox(children=(HTML(value=''), IntProgress(value=0, max=16)))"
      ]
     },
     "metadata": {},
     "output_type": "display_data"
    },
    {
     "name": "stdout",
     "output_type": "stream",
     "text": [
      "features selected for 218: ['diff_z_wrist_max_AB']\n",
      "features selected for 222: ['diff_z_wrist_max_AB']\n",
      "features selected for 236: ['diff_z_wrist_max_AB']\n",
      "features selected for 238: ['diff_z_wrist_max_AB']\n",
      "features selected for 303: ['diff_z_wrist_max_AB']\n",
      "features selected for 308: ['diff_z_wrist_max_AB']\n",
      "features selected for 319: ['diff_z_wrist_max_AB']\n",
      "features selected for 413: ['diff_z_wrist_max_AB']\n",
      "features selected for 225: ['diff_y_elbow_min_RF']\n",
      "features selected for 235: ['diff_y_elbow_min_RF']\n",
      "features selected for 239: ['diff_y_elbow_min_RF']\n",
      "features selected for 318: ['diff_y_elbow_min_RF']\n",
      "features selected for 403: ['diff_y_elbow_min_RF']\n",
      "features selected for 409: ['diff_y_elbow_min_RF']\n",
      "features selected for 206: ['diff_x_wrist_max_AF']\n",
      "features selected for 313: ['diff_x_wrist_max_AF']\n"
     ]
    }
   ],
   "source": [
    "print('Showing features that selected the least obvious patients')\n",
    "for mo in log_progress(least_obvious):\n",
    "    print(f'features selected for {mo}:', sorted_pats[mo])"
   ]
  },
  {
   "cell_type": "code",
   "execution_count": 14,
   "metadata": {},
   "outputs": [],
   "source": [
    "from ortho_plot import *\n",
    "dfs = []\n",
    "# dfs.append(get_df(3, 23, 'RF1', with_rotations=True, data_dir='../sliced_data'))\n",
    "dfs.append(get_df(1, 1, 'AB1', with_rotations=True, data_dir='../sliced_data'))\n",
    "# dfs.append(get_df(3, 23, 'AF1', with_rotations=True, data_dir='../transformed_data'))"
   ]
  },
  {
   "cell_type": "code",
   "execution_count": 15,
   "metadata": {
    "scrolled": false
   },
   "outputs": [
    {
     "data": {
      "application/vnd.jupyter.widget-view+json": {
       "model_id": "c4f3432361b848f9a38aeb6f73f42606",
       "version_major": 2,
       "version_minor": 0
      },
      "text/plain": [
       "VBox(children=(HTML(value=''), IntProgress(value=0, max=1)))"
      ]
     },
     "metadata": {},
     "output_type": "display_data"
    },
    {
     "name": "stderr",
     "output_type": "stream",
     "text": [
      "/opt/jupyterhub/anaconda/lib/python3.6/site-packages/pandas/core/indexing.py:1745: SettingWithCopyWarning:\n",
      "\n",
      "\n",
      "A value is trying to be set on a copy of a slice from a DataFrame.\n",
      "Try using .loc[row_indexer,col_indexer] = value instead\n",
      "\n",
      "See the caveats in the documentation: https://pandas.pydata.org/pandas-docs/stable/user_guide/indexing.html#returning-a-view-versus-a-copy\n",
      "\n"
     ]
    },
    {
     "data": {
      "application/vnd.plotly.v1+json": {
       "config": {
        "plotlyServerURL": "https://plot.ly"
       },
       "data": [
        {
         "hoverlabel": {
          "namelength": 0
         },
         "hovertemplate": "<b>%{hovertext}</b><br><br>frame=0<br>x=%{x}<br>y=%{y}<br>z=%{z}<br>diff=%{marker.color}",
         "hovertext": [
          "6",
          "5",
          "4",
          "3",
          "7",
          "8",
          "9",
          null
         ],
         "ids": [
          "6",
          "5",
          "4",
          "3",
          "7",
          "8",
          "9",
          null
         ],
         "legendgroup": "",
         "marker": {
          "color": [
           1.021877470739863,
           1.2188638213323957,
           1.008020254039054,
           0,
           1.0080202540390537,
           1.2188638213323957,
           1.0218774707398628,
           0
          ],
          "coloraxis": "coloraxis",
          "symbol": "circle"
         },
         "mode": "markers",
         "name": "",
         "scene": "scene",
         "showlegend": false,
         "type": "scatter3d",
         "x": [
          -0.07757367934440117,
          -0.4674916965430573,
          -0.41776612150092557,
          0,
          -0.41977118501068916,
          -0.3521337092813368,
          0.013946330634577033,
          -1.7845065236894273
         ],
         "y": [
          1.2553034280125401,
          1.0165671994500447,
          0.8156152788048683,
          0,
          -0.7698998307822628,
          -1.0464649242289612,
          -1.171759115105732,
          -0.12337824130077464
         ],
         "z": [
          -1.909845271533082,
          -0.9330228865432362,
          0.22278483441815575,
          0,
          0.2745154729700515,
          -0.8594147772514776,
          -1.923747045200775,
          -2.373371398023497
         ]
        },
        {
         "hoverlabel": {
          "namelength": 0
         },
         "hovertemplate": "<b>%{hovertext}</b><br><br>frame=0<br>x=%{x}<br>y=%{y}<br>z=%{z}",
         "hovertext": [
          "6",
          "5",
          "4",
          "3",
          "7",
          "8",
          "9",
          null
         ],
         "ids": [
          "6",
          "5",
          "4",
          "3",
          "7",
          "8",
          "9",
          null
         ],
         "legendgroup": "",
         "line": {
          "color": "#636efa",
          "dash": "solid"
         },
         "mode": "lines",
         "name": "",
         "scene": "scene",
         "showlegend": false,
         "type": "scatter3d",
         "x": [
          -0.07757367934440117,
          -0.4674916965430573,
          -0.41776612150092557,
          0,
          -0.41977118501068916,
          -0.3521337092813368,
          0.013946330634577033,
          -1.7845065236894273
         ],
         "y": [
          1.2553034280125401,
          1.0165671994500447,
          0.8156152788048683,
          0,
          -0.7698998307822628,
          -1.0464649242289612,
          -1.171759115105732,
          -0.12337824130077464
         ],
         "z": [
          -1.909845271533082,
          -0.9330228865432362,
          0.22278483441815575,
          0,
          0.2745154729700515,
          -0.8594147772514776,
          -1.923747045200775,
          -2.373371398023497
         ]
        }
       ],
       "frames": [
        {
         "data": [
          {
           "hoverlabel": {
            "namelength": 0
           },
           "hovertemplate": "<b>%{hovertext}</b><br><br>frame=0<br>x=%{x}<br>y=%{y}<br>z=%{z}<br>diff=%{marker.color}",
           "hovertext": [
            "6",
            "5",
            "4",
            "3",
            "7",
            "8",
            "9",
            null
           ],
           "ids": [
            "6",
            "5",
            "4",
            "3",
            "7",
            "8",
            "9",
            null
           ],
           "legendgroup": "",
           "marker": {
            "color": [
             1.021877470739863,
             1.2188638213323957,
             1.008020254039054,
             0,
             1.0080202540390537,
             1.2188638213323957,
             1.0218774707398628,
             0
            ],
            "coloraxis": "coloraxis",
            "symbol": "circle"
           },
           "mode": "markers",
           "name": "",
           "scene": "scene",
           "showlegend": false,
           "type": "scatter3d",
           "x": [
            -0.07757367934440117,
            -0.4674916965430573,
            -0.41776612150092557,
            0,
            -0.41977118501068916,
            -0.3521337092813368,
            0.013946330634577033,
            -1.7845065236894273
           ],
           "y": [
            1.2553034280125401,
            1.0165671994500447,
            0.8156152788048683,
            0,
            -0.7698998307822628,
            -1.0464649242289612,
            -1.171759115105732,
            -0.12337824130077464
           ],
           "z": [
            -1.909845271533082,
            -0.9330228865432362,
            0.22278483441815575,
            0,
            0.2745154729700515,
            -0.8594147772514776,
            -1.923747045200775,
            -2.373371398023497
           ]
          },
          {
           "hoverlabel": {
            "namelength": 0
           },
           "hovertemplate": "<b>%{hovertext}</b><br><br>frame=0<br>x=%{x}<br>y=%{y}<br>z=%{z}",
           "hovertext": [
            "6",
            "5",
            "4",
            "3",
            "7",
            "8",
            "9",
            null
           ],
           "ids": [
            "6",
            "5",
            "4",
            "3",
            "7",
            "8",
            "9",
            null
           ],
           "legendgroup": "",
           "line": {
            "color": "#636efa",
            "dash": "solid"
           },
           "mode": "lines",
           "name": "",
           "scene": "scene",
           "showlegend": false,
           "type": "scatter3d",
           "x": [
            -0.07757367934440117,
            -0.4674916965430573,
            -0.41776612150092557,
            0,
            -0.41977118501068916,
            -0.3521337092813368,
            0.013946330634577033,
            -1.7845065236894273
           ],
           "y": [
            1.2553034280125401,
            1.0165671994500447,
            0.8156152788048683,
            0,
            -0.7698998307822628,
            -1.0464649242289612,
            -1.171759115105732,
            -0.12337824130077464
           ],
           "z": [
            -1.909845271533082,
            -0.9330228865432362,
            0.22278483441815575,
            0,
            0.2745154729700515,
            -0.8594147772514776,
            -1.923747045200775,
            -2.373371398023497
           ]
          }
         ],
         "name": "0"
        },
        {
         "data": [
          {
           "hoverlabel": {
            "namelength": 0
           },
           "hovertemplate": "<b>%{hovertext}</b><br><br>frame=1<br>x=%{x}<br>y=%{y}<br>z=%{z}<br>diff=%{marker.color}",
           "hovertext": [
            "6",
            "5",
            "4",
            "3",
            "7",
            "8",
            "9",
            null
           ],
           "ids": [
            "6",
            "5",
            "4",
            "3",
            "7",
            "8",
            "9",
            null
           ],
           "legendgroup": "",
           "marker": {
            "color": [
             1.0278481043022691,
             1.2288000249474456,
             1.0119412671248127,
             0,
             1.0119412671248125,
             1.228800024947446,
             1.0278481043022691,
             0
            ],
            "coloraxis": "coloraxis",
            "symbol": "circle"
           },
           "mode": "markers",
           "name": "",
           "scene": "scene",
           "showlegend": false,
           "type": "scatter3d",
           "x": [
            -0.07160304578199496,
            -0.46352612649041464,
            -0.41179548793851933,
            0,
            -0.4157610579911619,
            -0.34616307571893057,
            0.01991696419698324,
            -1.778535890127021
           ],
           "y": [
            1.251337857959897,
            1.0126016293974014,
            0.8156598357717518,
            0,
            -0.7698998307822628,
            -1.048425430771841,
            -1.1757246851583751,
            -0.12533874784365442
           ],
           "z": [
            -1.9098007145661984,
            -0.9330228865432363,
            0.22478989792791917,
            0,
            0.2785255999895783,
            -0.8574097137417143,
            -1.9217419816910113,
            -2.36936127100397
           ]
          },
          {
           "hoverlabel": {
            "namelength": 0
           },
           "hovertemplate": "<b>%{hovertext}</b><br><br>frame=1<br>x=%{x}<br>y=%{y}<br>z=%{z}",
           "hovertext": [
            "6",
            "5",
            "4",
            "3",
            "7",
            "8",
            "9",
            null
           ],
           "ids": [
            "6",
            "5",
            "4",
            "3",
            "7",
            "8",
            "9",
            null
           ],
           "legendgroup": "",
           "line": {
            "color": "#636efa",
            "dash": "solid"
           },
           "mode": "lines",
           "name": "",
           "scene": "scene",
           "showlegend": false,
           "type": "scatter3d",
           "x": [
            -0.07160304578199496,
            -0.46352612649041464,
            -0.41179548793851933,
            0,
            -0.4157610579911619,
            -0.34616307571893057,
            0.01991696419698324,
            -1.778535890127021
           ],
           "y": [
            1.251337857959897,
            1.0126016293974014,
            0.8156598357717518,
            0,
            -0.7698998307822628,
            -1.048425430771841,
            -1.1757246851583751,
            -0.12533874784365442
           ],
           "z": [
            -1.9098007145661984,
            -0.9330228865432363,
            0.22478989792791917,
            0,
            0.2785255999895783,
            -0.8574097137417143,
            -1.9217419816910113,
            -2.36936127100397
           ]
          }
         ],
         "name": "1"
        },
        {
         "data": [
          {
           "hoverlabel": {
            "namelength": 0
           },
           "hovertemplate": "<b>%{hovertext}</b><br><br>frame=2<br>x=%{x}<br>y=%{y}<br>z=%{z}<br>diff=%{marker.color}",
           "hovertext": [
            "6",
            "5",
            "4",
            "3",
            "7",
            "8",
            "9",
            null
           ],
           "ids": [
            "6",
            "5",
            "4",
            "3",
            "7",
            "8",
            "9",
            null
           ],
           "legendgroup": "",
           "marker": {
            "color": [
             1.0239716481833945,
             1.224879011861686,
             1.0119858240916961,
             0,
             1.0119858240916961,
             1.224879011861686,
             1.0239716481833945,
             0
            ],
            "coloraxis": "coloraxis",
            "symbol": "circle"
           },
           "mode": "markers",
           "name": "",
           "scene": "scene",
           "showlegend": false,
           "type": "scatter3d",
           "x": [
            -0.07561317280152217,
            -0.46352612649041464,
            -0.41179548793851933,
            0,
            -0.4157610579911619,
            -0.34616307571893057,
            0.01991696419698324,
            -1.778535890127021
           ],
           "y": [
            1.25726393455542,
            1.0145621359402812,
            0.8156152788048683,
            0,
            -0.7698998307822628,
            -1.0464649242289612,
            -1.1737641786154955,
            -0.12337824130077464
           ],
           "z": [
            -1.9078402080233183,
            -0.9330228865432363,
            0.22478989792791917,
            0,
            0.2785255999895783,
            -0.8574097137417143,
            -1.919781475148132,
            -2.3713663345137332
           ]
          },
          {
           "hoverlabel": {
            "namelength": 0
           },
           "hovertemplate": "<b>%{hovertext}</b><br><br>frame=2<br>x=%{x}<br>y=%{y}<br>z=%{z}",
           "hovertext": [
            "6",
            "5",
            "4",
            "3",
            "7",
            "8",
            "9",
            null
           ],
           "ids": [
            "6",
            "5",
            "4",
            "3",
            "7",
            "8",
            "9",
            null
           ],
           "legendgroup": "",
           "line": {
            "color": "#636efa",
            "dash": "solid"
           },
           "mode": "lines",
           "name": "",
           "scene": "scene",
           "showlegend": false,
           "type": "scatter3d",
           "x": [
            -0.07561317280152217,
            -0.46352612649041464,
            -0.41179548793851933,
            0,
            -0.4157610579911619,
            -0.34616307571893057,
            0.01991696419698324,
            -1.778535890127021
           ],
           "y": [
            1.25726393455542,
            1.0145621359402812,
            0.8156152788048683,
            0,
            -0.7698998307822628,
            -1.0464649242289612,
            -1.1737641786154955,
            -0.12337824130077464
           ],
           "z": [
            -1.9078402080233183,
            -0.9330228865432363,
            0.22478989792791917,
            0,
            0.2785255999895783,
            -0.8574097137417143,
            -1.919781475148132,
            -2.3713663345137332
           ]
          }
         ],
         "name": "2"
        },
        {
         "data": [
          {
           "hoverlabel": {
            "namelength": 0
           },
           "hovertemplate": "<b>%{hovertext}</b><br><br>frame=3<br>x=%{x}<br>y=%{y}<br>z=%{z}<br>diff=%{marker.color}",
           "hovertext": [
            "6",
            "5",
            "4",
            "3",
            "7",
            "8",
            "9",
            null
           ],
           "ids": [
            "6",
            "5",
            "4",
            "3",
            "7",
            "8",
            "9",
            null
           ],
           "legendgroup": "",
           "marker": {
            "color": [
             1.0318136743549133,
             1.2288000249474458,
             1.0158622802105721,
             0,
             1.0158622802105721,
             1.228800024947446,
             1.0318136743549133,
             0
            ],
            "coloraxis": "coloraxis",
            "symbol": "circle"
           },
           "mode": "markers",
           "name": "",
           "scene": "scene",
           "showlegend": false,
           "type": "scatter3d",
           "x": [
            -0.07957874285416579,
            -0.46352612649041464,
            -0.41179548793851933,
            0,
            -0.4157610579911619,
            -0.34616307571893057,
            0.01991696419698324,
            -1.778535890127021
           ],
           "y": [
            1.2533429214696605,
            1.0126016293974014,
            0.8156598357717518,
            0,
            -0.7718603373251425,
            -1.0464203672620778,
            -1.1757246851583751,
            -0.12533874784365442
           ],
           "z": [
            -1.9138108415857253,
            -0.937033013562763,
            0.220824327875276,
            0,
            0.27652053647981495,
            -0.8594147772514776,
            -1.923747045200775,
            -2.3713663345137337
           ]
          },
          {
           "hoverlabel": {
            "namelength": 0
           },
           "hovertemplate": "<b>%{hovertext}</b><br><br>frame=3<br>x=%{x}<br>y=%{y}<br>z=%{z}",
           "hovertext": [
            "6",
            "5",
            "4",
            "3",
            "7",
            "8",
            "9",
            null
           ],
           "ids": [
            "6",
            "5",
            "4",
            "3",
            "7",
            "8",
            "9",
            null
           ],
           "legendgroup": "",
           "line": {
            "color": "#636efa",
            "dash": "solid"
           },
           "mode": "lines",
           "name": "",
           "scene": "scene",
           "showlegend": false,
           "type": "scatter3d",
           "x": [
            -0.07957874285416579,
            -0.46352612649041464,
            -0.41179548793851933,
            0,
            -0.4157610579911619,
            -0.34616307571893057,
            0.01991696419698324,
            -1.778535890127021
           ],
           "y": [
            1.2533429214696605,
            1.0126016293974014,
            0.8156598357717518,
            0,
            -0.7718603373251425,
            -1.0464203672620778,
            -1.1757246851583751,
            -0.12533874784365442
           ],
           "z": [
            -1.9138108415857253,
            -0.937033013562763,
            0.220824327875276,
            0,
            0.27652053647981495,
            -0.8594147772514776,
            -1.923747045200775,
            -2.3713663345137337
           ]
          }
         ],
         "name": "3"
        },
        {
         "data": [
          {
           "hoverlabel": {
            "namelength": 0
           },
           "hovertemplate": "<b>%{hovertext}</b><br><br>frame=4<br>x=%{x}<br>y=%{y}<br>z=%{z}<br>diff=%{marker.color}",
           "hovertext": [
            "6",
            "5",
            "4",
            "3",
            "7",
            "8",
            "9",
            null
           ],
           "ids": [
            "6",
            "5",
            "4",
            "3",
            "7",
            "8",
            "9",
            null
           ],
           "legendgroup": "",
           "marker": {
            "color": [
             1.031813674354913,
             1.2307605314903256,
             1.0178673437203356,
             0,
             1.0178673437203356,
             1.230760531490326,
             1.031813674354913,
             0
            ],
            "coloraxis": "coloraxis",
            "symbol": "circle"
           },
           "mode": "markers",
           "name": "",
           "scene": "scene",
           "showlegend": false,
           "type": "scatter3d",
           "x": [
            -0.085549376416572,
            -0.4675362535099419,
            -0.4138005514482829,
            0,
            -0.41776612150092557,
            -0.3481681392286942,
            0.017911900687219637,
            -1.7805409536367847
           ],
           "y": [
            1.2533429214696605,
            1.0106411228545218,
            0.8136547722619883,
            0,
            -0.7718603373251425,
            -1.0464203672620778,
            -1.1757246851583751,
            -0.12533874784365442
           ],
           "z": [
            -1.9158159050954886,
            -0.937033013562763,
            0.220824327875276,
            0,
            0.27652053647981495,
            -0.861419840761241,
            -1.9217865386578952,
            -2.373371398023497
           ]
          },
          {
           "hoverlabel": {
            "namelength": 0
           },
           "hovertemplate": "<b>%{hovertext}</b><br><br>frame=4<br>x=%{x}<br>y=%{y}<br>z=%{z}",
           "hovertext": [
            "6",
            "5",
            "4",
            "3",
            "7",
            "8",
            "9",
            null
           ],
           "ids": [
            "6",
            "5",
            "4",
            "3",
            "7",
            "8",
            "9",
            null
           ],
           "legendgroup": "",
           "line": {
            "color": "#636efa",
            "dash": "solid"
           },
           "mode": "lines",
           "name": "",
           "scene": "scene",
           "showlegend": false,
           "type": "scatter3d",
           "x": [
            -0.085549376416572,
            -0.4675362535099419,
            -0.4138005514482829,
            0,
            -0.41776612150092557,
            -0.3481681392286942,
            0.017911900687219637,
            -1.7805409536367847
           ],
           "y": [
            1.2533429214696605,
            1.0106411228545218,
            0.8136547722619883,
            0,
            -0.7718603373251425,
            -1.0464203672620778,
            -1.1757246851583751,
            -0.12533874784365442
           ],
           "z": [
            -1.9158159050954886,
            -0.937033013562763,
            0.220824327875276,
            0,
            0.27652053647981495,
            -0.861419840761241,
            -1.9217865386578952,
            -2.373371398023497
           ]
          }
         ],
         "name": "4"
        },
        {
         "data": [
          {
           "hoverlabel": {
            "namelength": 0
           },
           "hovertemplate": "<b>%{hovertext}</b><br><br>frame=5<br>x=%{x}<br>y=%{y}<br>z=%{z}<br>diff=%{marker.color}",
           "hovertext": [
            "6",
            "5",
            "4",
            "3",
            "7",
            "8",
            "9",
            null
           ],
           "ids": [
            "6",
            "5",
            "4",
            "3",
            "7",
            "8",
            "9",
            null
           ],
           "legendgroup": "",
           "marker": {
            "color": [
             1.0417944349368469,
             1.2347706585098526,
             1.0119412671248125,
             0,
             1.0119412671248125,
             1.2347706585098526,
             1.0417944349368466,
             0
            ],
            "coloraxis": "coloraxis",
            "symbol": "circle"
           },
           "mode": "markers",
           "name": "",
           "scene": "scene",
           "showlegend": false,
           "type": "scatter3d",
           "x": [
            -0.09152000997897922,
            -0.47150182356258546,
            -0.4158056149580465,
            0,
            -0.41776612150092557,
            -0.3481681392286942,
            0.017911900687219637,
            -1.7805409536367847
           ],
           "y": [
            1.2433621608877272,
            1.006630995834995,
            0.8176203423146317,
            0,
            -0.7719048942920261,
            -1.0424547972094342,
            -1.171759115105732,
            -0.12337824130077464
           ],
           "z": [
            -1.9217419816910115,
            -0.938993520105643,
            0.2188638213323962,
            0,
            0.2745600299369351,
            -0.8633803473041207,
            -1.9257075517436546,
            -2.375331904566376
           ]
          },
          {
           "hoverlabel": {
            "namelength": 0
           },
           "hovertemplate": "<b>%{hovertext}</b><br><br>frame=5<br>x=%{x}<br>y=%{y}<br>z=%{z}",
           "hovertext": [
            "6",
            "5",
            "4",
            "3",
            "7",
            "8",
            "9",
            null
           ],
           "ids": [
            "6",
            "5",
            "4",
            "3",
            "7",
            "8",
            "9",
            null
           ],
           "legendgroup": "",
           "line": {
            "color": "#636efa",
            "dash": "solid"
           },
           "mode": "lines",
           "name": "",
           "scene": "scene",
           "showlegend": false,
           "type": "scatter3d",
           "x": [
            -0.09152000997897922,
            -0.47150182356258546,
            -0.4158056149580465,
            0,
            -0.41776612150092557,
            -0.3481681392286942,
            0.017911900687219637,
            -1.7805409536367847
           ],
           "y": [
            1.2433621608877272,
            1.006630995834995,
            0.8176203423146317,
            0,
            -0.7719048942920261,
            -1.0424547972094342,
            -1.171759115105732,
            -0.12337824130077464
           ],
           "z": [
            -1.9217419816910115,
            -0.938993520105643,
            0.2188638213323962,
            0,
            0.2745600299369351,
            -0.8633803473041207,
            -1.9257075517436546,
            -2.375331904566376
           ]
          }
         ],
         "name": "5"
        },
        {
         "data": [
          {
           "hoverlabel": {
            "namelength": 0
           },
           "hovertemplate": "<b>%{hovertext}</b><br><br>frame=6<br>x=%{x}<br>y=%{y}<br>z=%{z}<br>diff=%{marker.color}",
           "hovertext": [
            "6",
            "5",
            "4",
            "3",
            "7",
            "8",
            "9",
            null
           ],
           "ids": [
            "6",
            "5",
            "4",
            "3",
            "7",
            "8",
            "9",
            null
           ],
           "legendgroup": "",
           "marker": {
            "color": [
             1.07164760274888,
             1.2487169891444287,
             1.0119412671248134,
             0,
             1.0119412671248134,
             1.248716989144429,
             1.0716476027488797,
             0
            ],
            "coloraxis": "coloraxis",
            "symbol": "circle"
           },
           "mode": "markers",
           "name": "",
           "scene": "scene",
           "showlegend": false,
           "type": "scatter3d",
           "x": [
            -0.12132862082412768,
            -0.4774279001581071,
            -0.4157610579911619,
            0,
            -0.41776612150092557,
            -0.3520891523144532,
            0.007975697072170825,
            -1.7825014601796636
           ],
           "y": [
            1.2493327944501338,
            0.9966947922199452,
            0.8156598357717518,
            0,
            -0.7718603373251425,
            -1.0424547972094345,
            -1.1777297486681386,
            -0.12533874784365442
           ],
           "z": [
            -1.9356883123255881,
            -0.938993520105643,
            0.220824327875276,
            0,
            0.2745600299369351,
            -0.8613752837943573,
            -1.9217419816910115,
            -2.375331904566376
           ]
          },
          {
           "hoverlabel": {
            "namelength": 0
           },
           "hovertemplate": "<b>%{hovertext}</b><br><br>frame=6<br>x=%{x}<br>y=%{y}<br>z=%{z}",
           "hovertext": [
            "6",
            "5",
            "4",
            "3",
            "7",
            "8",
            "9",
            null
           ],
           "ids": [
            "6",
            "5",
            "4",
            "3",
            "7",
            "8",
            "9",
            null
           ],
           "legendgroup": "",
           "line": {
            "color": "#636efa",
            "dash": "solid"
           },
           "mode": "lines",
           "name": "",
           "scene": "scene",
           "showlegend": false,
           "type": "scatter3d",
           "x": [
            -0.12132862082412768,
            -0.4774279001581071,
            -0.4157610579911619,
            0,
            -0.41776612150092557,
            -0.3520891523144532,
            0.007975697072170825,
            -1.7825014601796636
           ],
           "y": [
            1.2493327944501338,
            0.9966947922199452,
            0.8156598357717518,
            0,
            -0.7718603373251425,
            -1.0424547972094345,
            -1.1777297486681386,
            -0.12533874784365442
           ],
           "z": [
            -1.9356883123255881,
            -0.938993520105643,
            0.220824327875276,
            0,
            0.2745600299369351,
            -0.8613752837943573,
            -1.9217419816910115,
            -2.375331904566376
           ]
          }
         ],
         "name": "6"
        },
        {
         "data": [
          {
           "hoverlabel": {
            "namelength": 0
           },
           "hovertemplate": "<b>%{hovertext}</b><br><br>frame=7<br>x=%{x}<br>y=%{y}<br>z=%{z}<br>diff=%{marker.color}",
           "hovertext": [
            "6",
            "5",
            "4",
            "3",
            "7",
            "8",
            "9",
            null
           ],
           "ids": [
            "6",
            "5",
            "4",
            "3",
            "7",
            "8",
            "9",
            null
           ],
           "legendgroup": "",
           "marker": {
            "color": [
             1.045715448022606,
             1.236775722019616,
             1.0119412671248131,
             0,
             1.0119412671248131,
             1.2367757220196163,
             1.0457154480226059,
             0
            ],
            "coloraxis": "coloraxis",
            "symbol": "circle"
           },
           "mode": "markers",
           "name": "",
           "scene": "scene",
           "showlegend": false,
           "type": "scatter3d",
           "x": [
            -0.1372354580015837,
            -0.4814380271776343,
            -0.41776612150092557,
            0,
            -0.41776612150092557,
            -0.3620699128963866,
            -0.01390177366769243,
            -1.7825014601796636
           ],
           "y": [
            1.251337857959897,
            0.9907241586575386,
            0.8136547722619883,
            0,
            -0.7718603373251425,
            -1.0305135300846213,
            -1.171759115105732,
            -0.12533874784365442
           ],
           "z": [
            -1.9297176787631816,
            -0.938993520105643,
            0.220824327875276,
            0,
            0.2745600299369351,
            -0.8613752837943573,
            -1.9316781853060614,
            -2.375331904566376
           ]
          },
          {
           "hoverlabel": {
            "namelength": 0
           },
           "hovertemplate": "<b>%{hovertext}</b><br><br>frame=7<br>x=%{x}<br>y=%{y}<br>z=%{z}",
           "hovertext": [
            "6",
            "5",
            "4",
            "3",
            "7",
            "8",
            "9",
            null
           ],
           "ids": [
            "6",
            "5",
            "4",
            "3",
            "7",
            "8",
            "9",
            null
           ],
           "legendgroup": "",
           "line": {
            "color": "#636efa",
            "dash": "solid"
           },
           "mode": "lines",
           "name": "",
           "scene": "scene",
           "showlegend": false,
           "type": "scatter3d",
           "x": [
            -0.1372354580015837,
            -0.4814380271776343,
            -0.41776612150092557,
            0,
            -0.41776612150092557,
            -0.3620699128963866,
            -0.01390177366769243,
            -1.7825014601796636
           ],
           "y": [
            1.251337857959897,
            0.9907241586575386,
            0.8136547722619883,
            0,
            -0.7718603373251425,
            -1.0305135300846213,
            -1.171759115105732,
            -0.12533874784365442
           ],
           "z": [
            -1.9297176787631816,
            -0.938993520105643,
            0.220824327875276,
            0,
            0.2745600299369351,
            -0.8613752837943573,
            -1.9316781853060614,
            -2.375331904566376
           ]
          }
         ],
         "name": "7"
        },
        {
         "data": [
          {
           "hoverlabel": {
            "namelength": 0
           },
           "hovertemplate": "<b>%{hovertext}</b><br><br>frame=8<br>x=%{x}<br>y=%{y}<br>z=%{z}<br>diff=%{marker.color}",
           "hovertext": [
            "6",
            "5",
            "4",
            "3",
            "7",
            "8",
            "9",
            null
           ],
           "ids": [
            "6",
            "5",
            "4",
            "3",
            "7",
            "8",
            "9",
            null
           ],
           "legendgroup": "",
           "marker": {
            "color": [
             1.0577012721143024,
             1.2526380022301882,
             1.013946330634576,
             0,
             1.013946330634576,
             1.2526380022301882,
             1.0577012721143022,
             0
            ],
            "coloraxis": "coloraxis",
            "symbol": "circle"
           },
           "mode": "markers",
           "name": "",
           "scene": "scene",
           "showlegend": false,
           "type": "scatter3d",
           "x": [
            -0.16111799225120957,
            -0.4874086607400405,
            -0.41972662804380456,
            0,
            -0.4157610579911619,
            -0.3680405464587928,
            -0.04174987796996189,
            -1.7825014601796636
           ],
           "y": [
            1.26523963162759,
            0.980787955042489,
            0.8136547722619885,
            0,
            -0.7719048942920261,
            -1.0344791001372644,
            -1.1996072194080016,
            -0.12734381135341782
           ],
           "z": [
            -1.9217419816910115,
            -0.934983393086116,
            0.220824327875276,
            0,
            0.27255496642717175,
            -0.8554046502319509,
            -1.9257075517436546,
            -2.375331904566376
           ]
          },
          {
           "hoverlabel": {
            "namelength": 0
           },
           "hovertemplate": "<b>%{hovertext}</b><br><br>frame=8<br>x=%{x}<br>y=%{y}<br>z=%{z}",
           "hovertext": [
            "6",
            "5",
            "4",
            "3",
            "7",
            "8",
            "9",
            null
           ],
           "ids": [
            "6",
            "5",
            "4",
            "3",
            "7",
            "8",
            "9",
            null
           ],
           "legendgroup": "",
           "line": {
            "color": "#636efa",
            "dash": "solid"
           },
           "mode": "lines",
           "name": "",
           "scene": "scene",
           "showlegend": false,
           "type": "scatter3d",
           "x": [
            -0.16111799225120957,
            -0.4874086607400405,
            -0.41972662804380456,
            0,
            -0.4157610579911619,
            -0.3680405464587928,
            -0.04174987796996189,
            -1.7825014601796636
           ],
           "y": [
            1.26523963162759,
            0.980787955042489,
            0.8136547722619885,
            0,
            -0.7719048942920261,
            -1.0344791001372644,
            -1.1996072194080016,
            -0.12734381135341782
           ],
           "z": [
            -1.9217419816910115,
            -0.934983393086116,
            0.220824327875276,
            0,
            0.27255496642717175,
            -0.8554046502319509,
            -1.9257075517436546,
            -2.375331904566376
           ]
          }
         ],
         "name": "8"
        },
        {
         "data": [
          {
           "hoverlabel": {
            "namelength": 0
           },
           "hovertemplate": "<b>%{hovertext}</b><br><br>frame=9<br>x=%{x}<br>y=%{y}<br>z=%{z}<br>diff=%{marker.color}",
           "hovertext": [
            "6",
            "5",
            "4",
            "3",
            "7",
            "8",
            "9",
            null
           ],
           "ids": [
            "6",
            "5",
            "4",
            "3",
            "7",
            "8",
            "9",
            null
           ],
           "legendgroup": "",
           "marker": {
            "color": [
             1.065632412219588,
             1.2406967351053755,
             1.0079756970721694,
             0,
             1.0079756970721694,
             1.2406967351053755,
             1.065632412219588,
             0
            ],
            "coloraxis": "coloraxis",
            "symbol": "circle"
           },
           "mode": "markers",
           "name": "",
           "scene": "scene",
           "showlegend": false,
           "type": "scatter3d",
           "x": [
            -0.19694179362564884,
            -0.4893691672829205,
            -0.41972662804380456,
            0,
            -0.4157610579911619,
            -0.38590789017912885,
            -0.07160304578199496,
            -1.7825014601796636
           ],
           "y": [
            1.3090391300741997,
            0.9787828915327255,
            0.8136547722619885,
            0,
            -0.7698998307822627,
            -1.040449733699671,
            -1.247372287907254,
            -0.12734381135341782
           ],
           "z": [
            -1.9078402080233186,
            -0.9290127595237095,
            0.22282939138503938,
            0,
            0.270594459884292,
            -0.8534441436890712,
            -1.9098007145661984,
            -2.375331904566376
           ]
          },
          {
           "hoverlabel": {
            "namelength": 0
           },
           "hovertemplate": "<b>%{hovertext}</b><br><br>frame=9<br>x=%{x}<br>y=%{y}<br>z=%{z}",
           "hovertext": [
            "6",
            "5",
            "4",
            "3",
            "7",
            "8",
            "9",
            null
           ],
           "ids": [
            "6",
            "5",
            "4",
            "3",
            "7",
            "8",
            "9",
            null
           ],
           "legendgroup": "",
           "line": {
            "color": "#636efa",
            "dash": "solid"
           },
           "mode": "lines",
           "name": "",
           "scene": "scene",
           "showlegend": false,
           "type": "scatter3d",
           "x": [
            -0.19694179362564884,
            -0.4893691672829205,
            -0.41972662804380456,
            0,
            -0.4157610579911619,
            -0.38590789017912885,
            -0.07160304578199496,
            -1.7825014601796636
           ],
           "y": [
            1.3090391300741997,
            0.9787828915327255,
            0.8136547722619885,
            0,
            -0.7698998307822627,
            -1.040449733699671,
            -1.247372287907254,
            -0.12734381135341782
           ],
           "z": [
            -1.9078402080233186,
            -0.9290127595237095,
            0.22282939138503938,
            0,
            0.270594459884292,
            -0.8534441436890712,
            -1.9098007145661984,
            -2.375331904566376
           ]
          }
         ],
         "name": "9"
        },
        {
         "data": [
          {
           "hoverlabel": {
            "namelength": 0
           },
           "hovertemplate": "<b>%{hovertext}</b><br><br>frame=10<br>x=%{x}<br>y=%{y}<br>z=%{z}<br>diff=%{marker.color}",
           "hovertext": [
            "6",
            "5",
            "4",
            "3",
            "7",
            "8",
            "9",
            null
           ],
           "ids": [
            "6",
            "5",
            "4",
            "3",
            "7",
            "8",
            "9",
            null
           ],
           "legendgroup": "",
           "marker": {
            "color": [
             1.089514946469215,
             1.2625296488783548,
             1.009980760581934,
             0,
             1.009980760581934,
             1.2625296488783544,
             1.089514946469215,
             0
            ],
            "coloraxis": "coloraxis",
            "symbol": "circle"
           },
           "mode": "markers",
           "name": "",
           "scene": "scene",
           "showlegend": false,
           "type": "scatter3d",
           "x": [
            -0.2267949614376819,
            -0.4953398008453267,
            -0.42574181857309534,
            0,
            -0.42173169155356816,
            -0.41179548793851833,
            -0.10742684715643423,
            -1.7845065236894273
           ],
           "y": [
            1.3866128094186014,
            0.992729222167302,
            0.8136547722619883,
            0,
            -0.7658897037627359,
            -1.0722634080545836,
            -1.3487839445343988,
            -0.12533874784365442
           ],
           "z": [
            -1.8740214701586426,
            -0.9210816194184231,
            0.21881926436551258,
            0,
            0.27255496642717175,
            -0.8216304693341584,
            -1.8660457730864726,
            -2.37733696807614
           ]
          },
          {
           "hoverlabel": {
            "namelength": 0
           },
           "hovertemplate": "<b>%{hovertext}</b><br><br>frame=10<br>x=%{x}<br>y=%{y}<br>z=%{z}",
           "hovertext": [
            "6",
            "5",
            "4",
            "3",
            "7",
            "8",
            "9",
            null
           ],
           "ids": [
            "6",
            "5",
            "4",
            "3",
            "7",
            "8",
            "9",
            null
           ],
           "legendgroup": "",
           "line": {
            "color": "#636efa",
            "dash": "solid"
           },
           "mode": "lines",
           "name": "",
           "scene": "scene",
           "showlegend": false,
           "type": "scatter3d",
           "x": [
            -0.2267949614376819,
            -0.4953398008453267,
            -0.42574181857309534,
            0,
            -0.42173169155356816,
            -0.41179548793851833,
            -0.10742684715643423,
            -1.7845065236894273
           ],
           "y": [
            1.3866128094186014,
            0.992729222167302,
            0.8136547722619883,
            0,
            -0.7658897037627359,
            -1.0722634080545836,
            -1.3487839445343988,
            -0.12533874784365442
           ],
           "z": [
            -1.8740214701586426,
            -0.9210816194184231,
            0.21881926436551258,
            0,
            0.27255496642717175,
            -0.8216304693341584,
            -1.8660457730864726,
            -2.37733696807614
           ]
          }
         ],
         "name": "10"
        },
        {
         "data": [
          {
           "hoverlabel": {
            "namelength": 0
           },
           "hovertemplate": "<b>%{hovertext}</b><br><br>frame=11<br>x=%{x}<br>y=%{y}<br>z=%{z}<br>diff=%{marker.color}",
           "hovertext": [
            "6",
            "5",
            "4",
            "3",
            "7",
            "8",
            "9",
            null
           ],
           "ids": [
            "6",
            "5",
            "4",
            "3",
            "7",
            "8",
            "9",
            null
           ],
           "legendgroup": "",
           "marker": {
            "color": [
             1.1133974807188418,
             1.2487169891444296,
             1.0119858240916975,
             0,
             1.0119858240916972,
             1.2487169891444296,
             1.1133974807188416,
             0
            ],
            "coloraxis": "coloraxis",
            "symbol": "circle"
           },
           "mode": "markers",
           "name": "",
           "scene": "scene",
           "showlegend": false,
           "type": "scatter3d",
           "x": [
            -0.24069673510537534,
            -0.4913742307926841,
            -0.4256972616062118,
            0,
            -0.41972662804380456,
            -0.429707388625738,
            -0.1412455850211099,
            -1.7825014601796636
           ],
           "y": [
            1.46218142525324,
            1.0105965658876381,
            0.811649708752225,
            0,
            -0.7659342607296195,
            -1.09418543576133,
            -1.448279651585547,
            -0.12734381135341782
           ],
           "z": [
            -1.8441683023466096,
            -0.9071798457507302,
            0.21881926436551258,
            0,
            0.2705499029174083,
            -0.8037185686469387,
            -1.8163201980443402,
            -2.3793420315859035
           ]
          },
          {
           "hoverlabel": {
            "namelength": 0
           },
           "hovertemplate": "<b>%{hovertext}</b><br><br>frame=11<br>x=%{x}<br>y=%{y}<br>z=%{z}",
           "hovertext": [
            "6",
            "5",
            "4",
            "3",
            "7",
            "8",
            "9",
            null
           ],
           "ids": [
            "6",
            "5",
            "4",
            "3",
            "7",
            "8",
            "9",
            null
           ],
           "legendgroup": "",
           "line": {
            "color": "#636efa",
            "dash": "solid"
           },
           "mode": "lines",
           "name": "",
           "scene": "scene",
           "showlegend": false,
           "type": "scatter3d",
           "x": [
            -0.24069673510537534,
            -0.4913742307926841,
            -0.4256972616062118,
            0,
            -0.41972662804380456,
            -0.429707388625738,
            -0.1412455850211099,
            -1.7825014601796636
           ],
           "y": [
            1.46218142525324,
            1.0105965658876381,
            0.811649708752225,
            0,
            -0.7659342607296195,
            -1.09418543576133,
            -1.448279651585547,
            -0.12734381135341782
           ],
           "z": [
            -1.8441683023466096,
            -0.9071798457507302,
            0.21881926436551258,
            0,
            0.2705499029174083,
            -0.8037185686469387,
            -1.8163201980443402,
            -2.3793420315859035
           ]
          }
         ],
         "name": "11"
        },
        {
         "data": [
          {
           "hoverlabel": {
            "namelength": 0
           },
           "hovertemplate": "<b>%{hovertext}</b><br><br>frame=12<br>x=%{x}<br>y=%{y}<br>z=%{z}<br>diff=%{marker.color}",
           "hovertext": [
            "6",
            "5",
            "4",
            "3",
            "7",
            "8",
            "9",
            null
           ],
           "ids": [
            "6",
            "5",
            "4",
            "3",
            "7",
            "8",
            "9",
            null
           ],
           "legendgroup": "",
           "marker": {
            "color": [
             1.1073822901895514,
             1.2566035722828326,
             1.0178673437203358,
             0,
             1.017867343720336,
             1.2566035722828324,
             1.1073822901895516,
             0
            ],
            "coloraxis": "coloraxis",
            "symbol": "circle"
           },
           "mode": "markers",
           "name": "",
           "scene": "scene",
           "showlegend": false,
           "type": "scatter3d",
           "x": [
            -0.24666736866778155,
            -0.4913742307926841,
            -0.429707388625738,
            0,
            -0.42173169155356816,
            -0.4476192893129576,
            -0.1790298929384292,
            -1.7825014601796636
           ],
           "y": [
            1.5358340915118822,
            1.0325185935943846,
            0.8077286956664655,
            0,
            -0.7678947672724993,
            -1.1259991101162428,
            -1.5437652316171684,
            -0.1293043178962976
           ],
           "z": [
            -1.7964032338473572,
            -0.8932335151161537,
            0.2228293913850394,
            0,
            0.27255496642717175,
            -0.7738654008349057,
            -1.7645895594924443,
            -2.37929747461902
           ]
          },
          {
           "hoverlabel": {
            "namelength": 0
           },
           "hovertemplate": "<b>%{hovertext}</b><br><br>frame=12<br>x=%{x}<br>y=%{y}<br>z=%{z}",
           "hovertext": [
            "6",
            "5",
            "4",
            "3",
            "7",
            "8",
            "9",
            null
           ],
           "ids": [
            "6",
            "5",
            "4",
            "3",
            "7",
            "8",
            "9",
            null
           ],
           "legendgroup": "",
           "line": {
            "color": "#636efa",
            "dash": "solid"
           },
           "mode": "lines",
           "name": "",
           "scene": "scene",
           "showlegend": false,
           "type": "scatter3d",
           "x": [
            -0.24666736866778155,
            -0.4913742307926841,
            -0.429707388625738,
            0,
            -0.42173169155356816,
            -0.4476192893129576,
            -0.1790298929384292,
            -1.7825014601796636
           ],
           "y": [
            1.5358340915118822,
            1.0325185935943846,
            0.8077286956664655,
            0,
            -0.7678947672724993,
            -1.1259991101162428,
            -1.5437652316171684,
            -0.1293043178962976
           ],
           "z": [
            -1.7964032338473572,
            -0.8932335151161537,
            0.2228293913850394,
            0,
            0.27255496642717175,
            -0.7738654008349057,
            -1.7645895594924443,
            -2.37929747461902
           ]
          }
         ],
         "name": "12"
        },
        {
         "data": [
          {
           "hoverlabel": {
            "namelength": 0
           },
           "hovertemplate": "<b>%{hovertext}</b><br><br>frame=13<br>x=%{x}<br>y=%{y}<br>z=%{z}<br>diff=%{marker.color}",
           "hovertext": [
            "6",
            "5",
            "4",
            "3",
            "7",
            "8",
            "9",
            null
           ],
           "ids": [
            "6",
            "5",
            "4",
            "3",
            "7",
            "8",
            "9",
            null
           ],
           "legendgroup": "",
           "marker": {
            "color": [
             1.1034167201369087,
             1.2645792693550018,
             1.0118967101579297,
             0,
             1.0118967101579297,
             1.2645792693550018,
             1.1034167201369085,
             0
            ],
            "coloraxis": "coloraxis",
            "symbol": "circle"
           },
           "mode": "markers",
           "name": "",
           "scene": "scene",
           "showlegend": false,
           "type": "scatter3d",
           "x": [
            -0.2626187628121222,
            -0.4933792943024477,
            -0.43367295867838157,
            0,
            -0.42574181857309534,
            -0.46553119000017823,
            -0.2188192643655121,
            -1.7845065236894273
           ],
           "y": [
            1.667143472917943,
            1.0762735350741104,
            0.8076841386995818,
            0,
            -0.7559535001476863,
            -1.1697540515959688,
            -1.6830057531285159,
            -0.12533874784365442
           ],
           "z": [
            -1.7048832238683786,
            -0.8713560443762908,
            0.220824327875276,
            0,
            0.27652053647981495,
            -0.7281053958454167,
            -1.6611282823886528,
            -2.3852681081814264
           ]
          },
          {
           "hoverlabel": {
            "namelength": 0
           },
           "hovertemplate": "<b>%{hovertext}</b><br><br>frame=13<br>x=%{x}<br>y=%{y}<br>z=%{z}",
           "hovertext": [
            "6",
            "5",
            "4",
            "3",
            "7",
            "8",
            "9",
            null
           ],
           "ids": [
            "6",
            "5",
            "4",
            "3",
            "7",
            "8",
            "9",
            null
           ],
           "legendgroup": "",
           "line": {
            "color": "#636efa",
            "dash": "solid"
           },
           "mode": "lines",
           "name": "",
           "scene": "scene",
           "showlegend": false,
           "type": "scatter3d",
           "x": [
            -0.2626187628121222,
            -0.4933792943024477,
            -0.43367295867838157,
            0,
            -0.42574181857309534,
            -0.46553119000017823,
            -0.2188192643655121,
            -1.7845065236894273
           ],
           "y": [
            1.667143472917943,
            1.0762735350741104,
            0.8076841386995818,
            0,
            -0.7559535001476863,
            -1.1697540515959688,
            -1.6830057531285159,
            -0.12533874784365442
           ],
           "z": [
            -1.7048832238683786,
            -0.8713560443762908,
            0.220824327875276,
            0,
            0.27652053647981495,
            -0.7281053958454167,
            -1.6611282823886528,
            -2.3852681081814264
           ]
          }
         ],
         "name": "13"
        },
        {
         "data": [
          {
           "hoverlabel": {
            "namelength": 0
           },
           "hovertemplate": "<b>%{hovertext}</b><br><br>frame=14<br>x=%{x}<br>y=%{y}<br>z=%{z}<br>diff=%{marker.color}",
           "hovertext": [
            "6",
            "5",
            "4",
            "3",
            "7",
            "8",
            "9",
            null
           ],
           "ids": [
            "6",
            "5",
            "4",
            "3",
            "7",
            "8",
            "9",
            null
           ],
           "legendgroup": "",
           "marker": {
            "color": [
             1.1173184938046012,
             1.2347261015429682,
             1.021832913772979,
             0,
             1.021832913772979,
             1.234726101542968,
             1.1173184938046012,
             0
            ],
            "coloraxis": "coloraxis",
            "symbol": "circle"
           },
           "mode": "markers",
           "name": "",
           "scene": "scene",
           "showlegend": false,
           "type": "scatter3d",
           "x": [
            -0.28449623355198445,
            -0.49734486435509034,
            -0.4416486557505514,
            0,
            -0.43567802218814516,
            -0.4854481541971615,
            -0.24671192563466515,
            -1.7865115871991908
           ],
           "y": [
            1.8282614651691533,
            1.1439110108034627,
            0.7957874285416523,
            0,
            -0.7460172965326364,
            -1.223489753657628,
            -1.848133872399253,
            -0.12533874784365442
           ],
           "z": [
            -1.5855596665540146,
            -0.8136993292288721,
            0.23076053149032572,
            0,
            0.2963929437099144,
            -0.6704486806979979,
            -1.5258978878968323,
            -2.3892782352009534
           ]
          },
          {
           "hoverlabel": {
            "namelength": 0
           },
           "hovertemplate": "<b>%{hovertext}</b><br><br>frame=14<br>x=%{x}<br>y=%{y}<br>z=%{z}",
           "hovertext": [
            "6",
            "5",
            "4",
            "3",
            "7",
            "8",
            "9",
            null
           ],
           "ids": [
            "6",
            "5",
            "4",
            "3",
            "7",
            "8",
            "9",
            null
           ],
           "legendgroup": "",
           "line": {
            "color": "#636efa",
            "dash": "solid"
           },
           "mode": "lines",
           "name": "",
           "scene": "scene",
           "showlegend": false,
           "type": "scatter3d",
           "x": [
            -0.28449623355198445,
            -0.49734486435509034,
            -0.4416486557505514,
            0,
            -0.43567802218814516,
            -0.4854481541971615,
            -0.24671192563466515,
            -1.7865115871991908
           ],
           "y": [
            1.8282614651691533,
            1.1439110108034627,
            0.7957874285416523,
            0,
            -0.7460172965326364,
            -1.223489753657628,
            -1.848133872399253,
            -0.12533874784365442
           ],
           "z": [
            -1.5855596665540146,
            -0.8136993292288721,
            0.23076053149032572,
            0,
            0.2963929437099144,
            -0.6704486806979979,
            -1.5258978878968323,
            -2.3892782352009534
           ]
          }
         ],
         "name": "14"
        },
        {
         "data": [
          {
           "hoverlabel": {
            "namelength": 0
           },
           "hovertemplate": "<b>%{hovertext}</b><br><br>frame=15<br>x=%{x}<br>y=%{y}<br>z=%{z}<br>diff=%{marker.color}",
           "hovertext": [
            "6",
            "5",
            "4",
            "3",
            "7",
            "8",
            "9",
            null
           ],
           "ids": [
            "6",
            "5",
            "4",
            "3",
            "7",
            "8",
            "9",
            null
           ],
           "legendgroup": "",
           "marker": {
            "color": [
             1.1174076077383674,
             1.22086888484216,
             1.0278035473353853,
             0,
             1.0278035473353853,
             1.2208688848421598,
             1.1174076077383674,
             0
            ],
            "coloraxis": "coloraxis",
            "symbol": "circle"
           },
           "mode": "markers",
           "name": "",
           "scene": "scene",
           "showlegend": false,
           "type": "scatter3d",
           "x": [
            -0.30040307072944045,
            -0.5033154979174975,
            -0.44962435282272123,
            0,
            -0.4376830856979088,
            -0.4913742307926841,
            -0.25860863579259497,
            -1.7845065236894273
           ],
           "y": [
            1.9635364166278575,
            1.2115484865328146,
            0.7878117314694824,
            0,
            -0.7400466629702298,
            -1.2632791250847106,
            -1.9814483173150772,
            -0.12533874784365442
           ],
           "z": [
            -1.4482796515855467,
            -0.7619686906769763,
            0.24470686212490228,
            0,
            0.30833421083472756,
            -0.6047717115115256,
            -1.3905783794712445,
            -2.3932438052535963
           ]
          },
          {
           "hoverlabel": {
            "namelength": 0
           },
           "hovertemplate": "<b>%{hovertext}</b><br><br>frame=15<br>x=%{x}<br>y=%{y}<br>z=%{z}",
           "hovertext": [
            "6",
            "5",
            "4",
            "3",
            "7",
            "8",
            "9",
            null
           ],
           "ids": [
            "6",
            "5",
            "4",
            "3",
            "7",
            "8",
            "9",
            null
           ],
           "legendgroup": "",
           "line": {
            "color": "#636efa",
            "dash": "solid"
           },
           "mode": "lines",
           "name": "",
           "scene": "scene",
           "showlegend": false,
           "type": "scatter3d",
           "x": [
            -0.30040307072944045,
            -0.5033154979174975,
            -0.44962435282272123,
            0,
            -0.4376830856979088,
            -0.4913742307926841,
            -0.25860863579259497,
            -1.7845065236894273
           ],
           "y": [
            1.9635364166278575,
            1.2115484865328146,
            0.7878117314694824,
            0,
            -0.7400466629702298,
            -1.2632791250847106,
            -1.9814483173150772,
            -0.12533874784365442
           ],
           "z": [
            -1.4482796515855467,
            -0.7619686906769763,
            0.24470686212490228,
            0,
            0.30833421083472756,
            -0.6047717115115256,
            -1.3905783794712445,
            -2.3932438052535963
           ]
          }
         ],
         "name": "15"
        },
        {
         "data": [
          {
           "hoverlabel": {
            "namelength": 0
           },
           "hovertemplate": "<b>%{hovertext}</b><br><br>frame=16<br>x=%{x}<br>y=%{y}<br>z=%{z}<br>diff=%{marker.color}",
           "hovertext": [
            "6",
            "5",
            "4",
            "3",
            "7",
            "8",
            "9",
            null
           ],
           "ids": [
            "6",
            "5",
            "4",
            "3",
            "7",
            "8",
            "9",
            null
           ],
           "legendgroup": "",
           "marker": {
            "color": [
             1.087554439926336,
             1.2188638213323968,
             1.0298531678120333,
             0,
             1.0298531678120333,
             1.2188638213323966,
             1.087554439926336,
             0
            ],
            "coloraxis": "coloraxis",
            "symbol": "circle"
           },
           "mode": "markers",
           "name": "",
           "scene": "scene",
           "showlegend": false,
           "type": "scatter3d",
           "x": [
            -0.3043686407820841,
            -0.49930537089797034,
            -0.45555042941824486,
            0,
            -0.4416486557505514,
            -0.4854035972302769,
            -0.2546430657399514,
            -1.7825014601796636
           ],
           "y": [
            2.068958200274529,
            1.261274061574947,
            0.785806667959719,
            0,
            -0.7360810929175866,
            -1.3011079899689133,
            -2.0650371871887696,
            -0.12337824130077464
           ],
           "z": [
            -1.3269064737945355,
            -0.7161641287206034,
            0.25464306573995205,
            0,
            0.32032003492642436,
            -0.5510360094498664,
            -1.285156595824573,
            -2.3972093753062396
           ]
          },
          {
           "hoverlabel": {
            "namelength": 0
           },
           "hovertemplate": "<b>%{hovertext}</b><br><br>frame=16<br>x=%{x}<br>y=%{y}<br>z=%{z}",
           "hovertext": [
            "6",
            "5",
            "4",
            "3",
            "7",
            "8",
            "9",
            null
           ],
           "ids": [
            "6",
            "5",
            "4",
            "3",
            "7",
            "8",
            "9",
            null
           ],
           "legendgroup": "",
           "line": {
            "color": "#636efa",
            "dash": "solid"
           },
           "mode": "lines",
           "name": "",
           "scene": "scene",
           "showlegend": false,
           "type": "scatter3d",
           "x": [
            -0.3043686407820841,
            -0.49930537089797034,
            -0.45555042941824486,
            0,
            -0.4416486557505514,
            -0.4854035972302769,
            -0.2546430657399514,
            -1.7825014601796636
           ],
           "y": [
            2.068958200274529,
            1.261274061574947,
            0.785806667959719,
            0,
            -0.7360810929175866,
            -1.3011079899689133,
            -2.0650371871887696,
            -0.12337824130077464
           ],
           "z": [
            -1.3269064737945355,
            -0.7161641287206034,
            0.25464306573995205,
            0,
            0.32032003492642436,
            -0.5510360094498664,
            -1.285156595824573,
            -2.3972093753062396
           ]
          }
         ],
         "name": "16"
        },
        {
         "data": [
          {
           "hoverlabel": {
            "namelength": 0
           },
           "hovertemplate": "<b>%{hovertext}</b><br><br>frame=17<br>x=%{x}<br>y=%{y}<br>z=%{z}<br>diff=%{marker.color}",
           "hovertext": [
            "6",
            "5",
            "4",
            "3",
            "7",
            "8",
            "9",
            null
           ],
           "ids": [
            "6",
            "5",
            "4",
            "3",
            "7",
            "8",
            "9",
            null
           ],
           "legendgroup": "",
           "marker": {
            "color": [
             1.0914754530120947,
             1.218819264365513,
             1.0318582313217963,
             0,
             1.0318582313217963,
             1.218819264365513,
             1.0914754530120947,
             0
            ],
            "coloraxis": "coloraxis",
            "symbol": "circle"
           },
           "mode": "markers",
           "name": "",
           "scene": "scene",
           "showlegend": false,
           "type": "scatter3d",
           "x": [
            -0.3182704144497765,
            -0.49734486435509034,
            -0.46352612649041464,
            0,
            -0.445614225803195,
            -0.4874086607400405,
            -0.2546430657399514,
            -1.7825014601796636
           ],
           "y": [
            2.1724194773783205,
            1.303068496511793,
            0.7718603373251424,
            0,
            -0.7281053958454167,
            -1.3448183744817555,
            -2.1604782102535074,
            -0.12734381135341782
           ],
           "z": [
            -1.1857054457403087,
            -0.6525367800107782,
            0.2705499029174083,
            0,
            0.3282511750317107,
            -0.48540359723027776,
            -1.145916074313226,
            -2.3992144388160033
           ]
          },
          {
           "hoverlabel": {
            "namelength": 0
           },
           "hovertemplate": "<b>%{hovertext}</b><br><br>frame=17<br>x=%{x}<br>y=%{y}<br>z=%{z}",
           "hovertext": [
            "6",
            "5",
            "4",
            "3",
            "7",
            "8",
            "9",
            null
           ],
           "ids": [
            "6",
            "5",
            "4",
            "3",
            "7",
            "8",
            "9",
            null
           ],
           "legendgroup": "",
           "line": {
            "color": "#636efa",
            "dash": "solid"
           },
           "mode": "lines",
           "name": "",
           "scene": "scene",
           "showlegend": false,
           "type": "scatter3d",
           "x": [
            -0.3182704144497765,
            -0.49734486435509034,
            -0.46352612649041464,
            0,
            -0.445614225803195,
            -0.4874086607400405,
            -0.2546430657399514,
            -1.7825014601796636
           ],
           "y": [
            2.1724194773783205,
            1.303068496511793,
            0.7718603373251424,
            0,
            -0.7281053958454167,
            -1.3448183744817555,
            -2.1604782102535074,
            -0.12734381135341782
           ],
           "z": [
            -1.1857054457403087,
            -0.6525367800107782,
            0.2705499029174083,
            0,
            0.3282511750317107,
            -0.48540359723027776,
            -1.145916074313226,
            -2.3992144388160033
           ]
          }
         ],
         "name": "17"
        },
        {
         "data": [
          {
           "hoverlabel": {
            "namelength": 0
           },
           "hovertemplate": "<b>%{hovertext}</b><br><br>frame=18<br>x=%{x}<br>y=%{y}<br>z=%{z}<br>diff=%{marker.color}",
           "hovertext": [
            "6",
            "5",
            "4",
            "3",
            "7",
            "8",
            "9",
            null
           ],
           "ids": [
            "6",
            "5",
            "4",
            "3",
            "7",
            "8",
            "9",
            null
           ],
           "legendgroup": "",
           "marker": {
            "color": [
             1.1253387478436543,
             1.2188638213323963,
             1.037873421851087,
             0,
             1.037873421851087,
             1.2188638213323963,
             1.1253387478436543,
             0
            ],
            "coloraxis": "coloraxis",
            "symbol": "circle"
           },
           "mode": "markers",
           "name": "",
           "scene": "scene",
           "showlegend": false,
           "type": "scatter3d",
           "x": [
            -0.33422180859411715,
            -0.49734486435509034,
            -0.47145726659570086,
            0,
            -0.4495797958558376,
            -0.4774279001581071,
            -0.24867243217754517,
            -1.7804963966699001
           ],
           "y": [
            2.267905057409942,
            1.3607252116592117,
            0.7658897037627358,
            0,
            -0.7162086856874872,
            -1.3866128094186014,
            -2.2639394873572987,
            -0.12734381135341782
           ],
           "z": [
            -1.018572262959808,
            -0.5789286707190195,
            0.2804861065324581,
            0,
            0.3461630757189304,
            -0.40586941134299614,
            -0.9748173214800824,
            -2.407190135888173
           ]
          },
          {
           "hoverlabel": {
            "namelength": 0
           },
           "hovertemplate": "<b>%{hovertext}</b><br><br>frame=18<br>x=%{x}<br>y=%{y}<br>z=%{z}",
           "hovertext": [
            "6",
            "5",
            "4",
            "3",
            "7",
            "8",
            "9",
            null
           ],
           "ids": [
            "6",
            "5",
            "4",
            "3",
            "7",
            "8",
            "9",
            null
           ],
           "legendgroup": "",
           "line": {
            "color": "#636efa",
            "dash": "solid"
           },
           "mode": "lines",
           "name": "",
           "scene": "scene",
           "showlegend": false,
           "type": "scatter3d",
           "x": [
            -0.33422180859411715,
            -0.49734486435509034,
            -0.47145726659570086,
            0,
            -0.4495797958558376,
            -0.4774279001581071,
            -0.24867243217754517,
            -1.7804963966699001
           ],
           "y": [
            2.267905057409942,
            1.3607252116592117,
            0.7658897037627358,
            0,
            -0.7162086856874872,
            -1.3866128094186014,
            -2.2639394873572987,
            -0.12734381135341782
           ],
           "z": [
            -1.018572262959808,
            -0.5789286707190195,
            0.2804861065324581,
            0,
            0.3461630757189304,
            -0.40586941134299614,
            -0.9748173214800824,
            -2.407190135888173
           ]
          }
         ],
         "name": "18"
        },
        {
         "data": [
          {
           "hoverlabel": {
            "namelength": 0
           },
           "hovertemplate": "<b>%{hovertext}</b><br><br>frame=19<br>x=%{x}<br>y=%{y}<br>z=%{z}<br>diff=%{marker.color}",
           "hovertext": [
            "6",
            "5",
            "4",
            "3",
            "7",
            "8",
            "9",
            null
           ],
           "ids": [
            "6",
            "5",
            "4",
            "3",
            "7",
            "8",
            "9",
            null
           ],
           "legendgroup": "",
           "marker": {
            "color": [
             1.17301470240914,
             1.2526380022301888,
             1.0297640538782664,
             0,
             1.0297640538782664,
             1.2526380022301886,
             1.17301470240914,
             0
            ],
            "coloraxis": "coloraxis",
            "symbol": "circle"
           },
           "mode": "markers",
           "name": "",
           "scene": "scene",
           "showlegend": false,
           "type": "scatter3d",
           "x": [
            -0.3540942158242158,
            -0.49930537089797034,
            -0.4833985337205143,
            0,
            -0.4674916965430573,
            -0.4774279001581071,
            -0.23869167159561175,
            -1.7825014601796636
           ],
           "y": [
            2.3753764615332598,
            1.4065297736155846,
            0.7500274235521632,
            0,
            -0.6982522280333838,
            -1.4363383844607338,
            -2.3733268410566137,
            -0.1293043178962976
           ],
           "z": [
            -0.7977479350845321,
            -0.49141878775956793,
            0.3004030707294412,
            0,
            0.36603548294902993,
            -0.29046686711439146,
            -0.7380861564273501,
            -2.4131607694505792
           ]
          },
          {
           "hoverlabel": {
            "namelength": 0
           },
           "hovertemplate": "<b>%{hovertext}</b><br><br>frame=19<br>x=%{x}<br>y=%{y}<br>z=%{z}",
           "hovertext": [
            "6",
            "5",
            "4",
            "3",
            "7",
            "8",
            "9",
            null
           ],
           "ids": [
            "6",
            "5",
            "4",
            "3",
            "7",
            "8",
            "9",
            null
           ],
           "legendgroup": "",
           "line": {
            "color": "#636efa",
            "dash": "solid"
           },
           "mode": "lines",
           "name": "",
           "scene": "scene",
           "showlegend": false,
           "type": "scatter3d",
           "x": [
            -0.3540942158242158,
            -0.49930537089797034,
            -0.4833985337205143,
            0,
            -0.4674916965430573,
            -0.4774279001581071,
            -0.23869167159561175,
            -1.7825014601796636
           ],
           "y": [
            2.3753764615332598,
            1.4065297736155846,
            0.7500274235521632,
            0,
            -0.6982522280333838,
            -1.4363383844607338,
            -2.3733268410566137,
            -0.1293043178962976
           ],
           "z": [
            -0.7977479350845321,
            -0.49141878775956793,
            0.3004030707294412,
            0,
            0.36603548294902993,
            -0.29046686711439146,
            -0.7380861564273501,
            -2.4131607694505792
           ]
          }
         ],
         "name": "19"
        },
        {
         "data": [
          {
           "hoverlabel": {
            "namelength": 0
           },
           "hovertemplate": "<b>%{hovertext}</b><br><br>frame=20<br>x=%{x}<br>y=%{y}<br>z=%{z}<br>diff=%{marker.color}",
           "hovertext": [
            "6",
            "5",
            "4",
            "3",
            "7",
            "8",
            "9",
            null
           ],
           "ids": [
            "6",
            "5",
            "4",
            "3",
            "7",
            "8",
            "9",
            null
           ],
           "legendgroup": "",
           "marker": {
            "color": [
             1.254553951806186,
             1.2366866080858492,
             1.021788356806096,
             0,
             1.0217883568060957,
             1.236686608085849,
             1.254553951806186,
             0
            ],
            "coloraxis": "coloraxis",
            "symbol": "circle"
           },
           "mode": "markers",
           "name": "",
           "scene": "scene",
           "showlegend": false,
           "type": "scatter3d",
           "x": [
            -0.36804054645879386,
            -0.49734486435509134,
            -0.4874086607400415,
            0,
            -0.4774724571249917,
            -0.46553119000017823,
            -0.21088812426022588,
            -1.778535890127021
           ],
           "y": [
            2.448984570825019,
            1.4582604121674805,
            0.7341205863747068,
            0,
            -0.6763747572935209,
            -1.4641864887630034,
            -2.456871153963422,
            -0.1293043178962976
           ],
           "z": [
            -0.584899304281426,
            -0.38394738363624964,
            0.31234433785425436,
            0,
            0.3819423201264862,
            -0.1850005265008365,
            -0.49538435781221113,
            -2.421091909555866
           ]
          },
          {
           "hoverlabel": {
            "namelength": 0
           },
           "hovertemplate": "<b>%{hovertext}</b><br><br>frame=20<br>x=%{x}<br>y=%{y}<br>z=%{z}",
           "hovertext": [
            "6",
            "5",
            "4",
            "3",
            "7",
            "8",
            "9",
            null
           ],
           "ids": [
            "6",
            "5",
            "4",
            "3",
            "7",
            "8",
            "9",
            null
           ],
           "legendgroup": "",
           "line": {
            "color": "#636efa",
            "dash": "solid"
           },
           "mode": "lines",
           "name": "",
           "scene": "scene",
           "showlegend": false,
           "type": "scatter3d",
           "x": [
            -0.36804054645879386,
            -0.49734486435509134,
            -0.4874086607400415,
            0,
            -0.4774724571249917,
            -0.46553119000017823,
            -0.21088812426022588,
            -1.778535890127021
           ],
           "y": [
            2.448984570825019,
            1.4582604121674805,
            0.7341205863747068,
            0,
            -0.6763747572935209,
            -1.4641864887630034,
            -2.456871153963422,
            -0.1293043178962976
           ],
           "z": [
            -0.584899304281426,
            -0.38394738363624964,
            0.31234433785425436,
            0,
            0.3819423201264862,
            -0.1850005265008365,
            -0.49538435781221113,
            -2.421091909555866
           ]
          }
         ],
         "name": "20"
        },
        {
         "data": [
          {
           "hoverlabel": {
            "namelength": 0
           },
           "hovertemplate": "<b>%{hovertext}</b><br><br>frame=21<br>x=%{x}<br>y=%{y}<br>z=%{z}<br>diff=%{marker.color}",
           "hovertext": [
            "6",
            "5",
            "4",
            "3",
            "7",
            "8",
            "9",
            null
           ],
           "ids": [
            "6",
            "5",
            "4",
            "3",
            "7",
            "8",
            "9",
            null
           ],
           "legendgroup": "",
           "marker": {
            "color": [
             1.304413197748968,
             1.2506774956873086,
             1.0039655700526426,
             0,
             1.0039655700526424,
             1.2506774956873086,
             1.304413197748968,
             0
            ],
            "coloraxis": "coloraxis",
            "symbol": "circle"
           },
           "mode": "markers",
           "name": "",
           "scene": "scene",
           "showlegend": false,
           "type": "scatter3d",
           "x": [
            -0.3879129536888925,
            -0.5013104344077339,
            -0.49930537089797034,
            0,
            -0.48540359723027793,
            -0.45755549292800846,
            -0.19493673011588625,
            -1.7745257631074938
           ],
           "y": [
            2.496705082357388,
            1.5000102901374426,
            0.7261448893025368,
            0,
            -0.648571209958135,
            -1.4841034529599864,
            -2.492739512304745,
            -0.12734381135341782
           ],
           "z": [
            -0.3998987777805896,
            -0.31434940136401784,
            0.3222805414693041,
            0,
            0.38991801719865615,
            -0.09152000997897838,
            -0.2844962335519849,
            -2.431072670137799
           ]
          },
          {
           "hoverlabel": {
            "namelength": 0
           },
           "hovertemplate": "<b>%{hovertext}</b><br><br>frame=21<br>x=%{x}<br>y=%{y}<br>z=%{z}",
           "hovertext": [
            "6",
            "5",
            "4",
            "3",
            "7",
            "8",
            "9",
            null
           ],
           "ids": [
            "6",
            "5",
            "4",
            "3",
            "7",
            "8",
            "9",
            null
           ],
           "legendgroup": "",
           "line": {
            "color": "#636efa",
            "dash": "solid"
           },
           "mode": "lines",
           "name": "",
           "scene": "scene",
           "showlegend": false,
           "type": "scatter3d",
           "x": [
            -0.3879129536888925,
            -0.5013104344077339,
            -0.49930537089797034,
            0,
            -0.48540359723027793,
            -0.45755549292800846,
            -0.19493673011588625,
            -1.7745257631074938
           ],
           "y": [
            2.496705082357388,
            1.5000102901374426,
            0.7261448893025368,
            0,
            -0.648571209958135,
            -1.4841034529599864,
            -2.492739512304745,
            -0.12734381135341782
           ],
           "z": [
            -0.3998987777805896,
            -0.31434940136401784,
            0.3222805414693041,
            0,
            0.38991801719865615,
            -0.09152000997897838,
            -0.2844962335519849,
            -2.431072670137799
           ]
          }
         ],
         "name": "21"
        },
        {
         "data": [
          {
           "hoverlabel": {
            "namelength": 0
           },
           "hovertemplate": "<b>%{hovertext}</b><br><br>frame=22<br>x=%{x}<br>y=%{y}<br>z=%{z}<br>diff=%{marker.color}",
           "hovertext": [
            "6",
            "5",
            "4",
            "3",
            "7",
            "8",
            "9",
            null
           ],
           "ids": [
            "6",
            "5",
            "4",
            "3",
            "7",
            "8",
            "9",
            null
           ],
           "legendgroup": "",
           "marker": {
            "color": [
             1.3679959894919096,
             1.2625742058452385,
             1.025843040792505,
             0,
             1.025843040792505,
             1.2625742058452385,
             1.3679959894919096,
             0
            ],
            "coloraxis": "coloraxis",
            "symbol": "circle"
           },
           "mode": "markers",
           "name": "",
           "scene": "scene",
           "showlegend": false,
           "type": "scatter3d",
           "x": [
            -0.40782991788587575,
            -0.5013104344077339,
            -0.5033154979174965,
            0,
            -0.4913742307926841,
            -0.445614225803195,
            -0.1830400199579564,
            -1.7725652565646137
           ],
           "y": [
            2.5146169830446077,
            1.5119515572622557,
            0.6982967850002674,
            0,
            -0.6365853858664381,
            -1.4920345930652728,
            -2.5285187567123004,
            -0.13728001496846756
           ],
           "z": [
            -0.2347261015429689,
            -0.24069673510537548,
            0.3322167450843539,
            0,
            0.4078299178858759,
            -0.013901773667692923,
            -0.10542178364667132,
            -2.4390038102430855
           ]
          },
          {
           "hoverlabel": {
            "namelength": 0
           },
           "hovertemplate": "<b>%{hovertext}</b><br><br>frame=22<br>x=%{x}<br>y=%{y}<br>z=%{z}",
           "hovertext": [
            "6",
            "5",
            "4",
            "3",
            "7",
            "8",
            "9",
            null
           ],
           "ids": [
            "6",
            "5",
            "4",
            "3",
            "7",
            "8",
            "9",
            null
           ],
           "legendgroup": "",
           "line": {
            "color": "#636efa",
            "dash": "solid"
           },
           "mode": "lines",
           "name": "",
           "scene": "scene",
           "showlegend": false,
           "type": "scatter3d",
           "x": [
            -0.40782991788587575,
            -0.5013104344077339,
            -0.5033154979174965,
            0,
            -0.4913742307926841,
            -0.445614225803195,
            -0.1830400199579564,
            -1.7725652565646137
           ],
           "y": [
            2.5146169830446077,
            1.5119515572622557,
            0.6982967850002674,
            0,
            -0.6365853858664381,
            -1.4920345930652728,
            -2.5285187567123004,
            -0.13728001496846756
           ],
           "z": [
            -0.2347261015429689,
            -0.24069673510537548,
            0.3322167450843539,
            0,
            0.4078299178858759,
            -0.013901773667692923,
            -0.10542178364667132,
            -2.4390038102430855
           ]
          }
         ],
         "name": "22"
        },
        {
         "data": [
          {
           "hoverlabel": {
            "namelength": 0
           },
           "hovertemplate": "<b>%{hovertext}</b><br><br>frame=23<br>x=%{x}<br>y=%{y}<br>z=%{z}<br>diff=%{marker.color}",
           "hovertext": [
            "6",
            "5",
            "4",
            "3",
            "7",
            "8",
            "9",
            null
           ],
           "ids": [
            "6",
            "5",
            "4",
            "3",
            "7",
            "8",
            "9",
            null
           ],
           "legendgroup": "",
           "marker": {
            "color": [
             1.4138005514482823,
             1.2765650934466986,
             1.03582380137444,
             0,
             1.03582380137444,
             1.276565093446698,
             1.4138005514482823,
             0
            ],
            "coloraxis": "coloraxis",
            "symbol": "circle"
           },
           "mode": "markers",
           "name": "",
           "scene": "scene",
           "showlegend": false,
           "type": "scatter3d",
           "x": [
            -0.4515848593656012,
            -0.5112911949896674,
            -0.5192223350949535,
            0,
            -0.5053205614272601,
            -0.4376830856979088,
            -0.1830400199579564,
            -1.7745703200743774
           ],
           "y": [
            2.522548123149894,
            1.5218877608773056,
            0.6704041237311142,
            0,
            -0.6187180421461023,
            -1.4940396565750362,
            -2.534489390274707,
            -0.14525571204063753
           ],
           "z": [
            -0.047765068499252605,
            -0.1492212820932807,
            0.3461630757189304,
            0,
            0.4197711850106891,
            0.08158380636392863,
            0.0855493764165718,
            -2.4449744438054917
           ]
          },
          {
           "hoverlabel": {
            "namelength": 0
           },
           "hovertemplate": "<b>%{hovertext}</b><br><br>frame=23<br>x=%{x}<br>y=%{y}<br>z=%{z}",
           "hovertext": [
            "6",
            "5",
            "4",
            "3",
            "7",
            "8",
            "9",
            null
           ],
           "ids": [
            "6",
            "5",
            "4",
            "3",
            "7",
            "8",
            "9",
            null
           ],
           "legendgroup": "",
           "line": {
            "color": "#636efa",
            "dash": "solid"
           },
           "mode": "lines",
           "name": "",
           "scene": "scene",
           "showlegend": false,
           "type": "scatter3d",
           "x": [
            -0.4515848593656012,
            -0.5112911949896674,
            -0.5192223350949535,
            0,
            -0.5053205614272601,
            -0.4376830856979088,
            -0.1830400199579564,
            -1.7745703200743774
           ],
           "y": [
            2.522548123149894,
            1.5218877608773056,
            0.6704041237311142,
            0,
            -0.6187180421461023,
            -1.4940396565750362,
            -2.534489390274707,
            -0.14525571204063753
           ],
           "z": [
            -0.047765068499252605,
            -0.1492212820932807,
            0.3461630757189304,
            0,
            0.4197711850106891,
            0.08158380636392863,
            0.0855493764165718,
            -2.4449744438054917
           ]
          }
         ],
         "name": "23"
        },
        {
         "data": [
          {
           "hoverlabel": {
            "namelength": 0
           },
           "hovertemplate": "<b>%{hovertext}</b><br><br>frame=24<br>x=%{x}<br>y=%{y}<br>z=%{z}<br>diff=%{marker.color}",
           "hovertext": [
            "6",
            "5",
            "4",
            "3",
            "7",
            "8",
            "9",
            null
           ],
           "ids": [
            "6",
            "5",
            "4",
            "3",
            "7",
            "8",
            "9",
            null
           ],
           "legendgroup": "",
           "marker": {
            "color": [
             1.4177661215009247,
             1.252682559197072,
             1.019916964196983,
             0,
             1.019916964196983,
             1.252682559197072,
             1.4177661215009247,
             0
            ],
            "coloraxis": "coloraxis",
            "symbol": "circle"
           },
           "mode": "markers",
           "name": "",
           "scene": "scene",
           "showlegend": false,
           "type": "scatter3d",
           "x": [
            -0.49533980084532775,
            -0.531163602219767,
            -0.531163602219767,
            0,
            -0.5211828416378336,
            -0.4495797958558386,
            -0.19890230016852986,
            -1.7705601930548511
           ],
           "y": [
            2.5126119195348444,
            1.5258533309299487,
            0.6465661464483717,
            0,
            -0.598801077949119,
            -1.4940396565750362,
            -2.53845496032735,
            -0.1492212820932807
           ],
           "z": [
            0.14521115507375393,
            -0.045760004989489206,
            0.35805978587685994,
            0,
            0.41576105799116225,
            0.15715242219856704,
            0.24069673510537545,
            -2.458920774440068
           ]
          },
          {
           "hoverlabel": {
            "namelength": 0
           },
           "hovertemplate": "<b>%{hovertext}</b><br><br>frame=24<br>x=%{x}<br>y=%{y}<br>z=%{z}",
           "hovertext": [
            "6",
            "5",
            "4",
            "3",
            "7",
            "8",
            "9",
            null
           ],
           "ids": [
            "6",
            "5",
            "4",
            "3",
            "7",
            "8",
            "9",
            null
           ],
           "legendgroup": "",
           "line": {
            "color": "#636efa",
            "dash": "solid"
           },
           "mode": "lines",
           "name": "",
           "scene": "scene",
           "showlegend": false,
           "type": "scatter3d",
           "x": [
            -0.49533980084532775,
            -0.531163602219767,
            -0.531163602219767,
            0,
            -0.5211828416378336,
            -0.4495797958558386,
            -0.19890230016852986,
            -1.7705601930548511
           ],
           "y": [
            2.5126119195348444,
            1.5258533309299487,
            0.6465661464483717,
            0,
            -0.598801077949119,
            -1.4940396565750362,
            -2.53845496032735,
            -0.1492212820932807
           ],
           "z": [
            0.14521115507375393,
            -0.045760004989489206,
            0.35805978587685994,
            0,
            0.41576105799116225,
            0.15715242219856704,
            0.24069673510537545,
            -2.458920774440068
           ]
          }
         ],
         "name": "24"
        },
        {
         "data": [
          {
           "hoverlabel": {
            "namelength": 0
           },
           "hovertemplate": "<b>%{hovertext}</b><br><br>frame=25<br>x=%{x}<br>y=%{y}<br>z=%{z}<br>diff=%{marker.color}",
           "hovertext": [
            "6",
            "5",
            "4",
            "3",
            "7",
            "8",
            "9",
            null
           ],
           "ids": [
            "6",
            "5",
            "4",
            "3",
            "7",
            "8",
            "9",
            null
           ],
           "legendgroup": "",
           "marker": {
            "color": [
             1.38996257416554,
             1.2407412920722587,
             1.0219665846736297,
             0,
             1.0219665846736297,
             1.2407412920722583,
             1.38996257416554,
             0
            ],
            "coloraxis": "coloraxis",
            "symbol": "circle"
           },
           "mode": "markers",
           "name": "",
           "scene": "scene",
           "showlegend": false,
           "type": "scatter3d",
           "x": [
            -0.5192223350949546,
            -0.5431048693445805,
            -0.5490755029069867,
            0,
            -0.5371342357821742,
            -0.4535899228753658,
            -0.20491749069781967,
            -1.7606239894398015
           ],
           "y": [
            2.4926949553378615,
            1.5218877608773056,
            0.6186734851792185,
            0,
            -0.580933734228783,
            -1.4861085164697496,
            -2.520587616607014,
            -0.14525571204063753
           ],
           "z": [
            0.35213370928133697,
            0.04776506849925259,
            0.3740111800211999,
            0,
            0.4217762485204525,
            0.23477065850985251,
            0.3998987777805896,
            -2.466851914545355
           ]
          },
          {
           "hoverlabel": {
            "namelength": 0
           },
           "hovertemplate": "<b>%{hovertext}</b><br><br>frame=25<br>x=%{x}<br>y=%{y}<br>z=%{z}",
           "hovertext": [
            "6",
            "5",
            "4",
            "3",
            "7",
            "8",
            "9",
            null
           ],
           "ids": [
            "6",
            "5",
            "4",
            "3",
            "7",
            "8",
            "9",
            null
           ],
           "legendgroup": "",
           "line": {
            "color": "#636efa",
            "dash": "solid"
           },
           "mode": "lines",
           "name": "",
           "scene": "scene",
           "showlegend": false,
           "type": "scatter3d",
           "x": [
            -0.5192223350949546,
            -0.5431048693445805,
            -0.5490755029069867,
            0,
            -0.5371342357821742,
            -0.4535899228753658,
            -0.20491749069781967,
            -1.7606239894398015
           ],
           "y": [
            2.4926949553378615,
            1.5218877608773056,
            0.6186734851792185,
            0,
            -0.580933734228783,
            -1.4861085164697496,
            -2.520587616607014,
            -0.14525571204063753
           ],
           "z": [
            0.35213370928133697,
            0.04776506849925259,
            0.3740111800211999,
            0,
            0.4217762485204525,
            0.23477065850985251,
            0.3998987777805896,
            -2.466851914545355
           ]
          }
         ],
         "name": "25"
        },
        {
         "data": [
          {
           "hoverlabel": {
            "namelength": 0
           },
           "hovertemplate": "<b>%{hovertext}</b><br><br>frame=26<br>x=%{x}<br>y=%{y}<br>z=%{z}<br>diff=%{marker.color}",
           "hovertext": [
            "6",
            "5",
            "4",
            "3",
            "7",
            "8",
            "9",
            null
           ],
           "ids": [
            "6",
            "5",
            "4",
            "3",
            "7",
            "8",
            "9",
            null
           ],
           "legendgroup": "",
           "marker": {
            "color": [
             1.387957510655776,
             1.2108881242602263,
             1.0179564576541034,
             0,
             1.0179564576541034,
             1.210888124260226,
             1.387957510655776,
             0
            ],
            "coloraxis": "coloraxis",
            "symbol": "circle"
           },
           "mode": "markers",
           "name": "",
           "scene": "scene",
           "showlegend": false,
           "type": "scatter3d",
           "x": [
            -0.5331686657295306,
            -0.5391392992919368,
            -0.5550461364693928,
            0,
            -0.547070439397223,
            -0.4535899228753648,
            -0.2068779972406997,
            -1.7506877858247516
           ],
           "y": [
            2.454910647420542,
            1.503975860190086,
            0.5967960144393556,
            0,
            -0.5689924671039698,
            -1.46819661578253,
            -2.4947000188476243,
            -0.14525571204063753
           ],
           "z": [
            0.5331686657295304,
            0.14325064853087413,
            0.38595244714601307,
            0,
            0.4237367550633323,
            0.3043686407820844,
            0.5550461364693933,
            -2.4728225481077613
           ]
          },
          {
           "hoverlabel": {
            "namelength": 0
           },
           "hovertemplate": "<b>%{hovertext}</b><br><br>frame=26<br>x=%{x}<br>y=%{y}<br>z=%{z}",
           "hovertext": [
            "6",
            "5",
            "4",
            "3",
            "7",
            "8",
            "9",
            null
           ],
           "ids": [
            "6",
            "5",
            "4",
            "3",
            "7",
            "8",
            "9",
            null
           ],
           "legendgroup": "",
           "line": {
            "color": "#636efa",
            "dash": "solid"
           },
           "mode": "lines",
           "name": "",
           "scene": "scene",
           "showlegend": false,
           "type": "scatter3d",
           "x": [
            -0.5331686657295306,
            -0.5391392992919368,
            -0.5550461364693928,
            0,
            -0.547070439397223,
            -0.4535899228753648,
            -0.2068779972406997,
            -1.7506877858247516
           ],
           "y": [
            2.454910647420542,
            1.503975860190086,
            0.5967960144393556,
            0,
            -0.5689924671039698,
            -1.46819661578253,
            -2.4947000188476243,
            -0.14525571204063753
           ],
           "z": [
            0.5331686657295304,
            0.14325064853087413,
            0.38595244714601307,
            0,
            0.4237367550633323,
            0.3043686407820844,
            0.5550461364693933,
            -2.4728225481077613
           ]
          }
         ],
         "name": "26"
        },
        {
         "data": [
          {
           "hoverlabel": {
            "namelength": 0
           },
           "hovertemplate": "<b>%{hovertext}</b><br><br>frame=27<br>x=%{x}<br>y=%{y}<br>z=%{z}<br>diff=%{marker.color}",
           "hovertext": [
            "6",
            "5",
            "4",
            "3",
            "7",
            "8",
            "9",
            null
           ],
           "ids": [
            "6",
            "5",
            "4",
            "3",
            "7",
            "8",
            "9",
            null
           ],
           "legendgroup": "",
           "marker": {
            "color": [
             1.4058248543761125,
             1.1909711600632436,
             1.0060151905292898,
             0,
             1.0060151905292898,
             1.1909711600632433,
             1.4058248543761125,
             0
            ],
            "coloraxis": "coloraxis",
            "symbol": "circle"
           },
           "mode": "markers",
           "name": "",
           "scene": "scene",
           "showlegend": false,
           "type": "scatter3d",
           "x": [
            -0.5510360094498666,
            -0.5510360094498666,
            -0.5629772765746791,
            0,
            -0.5590117065220365,
            -0.46352612649041464,
            -0.2188192643655121,
            -1.748682722314988
           ],
           "y": [
            2.4151212759934597,
            1.4960001631179158,
            0.5788841137521359,
            0,
            -0.547114996364107,
            -1.448279651585547,
            -2.4549106474205415,
            -0.13928507847823096
           ],
           "z": [
            0.6704486806979979,
            0.2188638213323962,
            0.3879575106557764,
            0,
            0.4217762485204525,
            0.3700456099685567,
            0.7042674185626739,
            -2.480753688213048
           ]
          },
          {
           "hoverlabel": {
            "namelength": 0
           },
           "hovertemplate": "<b>%{hovertext}</b><br><br>frame=27<br>x=%{x}<br>y=%{y}<br>z=%{z}",
           "hovertext": [
            "6",
            "5",
            "4",
            "3",
            "7",
            "8",
            "9",
            null
           ],
           "ids": [
            "6",
            "5",
            "4",
            "3",
            "7",
            "8",
            "9",
            null
           ],
           "legendgroup": "",
           "line": {
            "color": "#636efa",
            "dash": "solid"
           },
           "mode": "lines",
           "name": "",
           "scene": "scene",
           "showlegend": false,
           "type": "scatter3d",
           "x": [
            -0.5510360094498666,
            -0.5510360094498666,
            -0.5629772765746791,
            0,
            -0.5590117065220365,
            -0.46352612649041464,
            -0.2188192643655121,
            -1.748682722314988
           ],
           "y": [
            2.4151212759934597,
            1.4960001631179158,
            0.5788841137521359,
            0,
            -0.547114996364107,
            -1.448279651585547,
            -2.4549106474205415,
            -0.13928507847823096
           ],
           "z": [
            0.6704486806979979,
            0.2188638213323962,
            0.3879575106557764,
            0,
            0.4217762485204525,
            0.3700456099685567,
            0.7042674185626739,
            -2.480753688213048
           ]
          }
         ],
         "name": "27"
        },
        {
         "data": [
          {
           "hoverlabel": {
            "namelength": 0
           },
           "hovertemplate": "<b>%{hovertext}</b><br><br>frame=28<br>x=%{x}<br>y=%{y}<br>z=%{z}<br>diff=%{marker.color}",
           "hovertext": [
            "6",
            "5",
            "4",
            "3",
            "7",
            "8",
            "9",
            null
           ],
           "ids": [
            "6",
            "5",
            "4",
            "3",
            "7",
            "8",
            "9",
            null
           ],
           "legendgroup": "",
           "marker": {
            "color": [
             1.4138451084151646,
             1.1751088798526708,
             0.997994936490237,
             0,
             0.9979949364902369,
             1.1751088798526708,
             1.4138451084151646,
             0
            ],
            "coloraxis": "coloraxis",
            "symbol": "circle"
           },
           "mode": "markers",
           "name": "",
           "scene": "scene",
           "showlegend": false,
           "type": "scatter3d",
           "x": [
            -0.5570066430122729,
            -0.5550461364693938,
            -0.5729134801897299,
            0,
            -0.5689479101370863,
            -0.4654866330332947,
            -0.22875546798056293,
            -1.7427120887525818
           ],
           "y": [
            2.3554149403693936,
            1.4800933259404596,
            0.5590117065220365,
            0,
            -0.5351737292392938,
            -1.430367750898327,
            -2.409195199397936,
            -0.13928507847823096
           ],
           "z": [
            0.8295616094394448,
            0.310339274344491,
            0.40185928432346935,
            0,
            0.4197266280438054,
            0.4456142258031951,
            0.8613752837943573,
            -2.484763815232575
           ]
          },
          {
           "hoverlabel": {
            "namelength": 0
           },
           "hovertemplate": "<b>%{hovertext}</b><br><br>frame=28<br>x=%{x}<br>y=%{y}<br>z=%{z}",
           "hovertext": [
            "6",
            "5",
            "4",
            "3",
            "7",
            "8",
            "9",
            null
           ],
           "ids": [
            "6",
            "5",
            "4",
            "3",
            "7",
            "8",
            "9",
            null
           ],
           "legendgroup": "",
           "line": {
            "color": "#636efa",
            "dash": "solid"
           },
           "mode": "lines",
           "name": "",
           "scene": "scene",
           "showlegend": false,
           "type": "scatter3d",
           "x": [
            -0.5570066430122729,
            -0.5550461364693938,
            -0.5729134801897299,
            0,
            -0.5689479101370863,
            -0.4654866330332947,
            -0.22875546798056293,
            -1.7427120887525818
           ],
           "y": [
            2.3554149403693936,
            1.4800933259404596,
            0.5590117065220365,
            0,
            -0.5351737292392938,
            -1.430367750898327,
            -2.409195199397936,
            -0.13928507847823096
           ],
           "z": [
            0.8295616094394448,
            0.310339274344491,
            0.40185928432346935,
            0,
            0.4197266280438054,
            0.4456142258031951,
            0.8613752837943573,
            -2.484763815232575
           ]
          }
         ],
         "name": "28"
        },
        {
         "data": [
          {
           "hoverlabel": {
            "namelength": 0
           },
           "hovertemplate": "<b>%{hovertext}</b><br><br>frame=29<br>x=%{x}<br>y=%{y}<br>z=%{z}<br>diff=%{marker.color}",
           "hovertext": [
            "6",
            "5",
            "4",
            "3",
            "7",
            "8",
            "9",
            null
           ],
           "ids": [
            "6",
            "5",
            "4",
            "3",
            "7",
            "8",
            "9",
            null
           ],
           "legendgroup": "",
           "marker": {
            "color": [
             1.4277023251159755,
             1.192931666606123,
             0.9979949364902359,
             0,
             0.9979949364902359,
             1.1929316666061227,
             1.4277023251159755,
             0
            ],
            "coloraxis": "coloraxis",
            "symbol": "circle"
           },
           "mode": "markers",
           "name": "",
           "scene": "scene",
           "showlegend": false,
           "type": "scatter3d",
           "x": [
            -0.5510805664167503,
            -0.5510805664167503,
            -0.5868598108243059,
            0,
            -0.5749631006663771,
            -0.44962435282272223,
            -0.20095192064517706,
            -1.7347809486472956
           ],
           "y": [
            2.2858169580971617,
            1.4562553486577168,
            0.5431048693445801,
            0,
            -0.517261828552074,
            -1.406485216648701,
            -2.3355425331392943,
            -0.13728001496846756
           ],
           "z": [
            0.9966947922199452,
            0.38595244714601307,
            0.4078299178858759,
            0,
            0.4197711850106891,
            0.5271980321671238,
            1.0245428965222148,
            -2.4967050823573875
           ]
          },
          {
           "hoverlabel": {
            "namelength": 0
           },
           "hovertemplate": "<b>%{hovertext}</b><br><br>frame=29<br>x=%{x}<br>y=%{y}<br>z=%{z}",
           "hovertext": [
            "6",
            "5",
            "4",
            "3",
            "7",
            "8",
            "9",
            null
           ],
           "ids": [
            "6",
            "5",
            "4",
            "3",
            "7",
            "8",
            "9",
            null
           ],
           "legendgroup": "",
           "line": {
            "color": "#636efa",
            "dash": "solid"
           },
           "mode": "lines",
           "name": "",
           "scene": "scene",
           "showlegend": false,
           "type": "scatter3d",
           "x": [
            -0.5510805664167503,
            -0.5510805664167503,
            -0.5868598108243059,
            0,
            -0.5749631006663771,
            -0.44962435282272223,
            -0.20095192064517706,
            -1.7347809486472956
           ],
           "y": [
            2.2858169580971617,
            1.4562553486577168,
            0.5431048693445801,
            0,
            -0.517261828552074,
            -1.406485216648701,
            -2.3355425331392943,
            -0.13728001496846756
           ],
           "z": [
            0.9966947922199452,
            0.38595244714601307,
            0.4078299178858759,
            0,
            0.4197711850106891,
            0.5271980321671238,
            1.0245428965222148,
            -2.4967050823573875
           ]
          }
         ],
         "name": "29"
        },
        {
         "data": [
          {
           "hoverlabel": {
            "namelength": 0
           },
           "hovertemplate": "<b>%{hovertext}</b><br><br>frame=30<br>x=%{x}<br>y=%{y}<br>z=%{z}<br>diff=%{marker.color}",
           "hovertext": [
            "6",
            "5",
            "4",
            "3",
            "7",
            "8",
            "9",
            null
           ],
           "ids": [
            "6",
            "5",
            "4",
            "3",
            "7",
            "8",
            "9",
            null
           ],
           "legendgroup": "",
           "marker": {
            "color": [
             1.4575554929280086,
             1.1809903994813105,
             1.015906837177457,
             0,
             1.015906837177457,
             1.1809903994813105,
             1.4575554929280086,
             0
            ],
            "coloraxis": "coloraxis",
            "symbol": "circle"
           },
           "mode": "markers",
           "name": "",
           "scene": "scene",
           "showlegend": false,
           "type": "scatter3d",
           "x": [
            -0.5371787927490578,
            -0.5351737292392942,
            -0.5928750013535967,
            0,
            -0.5789286707190198,
            -0.4178106784678091,
            -0.16713318278050038,
            -1.7248447450322457
           ],
           "y": [
            2.196302011627947,
            1.4204315472832776,
            0.5212273986047171,
            0,
            -0.5172172715851904,
            -1.3666958452216185,
            -2.2519982202324855,
            -0.14124558502111073
           ],
           "z": [
            1.1518867078756325,
            0.483443090687398,
            0.41380055144828254,
            0,
            0.4197711850106891,
            0.6008061414588824,
            1.183700382230545,
            -2.5026311589529113
           ]
          },
          {
           "hoverlabel": {
            "namelength": 0
           },
           "hovertemplate": "<b>%{hovertext}</b><br><br>frame=30<br>x=%{x}<br>y=%{y}<br>z=%{z}",
           "hovertext": [
            "6",
            "5",
            "4",
            "3",
            "7",
            "8",
            "9",
            null
           ],
           "ids": [
            "6",
            "5",
            "4",
            "3",
            "7",
            "8",
            "9",
            null
           ],
           "legendgroup": "",
           "line": {
            "color": "#636efa",
            "dash": "solid"
           },
           "mode": "lines",
           "name": "",
           "scene": "scene",
           "showlegend": false,
           "type": "scatter3d",
           "x": [
            -0.5371787927490578,
            -0.5351737292392942,
            -0.5928750013535967,
            0,
            -0.5789286707190198,
            -0.4178106784678091,
            -0.16713318278050038,
            -1.7248447450322457
           ],
           "y": [
            2.196302011627947,
            1.4204315472832776,
            0.5212273986047171,
            0,
            -0.5172172715851904,
            -1.3666958452216185,
            -2.2519982202324855,
            -0.14124558502111073
           ],
           "z": [
            1.1518867078756325,
            0.483443090687398,
            0.41380055144828254,
            0,
            0.4197711850106891,
            0.6008061414588824,
            1.183700382230545,
            -2.5026311589529113
           ]
          }
         ],
         "name": "30"
        },
        {
         "data": [
          {
           "hoverlabel": {
            "namelength": 0
           },
           "hovertemplate": "<b>%{hovertext}</b><br><br>frame=31<br>x=%{x}<br>y=%{y}<br>z=%{z}<br>diff=%{marker.color}",
           "hovertext": [
            "6",
            "5",
            "4",
            "3",
            "7",
            "8",
            "9",
            null
           ],
           "ids": [
            "6",
            "5",
            "4",
            "3",
            "7",
            "8",
            "9",
            null
           ],
           "legendgroup": "",
           "marker": {
            "color": [
             1.4914187877595677,
             1.1969863505925333,
             1.0278481043022691,
             0,
             1.0278481043022691,
             1.1969863505925333,
             1.4914187877595677,
             0
            ],
            "coloraxis": "coloraxis",
            "symbol": "circle"
           },
           "mode": "markers",
           "name": "",
           "scene": "scene",
           "showlegend": false,
           "type": "scatter3d",
           "x": [
            -0.5192668920618372,
            -0.5192668920618372,
            -0.6028112049686456,
            0,
            -0.5869043677911895,
            -0.39789371427082587,
            -0.1313093814060611,
            -1.7188741114698385
           ],
           "y": [
            2.102776938139205,
            1.384607745908838,
            0.5053205614272609,
            0,
            -0.5112911949896675,
            -1.328911537304299,
            -2.144571373076051,
            -0.14325064853087413
           ],
           "z": [
            1.2950927994396229,
            0.5510805664167501,
            0.4098349813956393,
            0,
            0.41580561495804585,
            0.6823899478228111,
            1.3567596416065686,
            -2.510606856025081
           ]
          },
          {
           "hoverlabel": {
            "namelength": 0
           },
           "hovertemplate": "<b>%{hovertext}</b><br><br>frame=31<br>x=%{x}<br>y=%{y}<br>z=%{z}",
           "hovertext": [
            "6",
            "5",
            "4",
            "3",
            "7",
            "8",
            "9",
            null
           ],
           "ids": [
            "6",
            "5",
            "4",
            "3",
            "7",
            "8",
            "9",
            null
           ],
           "legendgroup": "",
           "line": {
            "color": "#636efa",
            "dash": "solid"
           },
           "mode": "lines",
           "name": "",
           "scene": "scene",
           "showlegend": false,
           "type": "scatter3d",
           "x": [
            -0.5192668920618372,
            -0.5192668920618372,
            -0.6028112049686456,
            0,
            -0.5869043677911895,
            -0.39789371427082587,
            -0.1313093814060611,
            -1.7188741114698385
           ],
           "y": [
            2.102776938139205,
            1.384607745908838,
            0.5053205614272609,
            0,
            -0.5112911949896675,
            -1.328911537304299,
            -2.144571373076051,
            -0.14325064853087413
           ],
           "z": [
            1.2950927994396229,
            0.5510805664167501,
            0.4098349813956393,
            0,
            0.41580561495804585,
            0.6823899478228111,
            1.3567596416065686,
            -2.510606856025081
           ]
          }
         ],
         "name": "31"
        },
        {
         "data": [
          {
           "hoverlabel": {
            "namelength": 0
           },
           "hovertemplate": "<b>%{hovertext}</b><br><br>frame=32<br>x=%{x}<br>y=%{y}<br>z=%{z}<br>diff=%{marker.color}",
           "hovertext": [
            "6",
            "5",
            "4",
            "3",
            "7",
            "8",
            "9",
            null
           ],
           "ids": [
            "6",
            "5",
            "4",
            "3",
            "7",
            "8",
            "9",
            null
           ],
           "legendgroup": "",
           "marker": {
            "color": [
             1.4873641037731575,
             1.1670886258136166,
             1.0298086108451492,
             0,
             1.0298086108451492,
             1.1670886258136166,
             1.4873641037731575,
             0
            ],
            "coloraxis": "coloraxis",
            "symbol": "circle"
           },
           "mode": "markers",
           "name": "",
           "scene": "scene",
           "showlegend": false,
           "type": "scatter3d",
           "x": [
            -0.4814380271776343,
            -0.4913742307926841,
            -0.6087372815641682,
            0,
            -0.5908699378438321,
            -0.38194232012648627,
            -0.10346127710379163,
            -1.7088933508879052
           ],
           "y": [
            2.0073359150744667,
            1.3547991350636888,
            0.4933792943024477,
            0,
            -0.5013104344077342,
            -1.2751758352426399,
            -2.0371445259196164,
            -0.14124558502111073
           ],
           "z": [
            1.4124558502111075,
            0.6147079151265753,
            0.4078299178858759,
            0,
            0.40381979086634917,
            0.7519879300950428,
            1.4920345930652728,
            -2.520587616607014
           ]
          },
          {
           "hoverlabel": {
            "namelength": 0
           },
           "hovertemplate": "<b>%{hovertext}</b><br><br>frame=32<br>x=%{x}<br>y=%{y}<br>z=%{z}",
           "hovertext": [
            "6",
            "5",
            "4",
            "3",
            "7",
            "8",
            "9",
            null
           ],
           "ids": [
            "6",
            "5",
            "4",
            "3",
            "7",
            "8",
            "9",
            null
           ],
           "legendgroup": "",
           "line": {
            "color": "#636efa",
            "dash": "solid"
           },
           "mode": "lines",
           "name": "",
           "scene": "scene",
           "showlegend": false,
           "type": "scatter3d",
           "x": [
            -0.4814380271776343,
            -0.4913742307926841,
            -0.6087372815641682,
            0,
            -0.5908699378438321,
            -0.38194232012648627,
            -0.10346127710379163,
            -1.7088933508879052
           ],
           "y": [
            2.0073359150744667,
            1.3547991350636888,
            0.4933792943024477,
            0,
            -0.5013104344077342,
            -1.2751758352426399,
            -2.0371445259196164,
            -0.14124558502111073
           ],
           "z": [
            1.4124558502111075,
            0.6147079151265753,
            0.4078299178858759,
            0,
            0.40381979086634917,
            0.7519879300950428,
            1.4920345930652728,
            -2.520587616607014
           ]
          }
         ],
         "name": "32"
        },
        {
         "data": [
          {
           "hoverlabel": {
            "namelength": 0
           },
           "hovertemplate": "<b>%{hovertext}</b><br><br>frame=33<br>x=%{x}<br>y=%{y}<br>z=%{z}<br>diff=%{marker.color}",
           "hovertext": [
            "6",
            "5",
            "4",
            "3",
            "7",
            "8",
            "9",
            null
           ],
           "ids": [
            "6",
            "5",
            "4",
            "3",
            "7",
            "8",
            "9",
            null
           ],
           "legendgroup": "",
           "marker": {
            "color": [
             1.4476192893129582,
             1.1272992543865339,
             1.0298531678120328,
             0,
             1.0298531678120328,
             1.1272992543865339,
             1.4476192893129585,
             0
            ],
            "coloraxis": "coloraxis",
            "symbol": "circle"
           },
           "mode": "markers",
           "name": "",
           "scene": "scene",
           "showlegend": false,
           "type": "scatter3d",
           "x": [
            -0.43567802218814516,
            -0.45755549292800846,
            -0.616712978636339,
            0,
            -0.5988010779491194,
            -0.3660354829490302,
            -0.08354431290680839,
            -1.7009176538157353
           ],
           "y": [
            1.876026533668406,
            1.3070340665644362,
            0.48540359723027776,
            0,
            -0.49137423079268433,
            -1.205577852970408,
            -1.881952610263929,
            -0.14325064853087413
           ],
           "z": [
            1.5516963717224548,
            0.6843504543656908,
            0.4058248543761125,
            0,
            0.3998542208137059,
            0.8215859123672747,
            1.6412558751585533,
            -2.526558250169421
           ]
          },
          {
           "hoverlabel": {
            "namelength": 0
           },
           "hovertemplate": "<b>%{hovertext}</b><br><br>frame=33<br>x=%{x}<br>y=%{y}<br>z=%{z}",
           "hovertext": [
            "6",
            "5",
            "4",
            "3",
            "7",
            "8",
            "9",
            null
           ],
           "ids": [
            "6",
            "5",
            "4",
            "3",
            "7",
            "8",
            "9",
            null
           ],
           "legendgroup": "",
           "line": {
            "color": "#636efa",
            "dash": "solid"
           },
           "mode": "lines",
           "name": "",
           "scene": "scene",
           "showlegend": false,
           "type": "scatter3d",
           "x": [
            -0.43567802218814516,
            -0.45755549292800846,
            -0.616712978636339,
            0,
            -0.5988010779491194,
            -0.3660354829490302,
            -0.08354431290680839,
            -1.7009176538157353
           ],
           "y": [
            1.876026533668406,
            1.3070340665644362,
            0.48540359723027776,
            0,
            -0.49137423079268433,
            -1.205577852970408,
            -1.881952610263929,
            -0.14325064853087413
           ],
           "z": [
            1.5516963717224548,
            0.6843504543656908,
            0.4058248543761125,
            0,
            0.3998542208137059,
            0.8215859123672747,
            1.6412558751585533,
            -2.526558250169421
           ]
          }
         ],
         "name": "33"
        },
        {
         "data": [
          {
           "hoverlabel": {
            "namelength": 0
           },
           "hovertemplate": "<b>%{hovertext}</b><br><br>frame=34<br>x=%{x}<br>y=%{y}<br>z=%{z}<br>diff=%{marker.color}",
           "hovertext": [
            "6",
            "5",
            "4",
            "3",
            "7",
            "8",
            "9",
            null
           ],
           "ids": [
            "6",
            "5",
            "4",
            "3",
            "7",
            "8",
            "9",
            null
           ],
           "legendgroup": "",
           "marker": {
            "color": [
             1.411840044905402,
             1.0855493764165716,
             1.0059706335624061,
             0,
             1.0059706335624061,
             1.0855493764165716,
             1.411840044905402,
             0
            ],
            "coloraxis": "coloraxis",
            "symbol": "circle"
           },
           "mode": "markers",
           "name": "",
           "scene": "scene",
           "showlegend": false,
           "type": "scatter3d",
           "x": [
            -0.38795751065577605,
            -0.42177624852045276,
            -0.6206785486889816,
            0,
            -0.6067767750212891,
            -0.35810434284374404,
            -0.05970633562406614,
            -1.692986513710449
           ],
           "y": [
            1.7327313281706482,
            1.2553034280125406,
            0.48143802717763456,
            0,
            -0.4715018235625848,
            -1.1379403772410561,
            -1.7168690479600754,
            -0.14525571204063753
           ],
           "z": [
            1.6790401830758725,
            0.751987930095043,
            0.40185928432346935,
            0,
            0.3998542208137059,
            0.8912284516063903,
            1.7784913331601375,
            -2.5325288837318274
           ]
          },
          {
           "hoverlabel": {
            "namelength": 0
           },
           "hovertemplate": "<b>%{hovertext}</b><br><br>frame=34<br>x=%{x}<br>y=%{y}<br>z=%{z}",
           "hovertext": [
            "6",
            "5",
            "4",
            "3",
            "7",
            "8",
            "9",
            null
           ],
           "ids": [
            "6",
            "5",
            "4",
            "3",
            "7",
            "8",
            "9",
            null
           ],
           "legendgroup": "",
           "line": {
            "color": "#636efa",
            "dash": "solid"
           },
           "mode": "lines",
           "name": "",
           "scene": "scene",
           "showlegend": false,
           "type": "scatter3d",
           "x": [
            -0.38795751065577605,
            -0.42177624852045276,
            -0.6206785486889816,
            0,
            -0.6067767750212891,
            -0.35810434284374404,
            -0.05970633562406614,
            -1.692986513710449
           ],
           "y": [
            1.7327313281706482,
            1.2553034280125406,
            0.48143802717763456,
            0,
            -0.4715018235625848,
            -1.1379403772410561,
            -1.7168690479600754,
            -0.14525571204063753
           ],
           "z": [
            1.6790401830758725,
            0.751987930095043,
            0.40185928432346935,
            0,
            0.3998542208137059,
            0.8912284516063903,
            1.7784913331601375,
            -2.5325288837318274
           ]
          }
         ],
         "name": "34"
        },
        {
         "data": [
          {
           "hoverlabel": {
            "namelength": 0
           },
           "hovertemplate": "<b>%{hovertext}</b><br><br>frame=35<br>x=%{x}<br>y=%{y}<br>z=%{z}<br>diff=%{marker.color}",
           "hovertext": [
            "6",
            "5",
            "4",
            "3",
            "7",
            "8",
            "9",
            null
           ],
           "ids": [
            "6",
            "5",
            "4",
            "3",
            "7",
            "8",
            "9",
            null
           ],
           "legendgroup": "",
           "marker": {
            "color": [
             1.3799818135836066,
             1.0517306385518959,
             1.007931140105286,
             0,
             1.007931140105286,
             1.0517306385518959,
             1.3799818135836066,
             0
            ],
            "coloraxis": "coloraxis",
            "symbol": "circle"
           },
           "mode": "markers",
           "name": "",
           "scene": "scene",
           "showlegend": false,
           "type": "scatter3d",
           "x": [
            -0.33622687210387975,
            -0.3919230807084187,
            -0.6266491822513878,
            0,
            -0.6127474085836954,
            -0.34816813922869316,
            -0.04776506849925169,
            -1.6870158801480417
           ],
           "y": [
            1.5656427023570314,
            1.1836558252636613,
            0.4734623301054646,
            0,
            -0.4655311900001783,
            -1.0703029015117038,
            -1.5676477658667949,
            -0.15122634560304413
           ],
           "z": [
            1.7864670302323074,
            0.8216304693341584,
            0.39388358725129935,
            0,
            0.3919230807084196,
            0.942959090158286,
            1.8759819767015224,
            -2.5364944537844702
           ]
          },
          {
           "hoverlabel": {
            "namelength": 0
           },
           "hovertemplate": "<b>%{hovertext}</b><br><br>frame=35<br>x=%{x}<br>y=%{y}<br>z=%{z}",
           "hovertext": [
            "6",
            "5",
            "4",
            "3",
            "7",
            "8",
            "9",
            null
           ],
           "ids": [
            "6",
            "5",
            "4",
            "3",
            "7",
            "8",
            "9",
            null
           ],
           "legendgroup": "",
           "line": {
            "color": "#636efa",
            "dash": "solid"
           },
           "mode": "lines",
           "name": "",
           "scene": "scene",
           "showlegend": false,
           "type": "scatter3d",
           "x": [
            -0.33622687210387975,
            -0.3919230807084187,
            -0.6266491822513878,
            0,
            -0.6127474085836954,
            -0.34816813922869316,
            -0.04776506849925169,
            -1.6870158801480417
           ],
           "y": [
            1.5656427023570314,
            1.1836558252636613,
            0.4734623301054646,
            0,
            -0.4655311900001783,
            -1.0703029015117038,
            -1.5676477658667949,
            -0.15122634560304413
           ],
           "z": [
            1.7864670302323074,
            0.8216304693341584,
            0.39388358725129935,
            0,
            0.3919230807084196,
            0.942959090158286,
            1.8759819767015224,
            -2.5364944537844702
           ]
          }
         ],
         "name": "35"
        },
        {
         "data": [
          {
           "hoverlabel": {
            "namelength": 0
           },
           "hovertemplate": "<b>%{hovertext}</b><br><br>frame=36<br>x=%{x}<br>y=%{y}<br>z=%{z}<br>diff=%{marker.color}",
           "hovertext": [
            "6",
            "5",
            "4",
            "3",
            "7",
            "8",
            "9",
            null
           ],
           "ids": [
            "6",
            "5",
            "4",
            "3",
            "7",
            "8",
            "9",
            null
           ],
           "legendgroup": "",
           "marker": {
            "color": [
             1.3780213070407261,
             1.053735702061659,
             1.0199169641969827,
             0,
             1.0199169641969827,
             1.053735702061659,
             1.3780213070407261,
             0
            ],
            "coloraxis": "coloraxis",
            "symbol": "circle"
           },
           "mode": "markers",
           "name": "",
           "scene": "scene",
           "showlegend": false,
           "type": "scatter3d",
           "x": [
            -0.28053066349934186,
            -0.3560992793339804,
            -0.6326643727806787,
            0,
            -0.616712978636339,
            -0.32428560497906833,
            -0.01791190068722065,
            -1.677079676532993
           ],
           "y": [
            1.4025196465960577,
            1.1180234130440727,
            0.46352612649041486,
            0,
            -0.4655311900001783,
            -1.0205773264695717,
            -1.4224366107930408,
            -0.1551919156556873
           ],
           "z": [
            1.8700559001059993,
            0.8673904743236476,
            0.3919230807084196,
            0,
            0.3899625741655398,
            0.9867585886048955,
            1.965541480137621,
            -2.544425593889757
           ]
          },
          {
           "hoverlabel": {
            "namelength": 0
           },
           "hovertemplate": "<b>%{hovertext}</b><br><br>frame=36<br>x=%{x}<br>y=%{y}<br>z=%{z}",
           "hovertext": [
            "6",
            "5",
            "4",
            "3",
            "7",
            "8",
            "9",
            null
           ],
           "ids": [
            "6",
            "5",
            "4",
            "3",
            "7",
            "8",
            "9",
            null
           ],
           "legendgroup": "",
           "line": {
            "color": "#636efa",
            "dash": "solid"
           },
           "mode": "lines",
           "name": "",
           "scene": "scene",
           "showlegend": false,
           "type": "scatter3d",
           "x": [
            -0.28053066349934186,
            -0.3560992793339804,
            -0.6326643727806787,
            0,
            -0.616712978636339,
            -0.32428560497906833,
            -0.01791190068722065,
            -1.677079676532993
           ],
           "y": [
            1.4025196465960577,
            1.1180234130440727,
            0.46352612649041486,
            0,
            -0.4655311900001783,
            -1.0205773264695717,
            -1.4224366107930408,
            -0.1551919156556873
           ],
           "z": [
            1.8700559001059993,
            0.8673904743236476,
            0.3919230807084196,
            0,
            0.3899625741655398,
            0.9867585886048955,
            1.965541480137621,
            -2.544425593889757
           ]
          }
         ],
         "name": "36"
        },
        {
         "data": [
          {
           "hoverlabel": {
            "namelength": 0
           },
           "hovertemplate": "<b>%{hovertext}</b><br><br>frame=37<br>x=%{x}<br>y=%{y}<br>z=%{z}<br>diff=%{marker.color}",
           "hovertext": [
            "6",
            "5",
            "4",
            "3",
            "7",
            "8",
            "9",
            null
           ],
           "ids": [
            "6",
            "5",
            "4",
            "3",
            "7",
            "8",
            "9",
            null
           ],
           "legendgroup": "",
           "marker": {
            "color": [
             1.3521337092813386,
             1.023837977282743,
             1.025798483825622,
             0,
             1.025798483825622,
             1.023837977282743,
             1.3521337092813386,
             0
            ],
            "coloraxis": "coloraxis",
            "symbol": "circle"
           },
           "mode": "markers",
           "name": "",
           "scene": "scene",
           "showlegend": false,
           "type": "scatter3d",
           "x": [
            -0.23076053149032655,
            -0.31827041444977755,
            -0.634580322356675,
            0,
            -0.6206785486889826,
            -0.3063291473249641,
            0.009980760581933416,
            -1.6670989159510596
           ],
           "y": [
            1.2692497586471168,
            1.0643322679492973,
            0.4575554929280083,
            0,
            -0.46152106298065143,
            -0.9608709908455058,
            -1.2891221658772167,
            -0.1492212820932807
           ],
           "z": [
            1.927712615253418,
            0.9032142756980871,
            0.39588865076106283,
            0,
            0.38795751065577644,
            1.0185722629598082,
            2.0192326252323967,
            -2.54643065739952
           ]
          },
          {
           "hoverlabel": {
            "namelength": 0
           },
           "hovertemplate": "<b>%{hovertext}</b><br><br>frame=37<br>x=%{x}<br>y=%{y}<br>z=%{z}",
           "hovertext": [
            "6",
            "5",
            "4",
            "3",
            "7",
            "8",
            "9",
            null
           ],
           "ids": [
            "6",
            "5",
            "4",
            "3",
            "7",
            "8",
            "9",
            null
           ],
           "legendgroup": "",
           "line": {
            "color": "#636efa",
            "dash": "solid"
           },
           "mode": "lines",
           "name": "",
           "scene": "scene",
           "showlegend": false,
           "type": "scatter3d",
           "x": [
            -0.23076053149032655,
            -0.31827041444977755,
            -0.634580322356675,
            0,
            -0.6206785486889826,
            -0.3063291473249641,
            0.009980760581933416,
            -1.6670989159510596
           ],
           "y": [
            1.2692497586471168,
            1.0643322679492973,
            0.4575554929280083,
            0,
            -0.46152106298065143,
            -0.9608709908455058,
            -1.2891221658772167,
            -0.1492212820932807
           ],
           "z": [
            1.927712615253418,
            0.9032142756980871,
            0.39588865076106283,
            0,
            0.38795751065577644,
            1.0185722629598082,
            2.0192326252323967,
            -2.54643065739952
           ]
          }
         ],
         "name": "37"
        },
        {
         "data": [
          {
           "hoverlabel": {
            "namelength": 0
           },
           "hovertemplate": "<b>%{hovertext}</b><br><br>frame=38<br>x=%{x}<br>y=%{y}<br>z=%{z}<br>diff=%{marker.color}",
           "hovertext": [
            "6",
            "5",
            "4",
            "3",
            "7",
            "8",
            "9",
            null
           ],
           "ids": [
            "6",
            "5",
            "4",
            "3",
            "7",
            "8",
            "9",
            null
           ],
           "legendgroup": "",
           "marker": {
            "color": [
             1.348168139228693,
             1.0020050635097635,
             1.0258875977593898,
             0,
             1.0258875977593898,
             1.0020050635097637,
             1.348168139228693,
             0
            ],
            "coloraxis": "coloraxis",
            "symbol": "circle"
           },
           "mode": "markers",
           "name": "",
           "scene": "scene",
           "showlegend": false,
           "type": "scatter3d",
           "x": [
            -0.19694179362564884,
            -0.29839800721967685,
            -0.6346248793235576,
            0,
            -0.6246886757085078,
            -0.28846180360462703,
            0.04972557504213272,
            -1.661172839355536
           ],
           "y": [
            1.1478765808561058,
            1.0225378330124513,
            0.4515848593656018,
            0,
            -0.46352612649041486,
            -0.9091849092604937,
            -1.1638279750004457,
            -0.14525571204063753
           ],
           "z": [
            1.9675019866805008,
            0.9230866829281865,
            0.3899180171986562,
            0,
            0.3859078901791294,
            1.0285084665748578,
            2.0530513630970724,
            -2.55440635447169
           ]
          },
          {
           "hoverlabel": {
            "namelength": 0
           },
           "hovertemplate": "<b>%{hovertext}</b><br><br>frame=38<br>x=%{x}<br>y=%{y}<br>z=%{z}",
           "hovertext": [
            "6",
            "5",
            "4",
            "3",
            "7",
            "8",
            "9",
            null
           ],
           "ids": [
            "6",
            "5",
            "4",
            "3",
            "7",
            "8",
            "9",
            null
           ],
           "legendgroup": "",
           "line": {
            "color": "#636efa",
            "dash": "solid"
           },
           "mode": "lines",
           "name": "",
           "scene": "scene",
           "showlegend": false,
           "type": "scatter3d",
           "x": [
            -0.19694179362564884,
            -0.29839800721967685,
            -0.6346248793235576,
            0,
            -0.6246886757085078,
            -0.28846180360462703,
            0.04972557504213272,
            -1.661172839355536
           ],
           "y": [
            1.1478765808561058,
            1.0225378330124513,
            0.4515848593656018,
            0,
            -0.46352612649041486,
            -0.9091849092604937,
            -1.1638279750004457,
            -0.14525571204063753
           ],
           "z": [
            1.9675019866805008,
            0.9230866829281865,
            0.3899180171986562,
            0,
            0.3859078901791294,
            1.0285084665748578,
            2.0530513630970724,
            -2.55440635447169
           ]
          }
         ],
         "name": "38"
        },
        {
         "data": [
          {
           "hoverlabel": {
            "namelength": 0
           },
           "hovertemplate": "<b>%{hovertext}</b><br><br>frame=39<br>x=%{x}<br>y=%{y}<br>z=%{z}<br>diff=%{marker.color}",
           "hovertext": [
            "6",
            "5",
            "4",
            "3",
            "7",
            "8",
            "9",
            null
           ],
           "ids": [
            "6",
            "5",
            "4",
            "3",
            "7",
            "8",
            "9",
            null
           ],
           "legendgroup": "",
           "marker": {
            "color": [
             1.3381428216798776,
             0.9979949364902367,
             1.0218329137729794,
             0,
             1.0218329137729794,
             0.9979949364902367,
             1.3381428216798776,
             0
            ],
            "coloraxis": "coloraxis",
            "symbol": "circle"
           },
           "mode": "markers",
           "name": "",
           "scene": "scene",
           "showlegend": false,
           "type": "scatter3d",
           "x": [
            -0.16708862581361678,
            -0.28249117004222085,
            -0.6365853858664376,
            0,
            -0.6266491822513878,
            -0.2804861065324572,
            0.06964253923911597,
            -1.6531971422833662
           ],
           "y": [
            1.0743130285312306,
            0.992729222167302,
            0.4555949863851285,
            0,
            -0.4575554929280083,
            -0.8812922479913405,
            -1.0901753087418034,
            -0.14124558502111073
           ],
           "z": [
            1.9854138873677203,
            0.938993520105643,
            0.3899180171986562,
            0,
            0.37998181358360644,
            1.0464203672620775,
            2.0709632637842925,
            -2.5583719245243333
           ]
          },
          {
           "hoverlabel": {
            "namelength": 0
           },
           "hovertemplate": "<b>%{hovertext}</b><br><br>frame=39<br>x=%{x}<br>y=%{y}<br>z=%{z}",
           "hovertext": [
            "6",
            "5",
            "4",
            "3",
            "7",
            "8",
            "9",
            null
           ],
           "ids": [
            "6",
            "5",
            "4",
            "3",
            "7",
            "8",
            "9",
            null
           ],
           "legendgroup": "",
           "line": {
            "color": "#636efa",
            "dash": "solid"
           },
           "mode": "lines",
           "name": "",
           "scene": "scene",
           "showlegend": false,
           "type": "scatter3d",
           "x": [
            -0.16708862581361678,
            -0.28249117004222085,
            -0.6365853858664376,
            0,
            -0.6266491822513878,
            -0.2804861065324572,
            0.06964253923911597,
            -1.6531971422833662
           ],
           "y": [
            1.0743130285312306,
            0.992729222167302,
            0.4555949863851285,
            0,
            -0.4575554929280083,
            -0.8812922479913405,
            -1.0901753087418034,
            -0.14124558502111073
           ],
           "z": [
            1.9854138873677203,
            0.938993520105643,
            0.3899180171986562,
            0,
            0.37998181358360644,
            1.0464203672620775,
            2.0709632637842925,
            -2.5583719245243333
           ]
          }
         ],
         "name": "39"
        },
        {
         "data": [
          {
           "hoverlabel": {
            "namelength": 0
           },
           "hovertemplate": "<b>%{hovertext}</b><br><br>frame=40<br>x=%{x}<br>y=%{y}<br>z=%{z}<br>diff=%{marker.color}",
           "hovertext": [
            "6",
            "5",
            "4",
            "3",
            "7",
            "8",
            "9",
            null
           ],
           "ids": [
            "6",
            "5",
            "4",
            "3",
            "7",
            "8",
            "9",
            null
           ],
           "legendgroup": "",
           "marker": {
            "color": [
             1.3282511750317103,
             1.0040101270195265,
             1.0139908876014598,
             0,
             1.0139908876014598,
             1.0040101270195265,
             1.3282511750317103,
             0
            ],
            "coloraxis": "coloraxis",
            "symbol": "circle"
           },
           "mode": "markers",
           "name": "",
           "scene": "scene",
           "showlegend": false,
           "type": "scatter3d",
           "x": [
            -0.14521115507375354,
            -0.2625742058452386,
            -0.6405955128859648,
            0,
            -0.6346248793235586,
            -0.2785255999895782,
            0.07761823631128577,
            -1.6472265087209599
           ],
           "y": [
            0.972812257970319,
            0.958910484302626,
            0.45158485936560167,
            0,
            -0.44962435282272195,
            -0.8395423700213781,
            -0.9946897287101817,
            -0.14325064853087413
           ],
           "z": [
            2.0113014851271105,
            0.9409985836154063,
            0.3879575106557764,
            0,
            0.37797675007384307,
            1.048425430771841,
            2.094845798033919,
            -2.562337494576976
           ]
          },
          {
           "hoverlabel": {
            "namelength": 0
           },
           "hovertemplate": "<b>%{hovertext}</b><br><br>frame=40<br>x=%{x}<br>y=%{y}<br>z=%{z}",
           "hovertext": [
            "6",
            "5",
            "4",
            "3",
            "7",
            "8",
            "9",
            null
           ],
           "ids": [
            "6",
            "5",
            "4",
            "3",
            "7",
            "8",
            "9",
            null
           ],
           "legendgroup": "",
           "line": {
            "color": "#636efa",
            "dash": "solid"
           },
           "mode": "lines",
           "name": "",
           "scene": "scene",
           "showlegend": false,
           "type": "scatter3d",
           "x": [
            -0.14521115507375354,
            -0.2625742058452386,
            -0.6405955128859648,
            0,
            -0.6346248793235586,
            -0.2785255999895782,
            0.07761823631128577,
            -1.6472265087209599
           ],
           "y": [
            0.972812257970319,
            0.958910484302626,
            0.45158485936560167,
            0,
            -0.44962435282272195,
            -0.8395423700213781,
            -0.9946897287101817,
            -0.14325064853087413
           ],
           "z": [
            2.0113014851271105,
            0.9409985836154063,
            0.3879575106557764,
            0,
            0.37797675007384307,
            1.048425430771841,
            2.094845798033919,
            -2.562337494576976
           ]
          }
         ],
         "name": "40"
        },
        {
         "data": [
          {
           "hoverlabel": {
            "namelength": 0
           },
           "hovertemplate": "<b>%{hovertext}</b><br><br>frame=41<br>x=%{x}<br>y=%{y}<br>z=%{z}<br>diff=%{marker.color}",
           "hovertext": [
            "6",
            "5",
            "4",
            "3",
            "7",
            "8",
            "9",
            null
           ],
           "ids": [
            "6",
            "5",
            "4",
            "3",
            "7",
            "8",
            "9",
            null
           ],
           "legendgroup": "",
           "marker": {
            "color": [
             1.3421529486994035,
             1.0258875977593895,
             1.0079756970721703,
             0,
             1.00797569707217,
             1.0258875977593898,
             1.3421529486994033,
             0
            ],
            "coloraxis": "coloraxis",
            "symbol": "circle"
           },
           "mode": "markers",
           "name": "",
           "scene": "scene",
           "showlegend": false,
           "type": "scatter3d",
           "x": [
            -0.12132862082412768,
            -0.2526380022301888,
            -0.6425560194288449,
            0,
            -0.6405509559190813,
            -0.28048610653245826,
            0.07164760274887855,
            -1.6412558751585538
           ],
           "y": [
            0.883297311501104,
            0.931017823033473,
            0.4476192893129586,
            0,
            -0.4476192893129585,
            -0.8156598357717518,
            -0.9310178230334728,
            -0.1492212820932807
           ],
           "z": [
            2.017227561722633,
            0.9489297237206926,
            0.3799372566167228,
            0,
            0.3739666230543162,
            1.062327204439534,
            2.1186837753166614,
            -2.566347621596503
           ]
          },
          {
           "hoverlabel": {
            "namelength": 0
           },
           "hovertemplate": "<b>%{hovertext}</b><br><br>frame=41<br>x=%{x}<br>y=%{y}<br>z=%{z}",
           "hovertext": [
            "6",
            "5",
            "4",
            "3",
            "7",
            "8",
            "9",
            null
           ],
           "ids": [
            "6",
            "5",
            "4",
            "3",
            "7",
            "8",
            "9",
            null
           ],
           "legendgroup": "",
           "line": {
            "color": "#636efa",
            "dash": "solid"
           },
           "mode": "lines",
           "name": "",
           "scene": "scene",
           "showlegend": false,
           "type": "scatter3d",
           "x": [
            -0.12132862082412768,
            -0.2526380022301888,
            -0.6425560194288449,
            0,
            -0.6405509559190813,
            -0.28048610653245826,
            0.07164760274887855,
            -1.6412558751585538
           ],
           "y": [
            0.883297311501104,
            0.931017823033473,
            0.4476192893129586,
            0,
            -0.4476192893129585,
            -0.8156598357717518,
            -0.9310178230334728,
            -0.1492212820932807
           ],
           "z": [
            2.017227561722633,
            0.9489297237206926,
            0.3799372566167228,
            0,
            0.3739666230543162,
            1.062327204439534,
            2.1186837753166614,
            -2.566347621596503
           ]
          }
         ],
         "name": "41"
        },
        {
         "data": [
          {
           "hoverlabel": {
            "namelength": 0
           },
           "hovertemplate": "<b>%{hovertext}</b><br><br>frame=42<br>x=%{x}<br>y=%{y}<br>z=%{z}<br>diff=%{marker.color}",
           "hovertext": [
            "6",
            "5",
            "4",
            "3",
            "7",
            "8",
            "9",
            null
           ],
           "ids": [
            "6",
            "5",
            "4",
            "3",
            "7",
            "8",
            "9",
            null
           ],
           "legendgroup": "",
           "marker": {
            "color": [
             1.3441580122091665,
             1.0218774707398623,
             1.013901773667692,
             0,
             1.013901773667692,
             1.0218774707398626,
             1.3441580122091665,
             0
            ],
            "coloraxis": "coloraxis",
            "symbol": "circle"
           },
           "mode": "markers",
           "name": "",
           "scene": "scene",
           "showlegend": false,
           "type": "scatter3d",
           "x": [
            -0.10346127710379062,
            -0.24074129207225894,
            -0.6426005763957274,
            0,
            -0.6405955128859648,
            -0.27255496642717103,
            0.07957874285416579,
            -1.6333247350532665
           ],
           "y": [
            0.8116942657191087,
            0.9151109858560166,
            0.4476192893129586,
            0,
            -0.4456142258031951,
            -0.7917773015221256,
            -0.8713560443762908,
            -0.1492212820932807
           ],
           "z": [
            2.02123768874216,
            0.950934787230456,
            0.3819423201264862,
            0,
            0.3680405464587933,
            1.0643322679492973,
            2.122693902336188,
            -2.570313191649146
           ]
          },
          {
           "hoverlabel": {
            "namelength": 0
           },
           "hovertemplate": "<b>%{hovertext}</b><br><br>frame=42<br>x=%{x}<br>y=%{y}<br>z=%{z}",
           "hovertext": [
            "6",
            "5",
            "4",
            "3",
            "7",
            "8",
            "9",
            null
           ],
           "ids": [
            "6",
            "5",
            "4",
            "3",
            "7",
            "8",
            "9",
            null
           ],
           "legendgroup": "",
           "line": {
            "color": "#636efa",
            "dash": "solid"
           },
           "mode": "lines",
           "name": "",
           "scene": "scene",
           "showlegend": false,
           "type": "scatter3d",
           "x": [
            -0.10346127710379062,
            -0.24074129207225894,
            -0.6426005763957274,
            0,
            -0.6405955128859648,
            -0.27255496642717103,
            0.07957874285416579,
            -1.6333247350532665
           ],
           "y": [
            0.8116942657191087,
            0.9151109858560166,
            0.4476192893129586,
            0,
            -0.4456142258031951,
            -0.7917773015221256,
            -0.8713560443762908,
            -0.1492212820932807
           ],
           "z": [
            2.02123768874216,
            0.950934787230456,
            0.3819423201264862,
            0,
            0.3680405464587933,
            1.0643322679492973,
            2.122693902336188,
            -2.570313191649146
           ]
          }
         ],
         "name": "42"
        },
        {
         "data": [
          {
           "hoverlabel": {
            "namelength": 0
           },
           "hovertemplate": "<b>%{hovertext}</b><br><br>frame=43<br>x=%{x}<br>y=%{y}<br>z=%{z}<br>diff=%{marker.color}",
           "hovertext": [
            "6",
            "5",
            "4",
            "3",
            "7",
            "8",
            "9",
            null
           ],
           "ids": [
            "6",
            "5",
            "4",
            "3",
            "7",
            "8",
            "9",
            null
           ],
           "legendgroup": "",
           "marker": {
            "color": [
             1.3541387727911005,
             1.033907851798443,
             1.00797569707217,
             0,
             1.00797569707217,
             1.033907851798443,
             1.3541387727911005,
             0
            ],
            "coloraxis": "coloraxis",
            "symbol": "circle"
           },
           "mode": "markers",
           "name": "",
           "scene": "scene",
           "showlegend": false,
           "type": "scatter3d",
           "x": [
            -0.08550481944968841,
            -0.22675040447079933,
            -0.6425560194288449,
            0,
            -0.6425560194288449,
            -0.27054990291740844,
            0.09749064354138441,
            -1.6293146080337404
           ],
           "y": [
            0.72213476228301,
            0.879287184481577,
            0.4476192893129585,
            0,
            -0.4436537192603153,
            -0.7659342607296195,
            -0.7798805913641961,
            -0.15122634560304413
           ],
           "z": [
            2.023242752251923,
            0.9608709908455058,
            0.3779767500738431,
            0,
            0.36603548294902993,
            1.0643322679492973,
            2.1366402329707648,
            -2.5742787617017897
           ]
          },
          {
           "hoverlabel": {
            "namelength": 0
           },
           "hovertemplate": "<b>%{hovertext}</b><br><br>frame=43<br>x=%{x}<br>y=%{y}<br>z=%{z}",
           "hovertext": [
            "6",
            "5",
            "4",
            "3",
            "7",
            "8",
            "9",
            null
           ],
           "ids": [
            "6",
            "5",
            "4",
            "3",
            "7",
            "8",
            "9",
            null
           ],
           "legendgroup": "",
           "line": {
            "color": "#636efa",
            "dash": "solid"
           },
           "mode": "lines",
           "name": "",
           "scene": "scene",
           "showlegend": false,
           "type": "scatter3d",
           "x": [
            -0.08550481944968841,
            -0.22675040447079933,
            -0.6425560194288449,
            0,
            -0.6425560194288449,
            -0.27054990291740844,
            0.09749064354138441,
            -1.6293146080337404
           ],
           "y": [
            0.72213476228301,
            0.879287184481577,
            0.4476192893129585,
            0,
            -0.4436537192603153,
            -0.7659342607296195,
            -0.7798805913641961,
            -0.15122634560304413
           ],
           "z": [
            2.023242752251923,
            0.9608709908455058,
            0.3779767500738431,
            0,
            0.36603548294902993,
            1.0643322679492973,
            2.1366402329707648,
            -2.5742787617017897
           ]
          }
         ],
         "name": "43"
        },
        {
         "data": [
          {
           "hoverlabel": {
            "namelength": 0
           },
           "hovertemplate": "<b>%{hovertext}</b><br><br>frame=44<br>x=%{x}<br>y=%{y}<br>z=%{z}<br>diff=%{marker.color}",
           "hovertext": [
            "6",
            "5",
            "4",
            "3",
            "7",
            "8",
            "9",
            null
           ],
           "ids": [
            "6",
            "5",
            "4",
            "3",
            "7",
            "8",
            "9",
            null
           ],
           "legendgroup": "",
           "marker": {
            "color": [
             1.3500840888046906,
             1.027803547335385,
             1.017867343720336,
             0,
             1.017867343720336,
             1.027803547335385,
             1.3500840888046908,
             0
            ],
            "coloraxis": "coloraxis",
            "symbol": "circle"
           },
           "mode": "markers",
           "name": "",
           "scene": "scene",
           "showlegend": false,
           "type": "scatter3d",
           "x": [
            -0.06362734870982616,
            -0.2108435672933433,
            -0.6405509559190823,
            0,
            -0.6405509559190823,
            -0.260569142335475,
            0.11740760773836766,
            -1.623343974471334
           ],
           "y": [
            0.6684436171882344,
            0.8693955378334111,
            0.4436537192603153,
            0,
            -0.4456142258031951,
            -0.7460172965326364,
            -0.7320709658980599,
            -0.14721621858351733
           ],
           "z": [
            2.03117389235721,
            0.964836560898149,
            0.37797675007384307,
            0,
            0.36206991289638674,
            1.066292774492177,
            2.136595676003881,
            -2.576283825211553
           ]
          },
          {
           "hoverlabel": {
            "namelength": 0
           },
           "hovertemplate": "<b>%{hovertext}</b><br><br>frame=44<br>x=%{x}<br>y=%{y}<br>z=%{z}",
           "hovertext": [
            "6",
            "5",
            "4",
            "3",
            "7",
            "8",
            "9",
            null
           ],
           "ids": [
            "6",
            "5",
            "4",
            "3",
            "7",
            "8",
            "9",
            null
           ],
           "legendgroup": "",
           "line": {
            "color": "#636efa",
            "dash": "solid"
           },
           "mode": "lines",
           "name": "",
           "scene": "scene",
           "showlegend": false,
           "type": "scatter3d",
           "x": [
            -0.06362734870982616,
            -0.2108435672933433,
            -0.6405509559190823,
            0,
            -0.6405509559190823,
            -0.260569142335475,
            0.11740760773836766,
            -1.623343974471334
           ],
           "y": [
            0.6684436171882344,
            0.8693955378334111,
            0.4436537192603153,
            0,
            -0.4456142258031951,
            -0.7460172965326364,
            -0.7320709658980599,
            -0.14721621858351733
           ],
           "z": [
            2.03117389235721,
            0.964836560898149,
            0.37797675007384307,
            0,
            0.36206991289638674,
            1.066292774492177,
            2.136595676003881,
            -2.576283825211553
           ]
          }
         ],
         "name": "44"
        },
        {
         "data": [
          {
           "hoverlabel": {
            "namelength": 0
           },
           "hovertemplate": "<b>%{hovertext}</b><br><br>frame=45<br>x=%{x}<br>y=%{y}<br>z=%{z}<br>diff=%{marker.color}",
           "hovertext": [
            "6",
            "5",
            "4",
            "3",
            "7",
            "8",
            "9",
            null
           ],
           "ids": [
            "6",
            "5",
            "4",
            "3",
            "7",
            "8",
            "9",
            null
           ],
           "legendgroup": "",
           "marker": {
            "color": [
             1.3421083917325196,
             1.0198724072300998,
             1.0198724072300998,
             0,
             1.0198724072300995,
             1.0198724072300998,
             1.3421083917325196,
             0
            ],
            "coloraxis": "coloraxis",
            "symbol": "circle"
           },
           "mode": "markers",
           "name": "",
           "scene": "scene",
           "showlegend": false,
           "type": "scatter3d",
           "x": [
            -0.04972557504213272,
            -0.20692255420758326,
            -0.6405955128859648,
            0,
            -0.6426005763957284,
            -0.256648129249716,
            0.12333368433389028,
            -1.621383467928454
           ],
           "y": [
            0.6366299428333219,
            0.8554492071988345,
            0.4436537192603153,
            0,
            -0.441648655750552,
            -0.7301104593551799,
            -0.7002572915431472,
            -0.14325064853087413
           ],
           "z": [
            2.0292133858143298,
            0.9648811178650326,
            0.37797675007384307,
            0,
            0.3581043428437436,
            1.0603666978966542,
            2.134635169461001,
            -2.580249395264196
           ]
          },
          {
           "hoverlabel": {
            "namelength": 0
           },
           "hovertemplate": "<b>%{hovertext}</b><br><br>frame=45<br>x=%{x}<br>y=%{y}<br>z=%{z}",
           "hovertext": [
            "6",
            "5",
            "4",
            "3",
            "7",
            "8",
            "9",
            null
           ],
           "ids": [
            "6",
            "5",
            "4",
            "3",
            "7",
            "8",
            "9",
            null
           ],
           "legendgroup": "",
           "line": {
            "color": "#636efa",
            "dash": "solid"
           },
           "mode": "lines",
           "name": "",
           "scene": "scene",
           "showlegend": false,
           "type": "scatter3d",
           "x": [
            -0.04972557504213272,
            -0.20692255420758326,
            -0.6405955128859648,
            0,
            -0.6426005763957284,
            -0.256648129249716,
            0.12333368433389028,
            -1.621383467928454
           ],
           "y": [
            0.6366299428333219,
            0.8554492071988345,
            0.4436537192603153,
            0,
            -0.441648655750552,
            -0.7301104593551799,
            -0.7002572915431472,
            -0.14325064853087413
           ],
           "z": [
            2.0292133858143298,
            0.9648811178650326,
            0.37797675007384307,
            0,
            0.3581043428437436,
            1.0603666978966542,
            2.134635169461001,
            -2.580249395264196
           ]
          }
         ],
         "name": "45"
        },
        {
         "data": [
          {
           "hoverlabel": {
            "namelength": 0
           },
           "hovertemplate": "<b>%{hovertext}</b><br><br>frame=46<br>x=%{x}<br>y=%{y}<br>z=%{z}<br>diff=%{marker.color}",
           "hovertext": [
            "6",
            "5",
            "4",
            "3",
            "7",
            "8",
            "9",
            null
           ],
           "ids": [
            "6",
            "5",
            "4",
            "3",
            "7",
            "8",
            "9",
            null
           ],
           "legendgroup": "",
           "marker": {
            "color": [
             1.334177251627234,
             1.025798483825623,
             1.0278481043022702,
             0,
             1.0278481043022702,
             1.025798483825623,
             1.3341772516272339,
             0
            ],
            "coloraxis": "coloraxis",
            "symbol": "circle"
           },
           "mode": "markers",
           "name": "",
           "scene": "scene",
           "showlegend": false,
           "type": "scatter3d",
           "x": [
            -0.035823801374439274,
            -0.19694179362564884,
            -0.6346248793235576,
            0,
            -0.6405955128859648,
            -0.25067749568730874,
            0.14124558502111093,
            -1.6154128343660468
           ],
           "y": [
            0.6207231056558655,
            0.8475180670935482,
            0.4416486557505519,
            0,
            -0.44561422580319515,
            -0.7261003323356533,
            -0.6704041237311144,
            -0.14124558502111073
           ],
           "z": [
            2.025203258794803,
            0.9688466879176757,
            0.37597168656407964,
            0,
            0.35805978587685994,
            1.0623272044395338,
            2.132630105951238,
            -2.5802493952641963
           ]
          },
          {
           "hoverlabel": {
            "namelength": 0
           },
           "hovertemplate": "<b>%{hovertext}</b><br><br>frame=46<br>x=%{x}<br>y=%{y}<br>z=%{z}",
           "hovertext": [
            "6",
            "5",
            "4",
            "3",
            "7",
            "8",
            "9",
            null
           ],
           "ids": [
            "6",
            "5",
            "4",
            "3",
            "7",
            "8",
            "9",
            null
           ],
           "legendgroup": "",
           "line": {
            "color": "#636efa",
            "dash": "solid"
           },
           "mode": "lines",
           "name": "",
           "scene": "scene",
           "showlegend": false,
           "type": "scatter3d",
           "x": [
            -0.035823801374439274,
            -0.19694179362564884,
            -0.6346248793235576,
            0,
            -0.6405955128859648,
            -0.25067749568730874,
            0.14124558502111093,
            -1.6154128343660468
           ],
           "y": [
            0.6207231056558655,
            0.8475180670935482,
            0.4416486557505519,
            0,
            -0.44561422580319515,
            -0.7261003323356533,
            -0.6704041237311144,
            -0.14124558502111073
           ],
           "z": [
            2.025203258794803,
            0.9688466879176757,
            0.37597168656407964,
            0,
            0.35805978587685994,
            1.0623272044395338,
            2.132630105951238,
            -2.5802493952641963
           ]
          }
         ],
         "name": "46"
        },
        {
         "data": [
          {
           "hoverlabel": {
            "namelength": 0
           },
           "hovertemplate": "<b>%{hovertext}</b><br><br>frame=47<br>x=%{x}<br>y=%{y}<br>z=%{z}<br>diff=%{marker.color}",
           "hovertext": [
            "6",
            "5",
            "4",
            "3",
            "7",
            "8",
            "9",
            null
           ],
           "ids": [
            "6",
            "5",
            "4",
            "3",
            "7",
            "8",
            "9",
            null
           ],
           "legendgroup": "",
           "marker": {
            "color": [
             1.3063737042918482,
             1.029853167812033,
             1.0398339283939664,
             0,
             1.0398339283939664,
             1.029853167812033,
             1.3063737042918482,
             0
            ],
            "coloraxis": "coloraxis",
            "symbol": "circle"
           },
           "mode": "markers",
           "name": "",
           "scene": "scene",
           "showlegend": false,
           "type": "scatter3d",
           "x": [
            -0.027848104302269465,
            -0.19097116006324263,
            -0.6346248793235576,
            0,
            -0.6445610829386075,
            -0.24867243217754517,
            0.14521115507375454,
            -1.6154128343660468
           ],
           "y": [
            0.606776775021289,
            0.8394978130544944,
            0.4396435922407885,
            0,
            -0.4456587827700788,
            -0.7201742557401303,
            -0.6366299428333219,
            -0.13928507847823096
           ],
           "z": [
            2.02123768874216,
            0.966886181374796,
            0.3780213070407267,
            0,
            0.3541387727911004,
            1.0583616343868907,
            2.124698965845951,
            -2.584214965316839
           ]
          },
          {
           "hoverlabel": {
            "namelength": 0
           },
           "hovertemplate": "<b>%{hovertext}</b><br><br>frame=47<br>x=%{x}<br>y=%{y}<br>z=%{z}",
           "hovertext": [
            "6",
            "5",
            "4",
            "3",
            "7",
            "8",
            "9",
            null
           ],
           "ids": [
            "6",
            "5",
            "4",
            "3",
            "7",
            "8",
            "9",
            null
           ],
           "legendgroup": "",
           "line": {
            "color": "#636efa",
            "dash": "solid"
           },
           "mode": "lines",
           "name": "",
           "scene": "scene",
           "showlegend": false,
           "type": "scatter3d",
           "x": [
            -0.027848104302269465,
            -0.19097116006324263,
            -0.6346248793235576,
            0,
            -0.6445610829386075,
            -0.24867243217754517,
            0.14521115507375454,
            -1.6154128343660468
           ],
           "y": [
            0.606776775021289,
            0.8394978130544944,
            0.4396435922407885,
            0,
            -0.4456587827700788,
            -0.7201742557401303,
            -0.6366299428333219,
            -0.13928507847823096
           ],
           "z": [
            2.02123768874216,
            0.966886181374796,
            0.3780213070407267,
            0,
            0.3541387727911004,
            1.0583616343868907,
            2.124698965845951,
            -2.584214965316839
           ]
          }
         ],
         "name": "47"
        },
        {
         "data": [
          {
           "hoverlabel": {
            "namelength": 0
           },
           "hovertemplate": "<b>%{hovertext}</b><br><br>frame=48<br>x=%{x}<br>y=%{y}<br>z=%{z}<br>diff=%{marker.color}",
           "hovertext": [
            "6",
            "5",
            "4",
            "3",
            "7",
            "8",
            "9",
            null
           ],
           "ids": [
            "6",
            "5",
            "4",
            "3",
            "7",
            "8",
            "9",
            null
           ],
           "legendgroup": "",
           "marker": {
            "color": [
             1.2944324371670344,
             1.031858231321796,
             1.0398339283939664,
             0,
             1.0398339283939662,
             1.031858231321796,
             1.2944324371670344,
             0
            ],
            "coloraxis": "coloraxis",
            "symbol": "circle"
           },
           "mode": "markers",
           "name": "",
           "scene": "scene",
           "showlegend": false,
           "type": "scatter3d",
           "x": [
            -0.019872407230099653,
            -0.18896609655348004,
            -0.6346248793235586,
            0,
            -0.6445610829386085,
            -0.24470686212490256,
            0.15519191565568694,
            -1.6134077708562842
           ],
           "y": [
            0.606776775021289,
            0.8375373065116147,
            0.4396435922407885,
            0,
            -0.4476192893129586,
            -0.7201742557401303,
            -0.6226836121987454,
            -0.13928507847823096
           ],
           "z": [
            2.02123768874216,
            0.966886181374796,
            0.3780213070407267,
            0,
            0.35609927933398017,
            1.0603666978966542,
            2.124698965845951,
            -2.584214965316839
           ]
          },
          {
           "hoverlabel": {
            "namelength": 0
           },
           "hovertemplate": "<b>%{hovertext}</b><br><br>frame=48<br>x=%{x}<br>y=%{y}<br>z=%{z}",
           "hovertext": [
            "6",
            "5",
            "4",
            "3",
            "7",
            "8",
            "9",
            null
           ],
           "ids": [
            "6",
            "5",
            "4",
            "3",
            "7",
            "8",
            "9",
            null
           ],
           "legendgroup": "",
           "line": {
            "color": "#636efa",
            "dash": "solid"
           },
           "mode": "lines",
           "name": "",
           "scene": "scene",
           "showlegend": false,
           "type": "scatter3d",
           "x": [
            -0.019872407230099653,
            -0.18896609655348004,
            -0.6346248793235586,
            0,
            -0.6445610829386085,
            -0.24470686212490256,
            0.15519191565568694,
            -1.6134077708562842
           ],
           "y": [
            0.606776775021289,
            0.8375373065116147,
            0.4396435922407885,
            0,
            -0.4476192893129586,
            -0.7201742557401303,
            -0.6226836121987454,
            -0.13928507847823096
           ],
           "z": [
            2.02123768874216,
            0.966886181374796,
            0.3780213070407267,
            0,
            0.35609927933398017,
            1.0603666978966542,
            2.124698965845951,
            -2.584214965316839
           ]
          }
         ],
         "name": "48"
        },
        {
         "data": [
          {
           "hoverlabel": {
            "namelength": 0
           },
           "hovertemplate": "<b>%{hovertext}</b><br><br>frame=49<br>x=%{x}<br>y=%{y}<br>z=%{z}<br>diff=%{marker.color}",
           "hovertext": [
            "6",
            "5",
            "4",
            "3",
            "7",
            "8",
            "9",
            null
           ],
           "ids": [
            "6",
            "5",
            "4",
            "3",
            "7",
            "8",
            "9",
            null
           ],
           "legendgroup": "",
           "marker": {
            "color": [
             1.2705499029174088,
             1.0179564576541038,
             1.0378288648842027,
             0,
             1.0378288648842025,
             1.0179564576541038,
             1.2705499029174088,
             0
            ],
            "coloraxis": "coloraxis",
            "symbol": "circle"
           },
           "mode": "markers",
           "name": "",
           "scene": "scene",
           "showlegend": false,
           "type": "scatter3d",
           "x": [
            -0.023882534249625845,
            -0.19097116006324263,
            -0.6346248793235576,
            0,
            -0.6426005763957274,
            -0.23873622856249532,
            0.16512811927073778,
            -1.6154128343660468
           ],
           "y": [
            0.662472983625828,
            0.8474735101266644,
            0.4396435922407885,
            0,
            -0.4476192893129586,
            -0.7281499528123003,
            -0.6445610829386083,
            -0.13928507847823096
           ],
           "z": [
            2.0172721186895166,
            0.9648811178650325,
            0.37998181358360644,
            0,
            0.3581043428437436,
            1.0543960643342476,
            2.1167232687737814,
            -2.584214965316839
           ]
          },
          {
           "hoverlabel": {
            "namelength": 0
           },
           "hovertemplate": "<b>%{hovertext}</b><br><br>frame=49<br>x=%{x}<br>y=%{y}<br>z=%{z}",
           "hovertext": [
            "6",
            "5",
            "4",
            "3",
            "7",
            "8",
            "9",
            null
           ],
           "ids": [
            "6",
            "5",
            "4",
            "3",
            "7",
            "8",
            "9",
            null
           ],
           "legendgroup": "",
           "line": {
            "color": "#636efa",
            "dash": "solid"
           },
           "mode": "lines",
           "name": "",
           "scene": "scene",
           "showlegend": false,
           "type": "scatter3d",
           "x": [
            -0.023882534249625845,
            -0.19097116006324263,
            -0.6346248793235576,
            0,
            -0.6426005763957274,
            -0.23873622856249532,
            0.16512811927073778,
            -1.6154128343660468
           ],
           "y": [
            0.662472983625828,
            0.8474735101266644,
            0.4396435922407885,
            0,
            -0.4476192893129586,
            -0.7281499528123003,
            -0.6445610829386083,
            -0.13928507847823096
           ],
           "z": [
            2.0172721186895166,
            0.9648811178650325,
            0.37998181358360644,
            0,
            0.3581043428437436,
            1.0543960643342476,
            2.1167232687737814,
            -2.584214965316839
           ]
          }
         ],
         "name": "49"
        },
        {
         "data": [
          {
           "hoverlabel": {
            "namelength": 0
           },
           "hovertemplate": "<b>%{hovertext}</b><br><br>frame=50<br>x=%{x}<br>y=%{y}<br>z=%{z}<br>diff=%{marker.color}",
           "hovertext": [
            "6",
            "5",
            "4",
            "3",
            "7",
            "8",
            "9",
            null
           ],
           "ids": [
            "6",
            "5",
            "4",
            "3",
            "7",
            "8",
            "9",
            null
           ],
           "legendgroup": "",
           "marker": {
            "color": [
             1.264623826321885,
             0.9960789869142405,
             1.0278926612691528,
             0,
             1.0278926612691528,
             0.9960789869142403,
             1.264623826321885,
             0
            ],
            "coloraxis": "coloraxis",
            "symbol": "circle"
           },
           "mode": "markers",
           "name": "",
           "scene": "scene",
           "showlegend": false,
           "type": "scatter3d",
           "x": [
            -0.035779244407555685,
            -0.20090736367829246,
            -0.6346248793235586,
            0,
            -0.6405955128859648,
            -0.23873622856249532,
            0.15519191565568694,
            -1.6193784044186905
           ],
           "y": [
            0.7798360343973123,
            0.8971990851687968,
            0.4456142258031951,
            0,
            -0.4436537192603153,
            -0.7539929936048063,
            -0.7539929936048063,
            -0.13928507847823096
           ],
           "z": [
            2.00528629459782,
            0.942959090158286,
            0.38394738363624964,
            0,
            0.36006484938662336,
            1.044415303752314,
            2.1047820016489682,
            -2.5822544587739595
           ]
          },
          {
           "hoverlabel": {
            "namelength": 0
           },
           "hovertemplate": "<b>%{hovertext}</b><br><br>frame=50<br>x=%{x}<br>y=%{y}<br>z=%{z}",
           "hovertext": [
            "6",
            "5",
            "4",
            "3",
            "7",
            "8",
            "9",
            null
           ],
           "ids": [
            "6",
            "5",
            "4",
            "3",
            "7",
            "8",
            "9",
            null
           ],
           "legendgroup": "",
           "line": {
            "color": "#636efa",
            "dash": "solid"
           },
           "mode": "lines",
           "name": "",
           "scene": "scene",
           "showlegend": false,
           "type": "scatter3d",
           "x": [
            -0.035779244407555685,
            -0.20090736367829246,
            -0.6346248793235586,
            0,
            -0.6405955128859648,
            -0.23873622856249532,
            0.15519191565568694,
            -1.6193784044186905
           ],
           "y": [
            0.7798360343973123,
            0.8971990851687968,
            0.4456142258031951,
            0,
            -0.4436537192603153,
            -0.7539929936048063,
            -0.7539929936048063,
            -0.13928507847823096
           ],
           "z": [
            2.00528629459782,
            0.942959090158286,
            0.38394738363624964,
            0,
            0.36006484938662336,
            1.044415303752314,
            2.1047820016489682,
            -2.5822544587739595
           ]
          }
         ],
         "name": "50"
        },
        {
         "data": [
          {
           "hoverlabel": {
            "namelength": 0
           },
           "hovertemplate": "<b>%{hovertext}</b><br><br>frame=51<br>x=%{x}<br>y=%{y}<br>z=%{z}<br>diff=%{marker.color}",
           "hovertext": [
            "6",
            "5",
            "4",
            "3",
            "7",
            "8",
            "9",
            null
           ],
           "ids": [
            "6",
            "5",
            "4",
            "3",
            "7",
            "8",
            "9",
            null
           ],
           "legendgroup": "",
           "marker": {
            "color": [
             1.2705499029174083,
             0.997994936490237,
             1.029853167812033,
             0,
             1.0298531678120328,
             0.997994936490237,
             1.2705499029174085,
             0
            ],
            "coloraxis": "coloraxis",
            "symbol": "circle"
           },
           "mode": "markers",
           "name": "",
           "scene": "scene",
           "showlegend": false,
           "type": "scatter3d",
           "x": [
            -0.051686081585012734,
            -0.2168142008557495,
            -0.632619815813795,
            0,
            -0.6425560194288449,
            -0.24867243217754617,
            0.1372800149684673,
            -1.623343974471334
           ],
           "y": [
            0.8932335151161537,
            0.9310623800003566,
            0.4456142258031951,
            0,
            -0.4476192893129586,
            -0.7897722380123622,
            -0.8753216144289339,
            -0.14325064853087413
           ],
           "z": [
            1.9854138873677203,
            0.9270522529808297,
            0.38198687709336987,
            0,
            0.36407497640615016,
            1.0344791001372644,
            2.0849095944188685,
            -2.580249395264196
           ]
          },
          {
           "hoverlabel": {
            "namelength": 0
           },
           "hovertemplate": "<b>%{hovertext}</b><br><br>frame=51<br>x=%{x}<br>y=%{y}<br>z=%{z}",
           "hovertext": [
            "6",
            "5",
            "4",
            "3",
            "7",
            "8",
            "9",
            null
           ],
           "ids": [
            "6",
            "5",
            "4",
            "3",
            "7",
            "8",
            "9",
            null
           ],
           "legendgroup": "",
           "line": {
            "color": "#636efa",
            "dash": "solid"
           },
           "mode": "lines",
           "name": "",
           "scene": "scene",
           "showlegend": false,
           "type": "scatter3d",
           "x": [
            -0.051686081585012734,
            -0.2168142008557495,
            -0.632619815813795,
            0,
            -0.6425560194288449,
            -0.24867243217754617,
            0.1372800149684673,
            -1.623343974471334
           ],
           "y": [
            0.8932335151161537,
            0.9310623800003566,
            0.4456142258031951,
            0,
            -0.4476192893129586,
            -0.7897722380123622,
            -0.8753216144289339,
            -0.14325064853087413
           ],
           "z": [
            1.9854138873677203,
            0.9270522529808297,
            0.38198687709336987,
            0,
            0.36407497640615016,
            1.0344791001372644,
            2.0849095944188685,
            -2.580249395264196
           ]
          }
         ],
         "name": "51"
        },
        {
         "data": [
          {
           "hoverlabel": {
            "namelength": 0
           },
           "hovertemplate": "<b>%{hovertext}</b><br><br>frame=52<br>x=%{x}<br>y=%{y}<br>z=%{z}<br>diff=%{marker.color}",
           "hovertext": [
            "6",
            "5",
            "4",
            "3",
            "7",
            "8",
            "9",
            null
           ],
           "ids": [
            "6",
            "5",
            "4",
            "3",
            "7",
            "8",
            "9",
            null
           ],
           "legendgroup": "",
           "marker": {
            "color": [
             1.2725549664271718,
             0.9939848094707099,
             1.0218774707398628,
             0,
             1.0218774707398628,
             0.9939848094707099,
             1.2725549664271718,
             0
            ],
            "coloraxis": "coloraxis",
            "symbol": "circle"
           },
           "mode": "markers",
           "name": "",
           "scene": "scene",
           "showlegend": false,
           "type": "scatter3d",
           "x": [
            -0.0895149464692146,
            -0.23869167159561175,
            -0.6365853858664386,
            0,
            -0.6445610829386085,
            -0.2685448394076448,
            0.10546634061355524,
            -1.6293146080337404
           ],
           "y": [
            1.0245428965222148,
            0.980787955042489,
            0.4476192893129585,
            0,
            -0.441648655750552,
            -0.8315666729492082,
            -1.0046259323252316,
            -0.14124558502111073
           ],
           "z": [
            1.9675019866805008,
            0.9071798457507302,
            0.3819423201264862,
            0,
            0.36206991289638674,
            1.0205327695026878,
            2.064992630221886,
            -2.576283825211553
           ]
          },
          {
           "hoverlabel": {
            "namelength": 0
           },
           "hovertemplate": "<b>%{hovertext}</b><br><br>frame=52<br>x=%{x}<br>y=%{y}<br>z=%{z}",
           "hovertext": [
            "6",
            "5",
            "4",
            "3",
            "7",
            "8",
            "9",
            null
           ],
           "ids": [
            "6",
            "5",
            "4",
            "3",
            "7",
            "8",
            "9",
            null
           ],
           "legendgroup": "",
           "line": {
            "color": "#636efa",
            "dash": "solid"
           },
           "mode": "lines",
           "name": "",
           "scene": "scene",
           "showlegend": false,
           "type": "scatter3d",
           "x": [
            -0.0895149464692146,
            -0.23869167159561175,
            -0.6365853858664386,
            0,
            -0.6445610829386085,
            -0.2685448394076448,
            0.10546634061355524,
            -1.6293146080337404
           ],
           "y": [
            1.0245428965222148,
            0.980787955042489,
            0.4476192893129585,
            0,
            -0.441648655750552,
            -0.8315666729492082,
            -1.0046259323252316,
            -0.14124558502111073
           ],
           "z": [
            1.9675019866805008,
            0.9071798457507302,
            0.3819423201264862,
            0,
            0.36206991289638674,
            1.0205327695026878,
            2.064992630221886,
            -2.576283825211553
           ]
          }
         ],
         "name": "52"
        },
        {
         "data": [
          {
           "hoverlabel": {
            "namelength": 0
           },
           "hovertemplate": "<b>%{hovertext}</b><br><br>frame=53<br>x=%{x}<br>y=%{y}<br>z=%{z}<br>diff=%{marker.color}",
           "hovertext": [
            "6",
            "5",
            "4",
            "3",
            "7",
            "8",
            "9",
            null
           ],
           "ids": [
            "6",
            "5",
            "4",
            "3",
            "7",
            "8",
            "9",
            null
           ],
           "legendgroup": "",
           "marker": {
            "color": [
             1.284496233551985,
             1.0059706335624066,
             1.0139463306345773,
             0,
             1.0139463306345773,
             1.0059706335624066,
             1.2844962335519847,
             0
            ],
            "coloraxis": "coloraxis",
            "symbol": "circle"
           },
           "mode": "markers",
           "name": "",
           "scene": "scene",
           "showlegend": false,
           "type": "scatter3d",
           "x": [
            -0.11139241720907786,
            -0.2625742058452386,
            -0.6405509559190813,
            0,
            -0.6465215894814885,
            -0.28048610653245826,
            0.085549376416572,
            -1.6273095445239767
           ],
           "y": [
            1.1319697436786493,
            1.022582389979335,
            0.4535899228753651,
            0,
            -0.4515848593656018,
            -0.8872628815537471,
            -1.1200284765538362,
            -0.14124558502111073
           ],
           "z": [
            1.9297176787631816,
            0.8832973115011038,
            0.3720506734783201,
            0,
            0.36206991289638674,
            1.0066755528018785,
            2.0292133858143298,
            -2.578244331754433
           ]
          },
          {
           "hoverlabel": {
            "namelength": 0
           },
           "hovertemplate": "<b>%{hovertext}</b><br><br>frame=53<br>x=%{x}<br>y=%{y}<br>z=%{z}",
           "hovertext": [
            "6",
            "5",
            "4",
            "3",
            "7",
            "8",
            "9",
            null
           ],
           "ids": [
            "6",
            "5",
            "4",
            "3",
            "7",
            "8",
            "9",
            null
           ],
           "legendgroup": "",
           "line": {
            "color": "#636efa",
            "dash": "solid"
           },
           "mode": "lines",
           "name": "",
           "scene": "scene",
           "showlegend": false,
           "type": "scatter3d",
           "x": [
            -0.11139241720907786,
            -0.2625742058452386,
            -0.6405509559190813,
            0,
            -0.6465215894814885,
            -0.28048610653245826,
            0.085549376416572,
            -1.6273095445239767
           ],
           "y": [
            1.1319697436786493,
            1.022582389979335,
            0.4535899228753651,
            0,
            -0.4515848593656018,
            -0.8872628815537471,
            -1.1200284765538362,
            -0.14124558502111073
           ],
           "z": [
            1.9297176787631816,
            0.8832973115011038,
            0.3720506734783201,
            0,
            0.36206991289638674,
            1.0066755528018785,
            2.0292133858143298,
            -2.578244331754433
           ]
          }
         ],
         "name": "53"
        },
        {
         "data": [
          {
           "hoverlabel": {
            "namelength": 0
           },
           "hovertemplate": "<b>%{hovertext}</b><br><br>frame=54<br>x=%{x}<br>y=%{y}<br>z=%{z}<br>diff=%{marker.color}",
           "hovertext": [
            "6",
            "5",
            "4",
            "3",
            "7",
            "8",
            "9",
            null
           ],
           "ids": [
            "6",
            "5",
            "4",
            "3",
            "7",
            "8",
            "9",
            null
           ],
           "legendgroup": "",
           "marker": {
            "color": [
             1.284451676585101,
             0.9921134168615972,
             1.025843040792506,
             0,
             1.025843040792506,
             0.9921134168615974,
             1.2844516765851006,
             0
            ],
            "coloraxis": "coloraxis",
            "symbol": "circle"
           },
           "mode": "markers",
           "name": "",
           "scene": "scene",
           "showlegend": false,
           "type": "scatter3d",
           "x": [
            -0.12333368433389129,
            -0.28048610653245826,
            -0.6385904493762012,
            0,
            -0.6485266529912511,
            -0.28846180360462803,
            0.06964253923911495,
            -1.6293146080337404
           ],
           "y": [
            1.2115484865328146,
            1.0623272044395338,
            0.45358992287536515,
            0,
            -0.4555949863851285,
            -0.9151555428229002,
            -1.1996072194080016,
            -0.13928507847823096
           ],
           "z": [
            1.9018695744609122,
            0.8574097137417142,
            0.3759716865640797,
            0,
            0.36206991289638674,
            0.9887190951477751,
            2.00528629459782,
            -2.576283825211553
           ]
          },
          {
           "hoverlabel": {
            "namelength": 0
           },
           "hovertemplate": "<b>%{hovertext}</b><br><br>frame=54<br>x=%{x}<br>y=%{y}<br>z=%{z}",
           "hovertext": [
            "6",
            "5",
            "4",
            "3",
            "7",
            "8",
            "9",
            null
           ],
           "ids": [
            "6",
            "5",
            "4",
            "3",
            "7",
            "8",
            "9",
            null
           ],
           "legendgroup": "",
           "line": {
            "color": "#636efa",
            "dash": "solid"
           },
           "mode": "lines",
           "name": "",
           "scene": "scene",
           "showlegend": false,
           "type": "scatter3d",
           "x": [
            -0.12333368433389129,
            -0.28048610653245826,
            -0.6385904493762012,
            0,
            -0.6485266529912511,
            -0.28846180360462803,
            0.06964253923911495,
            -1.6293146080337404
           ],
           "y": [
            1.2115484865328146,
            1.0623272044395338,
            0.45358992287536515,
            0,
            -0.4555949863851285,
            -0.9151555428229002,
            -1.1996072194080016,
            -0.13928507847823096
           ],
           "z": [
            1.9018695744609122,
            0.8574097137417142,
            0.3759716865640797,
            0,
            0.36206991289638674,
            0.9887190951477751,
            2.00528629459782,
            -2.576283825211553
           ]
          }
         ],
         "name": "54"
        },
        {
         "data": [
          {
           "hoverlabel": {
            "namelength": 0
           },
           "hovertemplate": "<b>%{hovertext}</b><br><br>frame=55<br>x=%{x}<br>y=%{y}<br>z=%{z}<br>diff=%{marker.color}",
           "hovertext": [
            "6",
            "5",
            "4",
            "3",
            "7",
            "8",
            "9",
            null
           ],
           "ids": [
            "6",
            "5",
            "4",
            "3",
            "7",
            "8",
            "9",
            null
           ],
           "legendgroup": "",
           "marker": {
            "color": [
             1.262574205845238,
             1.005926076595524,
             1.0158177232436891,
             0,
             1.0158177232436891,
             1.0059260765955238,
             1.2625742058452383,
             0
            ],
            "coloraxis": "coloraxis",
            "symbol": "circle"
           },
           "mode": "markers",
           "name": "",
           "scene": "scene",
           "showlegend": false,
           "type": "scatter3d",
           "x": [
            -0.12930431789629748,
            -0.28445167658510084,
            -0.6385904493762012,
            0,
            -0.6485266529912511,
            -0.3023635772723215,
            0.05373570206165892,
            -1.6293146080337404
           ],
           "y": [
            1.2951373564065067,
            1.0961904992710936,
            0.46357068345729846,
            0,
            -0.45951599947088806,
            -0.9469246602109292,
            -1.27321532869976,
            -0.13527495145870416
           ],
           "z": [
            1.8660457730864726,
            0.8375373065116147,
            0.3720061165114365,
            0,
            0.36206991289638674,
            0.9748173214800824,
            1.9675019866805008,
            -2.5742787617017897
           ]
          },
          {
           "hoverlabel": {
            "namelength": 0
           },
           "hovertemplate": "<b>%{hovertext}</b><br><br>frame=55<br>x=%{x}<br>y=%{y}<br>z=%{z}",
           "hovertext": [
            "6",
            "5",
            "4",
            "3",
            "7",
            "8",
            "9",
            null
           ],
           "ids": [
            "6",
            "5",
            "4",
            "3",
            "7",
            "8",
            "9",
            null
           ],
           "legendgroup": "",
           "line": {
            "color": "#636efa",
            "dash": "solid"
           },
           "mode": "lines",
           "name": "",
           "scene": "scene",
           "showlegend": false,
           "type": "scatter3d",
           "x": [
            -0.12930431789629748,
            -0.28445167658510084,
            -0.6385904493762012,
            0,
            -0.6485266529912511,
            -0.3023635772723215,
            0.05373570206165892,
            -1.6293146080337404
           ],
           "y": [
            1.2951373564065067,
            1.0961904992710936,
            0.46357068345729846,
            0,
            -0.45951599947088806,
            -0.9469246602109292,
            -1.27321532869976,
            -0.13527495145870416
           ],
           "z": [
            1.8660457730864726,
            0.8375373065116147,
            0.3720061165114365,
            0,
            0.36206991289638674,
            0.9748173214800824,
            1.9675019866805008,
            -2.5742787617017897
           ]
          }
         ],
         "name": "55"
        },
        {
         "data": [
          {
           "hoverlabel": {
            "namelength": 0
           },
           "hovertemplate": "<b>%{hovertext}</b><br><br>frame=56<br>x=%{x}<br>y=%{y}<br>z=%{z}<br>diff=%{marker.color}",
           "hovertext": [
            "6",
            "5",
            "4",
            "3",
            "7",
            "8",
            "9",
            null
           ],
           "ids": [
            "6",
            "5",
            "4",
            "3",
            "7",
            "8",
            "9",
            null
           ],
           "legendgroup": "",
           "marker": {
            "color": [
             1.2665843328647652,
             1.0020050635097633,
             1.0119412671248136,
             0,
             1.0119412671248136,
             1.0020050635097628,
             1.2665843328647652,
             0
            ],
            "coloraxis": "coloraxis",
            "symbol": "circle"
           },
           "mode": "markers",
           "name": "",
           "scene": "scene",
           "showlegend": false,
           "type": "scatter3d",
           "x": [
            -0.12729925438653492,
            -0.28449623355198544,
            -0.632619815813795,
            0,
            -0.6445610829386085,
            -0.3004030707294415,
            0.04179443493684548,
            -1.6313196715435039
           ],
           "y": [
            1.3826026823990747,
            1.1359353137312926,
            0.46949676005282137,
            0,
            -0.4615656199475351,
            -0.9827930185522523,
            -1.370705972241145,
            -0.1333144449158244
           ],
           "z": [
            1.8183252615541037,
            0.8037185686469387,
            0.37000105300167313,
            0,
            0.36206991289638674,
            0.942959090158286,
            1.9277126152534183,
            -2.576283825211553
           ]
          },
          {
           "hoverlabel": {
            "namelength": 0
           },
           "hovertemplate": "<b>%{hovertext}</b><br><br>frame=56<br>x=%{x}<br>y=%{y}<br>z=%{z}",
           "hovertext": [
            "6",
            "5",
            "4",
            "3",
            "7",
            "8",
            "9",
            null
           ],
           "ids": [
            "6",
            "5",
            "4",
            "3",
            "7",
            "8",
            "9",
            null
           ],
           "legendgroup": "",
           "line": {
            "color": "#636efa",
            "dash": "solid"
           },
           "mode": "lines",
           "name": "",
           "scene": "scene",
           "showlegend": false,
           "type": "scatter3d",
           "x": [
            -0.12729925438653492,
            -0.28449623355198544,
            -0.632619815813795,
            0,
            -0.6445610829386085,
            -0.3004030707294415,
            0.04179443493684548,
            -1.6313196715435039
           ],
           "y": [
            1.3826026823990747,
            1.1359353137312926,
            0.46949676005282137,
            0,
            -0.4615656199475351,
            -0.9827930185522523,
            -1.370705972241145,
            -0.1333144449158244
           ],
           "z": [
            1.8183252615541037,
            0.8037185686469387,
            0.37000105300167313,
            0,
            0.36206991289638674,
            0.942959090158286,
            1.9277126152534183,
            -2.576283825211553
           ]
          }
         ],
         "name": "56"
        },
        {
         "data": [
          {
           "hoverlabel": {
            "namelength": 0
           },
           "hovertemplate": "<b>%{hovertext}</b><br><br>frame=57<br>x=%{x}<br>y=%{y}<br>z=%{z}<br>diff=%{marker.color}",
           "hovertext": [
            "6",
            "5",
            "4",
            "3",
            "7",
            "8",
            "9",
            null
           ],
           "ids": [
            "6",
            "5",
            "4",
            "3",
            "7",
            "8",
            "9",
            null
           ],
           "legendgroup": "",
           "marker": {
            "color": [
             1.2486724321775453,
             1.00196050654288,
             0.9940293664375939,
             0,
             0.9940293664375939,
             1.00196050654288,
             1.2486724321775453,
             0
            ],
            "coloraxis": "coloraxis",
            "symbol": "circle"
           },
           "mode": "markers",
           "name": "",
           "scene": "scene",
           "showlegend": false,
           "type": "scatter3d",
           "x": [
            -0.12137317779101127,
            -0.29443243716703427,
            -0.6286542457611514,
            0,
            -0.6405955128859648,
            -0.3063737042918477,
            0.03778430791731929,
            -1.63729030510591
           ],
           "y": [
            1.4880690230126297,
            1.1797348121779019,
            0.48540359723027776,
            0,
            -0.4575554929280083,
            -1.0324740366275011,
            -1.4761277558878163,
            -0.131309381406061
           ],
           "z": [
            1.762584495982681,
            0.7758704643446692,
            0.370001053001673,
            0,
            0.36006484938662325,
            0.9131504793131368,
            1.864040709576709,
            -2.570313191649146
           ]
          },
          {
           "hoverlabel": {
            "namelength": 0
           },
           "hovertemplate": "<b>%{hovertext}</b><br><br>frame=57<br>x=%{x}<br>y=%{y}<br>z=%{z}",
           "hovertext": [
            "6",
            "5",
            "4",
            "3",
            "7",
            "8",
            "9",
            null
           ],
           "ids": [
            "6",
            "5",
            "4",
            "3",
            "7",
            "8",
            "9",
            null
           ],
           "legendgroup": "",
           "line": {
            "color": "#636efa",
            "dash": "solid"
           },
           "mode": "lines",
           "name": "",
           "scene": "scene",
           "showlegend": false,
           "type": "scatter3d",
           "x": [
            -0.12137317779101127,
            -0.29443243716703427,
            -0.6286542457611514,
            0,
            -0.6405955128859648,
            -0.3063737042918477,
            0.03778430791731929,
            -1.63729030510591
           ],
           "y": [
            1.4880690230126297,
            1.1797348121779019,
            0.48540359723027776,
            0,
            -0.4575554929280083,
            -1.0324740366275011,
            -1.4761277558878163,
            -0.131309381406061
           ],
           "z": [
            1.762584495982681,
            0.7758704643446692,
            0.370001053001673,
            0,
            0.36006484938662325,
            0.9131504793131368,
            1.864040709576709,
            -2.570313191649146
           ]
          }
         ],
         "name": "57"
        },
        {
         "data": [
          {
           "hoverlabel": {
            "namelength": 0
           },
           "hovertemplate": "<b>%{hovertext}</b><br><br>frame=58<br>x=%{x}<br>y=%{y}<br>z=%{z}<br>diff=%{marker.color}",
           "hovertext": [
            "6",
            "5",
            "4",
            "3",
            "7",
            "8",
            "9",
            null
           ],
           "ids": [
            "6",
            "5",
            "4",
            "3",
            "7",
            "8",
            "9",
            null
           ],
           "legendgroup": "",
           "marker": {
            "color": [
             1.2327655950000886,
             1.0417944349368458,
             0.9979503795233524,
             0,
             0.9979503795233523,
             1.0417944349368458,
             1.2327655950000889,
             0
            ],
            "coloraxis": "coloraxis",
            "symbol": "circle"
           },
           "mode": "markers",
           "name": "",
           "scene": "scene",
           "showlegend": false,
           "type": "scatter3d",
           "x": [
            -0.11143697417596145,
            -0.29844256418656145,
            -0.6246886757085088,
            0,
            -0.6386350063430848,
            -0.3143494013640175,
            0.0437549414797255,
            -1.6452660021780798
           ],
           "y": [
            1.605432073784114,
            1.2214846901478642,
            0.48941372424980456,
            0,
            -0.46749169654305806,
            -1.09418543576133,
            -1.5954958701690642,
            -0.131309381406061
           ],
           "z": [
            1.681045246585636,
            0.7241398257927735,
            0.3739666230543162,
            0,
            0.3680405464587933,
            0.8773266779386973,
            1.7685551295450874,
            -2.566347621596503
           ]
          },
          {
           "hoverlabel": {
            "namelength": 0
           },
           "hovertemplate": "<b>%{hovertext}</b><br><br>frame=58<br>x=%{x}<br>y=%{y}<br>z=%{z}",
           "hovertext": [
            "6",
            "5",
            "4",
            "3",
            "7",
            "8",
            "9",
            null
           ],
           "ids": [
            "6",
            "5",
            "4",
            "3",
            "7",
            "8",
            "9",
            null
           ],
           "legendgroup": "",
           "line": {
            "color": "#636efa",
            "dash": "solid"
           },
           "mode": "lines",
           "name": "",
           "scene": "scene",
           "showlegend": false,
           "type": "scatter3d",
           "x": [
            -0.11143697417596145,
            -0.29844256418656145,
            -0.6246886757085088,
            0,
            -0.6386350063430848,
            -0.3143494013640175,
            0.0437549414797255,
            -1.6452660021780798
           ],
           "y": [
            1.605432073784114,
            1.2214846901478642,
            0.48941372424980456,
            0,
            -0.46749169654305806,
            -1.09418543576133,
            -1.5954958701690642,
            -0.131309381406061
           ],
           "z": [
            1.681045246585636,
            0.7241398257927735,
            0.3739666230543162,
            0,
            0.3680405464587933,
            0.8773266779386973,
            1.7685551295450874,
            -2.566347621596503
           ]
          }
         ],
         "name": "58"
        },
        {
         "data": [
          {
           "hoverlabel": {
            "namelength": 0
           },
           "hovertemplate": "<b>%{hovertext}</b><br><br>frame=59<br>x=%{x}<br>y=%{y}<br>z=%{z}<br>diff=%{marker.color}",
           "hovertext": [
            "6",
            "5",
            "4",
            "3",
            "7",
            "8",
            "9",
            null
           ],
           "ids": [
            "6",
            "5",
            "4",
            "3",
            "7",
            "8",
            "9",
            null
           ],
           "legendgroup": "",
           "marker": {
            "color": [
             1.240696735105376,
             1.0437103845128415,
             0.9919797459609465,
             0,
             0.9919797459609466,
             1.0437103845128417,
             1.2406967351053757,
             0
            ],
            "coloraxis": "coloraxis",
            "symbol": "circle"
           },
           "mode": "markers",
           "name": "",
           "scene": "scene",
           "showlegend": false,
           "type": "scatter3d",
           "x": [
            -0.10346127710379163,
            -0.2983980072196779,
            -0.6206785486889816,
            0,
            -0.632619815813795,
            -0.3103392743444903,
            0.04972557504213272,
            -1.6531971422833662
           ],
           "y": [
            1.7268052515751253,
            1.2791859622621666,
            0.5013549913746177,
            0,
            -0.4813934702107509,
            -1.1498370873989854,
            -1.7427120887525815,
            -0.1293043178962976
           ],
           "z": [
            1.583554603044251,
            0.6644780471355913,
            0.3760162435309633,
            0,
            0.3760162435309633,
            0.8255960393868016,
            1.6551576488262465,
            -2.5583719245243333
           ]
          },
          {
           "hoverlabel": {
            "namelength": 0
           },
           "hovertemplate": "<b>%{hovertext}</b><br><br>frame=59<br>x=%{x}<br>y=%{y}<br>z=%{z}",
           "hovertext": [
            "6",
            "5",
            "4",
            "3",
            "7",
            "8",
            "9",
            null
           ],
           "ids": [
            "6",
            "5",
            "4",
            "3",
            "7",
            "8",
            "9",
            null
           ],
           "legendgroup": "",
           "line": {
            "color": "#636efa",
            "dash": "solid"
           },
           "mode": "lines",
           "name": "",
           "scene": "scene",
           "showlegend": false,
           "type": "scatter3d",
           "x": [
            -0.10346127710379163,
            -0.2983980072196779,
            -0.6206785486889816,
            0,
            -0.632619815813795,
            -0.3103392743444903,
            0.04972557504213272,
            -1.6531971422833662
           ],
           "y": [
            1.7268052515751253,
            1.2791859622621666,
            0.5013549913746177,
            0,
            -0.4813934702107509,
            -1.1498370873989854,
            -1.7427120887525815,
            -0.1293043178962976
           ],
           "z": [
            1.583554603044251,
            0.6644780471355913,
            0.3760162435309633,
            0,
            0.3760162435309633,
            0.8255960393868016,
            1.6551576488262465,
            -2.5583719245243333
           ]
          }
         ],
         "name": "59"
        },
        {
         "data": [
          {
           "hoverlabel": {
            "namelength": 0
           },
           "hovertemplate": "<b>%{hovertext}</b><br><br>frame=60<br>x=%{x}<br>y=%{y}<br>z=%{z}<br>diff=%{marker.color}",
           "hovertext": [
            "6",
            "5",
            "4",
            "3",
            "7",
            "8",
            "9",
            null
           ],
           "ids": [
            "6",
            "5",
            "4",
            "3",
            "7",
            "8",
            "9",
            null
           ],
           "legendgroup": "",
           "marker": {
            "color": [
             1.244662305158019,
             1.051730638551895,
             0.9860536693654226,
             0,
             0.9860536693654226,
             1.0517306385518952,
             1.244662305158019,
             0
            ],
            "coloraxis": "coloraxis",
            "symbol": "circle"
           },
           "mode": "markers",
           "name": "",
           "scene": "scene",
           "showlegend": false,
           "type": "scatter3d",
           "x": [
            -0.09147545301209462,
            -0.30833421083472773,
            -0.6147079151265754,
            0,
            -0.6266491822513878,
            -0.3103392743444903,
            0.05770127211430253,
            -1.6611282823886524
           ],
           "y": [
            1.8620802030338293,
            1.328911537304299,
            0.517261828552074,
            0,
            -0.49137423079268433,
            -1.219479626638101,
            -1.8998645109511485,
            -0.12533874784365442
           ],
           "z": [
            1.4522452216381898,
            0.5908699378438328,
            0.3760162435309633,
            0,
            0.3760162435309633,
            0.7500274235521632,
            1.5099464937524925,
            -2.5524012909619267
           ]
          },
          {
           "hoverlabel": {
            "namelength": 0
           },
           "hovertemplate": "<b>%{hovertext}</b><br><br>frame=60<br>x=%{x}<br>y=%{y}<br>z=%{z}",
           "hovertext": [
            "6",
            "5",
            "4",
            "3",
            "7",
            "8",
            "9",
            null
           ],
           "ids": [
            "6",
            "5",
            "4",
            "3",
            "7",
            "8",
            "9",
            null
           ],
           "legendgroup": "",
           "line": {
            "color": "#636efa",
            "dash": "solid"
           },
           "mode": "lines",
           "name": "",
           "scene": "scene",
           "showlegend": false,
           "type": "scatter3d",
           "x": [
            -0.09147545301209462,
            -0.30833421083472773,
            -0.6147079151265754,
            0,
            -0.6266491822513878,
            -0.3103392743444903,
            0.05770127211430253,
            -1.6611282823886524
           ],
           "y": [
            1.8620802030338293,
            1.328911537304299,
            0.517261828552074,
            0,
            -0.49137423079268433,
            -1.219479626638101,
            -1.8998645109511485,
            -0.12533874784365442
           ],
           "z": [
            1.4522452216381898,
            0.5908699378438328,
            0.3760162435309633,
            0,
            0.3760162435309633,
            0.7500274235521632,
            1.5099464937524925,
            -2.5524012909619267
           ]
          }
         ],
         "name": "60"
        },
        {
         "data": [
          {
           "hoverlabel": {
            "namelength": 0
           },
           "hovertemplate": "<b>%{hovertext}</b><br><br>frame=61<br>x=%{x}<br>y=%{y}<br>z=%{z}<br>diff=%{marker.color}",
           "hovertext": [
            "6",
            "5",
            "4",
            "3",
            "7",
            "8",
            "9",
            null
           ],
           "ids": [
            "6",
            "5",
            "4",
            "3",
            "7",
            "8",
            "9",
            null
           ],
           "legendgroup": "",
           "marker": {
            "color": [
             1.2108435672933426,
             1.0556516516376555,
             0.9940293664375927,
             0,
             0.9940293664375927,
             1.0556516516376555,
             1.2108435672933426,
             0
            ],
            "coloraxis": "coloraxis",
            "symbol": "circle"
           },
           "mode": "markers",
           "name": "",
           "scene": "scene",
           "showlegend": false,
           "type": "scatter3d",
           "x": [
            -0.08354431290680839,
            -0.3083342108347267,
            -0.6047717115115255,
            0,
            -0.616712978636338,
            -0.3083342108347267,
            0.06563241221958875,
            -1.6691039794608222
           ],
           "y": [
            1.9854138873677203,
            1.3647353386787384,
            0.5291585387100036,
            0,
            -0.509286131479904,
            -1.2712102651899968,
            -2.0152670551797534,
            -0.11936811428124787
           ],
           "z": [
            1.3170148271463695,
            0.525237525624244,
            0.37998181358360644,
            0,
            0.3780213070407266,
            0.674414250750641,
            1.348828501501282,
            -2.544425593889757
           ]
          },
          {
           "hoverlabel": {
            "namelength": 0
           },
           "hovertemplate": "<b>%{hovertext}</b><br><br>frame=61<br>x=%{x}<br>y=%{y}<br>z=%{z}",
           "hovertext": [
            "6",
            "5",
            "4",
            "3",
            "7",
            "8",
            "9",
            null
           ],
           "ids": [
            "6",
            "5",
            "4",
            "3",
            "7",
            "8",
            "9",
            null
           ],
           "legendgroup": "",
           "line": {
            "color": "#636efa",
            "dash": "solid"
           },
           "mode": "lines",
           "name": "",
           "scene": "scene",
           "showlegend": false,
           "type": "scatter3d",
           "x": [
            -0.08354431290680839,
            -0.3083342108347267,
            -0.6047717115115255,
            0,
            -0.616712978636338,
            -0.3083342108347267,
            0.06563241221958875,
            -1.6691039794608222
           ],
           "y": [
            1.9854138873677203,
            1.3647353386787384,
            0.5291585387100036,
            0,
            -0.509286131479904,
            -1.2712102651899968,
            -2.0152670551797534,
            -0.11936811428124787
           ],
           "z": [
            1.3170148271463695,
            0.525237525624244,
            0.37998181358360644,
            0,
            0.3780213070407266,
            0.674414250750641,
            1.348828501501282,
            -2.544425593889757
           ]
          }
         ],
         "name": "61"
        },
        {
         "data": [
          {
           "hoverlabel": {
            "namelength": 0
           },
           "hovertemplate": "<b>%{hovertext}</b><br><br>frame=62<br>x=%{x}<br>y=%{y}<br>z=%{z}<br>diff=%{marker.color}",
           "hovertext": [
            "6",
            "5",
            "4",
            "3",
            "7",
            "8",
            "9",
            null
           ],
           "ids": [
            "6",
            "5",
            "4",
            "3",
            "7",
            "8",
            "9",
            null
           ],
           "legendgroup": "",
           "marker": {
            "color": [
             1.2009964776120599,
             1.085593933383455,
             0.9921134168615975,
             0,
             0.9921134168615975,
             1.085593933383455,
             1.2009964776120599,
             0
            ],
            "coloraxis": "coloraxis",
            "symbol": "circle"
           },
           "mode": "markers",
           "name": "",
           "scene": "scene",
           "showlegend": false,
           "type": "scatter3d",
           "x": [
            -0.06964253923911597,
            -0.3044131977489687,
            -0.598845634916003,
            0,
            -0.6087818385310528,
            -0.3103838313113749,
            0.06763747572935135,
            -1.677079676532993
           ],
           "y": [
            2.0868701009617485,
            1.3945439495238878,
            0.5390947423250534,
            0,
            -0.5192668920618375,
            -1.3170148271463695,
            -2.0968508615436816,
            -0.11740760773836807
           ],
           "z": [
            1.1717145581388482,
            0.46152106298065143,
            0.37597168656407964,
            0,
            0.37797675007384307,
            0.6186734851792185,
            1.2254502602005075,
            -2.5384995172942335
           ]
          },
          {
           "hoverlabel": {
            "namelength": 0
           },
           "hovertemplate": "<b>%{hovertext}</b><br><br>frame=62<br>x=%{x}<br>y=%{y}<br>z=%{z}",
           "hovertext": [
            "6",
            "5",
            "4",
            "3",
            "7",
            "8",
            "9",
            null
           ],
           "ids": [
            "6",
            "5",
            "4",
            "3",
            "7",
            "8",
            "9",
            null
           ],
           "legendgroup": "",
           "line": {
            "color": "#636efa",
            "dash": "solid"
           },
           "mode": "lines",
           "name": "",
           "scene": "scene",
           "showlegend": false,
           "type": "scatter3d",
           "x": [
            -0.06964253923911597,
            -0.3044131977489687,
            -0.598845634916003,
            0,
            -0.6087818385310528,
            -0.3103838313113749,
            0.06763747572935135,
            -1.677079676532993
           ],
           "y": [
            2.0868701009617485,
            1.3945439495238878,
            0.5390947423250534,
            0,
            -0.5192668920618375,
            -1.3170148271463695,
            -2.0968508615436816,
            -0.11740760773836807
           ],
           "z": [
            1.1717145581388482,
            0.46152106298065143,
            0.37597168656407964,
            0,
            0.37797675007384307,
            0.6186734851792185,
            1.2254502602005075,
            -2.5384995172942335
           ]
          }
         ],
         "name": "62"
        },
        {
         "data": [
          {
           "hoverlabel": {
            "namelength": 0
           },
           "hovertemplate": "<b>%{hovertext}</b><br><br>frame=63<br>x=%{x}<br>y=%{y}<br>z=%{z}<br>diff=%{marker.color}",
           "hovertext": [
            "6",
            "5",
            "4",
            "3",
            "7",
            "8",
            "9",
            null
           ],
           "ids": [
            "6",
            "5",
            "4",
            "3",
            "7",
            "8",
            "9",
            null
           ],
           "legendgroup": "",
           "marker": {
            "color": [
             1.1989914141022968,
             1.105466340613555,
             0.9841377197894268,
             0,
             0.9841377197894268,
             1.1054663406135554,
             1.1989914141022968,
             0
            ],
            "coloraxis": "coloraxis",
            "symbol": "circle"
           },
           "mode": "markers",
           "name": "",
           "scene": "scene",
           "showlegend": false,
           "type": "scatter3d",
           "x": [
            -0.04776506849925271,
            -0.29643750067679786,
            -0.5908699378438331,
            0,
            -0.6028112049686456,
            -0.3063737042918477,
            0.07360810929175857,
            -1.6830503100953993
           ],
           "y": [
            2.1803506174836067,
            1.4243971173359207,
            0.557006643012273,
            0,
            -0.5271980321671238,
            -1.3428578679388756,
            -2.1843607445031337,
            -0.1114369741759615
           ],
           "z": [
            1.020532769502688,
            0.37200611651143645,
            0.3739666230543162,
            0,
            0.37597168656407964,
            0.5490755029069867,
            1.0941408787944467,
            -2.5325288837318274
           ]
          },
          {
           "hoverlabel": {
            "namelength": 0
           },
           "hovertemplate": "<b>%{hovertext}</b><br><br>frame=63<br>x=%{x}<br>y=%{y}<br>z=%{z}",
           "hovertext": [
            "6",
            "5",
            "4",
            "3",
            "7",
            "8",
            "9",
            null
           ],
           "ids": [
            "6",
            "5",
            "4",
            "3",
            "7",
            "8",
            "9",
            null
           ],
           "legendgroup": "",
           "line": {
            "color": "#636efa",
            "dash": "solid"
           },
           "mode": "lines",
           "name": "",
           "scene": "scene",
           "showlegend": false,
           "type": "scatter3d",
           "x": [
            -0.04776506849925271,
            -0.29643750067679786,
            -0.5908699378438331,
            0,
            -0.6028112049686456,
            -0.3063737042918477,
            0.07360810929175857,
            -1.6830503100953993
           ],
           "y": [
            2.1803506174836067,
            1.4243971173359207,
            0.557006643012273,
            0,
            -0.5271980321671238,
            -1.3428578679388756,
            -2.1843607445031337,
            -0.1114369741759615
           ],
           "z": [
            1.020532769502688,
            0.37200611651143645,
            0.3739666230543162,
            0,
            0.37597168656407964,
            0.5490755029069867,
            1.0941408787944467,
            -2.5325288837318274
           ]
          }
         ],
         "name": "63"
        },
        {
         "data": [
          {
           "hoverlabel": {
            "namelength": 0
           },
           "hovertemplate": "<b>%{hovertext}</b><br><br>frame=64<br>x=%{x}<br>y=%{y}<br>z=%{z}<br>diff=%{marker.color}",
           "hovertext": [
            "6",
            "5",
            "4",
            "3",
            "7",
            "8",
            "9",
            null
           ],
           "ids": [
            "6",
            "5",
            "4",
            "3",
            "7",
            "8",
            "9",
            null
           ],
           "legendgroup": "",
           "marker": {
            "color": [
             1.220779770908392,
             1.121373177791011,
             0.9701913891548513,
             0,
             0.9701913891548513,
             1.121373177791011,
             1.220779770908392,
             0
            ],
            "coloraxis": "coloraxis",
            "symbol": "circle"
           },
           "mode": "markers",
           "name": "",
           "scene": "scene",
           "showlegend": false,
           "type": "scatter3d",
           "x": [
            -0.035823801374439274,
            -0.29443243716703427,
            -0.5808891772618987,
            0,
            -0.5948355078964758,
            -0.30040307072944045,
            0.08354431290680839,
            -1.6870158801480417
           ],
           "y": [
            2.2699101209197052,
            1.4582158552005966,
            0.5868598108243059,
            0,
            -0.5371342357821736,
            -1.3687009087313817,
            -2.2400569531076724,
            -0.1094319106661981
           ],
           "z": [
            0.835576799968735,
            0.2824911700422215,
            0.36804054645879336,
            0,
            0.3740111800211999,
            0.4874086607400412,
            0.9668416244079122,
            -2.5285187567123
           ]
          },
          {
           "hoverlabel": {
            "namelength": 0
           },
           "hovertemplate": "<b>%{hovertext}</b><br><br>frame=64<br>x=%{x}<br>y=%{y}<br>z=%{z}",
           "hovertext": [
            "6",
            "5",
            "4",
            "3",
            "7",
            "8",
            "9",
            null
           ],
           "ids": [
            "6",
            "5",
            "4",
            "3",
            "7",
            "8",
            "9",
            null
           ],
           "legendgroup": "",
           "line": {
            "color": "#636efa",
            "dash": "solid"
           },
           "mode": "lines",
           "name": "",
           "scene": "scene",
           "showlegend": false,
           "type": "scatter3d",
           "x": [
            -0.035823801374439274,
            -0.29443243716703427,
            -0.5808891772618987,
            0,
            -0.5948355078964758,
            -0.30040307072944045,
            0.08354431290680839,
            -1.6870158801480417
           ],
           "y": [
            2.2699101209197052,
            1.4582158552005966,
            0.5868598108243059,
            0,
            -0.5371342357821736,
            -1.3687009087313817,
            -2.2400569531076724,
            -0.1094319106661981
           ],
           "z": [
            0.835576799968735,
            0.2824911700422215,
            0.36804054645879336,
            0,
            0.3740111800211999,
            0.4874086607400412,
            0.9668416244079122,
            -2.5285187567123
           ]
          }
         ],
         "name": "64"
        },
        {
         "data": [
          {
           "hoverlabel": {
            "namelength": 0
           },
           "hovertemplate": "<b>%{hovertext}</b><br><br>frame=65<br>x=%{x}<br>y=%{y}<br>z=%{z}<br>diff=%{marker.color}",
           "hovertext": [
            "6",
            "5",
            "4",
            "3",
            "7",
            "8",
            "9",
            null
           ],
           "ids": [
            "6",
            "5",
            "4",
            "3",
            "7",
            "8",
            "9",
            null
           ],
           "legendgroup": "",
           "marker": {
            "color": [
             1.2506774956873077,
             1.1731483733097898,
             0.978122529260137,
             0,
             0.978122529260137,
             1.1731483733097896,
             1.2506774956873077,
             0
            ],
            "coloraxis": "coloraxis",
            "symbol": "circle"
           },
           "mode": "markers",
           "name": "",
           "scene": "scene",
           "showlegend": false,
           "type": "scatter3d",
           "x": [
            -0.015906837177456033,
            -0.29242737365727167,
            -0.5749631006663761,
            0,
            -0.5828942407716623,
            -0.29643750067679786,
            0.09348051652185822,
            -1.6949915772202127
           ],
           "y": [
            2.3395081031919376,
            1.4780882624306964,
            0.6087372815641688,
            0,
            -0.5550461364693933,
            -1.4025196465960577,
            -2.305733922294144,
            -0.1114369741759615
           ],
           "z": [
            0.6167129786363388,
            0.16713318278050043,
            0.35413877279110034,
            0,
            0.3780213070407267,
            0.41184004490540277,
            0.7917773015221256,
            -2.520543059640131
           ]
          },
          {
           "hoverlabel": {
            "namelength": 0
           },
           "hovertemplate": "<b>%{hovertext}</b><br><br>frame=65<br>x=%{x}<br>y=%{y}<br>z=%{z}",
           "hovertext": [
            "6",
            "5",
            "4",
            "3",
            "7",
            "8",
            "9",
            null
           ],
           "ids": [
            "6",
            "5",
            "4",
            "3",
            "7",
            "8",
            "9",
            null
           ],
           "legendgroup": "",
           "line": {
            "color": "#636efa",
            "dash": "solid"
           },
           "mode": "lines",
           "name": "",
           "scene": "scene",
           "showlegend": false,
           "type": "scatter3d",
           "x": [
            -0.015906837177456033,
            -0.29242737365727167,
            -0.5749631006663761,
            0,
            -0.5828942407716623,
            -0.29643750067679786,
            0.09348051652185822,
            -1.6949915772202127
           ],
           "y": [
            2.3395081031919376,
            1.4780882624306964,
            0.6087372815641688,
            0,
            -0.5550461364693933,
            -1.4025196465960577,
            -2.305733922294144,
            -0.1114369741759615
           ],
           "z": [
            0.6167129786363388,
            0.16713318278050043,
            0.35413877279110034,
            0,
            0.3780213070407267,
            0.41184004490540277,
            0.7917773015221256,
            -2.520543059640131
           ]
          }
         ],
         "name": "65"
        },
        {
         "data": [
          {
           "hoverlabel": {
            "namelength": 0
           },
           "hovertemplate": "<b>%{hovertext}</b><br><br>frame=66<br>x=%{x}<br>y=%{y}<br>z=%{z}<br>diff=%{marker.color}",
           "hovertext": [
            "6",
            "5",
            "4",
            "3",
            "7",
            "8",
            "9",
            null
           ],
           "ids": [
            "6",
            "5",
            "4",
            "3",
            "7",
            "8",
            "9",
            null
           ],
           "legendgroup": "",
           "marker": {
            "color": [
             1.2904223101475079,
             1.2247898979279188,
             0.972107338730847,
             0,
             0.9721073387308469,
             1.2247898979279188,
             1.2904223101475079,
             0
            ],
            "coloraxis": "coloraxis",
            "symbol": "circle"
           },
           "mode": "markers",
           "name": "",
           "scene": "scene",
           "showlegend": false,
           "type": "scatter3d",
           "x": [
            -0.007931140105286222,
            -0.2983980072196779,
            -0.5629772765746791,
            0,
            -0.5729134801897289,
            -0.2904223101475081,
            0.09749064354138441,
            -1.7009176538157353
           ],
           "y": [
            2.401219502325766,
            1.4940396565750362,
            0.6326643727806788,
            0,
            -0.564982340084443,
            -1.4283626873885638,
            -2.3574200038791573,
            -0.11139241720907787
           ],
           "z": [
            0.3918785237415359,
            0.05369114509477554,
            0.34215294869940355,
            0,
            0.3720061165114365,
            0.336182315136997,
            0.6206785486889819,
            -2.5146169830446072
           ]
          },
          {
           "hoverlabel": {
            "namelength": 0
           },
           "hovertemplate": "<b>%{hovertext}</b><br><br>frame=66<br>x=%{x}<br>y=%{y}<br>z=%{z}",
           "hovertext": [
            "6",
            "5",
            "4",
            "3",
            "7",
            "8",
            "9",
            null
           ],
           "ids": [
            "6",
            "5",
            "4",
            "3",
            "7",
            "8",
            "9",
            null
           ],
           "legendgroup": "",
           "line": {
            "color": "#636efa",
            "dash": "solid"
           },
           "mode": "lines",
           "name": "",
           "scene": "scene",
           "showlegend": false,
           "type": "scatter3d",
           "x": [
            -0.007931140105286222,
            -0.2983980072196779,
            -0.5629772765746791,
            0,
            -0.5729134801897289,
            -0.2904223101475081,
            0.09749064354138441,
            -1.7009176538157353
           ],
           "y": [
            2.401219502325766,
            1.4940396565750362,
            0.6326643727806788,
            0,
            -0.564982340084443,
            -1.4283626873885638,
            -2.3574200038791573,
            -0.11139241720907787
           ],
           "z": [
            0.3918785237415359,
            0.05369114509477554,
            0.34215294869940355,
            0,
            0.3720061165114365,
            0.336182315136997,
            0.6206785486889819,
            -2.5146169830446072
           ]
          }
         ],
         "name": "66"
        },
        {
         "data": [
          {
           "hoverlabel": {
            "namelength": 0
           },
           "hovertemplate": "<b>%{hovertext}</b><br><br>frame=67<br>x=%{x}<br>y=%{y}<br>z=%{z}<br>diff=%{marker.color}",
           "hovertext": [
            "6",
            "5",
            "4",
            "3",
            "7",
            "8",
            "9",
            null
           ],
           "ids": [
            "6",
            "5",
            "4",
            "3",
            "7",
            "8",
            "9",
            null
           ],
           "legendgroup": "",
           "marker": {
            "color": [
             1.3203645918933082,
             1.2487169891444292,
             0.9781225292601365,
             0,
             0.9781225292601365,
             1.248716989144429,
             1.3203645918933082,
             0
            ],
            "coloraxis": "coloraxis",
            "symbol": "circle"
           },
           "mode": "markers",
           "name": "",
           "scene": "scene",
           "showlegend": false,
           "type": "scatter3d",
           "x": [
            0.0040101270195272085,
            -0.2983980072196779,
            -0.5570066430122729,
            0,
            -0.5609722130649155,
            -0.28645674009486444,
            0.09949570705114903,
            -1.7088933508879052
           ],
           "y": [
            2.4190868460461026,
            1.4960001631179158,
            0.6505317165010148,
            0,
            -0.5848993042814261,
            -1.446319145042667,
            -2.3972539322731232,
            -0.11740760773836807
           ],
           "z": [
            0.19297622357300653,
            -0.039744814460198986,
            0.33622687210388064,
            0,
            0.3760162435309633,
            0.2467119256346657,
            0.43968814920767224,
            -2.5026311589529113
           ]
          },
          {
           "hoverlabel": {
            "namelength": 0
           },
           "hovertemplate": "<b>%{hovertext}</b><br><br>frame=67<br>x=%{x}<br>y=%{y}<br>z=%{z}",
           "hovertext": [
            "6",
            "5",
            "4",
            "3",
            "7",
            "8",
            "9",
            null
           ],
           "ids": [
            "6",
            "5",
            "4",
            "3",
            "7",
            "8",
            "9",
            null
           ],
           "legendgroup": "",
           "line": {
            "color": "#636efa",
            "dash": "solid"
           },
           "mode": "lines",
           "name": "",
           "scene": "scene",
           "showlegend": false,
           "type": "scatter3d",
           "x": [
            0.0040101270195272085,
            -0.2983980072196779,
            -0.5570066430122729,
            0,
            -0.5609722130649155,
            -0.28645674009486444,
            0.09949570705114903,
            -1.7088933508879052
           ],
           "y": [
            2.4190868460461026,
            1.4960001631179158,
            0.6505317165010148,
            0,
            -0.5848993042814261,
            -1.446319145042667,
            -2.3972539322731232,
            -0.11740760773836807
           ],
           "z": [
            0.19297622357300653,
            -0.039744814460198986,
            0.33622687210388064,
            0,
            0.3760162435309633,
            0.2467119256346657,
            0.43968814920767224,
            -2.5026311589529113
           ]
          }
         ],
         "name": "67"
        },
        {
         "data": [
          {
           "hoverlabel": {
            "namelength": 0
           },
           "hovertemplate": "<b>%{hovertext}</b><br><br>frame=68<br>x=%{x}<br>y=%{y}<br>z=%{z}<br>diff=%{marker.color}",
           "hovertext": [
            "6",
            "5",
            "4",
            "3",
            "7",
            "8",
            "9",
            null
           ],
           "ids": [
            "6",
            "5",
            "4",
            "3",
            "7",
            "8",
            "9",
            null
           ],
           "legendgroup": "",
           "marker": {
            "color": [
             1.383991940603133,
             1.2944769941339183,
             0.9921134168615968,
             0,
             0.9921134168615969,
             1.2944769941339183,
             1.383991940603133,
             0
            ],
            "coloraxis": "coloraxis",
            "symbol": "circle"
           },
           "mode": "markers",
           "name": "",
           "scene": "scene",
           "showlegend": false,
           "type": "scatter3d",
           "x": [
            0.007931140105286222,
            -0.3024081342392041,
            -0.5490755029069867,
            0,
            -0.5530856299265129,
            -0.28449623355198445,
            0.11139241720907786,
            -1.7188741114698385
           ],
           "y": [
            2.4330331766806794,
            1.4920345930652728,
            0.6683990602213509,
            0,
            -0.6028112049686459,
            -1.4582604121674803,
            -2.423096973065629,
            -0.11740760773836807
           ],
           "z": [
            -0.03381873786467604,
            -0.1551919156556873,
            0.31831497141666093,
            0,
            0.3720061165114365,
            0.15514735868880367,
            0.2566481292497154,
            -2.4947000188476243
           ]
          },
          {
           "hoverlabel": {
            "namelength": 0
           },
           "hovertemplate": "<b>%{hovertext}</b><br><br>frame=68<br>x=%{x}<br>y=%{y}<br>z=%{z}",
           "hovertext": [
            "6",
            "5",
            "4",
            "3",
            "7",
            "8",
            "9",
            null
           ],
           "ids": [
            "6",
            "5",
            "4",
            "3",
            "7",
            "8",
            "9",
            null
           ],
           "legendgroup": "",
           "line": {
            "color": "#636efa",
            "dash": "solid"
           },
           "mode": "lines",
           "name": "",
           "scene": "scene",
           "showlegend": false,
           "type": "scatter3d",
           "x": [
            0.007931140105286222,
            -0.3024081342392041,
            -0.5490755029069867,
            0,
            -0.5530856299265129,
            -0.28449623355198445,
            0.11139241720907786,
            -1.7188741114698385
           ],
           "y": [
            2.4330331766806794,
            1.4920345930652728,
            0.6683990602213509,
            0,
            -0.6028112049686459,
            -1.4582604121674803,
            -2.423096973065629,
            -0.11740760773836807
           ],
           "z": [
            -0.03381873786467604,
            -0.1551919156556873,
            0.31831497141666093,
            0,
            0.3720061165114365,
            0.15514735868880367,
            0.2566481292497154,
            -2.4947000188476243
           ]
          }
         ],
         "name": "68"
        },
        {
         "data": [
          {
           "hoverlabel": {
            "namelength": 0
           },
           "hovertemplate": "<b>%{hovertext}</b><br><br>frame=69<br>x=%{x}<br>y=%{y}<br>z=%{z}<br>diff=%{marker.color}",
           "hovertext": [
            "6",
            "5",
            "4",
            "3",
            "7",
            "8",
            "9",
            null
           ],
           "ids": [
            "6",
            "5",
            "4",
            "3",
            "7",
            "8",
            "9",
            null
           ],
           "legendgroup": "",
           "marker": {
            "color": [
             1.4138451084151653,
             1.3481681392286937,
             0.9960344299473565,
             0,
             0.9960344299473565,
             1.3481681392286937,
             1.4138451084151653,
             0
            ],
            "coloraxis": "coloraxis",
            "symbol": "circle"
           },
           "mode": "markers",
           "name": "",
           "scene": "scene",
           "showlegend": false,
           "type": "scatter3d",
           "x": [
            0.005970633562407222,
            -0.3023635772723205,
            -0.5391392992919368,
            0,
            -0.5450653758874594,
            -0.28249117004222085,
            0.11143697417596145,
            -1.7268052515751247
           ],
           "y": [
            2.4270625431182724,
            1.4641864887630034,
            0.6843504543656909,
            0,
            -0.6187180421461023,
            -1.4642310457298868,
            -2.4171263395032225,
            -0.11740760773836807
           ],
           "z": [
            -0.24270179861513885,
            -0.2526380022301886,
            0.310339274344491,
            0,
            0.36608003991591354,
            0.07561317280152208,
            0.07561317280152208,
            -2.4867243217754544
           ]
          },
          {
           "hoverlabel": {
            "namelength": 0
           },
           "hovertemplate": "<b>%{hovertext}</b><br><br>frame=69<br>x=%{x}<br>y=%{y}<br>z=%{z}",
           "hovertext": [
            "6",
            "5",
            "4",
            "3",
            "7",
            "8",
            "9",
            null
           ],
           "ids": [
            "6",
            "5",
            "4",
            "3",
            "7",
            "8",
            "9",
            null
           ],
           "legendgroup": "",
           "line": {
            "color": "#636efa",
            "dash": "solid"
           },
           "mode": "lines",
           "name": "",
           "scene": "scene",
           "showlegend": false,
           "type": "scatter3d",
           "x": [
            0.005970633562407222,
            -0.3023635772723205,
            -0.5391392992919368,
            0,
            -0.5450653758874594,
            -0.28249117004222085,
            0.11143697417596145,
            -1.7268052515751247
           ],
           "y": [
            2.4270625431182724,
            1.4641864887630034,
            0.6843504543656909,
            0,
            -0.6187180421461023,
            -1.4642310457298868,
            -2.4171263395032225,
            -0.11740760773836807
           ],
           "z": [
            -0.24270179861513885,
            -0.2526380022301886,
            0.310339274344491,
            0,
            0.36608003991591354,
            0.07561317280152208,
            0.07561317280152208,
            -2.4867243217754544
           ]
          }
         ],
         "name": "69"
        },
        {
         "data": [
          {
           "hoverlabel": {
            "namelength": 0
           },
           "hovertemplate": "<b>%{hovertext}</b><br><br>frame=70<br>x=%{x}<br>y=%{y}<br>z=%{z}<br>diff=%{marker.color}",
           "hovertext": [
            "6",
            "5",
            "4",
            "3",
            "7",
            "8",
            "9",
            null
           ],
           "ids": [
            "6",
            "5",
            "4",
            "3",
            "7",
            "8",
            "9",
            null
           ],
           "legendgroup": "",
           "marker": {
            "color": [
             1.5032709409506144,
             1.401770170389702,
             1.0078865831384034,
             0,
             1.0078865831384034,
             1.401770170389702,
             1.5032709409506144,
             0
            ],
            "coloraxis": "coloraxis",
            "symbol": "circle"
           },
           "mode": "markers",
           "name": "",
           "scene": "scene",
           "showlegend": false,
           "type": "scatter3d",
           "x": [
            -0.0020050635097636042,
            -0.3163099079068975,
            -0.531163602219767,
            0,
            -0.5371342357821742,
            -0.2785255999895782,
            0.12930431789629748,
            -1.7347809486472956
           ],
           "y": [
            2.391283298710716,
            1.4522897786050737,
            0.7042674185626739,
            0,
            -0.6405509559190814,
            -1.4582158552005966,
            -2.4071455789212894,
            -0.11339748071884126
           ],
           "z": [
            -0.45354536590848143,
            -0.35805978587685994,
            0.30240813423920465,
            0,
            0.36804054645879336,
            0,
            -0.09744608657450134,
            -2.4747830546506417
           ]
          },
          {
           "hoverlabel": {
            "namelength": 0
           },
           "hovertemplate": "<b>%{hovertext}</b><br><br>frame=70<br>x=%{x}<br>y=%{y}<br>z=%{z}",
           "hovertext": [
            "6",
            "5",
            "4",
            "3",
            "7",
            "8",
            "9",
            null
           ],
           "ids": [
            "6",
            "5",
            "4",
            "3",
            "7",
            "8",
            "9",
            null
           ],
           "legendgroup": "",
           "line": {
            "color": "#636efa",
            "dash": "solid"
           },
           "mode": "lines",
           "name": "",
           "scene": "scene",
           "showlegend": false,
           "type": "scatter3d",
           "x": [
            -0.0020050635097636042,
            -0.3163099079068975,
            -0.531163602219767,
            0,
            -0.5371342357821742,
            -0.2785255999895782,
            0.12930431789629748,
            -1.7347809486472956
           ],
           "y": [
            2.391283298710716,
            1.4522897786050737,
            0.7042674185626739,
            0,
            -0.6405509559190814,
            -1.4582158552005966,
            -2.4071455789212894,
            -0.11339748071884126
           ],
           "z": [
            -0.45354536590848143,
            -0.35805978587685994,
            0.30240813423920465,
            0,
            0.36804054645879336,
            0,
            -0.09744608657450134,
            -2.4747830546506417
           ]
          }
         ],
         "name": "70"
        },
        {
         "data": [
          {
           "hoverlabel": {
            "namelength": 0
           },
           "hovertemplate": "<b>%{hovertext}</b><br><br>frame=71<br>x=%{x}<br>y=%{y}<br>z=%{z}<br>diff=%{marker.color}",
           "hovertext": [
            "6",
            "5",
            "4",
            "3",
            "7",
            "8",
            "9",
            null
           ],
           "ids": [
            "6",
            "5",
            "4",
            "3",
            "7",
            "8",
            "9",
            null
           ],
           "legendgroup": "",
           "marker": {
            "color": [
             1.5650268970513261,
             1.4674916965430582,
             1.0099807605819333,
             0,
             1.009980760581933,
             1.467491696543058,
             1.5650268970513261,
             0
            ],
            "coloraxis": "coloraxis",
            "symbol": "circle"
           },
           "mode": "markers",
           "name": "",
           "scene": "scene",
           "showlegend": false,
           "type": "scatter3d",
           "x": [
            -0.003965570052643618,
            -0.3163099079068975,
            -0.5212273986047172,
            0,
            -0.531163602219767,
            -0.27054990291740844,
            0.1313093814060611,
            -1.7427120887525818
           ],
           "y": [
            2.3474838002641074,
            1.4064852166487007,
            0.7201296987732467,
            0,
            -0.648571209958135,
            -1.4542502851479535,
            -2.3813470950956663,
            -0.1114369741759615
           ],
           "z": [
            -0.6485266529912513,
            -0.4416040987836684,
            0.29046686711439146,
            0,
            0.3620699128963867,
            -0.06763747572935208,
            -0.2526380022301886,
            -2.468812421088235
           ]
          },
          {
           "hoverlabel": {
            "namelength": 0
           },
           "hovertemplate": "<b>%{hovertext}</b><br><br>frame=71<br>x=%{x}<br>y=%{y}<br>z=%{z}",
           "hovertext": [
            "6",
            "5",
            "4",
            "3",
            "7",
            "8",
            "9",
            null
           ],
           "ids": [
            "6",
            "5",
            "4",
            "3",
            "7",
            "8",
            "9",
            null
           ],
           "legendgroup": "",
           "line": {
            "color": "#636efa",
            "dash": "solid"
           },
           "mode": "lines",
           "name": "",
           "scene": "scene",
           "showlegend": false,
           "type": "scatter3d",
           "x": [
            -0.003965570052643618,
            -0.3163099079068975,
            -0.5212273986047172,
            0,
            -0.531163602219767,
            -0.27054990291740844,
            0.1313093814060611,
            -1.7427120887525818
           ],
           "y": [
            2.3474838002641074,
            1.4064852166487007,
            0.7201296987732467,
            0,
            -0.648571209958135,
            -1.4542502851479535,
            -2.3813470950956663,
            -0.1114369741759615
           ],
           "z": [
            -0.6485266529912513,
            -0.4416040987836684,
            0.29046686711439146,
            0,
            0.3620699128963867,
            -0.06763747572935208,
            -0.2526380022301886,
            -2.468812421088235
           ]
          }
         ],
         "name": "71"
        },
        {
         "data": [
          {
           "hoverlabel": {
            "namelength": 0
           },
           "hovertemplate": "<b>%{hovertext}</b><br><br>frame=72<br>x=%{x}<br>y=%{y}<br>z=%{z}<br>diff=%{marker.color}",
           "hovertext": [
            "6",
            "5",
            "4",
            "3",
            "7",
            "8",
            "9",
            null
           ],
           "ids": [
            "6",
            "5",
            "4",
            "3",
            "7",
            "8",
            "9",
            null
           ],
           "legendgroup": "",
           "marker": {
            "color": [
             1.6007615844919991,
             1.4973894213219743,
             1.0298086108451492,
             0,
             1.0298086108451492,
             1.4973894213219743,
             1.6007615844919991,
             0
            ],
            "coloraxis": "coloraxis",
            "symbol": "circle"
           },
           "mode": "markers",
           "name": "",
           "scene": "scene",
           "showlegend": false,
           "type": "scatter3d",
           "x": [
            -0.003965570052643618,
            -0.3163099079068975,
            -0.5092861314799038,
            0,
            -0.5192223350949535,
            -0.2625742058452386,
            0.14922128209328073,
            -1.748682722314988
           ],
           "y": [
            2.2818513880445184,
            1.3687009087313817,
            0.7321155228649434,
            0,
            -0.6644334901687078,
            -1.4343333209509705,
            -2.335542533139294,
            -0.11339748071884126
           ],
           "z": [
            -0.8394978130544944,
            -0.5331686657295304,
            0.27255496642717175,
            0,
            0.3601094063535069,
            -0.15514735868880367,
            -0.4456142258031951,
            -2.464846851035592
           ]
          },
          {
           "hoverlabel": {
            "namelength": 0
           },
           "hovertemplate": "<b>%{hovertext}</b><br><br>frame=72<br>x=%{x}<br>y=%{y}<br>z=%{z}",
           "hovertext": [
            "6",
            "5",
            "4",
            "3",
            "7",
            "8",
            "9",
            null
           ],
           "ids": [
            "6",
            "5",
            "4",
            "3",
            "7",
            "8",
            "9",
            null
           ],
           "legendgroup": "",
           "line": {
            "color": "#636efa",
            "dash": "solid"
           },
           "mode": "lines",
           "name": "",
           "scene": "scene",
           "showlegend": false,
           "type": "scatter3d",
           "x": [
            -0.003965570052643618,
            -0.3163099079068975,
            -0.5092861314799038,
            0,
            -0.5192223350949535,
            -0.2625742058452386,
            0.14922128209328073,
            -1.748682722314988
           ],
           "y": [
            2.2818513880445184,
            1.3687009087313817,
            0.7321155228649434,
            0,
            -0.6644334901687078,
            -1.4343333209509705,
            -2.335542533139294,
            -0.11339748071884126
           ],
           "z": [
            -0.8394978130544944,
            -0.5331686657295304,
            0.27255496642717175,
            0,
            0.3601094063535069,
            -0.15514735868880367,
            -0.4456142258031951,
            -2.464846851035592
           ]
          }
         ],
         "name": "72"
        },
        {
         "data": [
          {
           "hoverlabel": {
            "namelength": 0
           },
           "hovertemplate": "<b>%{hovertext}</b><br><br>frame=73<br>x=%{x}<br>y=%{y}<br>z=%{z}<br>diff=%{marker.color}",
           "hovertext": [
            "6",
            "5",
            "4",
            "3",
            "7",
            "8",
            "9",
            null
           ],
           "ids": [
            "6",
            "5",
            "4",
            "3",
            "7",
            "8",
            "9",
            null
           ],
           "legendgroup": "",
           "marker": {
            "color": [
             1.6147524720934592,
             1.5232770190813643,
             1.0298531678120328,
             0,
             1.0298531678120328,
             1.5232770190813647,
             1.6147524720934592,
             0
            ],
            "coloraxis": "coloraxis",
            "symbol": "circle"
           },
           "mode": "markers",
           "name": "",
           "scene": "scene",
           "showlegend": false,
           "type": "scatter3d",
           "x": [
            -0.01390177366769243,
            -0.33021168157458997,
            -0.5013104344077339,
            0,
            -0.5072810679701402,
            -0.2625742058452376,
            0.15519191565568796,
            -1.7546533558773942
           ],
           "y": [
            2.19229188460842,
            1.3149652066697226,
            0.7460172965326363,
            0,
            -0.6744142507506412,
            -1.4025642035629413,
            -2.259973917304656,
            -0.11740760773836807
           ],
           "z": [
            -1.0245428965222148,
            -0.6167129786363388,
            0.2586086357925952,
            0,
            0.35409421582421674,
            -0.24867243217754542,
            -0.6465661464483717,
            -2.4569157109303053
           ]
          },
          {
           "hoverlabel": {
            "namelength": 0
           },
           "hovertemplate": "<b>%{hovertext}</b><br><br>frame=73<br>x=%{x}<br>y=%{y}<br>z=%{z}",
           "hovertext": [
            "6",
            "5",
            "4",
            "3",
            "7",
            "8",
            "9",
            null
           ],
           "ids": [
            "6",
            "5",
            "4",
            "3",
            "7",
            "8",
            "9",
            null
           ],
           "legendgroup": "",
           "line": {
            "color": "#636efa",
            "dash": "solid"
           },
           "mode": "lines",
           "name": "",
           "scene": "scene",
           "showlegend": false,
           "type": "scatter3d",
           "x": [
            -0.01390177366769243,
            -0.33021168157458997,
            -0.5013104344077339,
            0,
            -0.5072810679701402,
            -0.2625742058452376,
            0.15519191565568796,
            -1.7546533558773942
           ],
           "y": [
            2.19229188460842,
            1.3149652066697226,
            0.7460172965326363,
            0,
            -0.6744142507506412,
            -1.4025642035629413,
            -2.259973917304656,
            -0.11740760773836807
           ],
           "z": [
            -1.0245428965222148,
            -0.6167129786363388,
            0.2586086357925952,
            0,
            0.35409421582421674,
            -0.24867243217754542,
            -0.6465661464483717,
            -2.4569157109303053
           ]
          }
         ],
         "name": "73"
        },
        {
         "data": [
          {
           "hoverlabel": {
            "namelength": 0
           },
           "hovertemplate": "<b>%{hovertext}</b><br><br>frame=74<br>x=%{x}<br>y=%{y}<br>z=%{z}<br>diff=%{marker.color}",
           "hovertext": [
            "6",
            "5",
            "4",
            "3",
            "7",
            "8",
            "9",
            null
           ],
           "ids": [
            "6",
            "5",
            "4",
            "3",
            "7",
            "8",
            "9",
            null
           ],
           "legendgroup": "",
           "marker": {
            "color": [
             1.594790950929593,
             1.5231879051475965,
             1.0238825342496263,
             0,
             1.0238825342496263,
             1.5231879051475965,
             1.594790950929593,
             0
            ],
            "coloraxis": "coloraxis",
            "symbol": "circle"
           },
           "mode": "markers",
           "name": "",
           "scene": "scene",
           "showlegend": false,
           "type": "scatter3d",
           "x": [
            -0.03782886488420288,
            -0.34616307571892957,
            -0.49934992786485394,
            0,
            -0.49934992786485394,
            -0.27255496642717103,
            0.12729925438653492,
            -1.7646341164593276
           ],
           "y": [
            2.0868701009617485,
            1.259313555032067,
            0.7539929936048063,
            0,
            -0.6883160244183341,
            -1.370705972241145,
            -2.1803506174836067,
            -0.11936811428124786
           ],
           "z": [
            -1.209543423023051,
            -0.6962917214905039,
            0.2526380022301886,
            0,
            0.3421975056662872,
            -0.3581043428437436,
            -0.8733611078860541,
            -2.4489400138581354
           ]
          },
          {
           "hoverlabel": {
            "namelength": 0
           },
           "hovertemplate": "<b>%{hovertext}</b><br><br>frame=74<br>x=%{x}<br>y=%{y}<br>z=%{z}",
           "hovertext": [
            "6",
            "5",
            "4",
            "3",
            "7",
            "8",
            "9",
            null
           ],
           "ids": [
            "6",
            "5",
            "4",
            "3",
            "7",
            "8",
            "9",
            null
           ],
           "legendgroup": "",
           "line": {
            "color": "#636efa",
            "dash": "solid"
           },
           "mode": "lines",
           "name": "",
           "scene": "scene",
           "showlegend": false,
           "type": "scatter3d",
           "x": [
            -0.03782886488420288,
            -0.34616307571892957,
            -0.49934992786485394,
            0,
            -0.49934992786485394,
            -0.27255496642717103,
            0.12729925438653492,
            -1.7646341164593276
           ],
           "y": [
            2.0868701009617485,
            1.259313555032067,
            0.7539929936048063,
            0,
            -0.6883160244183341,
            -1.370705972241145,
            -2.1803506174836067,
            -0.11936811428124786
           ],
           "z": [
            -1.209543423023051,
            -0.6962917214905039,
            0.2526380022301886,
            0,
            0.3421975056662872,
            -0.3581043428437436,
            -0.8733611078860541,
            -2.4489400138581354
           ]
          }
         ],
         "name": "74"
        },
        {
         "data": [
          {
           "hoverlabel": {
            "namelength": 0
           },
           "hovertemplate": "<b>%{hovertext}</b><br><br>frame=75<br>x=%{x}<br>y=%{y}<br>z=%{z}<br>diff=%{marker.color}",
           "hovertext": [
            "6",
            "5",
            "4",
            "3",
            "7",
            "8",
            "9",
            null
           ],
           "ids": [
            "6",
            "5",
            "4",
            "3",
            "7",
            "8",
            "9",
            null
           ],
           "legendgroup": "",
           "marker": {
            "color": [
             1.5073256249370237,
             1.483443090687398,
             1.0278926612691535,
             0,
             1.0278926612691535,
             1.4834430906873983,
             1.5073256249370237,
             0
            ],
            "coloraxis": "coloraxis",
            "symbol": "circle"
           },
           "mode": "markers",
           "name": "",
           "scene": "scene",
           "showlegend": false,
           "type": "scatter3d",
           "x": [
            -0.04776506849925271,
            -0.35810434284374404,
            -0.4913742307926841,
            0,
            -0.4933792943024477,
            -0.28249117004222185,
            0.09749064354138441,
            -1.7665946230022076
           ],
           "y": [
            1.9854138873677205,
            1.2115484865328148,
            0.7619241337100927,
            0,
            -0.7022623550529107,
            -1.3189753336892494,
            -2.070963263784292,
            -0.11740760773836807
           ],
           "z": [
            -1.3567596416065686,
            -0.7539484366379228,
            0.24270179861513888,
            0,
            0.3282511750317107,
            -0.45354536590848143,
            -1.0802391051267535,
            -2.4429693802957284
           ]
          },
          {
           "hoverlabel": {
            "namelength": 0
           },
           "hovertemplate": "<b>%{hovertext}</b><br><br>frame=75<br>x=%{x}<br>y=%{y}<br>z=%{z}",
           "hovertext": [
            "6",
            "5",
            "4",
            "3",
            "7",
            "8",
            "9",
            null
           ],
           "ids": [
            "6",
            "5",
            "4",
            "3",
            "7",
            "8",
            "9",
            null
           ],
           "legendgroup": "",
           "line": {
            "color": "#636efa",
            "dash": "solid"
           },
           "mode": "lines",
           "name": "",
           "scene": "scene",
           "showlegend": false,
           "type": "scatter3d",
           "x": [
            -0.04776506849925271,
            -0.35810434284374404,
            -0.4913742307926841,
            0,
            -0.4933792943024477,
            -0.28249117004222185,
            0.09749064354138441,
            -1.7665946230022076
           ],
           "y": [
            1.9854138873677205,
            1.2115484865328148,
            0.7619241337100927,
            0,
            -0.7022623550529107,
            -1.3189753336892494,
            -2.070963263784292,
            -0.11740760773836807
           ],
           "z": [
            -1.3567596416065686,
            -0.7539484366379228,
            0.24270179861513888,
            0,
            0.3282511750317107,
            -0.45354536590848143,
            -1.0802391051267535,
            -2.4429693802957284
           ]
          }
         ],
         "name": "75"
        },
        {
         "data": [
          {
           "hoverlabel": {
            "namelength": 0
           },
           "hovertemplate": "<b>%{hovertext}</b><br><br>frame=76<br>x=%{x}<br>y=%{y}<br>z=%{z}<br>diff=%{marker.color}",
           "hovertext": [
            "6",
            "5",
            "4",
            "3",
            "7",
            "8",
            "9",
            null
           ],
           "ids": [
            "6",
            "5",
            "4",
            "3",
            "7",
            "8",
            "9",
            null
           ],
           "legendgroup": "",
           "marker": {
            "color": [
             1.3322167450843538,
             1.421731691553569,
             1.045670891055722,
             0,
             1.045670891055722,
             1.4217316915535694,
             1.3322167450843538,
             0
            ],
            "coloraxis": "coloraxis",
            "symbol": "circle"
           },
           "mode": "markers",
           "name": "",
           "scene": "scene",
           "showlegend": false,
           "type": "scatter3d",
           "x": [
            -0.06166684216694615,
            -0.3640304194392666,
            -0.4794329636678717,
            0,
            -0.4893691672829215,
            -0.29639294370991426,
            0.07761823631128476,
            -1.7685551295450876
           ],
           "y": [
            1.8958989408985054,
            1.159817847980919,
            0.7698998307822627,
            0,
            -0.71415906521084,
            -1.2592689980651837,
            -1.9098007145661984,
            -0.11339748071884126
           ],
           "z": [
            -1.482098389450223,
            -0.8116942657191086,
            0.22679496143768255,
            0,
            0.31827041444977733,
            -0.5570511999791566,
            -1.3030684965117931,
            -2.441008873752849
           ]
          },
          {
           "hoverlabel": {
            "namelength": 0
           },
           "hovertemplate": "<b>%{hovertext}</b><br><br>frame=76<br>x=%{x}<br>y=%{y}<br>z=%{z}",
           "hovertext": [
            "6",
            "5",
            "4",
            "3",
            "7",
            "8",
            "9",
            null
           ],
           "ids": [
            "6",
            "5",
            "4",
            "3",
            "7",
            "8",
            "9",
            null
           ],
           "legendgroup": "",
           "line": {
            "color": "#636efa",
            "dash": "solid"
           },
           "mode": "lines",
           "name": "",
           "scene": "scene",
           "showlegend": false,
           "type": "scatter3d",
           "x": [
            -0.06166684216694615,
            -0.3640304194392666,
            -0.4794329636678717,
            0,
            -0.4893691672829215,
            -0.29639294370991426,
            0.07761823631128476,
            -1.7685551295450876
           ],
           "y": [
            1.8958989408985054,
            1.159817847980919,
            0.7698998307822627,
            0,
            -0.71415906521084,
            -1.2592689980651837,
            -1.9098007145661984,
            -0.11339748071884126
           ],
           "z": [
            -1.482098389450223,
            -0.8116942657191086,
            0.22679496143768255,
            0,
            0.31827041444977733,
            -0.5570511999791566,
            -1.3030684965117931,
            -2.441008873752849
           ]
          }
         ],
         "name": "76"
        },
        {
         "data": [
          {
           "hoverlabel": {
            "namelength": 0
           },
           "hovertemplate": "<b>%{hovertext}</b><br><br>frame=77<br>x=%{x}<br>y=%{y}<br>z=%{z}<br>diff=%{marker.color}",
           "hovertext": [
            "6",
            "5",
            "4",
            "3",
            "7",
            "8",
            "9",
            null
           ],
           "ids": [
            "6",
            "5",
            "4",
            "3",
            "7",
            "8",
            "9",
            null
           ],
           "legendgroup": "",
           "marker": {
            "color": [
             1.2009073636782928,
             1.33021168157459,
             1.0218329137729796,
             0,
             1.0218329137729798,
             1.3302116815745895,
             1.2009073636782928,
             0
            ],
            "coloraxis": "coloraxis",
            "symbol": "circle"
           },
           "mode": "markers",
           "name": "",
           "scene": "scene",
           "showlegend": false,
           "type": "scatter3d",
           "x": [
            -0.06166684216694514,
            -0.3680405464587928,
            -0.4754673936152281,
            0,
            -0.47150182356258447,
            -0.29844256418656145,
            0.04972557504213272,
            -1.7745703200743774
           ],
           "y": [
            1.7944427273044772,
            1.118023413044073,
            0.7758704643446693,
            0,
            -0.7161641287206034,
            -1.1777297486681386,
            -1.7685551295450876,
            -0.1094319106661981
           ],
           "z": [
            -1.5716133359194377,
            -0.8335271794920879,
            0.22282939138503938,
            0,
            0.3004030707294412,
            -0.632619815813795,
            -1.4562107916908333,
            -2.436998746733322
           ]
          },
          {
           "hoverlabel": {
            "namelength": 0
           },
           "hovertemplate": "<b>%{hovertext}</b><br><br>frame=77<br>x=%{x}<br>y=%{y}<br>z=%{z}",
           "hovertext": [
            "6",
            "5",
            "4",
            "3",
            "7",
            "8",
            "9",
            null
           ],
           "ids": [
            "6",
            "5",
            "4",
            "3",
            "7",
            "8",
            "9",
            null
           ],
           "legendgroup": "",
           "line": {
            "color": "#636efa",
            "dash": "solid"
           },
           "mode": "lines",
           "name": "",
           "scene": "scene",
           "showlegend": false,
           "type": "scatter3d",
           "x": [
            -0.06166684216694514,
            -0.3680405464587928,
            -0.4754673936152281,
            0,
            -0.47150182356258447,
            -0.29844256418656145,
            0.04972557504213272,
            -1.7745703200743774
           ],
           "y": [
            1.7944427273044772,
            1.118023413044073,
            0.7758704643446693,
            0,
            -0.7161641287206034,
            -1.1777297486681386,
            -1.7685551295450876,
            -0.1094319106661981
           ],
           "z": [
            -1.5716133359194377,
            -0.8335271794920879,
            0.22282939138503938,
            0,
            0.3004030707294412,
            -0.632619815813795,
            -1.4562107916908333,
            -2.436998746733322
           ]
          }
         ],
         "name": "77"
        },
        {
         "data": [
          {
           "hoverlabel": {
            "namelength": 0
           },
           "hovertemplate": "<b>%{hovertext}</b><br><br>frame=78<br>x=%{x}<br>y=%{y}<br>z=%{z}<br>diff=%{marker.color}",
           "hovertext": [
            "6",
            "5",
            "4",
            "3",
            "7",
            "8",
            "9",
            null
           ],
           "ids": [
            "6",
            "5",
            "4",
            "3",
            "7",
            "8",
            "9",
            null
           ],
           "legendgroup": "",
           "marker": {
            "color": [
             1.0934805165218577,
             1.3242856049790674,
             1.043754941479726,
             0,
             1.043754941479726,
             1.324285604979067,
             1.0934805165218577,
             0
            ],
            "coloraxis": "coloraxis",
            "symbol": "circle"
           },
           "mode": "markers",
           "name": "",
           "scene": "scene",
           "showlegend": false,
           "type": "scatter3d",
           "x": [
            -0.08358886987369198,
            -0.3919230807084197,
            -0.4794775206347553,
            0,
            -0.45956055643777205,
            -0.3083787678016113,
            -0.0020050635097636042,
            -1.778535890127021
           ],
           "y": [
            1.6870158801480426,
            1.0802391051267537,
            0.7739099578017894,
            0,
            -0.7301104593551802,
            -1.137940377241056,
            -1.627309544523977,
            -0.11339748071884126
           ],
           "z": [
            -1.6631333458984163,
            -0.8673904743236477,
            0.22282939138503938,
            0,
            0.29046686711439146,
            -0.6843504543656909,
            -1.5915303001164212,
            -2.433033176680679
           ]
          },
          {
           "hoverlabel": {
            "namelength": 0
           },
           "hovertemplate": "<b>%{hovertext}</b><br><br>frame=78<br>x=%{x}<br>y=%{y}<br>z=%{z}",
           "hovertext": [
            "6",
            "5",
            "4",
            "3",
            "7",
            "8",
            "9",
            null
           ],
           "ids": [
            "6",
            "5",
            "4",
            "3",
            "7",
            "8",
            "9",
            null
           ],
           "legendgroup": "",
           "line": {
            "color": "#636efa",
            "dash": "solid"
           },
           "mode": "lines",
           "name": "",
           "scene": "scene",
           "showlegend": false,
           "type": "scatter3d",
           "x": [
            -0.08358886987369198,
            -0.3919230807084197,
            -0.4794775206347553,
            0,
            -0.45956055643777205,
            -0.3083787678016113,
            -0.0020050635097636042,
            -1.778535890127021
           ],
           "y": [
            1.6870158801480426,
            1.0802391051267537,
            0.7739099578017894,
            0,
            -0.7301104593551802,
            -1.137940377241056,
            -1.627309544523977,
            -0.11339748071884126
           ],
           "z": [
            -1.6631333458984163,
            -0.8673904743236477,
            0.22282939138503938,
            0,
            0.29046686711439146,
            -0.6843504543656909,
            -1.5915303001164212,
            -2.433033176680679
           ]
          }
         ],
         "name": "78"
        },
        {
         "data": [
          {
           "hoverlabel": {
            "namelength": 0
           },
           "hovertemplate": "<b>%{hovertext}</b><br><br>frame=79<br>x=%{x}<br>y=%{y}<br>z=%{z}<br>diff=%{marker.color}",
           "hovertext": [
            "6",
            "5",
            "4",
            "3",
            "7",
            "8",
            "9",
            null
           ],
           "ids": [
            "6",
            "5",
            "4",
            "3",
            "7",
            "8",
            "9",
            null
           ],
           "legendgroup": "",
           "marker": {
            "color": [
             1.1094319106661987,
             1.3163544648737813,
             1.0258875977593893,
             0,
             1.0258875977593893,
             1.3163544648737813,
             1.1094319106661983,
             0
            ],
            "coloraxis": "coloraxis",
            "symbol": "circle"
           },
           "mode": "markers",
           "name": "",
           "scene": "scene",
           "showlegend": false,
           "type": "scatter3d",
           "x": [
            -0.11139241720907786,
            -0.4018592843234695,
            -0.46152106298065104,
            0,
            -0.45755549292800846,
            -0.3063737042918477,
            -0.005970633562406208,
            -1.7825014601796636
           ],
           "y": [
            1.5895252366066577,
            1.0424102402425508,
            0.7858066679597189,
            0,
            -0.7321155228649434,
            -1.1061267028861432,
            -1.5278583944397124,
            -0.1114369741759615
           ],
           "z": [
            -1.7506877858247516,
            -0.8892679450635105,
            0.2148536943128694,
            0,
            0.29046686711439146,
            -0.7321155228649434,
            -1.6850108166382793,
            -2.4290676066280357
           ]
          },
          {
           "hoverlabel": {
            "namelength": 0
           },
           "hovertemplate": "<b>%{hovertext}</b><br><br>frame=79<br>x=%{x}<br>y=%{y}<br>z=%{z}",
           "hovertext": [
            "6",
            "5",
            "4",
            "3",
            "7",
            "8",
            "9",
            null
           ],
           "ids": [
            "6",
            "5",
            "4",
            "3",
            "7",
            "8",
            "9",
            null
           ],
           "legendgroup": "",
           "line": {
            "color": "#636efa",
            "dash": "solid"
           },
           "mode": "lines",
           "name": "",
           "scene": "scene",
           "showlegend": false,
           "type": "scatter3d",
           "x": [
            -0.11139241720907786,
            -0.4018592843234695,
            -0.46152106298065104,
            0,
            -0.45755549292800846,
            -0.3063737042918477,
            -0.005970633562406208,
            -1.7825014601796636
           ],
           "y": [
            1.5895252366066577,
            1.0424102402425508,
            0.7858066679597189,
            0,
            -0.7321155228649434,
            -1.1061267028861432,
            -1.5278583944397124,
            -0.1114369741759615
           ],
           "z": [
            -1.7506877858247516,
            -0.8892679450635105,
            0.2148536943128694,
            0,
            0.29046686711439146,
            -0.7321155228649434,
            -1.6850108166382793,
            -2.4290676066280357
           ]
          }
         ],
         "name": "79"
        },
        {
         "data": [
          {
           "hoverlabel": {
            "namelength": 0
           },
           "hovertemplate": "<b>%{hovertext}</b><br><br>frame=80<br>x=%{x}<br>y=%{y}<br>z=%{z}<br>diff=%{marker.color}",
           "hovertext": [
            "6",
            "5",
            "4",
            "3",
            "7",
            "8",
            "9",
            null
           ],
           "ids": [
            "6",
            "5",
            "4",
            "3",
            "7",
            "8",
            "9",
            null
           ],
           "legendgroup": "",
           "marker": {
            "color": [
             1.0616222852000627,
             1.3122997808873702,
             1.0237934203158596,
             0,
             1.0237934203158596,
             1.3122997808873702,
             1.0616222852000627,
             0
            ],
            "coloraxis": "coloraxis",
            "symbol": "circle"
           },
           "mode": "markers",
           "name": "",
           "scene": "scene",
           "showlegend": false,
           "type": "scatter3d",
           "x": [
            -0.11540254422860506,
            -0.43567802218814516,
            -0.45755549292800846,
            0,
            -0.4535899228753648,
            -0.2904668671143917,
            0.003965570052643618,
            -1.7845065236894273
           ],
           "y": [
            1.4920791500321564,
            1.0384892271567912,
            0.7878117314694824,
            0,
            -0.7380415994604664,
            -1.0682978380019406,
            -1.4005145830862946,
            -0.1074268471564347
           ],
           "z": [
            -1.804378930919527,
            -0.9051747822409668,
            0.2188638213323962,
            0,
            0.28846180360462803,
            -0.7678947672724993,
            -1.7705601930548511,
            -2.421091909555866
           ]
          },
          {
           "hoverlabel": {
            "namelength": 0
           },
           "hovertemplate": "<b>%{hovertext}</b><br><br>frame=80<br>x=%{x}<br>y=%{y}<br>z=%{z}",
           "hovertext": [
            "6",
            "5",
            "4",
            "3",
            "7",
            "8",
            "9",
            null
           ],
           "ids": [
            "6",
            "5",
            "4",
            "3",
            "7",
            "8",
            "9",
            null
           ],
           "legendgroup": "",
           "line": {
            "color": "#636efa",
            "dash": "solid"
           },
           "mode": "lines",
           "name": "",
           "scene": "scene",
           "showlegend": false,
           "type": "scatter3d",
           "x": [
            -0.11540254422860506,
            -0.43567802218814516,
            -0.45755549292800846,
            0,
            -0.4535899228753648,
            -0.2904668671143917,
            0.003965570052643618,
            -1.7845065236894273
           ],
           "y": [
            1.4920791500321564,
            1.0384892271567912,
            0.7878117314694824,
            0,
            -0.7380415994604664,
            -1.0682978380019406,
            -1.4005145830862946,
            -0.1074268471564347
           ],
           "z": [
            -1.804378930919527,
            -0.9051747822409668,
            0.2188638213323962,
            0,
            0.28846180360462803,
            -0.7678947672724993,
            -1.7705601930548511,
            -2.421091909555866
           ]
          }
         ],
         "name": "80"
        },
        {
         "data": [
          {
           "hoverlabel": {
            "namelength": 0
           },
           "hovertemplate": "<b>%{hovertext}</b><br><br>frame=81<br>x=%{x}<br>y=%{y}<br>z=%{z}<br>diff=%{marker.color}",
           "hovertext": [
            "6",
            "5",
            "4",
            "3",
            "7",
            "8",
            "9",
            null
           ],
           "ids": [
            "6",
            "5",
            "4",
            "3",
            "7",
            "8",
            "9",
            null
           ],
           "legendgroup": "",
           "marker": {
            "color": [
             1.025843040792506,
             1.2765650934466986,
             1.0219220277067471,
             0,
             1.0219220277067471,
             1.2765650934466988,
             1.025843040792506,
             0
            ],
            "coloraxis": "coloraxis",
            "symbol": "circle"
           },
           "mode": "markers",
           "name": "",
           "scene": "scene",
           "showlegend": false,
           "type": "scatter3d",
           "x": [
            -0.10742684715643423,
            -0.4416486557505514,
            -0.4535899228753648,
            0,
            -0.44962435282272123,
            -0.27255496642717103,
            0.02383797728274327,
            -1.7904771572518334
           ],
           "y": [
            1.4005145830862944,
            1.0305135300846213,
            0.7917773015221256,
            0,
            -0.74606185349952,
            -1.0384892271567912,
            -1.2871616593343367,
            -0.1114369741759615
           ],
           "z": [
            -1.8501389359090163,
            -0.9091849092604937,
            0.21681420085574918,
            0,
            0.2804861065324581,
            -0.8096892022093453,
            -1.84220779580373,
            -2.419131403012986
           ]
          },
          {
           "hoverlabel": {
            "namelength": 0
           },
           "hovertemplate": "<b>%{hovertext}</b><br><br>frame=81<br>x=%{x}<br>y=%{y}<br>z=%{z}",
           "hovertext": [
            "6",
            "5",
            "4",
            "3",
            "7",
            "8",
            "9",
            null
           ],
           "ids": [
            "6",
            "5",
            "4",
            "3",
            "7",
            "8",
            "9",
            null
           ],
           "legendgroup": "",
           "line": {
            "color": "#636efa",
            "dash": "solid"
           },
           "mode": "lines",
           "name": "",
           "scene": "scene",
           "showlegend": false,
           "type": "scatter3d",
           "x": [
            -0.10742684715643423,
            -0.4416486557505514,
            -0.4535899228753648,
            0,
            -0.44962435282272123,
            -0.27255496642717103,
            0.02383797728274327,
            -1.7904771572518334
           ],
           "y": [
            1.4005145830862944,
            1.0305135300846213,
            0.7917773015221256,
            0,
            -0.74606185349952,
            -1.0384892271567912,
            -1.2871616593343367,
            -0.1114369741759615
           ],
           "z": [
            -1.8501389359090163,
            -0.9091849092604937,
            0.21681420085574918,
            0,
            0.2804861065324581,
            -0.8096892022093453,
            -1.84220779580373,
            -2.419131403012986
           ]
          }
         ],
         "name": "81"
        },
        {
         "data": [
          {
           "hoverlabel": {
            "namelength": 0
           },
           "hovertemplate": "<b>%{hovertext}</b><br><br>frame=82<br>x=%{x}<br>y=%{y}<br>z=%{z}<br>diff=%{marker.color}",
           "hovertext": [
            "6",
            "5",
            "4",
            "3",
            "7",
            "8",
            "9",
            null
           ],
           "ids": [
            "6",
            "5",
            "4",
            "3",
            "7",
            "8",
            "9",
            null
           ],
           "legendgroup": "",
           "marker": {
            "color": [
             0.9781225292601379,
             1.220779770908392,
             1.0198724072300993,
             0,
             1.019872407230099,
             1.220779770908392,
             0.9781225292601377,
             0
            ],
            "coloraxis": "coloraxis",
            "symbol": "circle"
           },
           "mode": "markers",
           "name": "",
           "scene": "scene",
           "showlegend": false,
           "type": "scatter3d",
           "x": [
            -0.08358886987369198,
            -0.43567802218814516,
            -0.4416486557505514,
            0,
            -0.4337175156452652,
            -0.25865319275947857,
            0.03181367435491308,
            -1.7924822207615971
           ],
           "y": [
            1.348828501501282,
            1.0444153037523143,
            0.7977479350845322,
            0,
            -0.7539929936048063,
            -1.0225378330124513,
            -1.2115484865328148,
            -0.1094319106661981
           ],
           "z": [
            -1.8839576737736925,
            -0.8971990851687968,
            0.2168587578226328,
            0,
            0.27255496642717175,
            -0.8315666729492082,
            -1.8839576737736925,
            -2.4151212759934593
           ]
          },
          {
           "hoverlabel": {
            "namelength": 0
           },
           "hovertemplate": "<b>%{hovertext}</b><br><br>frame=82<br>x=%{x}<br>y=%{y}<br>z=%{z}",
           "hovertext": [
            "6",
            "5",
            "4",
            "3",
            "7",
            "8",
            "9",
            null
           ],
           "ids": [
            "6",
            "5",
            "4",
            "3",
            "7",
            "8",
            "9",
            null
           ],
           "legendgroup": "",
           "line": {
            "color": "#636efa",
            "dash": "solid"
           },
           "mode": "lines",
           "name": "",
           "scene": "scene",
           "showlegend": false,
           "type": "scatter3d",
           "x": [
            -0.08358886987369198,
            -0.43567802218814516,
            -0.4416486557505514,
            0,
            -0.4337175156452652,
            -0.25865319275947857,
            0.03181367435491308,
            -1.7924822207615971
           ],
           "y": [
            1.348828501501282,
            1.0444153037523143,
            0.7977479350845322,
            0,
            -0.7539929936048063,
            -1.0225378330124513,
            -1.2115484865328148,
            -0.1094319106661981
           ],
           "z": [
            -1.8839576737736925,
            -0.8971990851687968,
            0.2168587578226328,
            0,
            0.27255496642717175,
            -0.8315666729492082,
            -1.8839576737736925,
            -2.4151212759934593
           ]
          }
         ],
         "name": "82"
        },
        {
         "data": [
          {
           "hoverlabel": {
            "namelength": 0
           },
           "hovertemplate": "<b>%{hovertext}</b><br><br>frame=83<br>x=%{x}<br>y=%{y}<br>z=%{z}<br>diff=%{marker.color}",
           "hovertext": [
            "6",
            "5",
            "4",
            "3",
            "7",
            "8",
            "9",
            null
           ],
           "ids": [
            "6",
            "5",
            "4",
            "3",
            "7",
            "8",
            "9",
            null
           ],
           "legendgroup": "",
           "marker": {
            "color": [
             0.9780779722932531,
             1.2128931877699896,
             1.0218774707398621,
             0,
             1.0218774707398623,
             1.2128931877699896,
             0.9780779722932529,
             0
            ],
            "coloraxis": "coloraxis",
            "symbol": "circle"
           },
           "mode": "markers",
           "name": "",
           "scene": "scene",
           "showlegend": false,
           "type": "scatter3d",
           "x": [
            -0.06959798227223135,
            -0.429707388625739,
            -0.429707388625739,
            0,
            -0.43367295867838157,
            -0.2625742058452386,
            0.02588759775938945,
            -1.794442727304477
           ],
           "y": [
            1.2950927994396229,
            1.0384446701899077,
            0.7977479350845322,
            0,
            -0.7619241337100927,
            -1.0165671994500447,
            -1.1697540515959688,
            -0.1094319106661981
           ],
           "z": [
            -1.901869574460912,
            -0.9091403522936101,
            0.21881926436551258,
            0,
            0.27255496642717175,
            -0.8415028765642579,
            -1.9098007145661984,
            -2.411155705940816
           ]
          },
          {
           "hoverlabel": {
            "namelength": 0
           },
           "hovertemplate": "<b>%{hovertext}</b><br><br>frame=83<br>x=%{x}<br>y=%{y}<br>z=%{z}",
           "hovertext": [
            "6",
            "5",
            "4",
            "3",
            "7",
            "8",
            "9",
            null
           ],
           "ids": [
            "6",
            "5",
            "4",
            "3",
            "7",
            "8",
            "9",
            null
           ],
           "legendgroup": "",
           "line": {
            "color": "#636efa",
            "dash": "solid"
           },
           "mode": "lines",
           "name": "",
           "scene": "scene",
           "showlegend": false,
           "type": "scatter3d",
           "x": [
            -0.06959798227223135,
            -0.429707388625739,
            -0.429707388625739,
            0,
            -0.43367295867838157,
            -0.2625742058452386,
            0.02588759775938945,
            -1.794442727304477
           ],
           "y": [
            1.2950927994396229,
            1.0384446701899077,
            0.7977479350845322,
            0,
            -0.7619241337100927,
            -1.0165671994500447,
            -1.1697540515959688,
            -0.1094319106661981
           ],
           "z": [
            -1.901869574460912,
            -0.9091403522936101,
            0.21881926436551258,
            0,
            0.27255496642717175,
            -0.8415028765642579,
            -1.9098007145661984,
            -2.411155705940816
           ]
          }
         ],
         "name": "83"
        }
       ],
       "layout": {
        "coloraxis": {
         "cmax": 1.6147524720934592,
         "cmin": 0,
         "colorbar": {
          "title": {
           "text": "diff"
          }
         },
         "colorscale": [
          [
           0,
           "green"
          ],
          [
           1,
           "red"
          ]
         ]
        },
        "legend": {
         "tracegroupgap": 0
        },
        "margin": {
         "t": 60
        },
        "scene": {
         "aspectmode": "manual",
         "aspectratio": {
          "x": 1,
          "y": 1,
          "z": 1
         },
         "camera": {
          "eye": {
           "x": 2,
           "y": 1.5,
           "z": 1.5
          }
         },
         "domain": {
          "x": [
           0,
           1
          ],
          "y": [
           0,
           1
          ]
         },
         "xaxis": {
          "range": [
           -1.794442727304477,
           0.16512811927073778
          ],
          "title": {
           "text": "x"
          }
         },
         "yaxis": {
          "range": [
           -2.53845496032735,
           2.522548123149894
          ],
          "title": {
           "text": "y"
          }
         },
         "zaxis": {
          "range": [
           -2.584214965316839,
           2.1366402329707648
          ],
          "title": {
           "text": "z"
          }
         }
        },
        "sliders": [
         {
          "active": 0,
          "currentvalue": {
           "prefix": "frame="
          },
          "len": 0.9,
          "pad": {
           "b": 10,
           "t": 60
          },
          "steps": [
           {
            "args": [
             [
              "0"
             ],
             {
              "frame": {
               "duration": 0,
               "redraw": true
              },
              "fromcurrent": true,
              "mode": "immediate",
              "transition": {
               "duration": 0,
               "easing": "linear"
              }
             }
            ],
            "label": "0",
            "method": "animate"
           },
           {
            "args": [
             [
              "1"
             ],
             {
              "frame": {
               "duration": 0,
               "redraw": true
              },
              "fromcurrent": true,
              "mode": "immediate",
              "transition": {
               "duration": 0,
               "easing": "linear"
              }
             }
            ],
            "label": "1",
            "method": "animate"
           },
           {
            "args": [
             [
              "2"
             ],
             {
              "frame": {
               "duration": 0,
               "redraw": true
              },
              "fromcurrent": true,
              "mode": "immediate",
              "transition": {
               "duration": 0,
               "easing": "linear"
              }
             }
            ],
            "label": "2",
            "method": "animate"
           },
           {
            "args": [
             [
              "3"
             ],
             {
              "frame": {
               "duration": 0,
               "redraw": true
              },
              "fromcurrent": true,
              "mode": "immediate",
              "transition": {
               "duration": 0,
               "easing": "linear"
              }
             }
            ],
            "label": "3",
            "method": "animate"
           },
           {
            "args": [
             [
              "4"
             ],
             {
              "frame": {
               "duration": 0,
               "redraw": true
              },
              "fromcurrent": true,
              "mode": "immediate",
              "transition": {
               "duration": 0,
               "easing": "linear"
              }
             }
            ],
            "label": "4",
            "method": "animate"
           },
           {
            "args": [
             [
              "5"
             ],
             {
              "frame": {
               "duration": 0,
               "redraw": true
              },
              "fromcurrent": true,
              "mode": "immediate",
              "transition": {
               "duration": 0,
               "easing": "linear"
              }
             }
            ],
            "label": "5",
            "method": "animate"
           },
           {
            "args": [
             [
              "6"
             ],
             {
              "frame": {
               "duration": 0,
               "redraw": true
              },
              "fromcurrent": true,
              "mode": "immediate",
              "transition": {
               "duration": 0,
               "easing": "linear"
              }
             }
            ],
            "label": "6",
            "method": "animate"
           },
           {
            "args": [
             [
              "7"
             ],
             {
              "frame": {
               "duration": 0,
               "redraw": true
              },
              "fromcurrent": true,
              "mode": "immediate",
              "transition": {
               "duration": 0,
               "easing": "linear"
              }
             }
            ],
            "label": "7",
            "method": "animate"
           },
           {
            "args": [
             [
              "8"
             ],
             {
              "frame": {
               "duration": 0,
               "redraw": true
              },
              "fromcurrent": true,
              "mode": "immediate",
              "transition": {
               "duration": 0,
               "easing": "linear"
              }
             }
            ],
            "label": "8",
            "method": "animate"
           },
           {
            "args": [
             [
              "9"
             ],
             {
              "frame": {
               "duration": 0,
               "redraw": true
              },
              "fromcurrent": true,
              "mode": "immediate",
              "transition": {
               "duration": 0,
               "easing": "linear"
              }
             }
            ],
            "label": "9",
            "method": "animate"
           },
           {
            "args": [
             [
              "10"
             ],
             {
              "frame": {
               "duration": 0,
               "redraw": true
              },
              "fromcurrent": true,
              "mode": "immediate",
              "transition": {
               "duration": 0,
               "easing": "linear"
              }
             }
            ],
            "label": "10",
            "method": "animate"
           },
           {
            "args": [
             [
              "11"
             ],
             {
              "frame": {
               "duration": 0,
               "redraw": true
              },
              "fromcurrent": true,
              "mode": "immediate",
              "transition": {
               "duration": 0,
               "easing": "linear"
              }
             }
            ],
            "label": "11",
            "method": "animate"
           },
           {
            "args": [
             [
              "12"
             ],
             {
              "frame": {
               "duration": 0,
               "redraw": true
              },
              "fromcurrent": true,
              "mode": "immediate",
              "transition": {
               "duration": 0,
               "easing": "linear"
              }
             }
            ],
            "label": "12",
            "method": "animate"
           },
           {
            "args": [
             [
              "13"
             ],
             {
              "frame": {
               "duration": 0,
               "redraw": true
              },
              "fromcurrent": true,
              "mode": "immediate",
              "transition": {
               "duration": 0,
               "easing": "linear"
              }
             }
            ],
            "label": "13",
            "method": "animate"
           },
           {
            "args": [
             [
              "14"
             ],
             {
              "frame": {
               "duration": 0,
               "redraw": true
              },
              "fromcurrent": true,
              "mode": "immediate",
              "transition": {
               "duration": 0,
               "easing": "linear"
              }
             }
            ],
            "label": "14",
            "method": "animate"
           },
           {
            "args": [
             [
              "15"
             ],
             {
              "frame": {
               "duration": 0,
               "redraw": true
              },
              "fromcurrent": true,
              "mode": "immediate",
              "transition": {
               "duration": 0,
               "easing": "linear"
              }
             }
            ],
            "label": "15",
            "method": "animate"
           },
           {
            "args": [
             [
              "16"
             ],
             {
              "frame": {
               "duration": 0,
               "redraw": true
              },
              "fromcurrent": true,
              "mode": "immediate",
              "transition": {
               "duration": 0,
               "easing": "linear"
              }
             }
            ],
            "label": "16",
            "method": "animate"
           },
           {
            "args": [
             [
              "17"
             ],
             {
              "frame": {
               "duration": 0,
               "redraw": true
              },
              "fromcurrent": true,
              "mode": "immediate",
              "transition": {
               "duration": 0,
               "easing": "linear"
              }
             }
            ],
            "label": "17",
            "method": "animate"
           },
           {
            "args": [
             [
              "18"
             ],
             {
              "frame": {
               "duration": 0,
               "redraw": true
              },
              "fromcurrent": true,
              "mode": "immediate",
              "transition": {
               "duration": 0,
               "easing": "linear"
              }
             }
            ],
            "label": "18",
            "method": "animate"
           },
           {
            "args": [
             [
              "19"
             ],
             {
              "frame": {
               "duration": 0,
               "redraw": true
              },
              "fromcurrent": true,
              "mode": "immediate",
              "transition": {
               "duration": 0,
               "easing": "linear"
              }
             }
            ],
            "label": "19",
            "method": "animate"
           },
           {
            "args": [
             [
              "20"
             ],
             {
              "frame": {
               "duration": 0,
               "redraw": true
              },
              "fromcurrent": true,
              "mode": "immediate",
              "transition": {
               "duration": 0,
               "easing": "linear"
              }
             }
            ],
            "label": "20",
            "method": "animate"
           },
           {
            "args": [
             [
              "21"
             ],
             {
              "frame": {
               "duration": 0,
               "redraw": true
              },
              "fromcurrent": true,
              "mode": "immediate",
              "transition": {
               "duration": 0,
               "easing": "linear"
              }
             }
            ],
            "label": "21",
            "method": "animate"
           },
           {
            "args": [
             [
              "22"
             ],
             {
              "frame": {
               "duration": 0,
               "redraw": true
              },
              "fromcurrent": true,
              "mode": "immediate",
              "transition": {
               "duration": 0,
               "easing": "linear"
              }
             }
            ],
            "label": "22",
            "method": "animate"
           },
           {
            "args": [
             [
              "23"
             ],
             {
              "frame": {
               "duration": 0,
               "redraw": true
              },
              "fromcurrent": true,
              "mode": "immediate",
              "transition": {
               "duration": 0,
               "easing": "linear"
              }
             }
            ],
            "label": "23",
            "method": "animate"
           },
           {
            "args": [
             [
              "24"
             ],
             {
              "frame": {
               "duration": 0,
               "redraw": true
              },
              "fromcurrent": true,
              "mode": "immediate",
              "transition": {
               "duration": 0,
               "easing": "linear"
              }
             }
            ],
            "label": "24",
            "method": "animate"
           },
           {
            "args": [
             [
              "25"
             ],
             {
              "frame": {
               "duration": 0,
               "redraw": true
              },
              "fromcurrent": true,
              "mode": "immediate",
              "transition": {
               "duration": 0,
               "easing": "linear"
              }
             }
            ],
            "label": "25",
            "method": "animate"
           },
           {
            "args": [
             [
              "26"
             ],
             {
              "frame": {
               "duration": 0,
               "redraw": true
              },
              "fromcurrent": true,
              "mode": "immediate",
              "transition": {
               "duration": 0,
               "easing": "linear"
              }
             }
            ],
            "label": "26",
            "method": "animate"
           },
           {
            "args": [
             [
              "27"
             ],
             {
              "frame": {
               "duration": 0,
               "redraw": true
              },
              "fromcurrent": true,
              "mode": "immediate",
              "transition": {
               "duration": 0,
               "easing": "linear"
              }
             }
            ],
            "label": "27",
            "method": "animate"
           },
           {
            "args": [
             [
              "28"
             ],
             {
              "frame": {
               "duration": 0,
               "redraw": true
              },
              "fromcurrent": true,
              "mode": "immediate",
              "transition": {
               "duration": 0,
               "easing": "linear"
              }
             }
            ],
            "label": "28",
            "method": "animate"
           },
           {
            "args": [
             [
              "29"
             ],
             {
              "frame": {
               "duration": 0,
               "redraw": true
              },
              "fromcurrent": true,
              "mode": "immediate",
              "transition": {
               "duration": 0,
               "easing": "linear"
              }
             }
            ],
            "label": "29",
            "method": "animate"
           },
           {
            "args": [
             [
              "30"
             ],
             {
              "frame": {
               "duration": 0,
               "redraw": true
              },
              "fromcurrent": true,
              "mode": "immediate",
              "transition": {
               "duration": 0,
               "easing": "linear"
              }
             }
            ],
            "label": "30",
            "method": "animate"
           },
           {
            "args": [
             [
              "31"
             ],
             {
              "frame": {
               "duration": 0,
               "redraw": true
              },
              "fromcurrent": true,
              "mode": "immediate",
              "transition": {
               "duration": 0,
               "easing": "linear"
              }
             }
            ],
            "label": "31",
            "method": "animate"
           },
           {
            "args": [
             [
              "32"
             ],
             {
              "frame": {
               "duration": 0,
               "redraw": true
              },
              "fromcurrent": true,
              "mode": "immediate",
              "transition": {
               "duration": 0,
               "easing": "linear"
              }
             }
            ],
            "label": "32",
            "method": "animate"
           },
           {
            "args": [
             [
              "33"
             ],
             {
              "frame": {
               "duration": 0,
               "redraw": true
              },
              "fromcurrent": true,
              "mode": "immediate",
              "transition": {
               "duration": 0,
               "easing": "linear"
              }
             }
            ],
            "label": "33",
            "method": "animate"
           },
           {
            "args": [
             [
              "34"
             ],
             {
              "frame": {
               "duration": 0,
               "redraw": true
              },
              "fromcurrent": true,
              "mode": "immediate",
              "transition": {
               "duration": 0,
               "easing": "linear"
              }
             }
            ],
            "label": "34",
            "method": "animate"
           },
           {
            "args": [
             [
              "35"
             ],
             {
              "frame": {
               "duration": 0,
               "redraw": true
              },
              "fromcurrent": true,
              "mode": "immediate",
              "transition": {
               "duration": 0,
               "easing": "linear"
              }
             }
            ],
            "label": "35",
            "method": "animate"
           },
           {
            "args": [
             [
              "36"
             ],
             {
              "frame": {
               "duration": 0,
               "redraw": true
              },
              "fromcurrent": true,
              "mode": "immediate",
              "transition": {
               "duration": 0,
               "easing": "linear"
              }
             }
            ],
            "label": "36",
            "method": "animate"
           },
           {
            "args": [
             [
              "37"
             ],
             {
              "frame": {
               "duration": 0,
               "redraw": true
              },
              "fromcurrent": true,
              "mode": "immediate",
              "transition": {
               "duration": 0,
               "easing": "linear"
              }
             }
            ],
            "label": "37",
            "method": "animate"
           },
           {
            "args": [
             [
              "38"
             ],
             {
              "frame": {
               "duration": 0,
               "redraw": true
              },
              "fromcurrent": true,
              "mode": "immediate",
              "transition": {
               "duration": 0,
               "easing": "linear"
              }
             }
            ],
            "label": "38",
            "method": "animate"
           },
           {
            "args": [
             [
              "39"
             ],
             {
              "frame": {
               "duration": 0,
               "redraw": true
              },
              "fromcurrent": true,
              "mode": "immediate",
              "transition": {
               "duration": 0,
               "easing": "linear"
              }
             }
            ],
            "label": "39",
            "method": "animate"
           },
           {
            "args": [
             [
              "40"
             ],
             {
              "frame": {
               "duration": 0,
               "redraw": true
              },
              "fromcurrent": true,
              "mode": "immediate",
              "transition": {
               "duration": 0,
               "easing": "linear"
              }
             }
            ],
            "label": "40",
            "method": "animate"
           },
           {
            "args": [
             [
              "41"
             ],
             {
              "frame": {
               "duration": 0,
               "redraw": true
              },
              "fromcurrent": true,
              "mode": "immediate",
              "transition": {
               "duration": 0,
               "easing": "linear"
              }
             }
            ],
            "label": "41",
            "method": "animate"
           },
           {
            "args": [
             [
              "42"
             ],
             {
              "frame": {
               "duration": 0,
               "redraw": true
              },
              "fromcurrent": true,
              "mode": "immediate",
              "transition": {
               "duration": 0,
               "easing": "linear"
              }
             }
            ],
            "label": "42",
            "method": "animate"
           },
           {
            "args": [
             [
              "43"
             ],
             {
              "frame": {
               "duration": 0,
               "redraw": true
              },
              "fromcurrent": true,
              "mode": "immediate",
              "transition": {
               "duration": 0,
               "easing": "linear"
              }
             }
            ],
            "label": "43",
            "method": "animate"
           },
           {
            "args": [
             [
              "44"
             ],
             {
              "frame": {
               "duration": 0,
               "redraw": true
              },
              "fromcurrent": true,
              "mode": "immediate",
              "transition": {
               "duration": 0,
               "easing": "linear"
              }
             }
            ],
            "label": "44",
            "method": "animate"
           },
           {
            "args": [
             [
              "45"
             ],
             {
              "frame": {
               "duration": 0,
               "redraw": true
              },
              "fromcurrent": true,
              "mode": "immediate",
              "transition": {
               "duration": 0,
               "easing": "linear"
              }
             }
            ],
            "label": "45",
            "method": "animate"
           },
           {
            "args": [
             [
              "46"
             ],
             {
              "frame": {
               "duration": 0,
               "redraw": true
              },
              "fromcurrent": true,
              "mode": "immediate",
              "transition": {
               "duration": 0,
               "easing": "linear"
              }
             }
            ],
            "label": "46",
            "method": "animate"
           },
           {
            "args": [
             [
              "47"
             ],
             {
              "frame": {
               "duration": 0,
               "redraw": true
              },
              "fromcurrent": true,
              "mode": "immediate",
              "transition": {
               "duration": 0,
               "easing": "linear"
              }
             }
            ],
            "label": "47",
            "method": "animate"
           },
           {
            "args": [
             [
              "48"
             ],
             {
              "frame": {
               "duration": 0,
               "redraw": true
              },
              "fromcurrent": true,
              "mode": "immediate",
              "transition": {
               "duration": 0,
               "easing": "linear"
              }
             }
            ],
            "label": "48",
            "method": "animate"
           },
           {
            "args": [
             [
              "49"
             ],
             {
              "frame": {
               "duration": 0,
               "redraw": true
              },
              "fromcurrent": true,
              "mode": "immediate",
              "transition": {
               "duration": 0,
               "easing": "linear"
              }
             }
            ],
            "label": "49",
            "method": "animate"
           },
           {
            "args": [
             [
              "50"
             ],
             {
              "frame": {
               "duration": 0,
               "redraw": true
              },
              "fromcurrent": true,
              "mode": "immediate",
              "transition": {
               "duration": 0,
               "easing": "linear"
              }
             }
            ],
            "label": "50",
            "method": "animate"
           },
           {
            "args": [
             [
              "51"
             ],
             {
              "frame": {
               "duration": 0,
               "redraw": true
              },
              "fromcurrent": true,
              "mode": "immediate",
              "transition": {
               "duration": 0,
               "easing": "linear"
              }
             }
            ],
            "label": "51",
            "method": "animate"
           },
           {
            "args": [
             [
              "52"
             ],
             {
              "frame": {
               "duration": 0,
               "redraw": true
              },
              "fromcurrent": true,
              "mode": "immediate",
              "transition": {
               "duration": 0,
               "easing": "linear"
              }
             }
            ],
            "label": "52",
            "method": "animate"
           },
           {
            "args": [
             [
              "53"
             ],
             {
              "frame": {
               "duration": 0,
               "redraw": true
              },
              "fromcurrent": true,
              "mode": "immediate",
              "transition": {
               "duration": 0,
               "easing": "linear"
              }
             }
            ],
            "label": "53",
            "method": "animate"
           },
           {
            "args": [
             [
              "54"
             ],
             {
              "frame": {
               "duration": 0,
               "redraw": true
              },
              "fromcurrent": true,
              "mode": "immediate",
              "transition": {
               "duration": 0,
               "easing": "linear"
              }
             }
            ],
            "label": "54",
            "method": "animate"
           },
           {
            "args": [
             [
              "55"
             ],
             {
              "frame": {
               "duration": 0,
               "redraw": true
              },
              "fromcurrent": true,
              "mode": "immediate",
              "transition": {
               "duration": 0,
               "easing": "linear"
              }
             }
            ],
            "label": "55",
            "method": "animate"
           },
           {
            "args": [
             [
              "56"
             ],
             {
              "frame": {
               "duration": 0,
               "redraw": true
              },
              "fromcurrent": true,
              "mode": "immediate",
              "transition": {
               "duration": 0,
               "easing": "linear"
              }
             }
            ],
            "label": "56",
            "method": "animate"
           },
           {
            "args": [
             [
              "57"
             ],
             {
              "frame": {
               "duration": 0,
               "redraw": true
              },
              "fromcurrent": true,
              "mode": "immediate",
              "transition": {
               "duration": 0,
               "easing": "linear"
              }
             }
            ],
            "label": "57",
            "method": "animate"
           },
           {
            "args": [
             [
              "58"
             ],
             {
              "frame": {
               "duration": 0,
               "redraw": true
              },
              "fromcurrent": true,
              "mode": "immediate",
              "transition": {
               "duration": 0,
               "easing": "linear"
              }
             }
            ],
            "label": "58",
            "method": "animate"
           },
           {
            "args": [
             [
              "59"
             ],
             {
              "frame": {
               "duration": 0,
               "redraw": true
              },
              "fromcurrent": true,
              "mode": "immediate",
              "transition": {
               "duration": 0,
               "easing": "linear"
              }
             }
            ],
            "label": "59",
            "method": "animate"
           },
           {
            "args": [
             [
              "60"
             ],
             {
              "frame": {
               "duration": 0,
               "redraw": true
              },
              "fromcurrent": true,
              "mode": "immediate",
              "transition": {
               "duration": 0,
               "easing": "linear"
              }
             }
            ],
            "label": "60",
            "method": "animate"
           },
           {
            "args": [
             [
              "61"
             ],
             {
              "frame": {
               "duration": 0,
               "redraw": true
              },
              "fromcurrent": true,
              "mode": "immediate",
              "transition": {
               "duration": 0,
               "easing": "linear"
              }
             }
            ],
            "label": "61",
            "method": "animate"
           },
           {
            "args": [
             [
              "62"
             ],
             {
              "frame": {
               "duration": 0,
               "redraw": true
              },
              "fromcurrent": true,
              "mode": "immediate",
              "transition": {
               "duration": 0,
               "easing": "linear"
              }
             }
            ],
            "label": "62",
            "method": "animate"
           },
           {
            "args": [
             [
              "63"
             ],
             {
              "frame": {
               "duration": 0,
               "redraw": true
              },
              "fromcurrent": true,
              "mode": "immediate",
              "transition": {
               "duration": 0,
               "easing": "linear"
              }
             }
            ],
            "label": "63",
            "method": "animate"
           },
           {
            "args": [
             [
              "64"
             ],
             {
              "frame": {
               "duration": 0,
               "redraw": true
              },
              "fromcurrent": true,
              "mode": "immediate",
              "transition": {
               "duration": 0,
               "easing": "linear"
              }
             }
            ],
            "label": "64",
            "method": "animate"
           },
           {
            "args": [
             [
              "65"
             ],
             {
              "frame": {
               "duration": 0,
               "redraw": true
              },
              "fromcurrent": true,
              "mode": "immediate",
              "transition": {
               "duration": 0,
               "easing": "linear"
              }
             }
            ],
            "label": "65",
            "method": "animate"
           },
           {
            "args": [
             [
              "66"
             ],
             {
              "frame": {
               "duration": 0,
               "redraw": true
              },
              "fromcurrent": true,
              "mode": "immediate",
              "transition": {
               "duration": 0,
               "easing": "linear"
              }
             }
            ],
            "label": "66",
            "method": "animate"
           },
           {
            "args": [
             [
              "67"
             ],
             {
              "frame": {
               "duration": 0,
               "redraw": true
              },
              "fromcurrent": true,
              "mode": "immediate",
              "transition": {
               "duration": 0,
               "easing": "linear"
              }
             }
            ],
            "label": "67",
            "method": "animate"
           },
           {
            "args": [
             [
              "68"
             ],
             {
              "frame": {
               "duration": 0,
               "redraw": true
              },
              "fromcurrent": true,
              "mode": "immediate",
              "transition": {
               "duration": 0,
               "easing": "linear"
              }
             }
            ],
            "label": "68",
            "method": "animate"
           },
           {
            "args": [
             [
              "69"
             ],
             {
              "frame": {
               "duration": 0,
               "redraw": true
              },
              "fromcurrent": true,
              "mode": "immediate",
              "transition": {
               "duration": 0,
               "easing": "linear"
              }
             }
            ],
            "label": "69",
            "method": "animate"
           },
           {
            "args": [
             [
              "70"
             ],
             {
              "frame": {
               "duration": 0,
               "redraw": true
              },
              "fromcurrent": true,
              "mode": "immediate",
              "transition": {
               "duration": 0,
               "easing": "linear"
              }
             }
            ],
            "label": "70",
            "method": "animate"
           },
           {
            "args": [
             [
              "71"
             ],
             {
              "frame": {
               "duration": 0,
               "redraw": true
              },
              "fromcurrent": true,
              "mode": "immediate",
              "transition": {
               "duration": 0,
               "easing": "linear"
              }
             }
            ],
            "label": "71",
            "method": "animate"
           },
           {
            "args": [
             [
              "72"
             ],
             {
              "frame": {
               "duration": 0,
               "redraw": true
              },
              "fromcurrent": true,
              "mode": "immediate",
              "transition": {
               "duration": 0,
               "easing": "linear"
              }
             }
            ],
            "label": "72",
            "method": "animate"
           },
           {
            "args": [
             [
              "73"
             ],
             {
              "frame": {
               "duration": 0,
               "redraw": true
              },
              "fromcurrent": true,
              "mode": "immediate",
              "transition": {
               "duration": 0,
               "easing": "linear"
              }
             }
            ],
            "label": "73",
            "method": "animate"
           },
           {
            "args": [
             [
              "74"
             ],
             {
              "frame": {
               "duration": 0,
               "redraw": true
              },
              "fromcurrent": true,
              "mode": "immediate",
              "transition": {
               "duration": 0,
               "easing": "linear"
              }
             }
            ],
            "label": "74",
            "method": "animate"
           },
           {
            "args": [
             [
              "75"
             ],
             {
              "frame": {
               "duration": 0,
               "redraw": true
              },
              "fromcurrent": true,
              "mode": "immediate",
              "transition": {
               "duration": 0,
               "easing": "linear"
              }
             }
            ],
            "label": "75",
            "method": "animate"
           },
           {
            "args": [
             [
              "76"
             ],
             {
              "frame": {
               "duration": 0,
               "redraw": true
              },
              "fromcurrent": true,
              "mode": "immediate",
              "transition": {
               "duration": 0,
               "easing": "linear"
              }
             }
            ],
            "label": "76",
            "method": "animate"
           },
           {
            "args": [
             [
              "77"
             ],
             {
              "frame": {
               "duration": 0,
               "redraw": true
              },
              "fromcurrent": true,
              "mode": "immediate",
              "transition": {
               "duration": 0,
               "easing": "linear"
              }
             }
            ],
            "label": "77",
            "method": "animate"
           },
           {
            "args": [
             [
              "78"
             ],
             {
              "frame": {
               "duration": 0,
               "redraw": true
              },
              "fromcurrent": true,
              "mode": "immediate",
              "transition": {
               "duration": 0,
               "easing": "linear"
              }
             }
            ],
            "label": "78",
            "method": "animate"
           },
           {
            "args": [
             [
              "79"
             ],
             {
              "frame": {
               "duration": 0,
               "redraw": true
              },
              "fromcurrent": true,
              "mode": "immediate",
              "transition": {
               "duration": 0,
               "easing": "linear"
              }
             }
            ],
            "label": "79",
            "method": "animate"
           },
           {
            "args": [
             [
              "80"
             ],
             {
              "frame": {
               "duration": 0,
               "redraw": true
              },
              "fromcurrent": true,
              "mode": "immediate",
              "transition": {
               "duration": 0,
               "easing": "linear"
              }
             }
            ],
            "label": "80",
            "method": "animate"
           },
           {
            "args": [
             [
              "81"
             ],
             {
              "frame": {
               "duration": 0,
               "redraw": true
              },
              "fromcurrent": true,
              "mode": "immediate",
              "transition": {
               "duration": 0,
               "easing": "linear"
              }
             }
            ],
            "label": "81",
            "method": "animate"
           },
           {
            "args": [
             [
              "82"
             ],
             {
              "frame": {
               "duration": 0,
               "redraw": true
              },
              "fromcurrent": true,
              "mode": "immediate",
              "transition": {
               "duration": 0,
               "easing": "linear"
              }
             }
            ],
            "label": "82",
            "method": "animate"
           },
           {
            "args": [
             [
              "83"
             ],
             {
              "frame": {
               "duration": 0,
               "redraw": true
              },
              "fromcurrent": true,
              "mode": "immediate",
              "transition": {
               "duration": 0,
               "easing": "linear"
              }
             }
            ],
            "label": "83",
            "method": "animate"
           }
          ],
          "x": 0.1,
          "xanchor": "left",
          "y": 0,
          "yanchor": "top"
         }
        ],
        "template": {
         "data": {
          "bar": [
           {
            "error_x": {
             "color": "#2a3f5f"
            },
            "error_y": {
             "color": "#2a3f5f"
            },
            "marker": {
             "line": {
              "color": "#E5ECF6",
              "width": 0.5
             }
            },
            "type": "bar"
           }
          ],
          "barpolar": [
           {
            "marker": {
             "line": {
              "color": "#E5ECF6",
              "width": 0.5
             }
            },
            "type": "barpolar"
           }
          ],
          "carpet": [
           {
            "aaxis": {
             "endlinecolor": "#2a3f5f",
             "gridcolor": "white",
             "linecolor": "white",
             "minorgridcolor": "white",
             "startlinecolor": "#2a3f5f"
            },
            "baxis": {
             "endlinecolor": "#2a3f5f",
             "gridcolor": "white",
             "linecolor": "white",
             "minorgridcolor": "white",
             "startlinecolor": "#2a3f5f"
            },
            "type": "carpet"
           }
          ],
          "choropleth": [
           {
            "colorbar": {
             "outlinewidth": 0,
             "ticks": ""
            },
            "type": "choropleth"
           }
          ],
          "contour": [
           {
            "colorbar": {
             "outlinewidth": 0,
             "ticks": ""
            },
            "colorscale": [
             [
              0,
              "#0d0887"
             ],
             [
              0.1111111111111111,
              "#46039f"
             ],
             [
              0.2222222222222222,
              "#7201a8"
             ],
             [
              0.3333333333333333,
              "#9c179e"
             ],
             [
              0.4444444444444444,
              "#bd3786"
             ],
             [
              0.5555555555555556,
              "#d8576b"
             ],
             [
              0.6666666666666666,
              "#ed7953"
             ],
             [
              0.7777777777777778,
              "#fb9f3a"
             ],
             [
              0.8888888888888888,
              "#fdca26"
             ],
             [
              1,
              "#f0f921"
             ]
            ],
            "type": "contour"
           }
          ],
          "contourcarpet": [
           {
            "colorbar": {
             "outlinewidth": 0,
             "ticks": ""
            },
            "type": "contourcarpet"
           }
          ],
          "heatmap": [
           {
            "colorbar": {
             "outlinewidth": 0,
             "ticks": ""
            },
            "colorscale": [
             [
              0,
              "#0d0887"
             ],
             [
              0.1111111111111111,
              "#46039f"
             ],
             [
              0.2222222222222222,
              "#7201a8"
             ],
             [
              0.3333333333333333,
              "#9c179e"
             ],
             [
              0.4444444444444444,
              "#bd3786"
             ],
             [
              0.5555555555555556,
              "#d8576b"
             ],
             [
              0.6666666666666666,
              "#ed7953"
             ],
             [
              0.7777777777777778,
              "#fb9f3a"
             ],
             [
              0.8888888888888888,
              "#fdca26"
             ],
             [
              1,
              "#f0f921"
             ]
            ],
            "type": "heatmap"
           }
          ],
          "heatmapgl": [
           {
            "colorbar": {
             "outlinewidth": 0,
             "ticks": ""
            },
            "colorscale": [
             [
              0,
              "#0d0887"
             ],
             [
              0.1111111111111111,
              "#46039f"
             ],
             [
              0.2222222222222222,
              "#7201a8"
             ],
             [
              0.3333333333333333,
              "#9c179e"
             ],
             [
              0.4444444444444444,
              "#bd3786"
             ],
             [
              0.5555555555555556,
              "#d8576b"
             ],
             [
              0.6666666666666666,
              "#ed7953"
             ],
             [
              0.7777777777777778,
              "#fb9f3a"
             ],
             [
              0.8888888888888888,
              "#fdca26"
             ],
             [
              1,
              "#f0f921"
             ]
            ],
            "type": "heatmapgl"
           }
          ],
          "histogram": [
           {
            "marker": {
             "colorbar": {
              "outlinewidth": 0,
              "ticks": ""
             }
            },
            "type": "histogram"
           }
          ],
          "histogram2d": [
           {
            "colorbar": {
             "outlinewidth": 0,
             "ticks": ""
            },
            "colorscale": [
             [
              0,
              "#0d0887"
             ],
             [
              0.1111111111111111,
              "#46039f"
             ],
             [
              0.2222222222222222,
              "#7201a8"
             ],
             [
              0.3333333333333333,
              "#9c179e"
             ],
             [
              0.4444444444444444,
              "#bd3786"
             ],
             [
              0.5555555555555556,
              "#d8576b"
             ],
             [
              0.6666666666666666,
              "#ed7953"
             ],
             [
              0.7777777777777778,
              "#fb9f3a"
             ],
             [
              0.8888888888888888,
              "#fdca26"
             ],
             [
              1,
              "#f0f921"
             ]
            ],
            "type": "histogram2d"
           }
          ],
          "histogram2dcontour": [
           {
            "colorbar": {
             "outlinewidth": 0,
             "ticks": ""
            },
            "colorscale": [
             [
              0,
              "#0d0887"
             ],
             [
              0.1111111111111111,
              "#46039f"
             ],
             [
              0.2222222222222222,
              "#7201a8"
             ],
             [
              0.3333333333333333,
              "#9c179e"
             ],
             [
              0.4444444444444444,
              "#bd3786"
             ],
             [
              0.5555555555555556,
              "#d8576b"
             ],
             [
              0.6666666666666666,
              "#ed7953"
             ],
             [
              0.7777777777777778,
              "#fb9f3a"
             ],
             [
              0.8888888888888888,
              "#fdca26"
             ],
             [
              1,
              "#f0f921"
             ]
            ],
            "type": "histogram2dcontour"
           }
          ],
          "mesh3d": [
           {
            "colorbar": {
             "outlinewidth": 0,
             "ticks": ""
            },
            "type": "mesh3d"
           }
          ],
          "parcoords": [
           {
            "line": {
             "colorbar": {
              "outlinewidth": 0,
              "ticks": ""
             }
            },
            "type": "parcoords"
           }
          ],
          "pie": [
           {
            "automargin": true,
            "type": "pie"
           }
          ],
          "scatter": [
           {
            "marker": {
             "colorbar": {
              "outlinewidth": 0,
              "ticks": ""
             }
            },
            "type": "scatter"
           }
          ],
          "scatter3d": [
           {
            "line": {
             "colorbar": {
              "outlinewidth": 0,
              "ticks": ""
             }
            },
            "marker": {
             "colorbar": {
              "outlinewidth": 0,
              "ticks": ""
             }
            },
            "type": "scatter3d"
           }
          ],
          "scattercarpet": [
           {
            "marker": {
             "colorbar": {
              "outlinewidth": 0,
              "ticks": ""
             }
            },
            "type": "scattercarpet"
           }
          ],
          "scattergeo": [
           {
            "marker": {
             "colorbar": {
              "outlinewidth": 0,
              "ticks": ""
             }
            },
            "type": "scattergeo"
           }
          ],
          "scattergl": [
           {
            "marker": {
             "colorbar": {
              "outlinewidth": 0,
              "ticks": ""
             }
            },
            "type": "scattergl"
           }
          ],
          "scattermapbox": [
           {
            "marker": {
             "colorbar": {
              "outlinewidth": 0,
              "ticks": ""
             }
            },
            "type": "scattermapbox"
           }
          ],
          "scatterpolar": [
           {
            "marker": {
             "colorbar": {
              "outlinewidth": 0,
              "ticks": ""
             }
            },
            "type": "scatterpolar"
           }
          ],
          "scatterpolargl": [
           {
            "marker": {
             "colorbar": {
              "outlinewidth": 0,
              "ticks": ""
             }
            },
            "type": "scatterpolargl"
           }
          ],
          "scatterternary": [
           {
            "marker": {
             "colorbar": {
              "outlinewidth": 0,
              "ticks": ""
             }
            },
            "type": "scatterternary"
           }
          ],
          "surface": [
           {
            "colorbar": {
             "outlinewidth": 0,
             "ticks": ""
            },
            "colorscale": [
             [
              0,
              "#0d0887"
             ],
             [
              0.1111111111111111,
              "#46039f"
             ],
             [
              0.2222222222222222,
              "#7201a8"
             ],
             [
              0.3333333333333333,
              "#9c179e"
             ],
             [
              0.4444444444444444,
              "#bd3786"
             ],
             [
              0.5555555555555556,
              "#d8576b"
             ],
             [
              0.6666666666666666,
              "#ed7953"
             ],
             [
              0.7777777777777778,
              "#fb9f3a"
             ],
             [
              0.8888888888888888,
              "#fdca26"
             ],
             [
              1,
              "#f0f921"
             ]
            ],
            "type": "surface"
           }
          ],
          "table": [
           {
            "cells": {
             "fill": {
              "color": "#EBF0F8"
             },
             "line": {
              "color": "white"
             }
            },
            "header": {
             "fill": {
              "color": "#C8D4E3"
             },
             "line": {
              "color": "white"
             }
            },
            "type": "table"
           }
          ]
         },
         "layout": {
          "annotationdefaults": {
           "arrowcolor": "#2a3f5f",
           "arrowhead": 0,
           "arrowwidth": 1
          },
          "coloraxis": {
           "colorbar": {
            "outlinewidth": 0,
            "ticks": ""
           }
          },
          "colorscale": {
           "diverging": [
            [
             0,
             "#8e0152"
            ],
            [
             0.1,
             "#c51b7d"
            ],
            [
             0.2,
             "#de77ae"
            ],
            [
             0.3,
             "#f1b6da"
            ],
            [
             0.4,
             "#fde0ef"
            ],
            [
             0.5,
             "#f7f7f7"
            ],
            [
             0.6,
             "#e6f5d0"
            ],
            [
             0.7,
             "#b8e186"
            ],
            [
             0.8,
             "#7fbc41"
            ],
            [
             0.9,
             "#4d9221"
            ],
            [
             1,
             "#276419"
            ]
           ],
           "sequential": [
            [
             0,
             "#0d0887"
            ],
            [
             0.1111111111111111,
             "#46039f"
            ],
            [
             0.2222222222222222,
             "#7201a8"
            ],
            [
             0.3333333333333333,
             "#9c179e"
            ],
            [
             0.4444444444444444,
             "#bd3786"
            ],
            [
             0.5555555555555556,
             "#d8576b"
            ],
            [
             0.6666666666666666,
             "#ed7953"
            ],
            [
             0.7777777777777778,
             "#fb9f3a"
            ],
            [
             0.8888888888888888,
             "#fdca26"
            ],
            [
             1,
             "#f0f921"
            ]
           ],
           "sequentialminus": [
            [
             0,
             "#0d0887"
            ],
            [
             0.1111111111111111,
             "#46039f"
            ],
            [
             0.2222222222222222,
             "#7201a8"
            ],
            [
             0.3333333333333333,
             "#9c179e"
            ],
            [
             0.4444444444444444,
             "#bd3786"
            ],
            [
             0.5555555555555556,
             "#d8576b"
            ],
            [
             0.6666666666666666,
             "#ed7953"
            ],
            [
             0.7777777777777778,
             "#fb9f3a"
            ],
            [
             0.8888888888888888,
             "#fdca26"
            ],
            [
             1,
             "#f0f921"
            ]
           ]
          },
          "colorway": [
           "#636efa",
           "#EF553B",
           "#00cc96",
           "#ab63fa",
           "#FFA15A",
           "#19d3f3",
           "#FF6692",
           "#B6E880",
           "#FF97FF",
           "#FECB52"
          ],
          "font": {
           "color": "#2a3f5f"
          },
          "geo": {
           "bgcolor": "white",
           "lakecolor": "white",
           "landcolor": "#E5ECF6",
           "showlakes": true,
           "showland": true,
           "subunitcolor": "white"
          },
          "hoverlabel": {
           "align": "left"
          },
          "hovermode": "closest",
          "mapbox": {
           "style": "light"
          },
          "paper_bgcolor": "white",
          "plot_bgcolor": "#E5ECF6",
          "polar": {
           "angularaxis": {
            "gridcolor": "white",
            "linecolor": "white",
            "ticks": ""
           },
           "bgcolor": "#E5ECF6",
           "radialaxis": {
            "gridcolor": "white",
            "linecolor": "white",
            "ticks": ""
           }
          },
          "scene": {
           "xaxis": {
            "backgroundcolor": "#E5ECF6",
            "gridcolor": "white",
            "gridwidth": 2,
            "linecolor": "white",
            "showbackground": true,
            "ticks": "",
            "zerolinecolor": "white"
           },
           "yaxis": {
            "backgroundcolor": "#E5ECF6",
            "gridcolor": "white",
            "gridwidth": 2,
            "linecolor": "white",
            "showbackground": true,
            "ticks": "",
            "zerolinecolor": "white"
           },
           "zaxis": {
            "backgroundcolor": "#E5ECF6",
            "gridcolor": "white",
            "gridwidth": 2,
            "linecolor": "white",
            "showbackground": true,
            "ticks": "",
            "zerolinecolor": "white"
           }
          },
          "shapedefaults": {
           "line": {
            "color": "#2a3f5f"
           }
          },
          "ternary": {
           "aaxis": {
            "gridcolor": "white",
            "linecolor": "white",
            "ticks": ""
           },
           "baxis": {
            "gridcolor": "white",
            "linecolor": "white",
            "ticks": ""
           },
           "bgcolor": "#E5ECF6",
           "caxis": {
            "gridcolor": "white",
            "linecolor": "white",
            "ticks": ""
           }
          },
          "title": {
           "x": 0.05
          },
          "xaxis": {
           "automargin": true,
           "gridcolor": "white",
           "linecolor": "white",
           "ticks": "",
           "title": {
            "standoff": 15
           },
           "zerolinecolor": "white",
           "zerolinewidth": 2
          },
          "yaxis": {
           "automargin": true,
           "gridcolor": "white",
           "linecolor": "white",
           "ticks": "",
           "title": {
            "standoff": 15
           },
           "zerolinecolor": "white",
           "zerolinewidth": 2
          }
         }
        },
        "updatemenus": [
         {
          "buttons": [
           {
            "args": [
             null,
             {
              "frame": {
               "duration": 500,
               "redraw": true
              },
              "fromcurrent": true,
              "mode": "immediate",
              "transition": {
               "duration": 500,
               "easing": "linear"
              }
             }
            ],
            "label": "&#9654;",
            "method": "animate"
           },
           {
            "args": [
             [
              null
             ],
             {
              "frame": {
               "duration": 0,
               "redraw": true
              },
              "fromcurrent": true,
              "mode": "immediate",
              "transition": {
               "duration": 0,
               "easing": "linear"
              }
             }
            ],
            "label": "&#9724;",
            "method": "animate"
           }
          ],
          "direction": "left",
          "pad": {
           "r": 10,
           "t": 70
          },
          "showactive": false,
          "type": "buttons",
          "x": 0.1,
          "xanchor": "right",
          "y": 0,
          "yanchor": "top"
         }
        ]
       }
      },
      "text/html": [
       "<div>\n",
       "        \n",
       "        \n",
       "            <div id=\"63990a9e-4da5-40dd-a5e3-8c0af32f600a\" class=\"plotly-graph-div\" style=\"height:525px; width:100%;\"></div>\n",
       "            <script type=\"text/javascript\">\n",
       "                require([\"plotly\"], function(Plotly) {\n",
       "                    window.PLOTLYENV=window.PLOTLYENV || {};\n",
       "                    \n",
       "                if (document.getElementById(\"63990a9e-4da5-40dd-a5e3-8c0af32f600a\")) {\n",
       "                    Plotly.newPlot(\n",
       "                        '63990a9e-4da5-40dd-a5e3-8c0af32f600a',\n",
       "                        [{\"hoverlabel\": {\"namelength\": 0}, \"hovertemplate\": \"<b>%{hovertext}</b><br><br>frame=0<br>x=%{x}<br>y=%{y}<br>z=%{z}<br>diff=%{marker.color}\", \"hovertext\": [\"6\", \"5\", \"4\", \"3\", \"7\", \"8\", \"9\", null], \"ids\": [\"6\", \"5\", \"4\", \"3\", \"7\", \"8\", \"9\", null], \"legendgroup\": \"\", \"marker\": {\"color\": [1.021877470739863, 1.2188638213323957, 1.008020254039054, 0.0, 1.0080202540390537, 1.2188638213323957, 1.0218774707398628, 0.0], \"coloraxis\": \"coloraxis\", \"symbol\": \"circle\"}, \"mode\": \"markers\", \"name\": \"\", \"scene\": \"scene\", \"showlegend\": false, \"type\": \"scatter3d\", \"x\": [-0.07757367934440117, -0.4674916965430573, -0.41776612150092557, 0.0, -0.41977118501068916, -0.3521337092813368, 0.013946330634577033, -1.7845065236894273], \"y\": [1.2553034280125401, 1.0165671994500447, 0.8156152788048683, 0.0, -0.7698998307822628, -1.0464649242289612, -1.171759115105732, -0.12337824130077464], \"z\": [-1.909845271533082, -0.9330228865432362, 0.22278483441815575, 0.0, 0.2745154729700515, -0.8594147772514776, -1.923747045200775, -2.373371398023497]}, {\"hoverlabel\": {\"namelength\": 0}, \"hovertemplate\": \"<b>%{hovertext}</b><br><br>frame=0<br>x=%{x}<br>y=%{y}<br>z=%{z}\", \"hovertext\": [\"6\", \"5\", \"4\", \"3\", \"7\", \"8\", \"9\", null], \"ids\": [\"6\", \"5\", \"4\", \"3\", \"7\", \"8\", \"9\", null], \"legendgroup\": \"\", \"line\": {\"color\": \"#636efa\", \"dash\": \"solid\"}, \"mode\": \"lines\", \"name\": \"\", \"scene\": \"scene\", \"showlegend\": false, \"type\": \"scatter3d\", \"x\": [-0.07757367934440117, -0.4674916965430573, -0.41776612150092557, 0.0, -0.41977118501068916, -0.3521337092813368, 0.013946330634577033, -1.7845065236894273], \"y\": [1.2553034280125401, 1.0165671994500447, 0.8156152788048683, 0.0, -0.7698998307822628, -1.0464649242289612, -1.171759115105732, -0.12337824130077464], \"z\": [-1.909845271533082, -0.9330228865432362, 0.22278483441815575, 0.0, 0.2745154729700515, -0.8594147772514776, -1.923747045200775, -2.373371398023497]}],\n",
       "                        {\"coloraxis\": {\"cmax\": 1.6147524720934592, \"cmin\": 0, \"colorbar\": {\"title\": {\"text\": \"diff\"}}, \"colorscale\": [[0.0, \"green\"], [1.0, \"red\"]]}, \"legend\": {\"tracegroupgap\": 0}, \"margin\": {\"t\": 60}, \"scene\": {\"aspectmode\": \"manual\", \"aspectratio\": {\"x\": 1, \"y\": 1, \"z\": 1}, \"camera\": {\"eye\": {\"x\": 2, \"y\": 1.5, \"z\": 1.5}}, \"domain\": {\"x\": [0.0, 1.0], \"y\": [0.0, 1.0]}, \"xaxis\": {\"range\": [-1.794442727304477, 0.16512811927073778], \"title\": {\"text\": \"x\"}}, \"yaxis\": {\"range\": [-2.53845496032735, 2.522548123149894], \"title\": {\"text\": \"y\"}}, \"zaxis\": {\"range\": [-2.584214965316839, 2.1366402329707648], \"title\": {\"text\": \"z\"}}}, \"sliders\": [{\"active\": 0, \"currentvalue\": {\"prefix\": \"frame=\"}, \"len\": 0.9, \"pad\": {\"b\": 10, \"t\": 60}, \"steps\": [{\"args\": [[\"0\"], {\"frame\": {\"duration\": 0, \"redraw\": true}, \"fromcurrent\": true, \"mode\": \"immediate\", \"transition\": {\"duration\": 0, \"easing\": \"linear\"}}], \"label\": \"0\", \"method\": \"animate\"}, {\"args\": [[\"1\"], {\"frame\": {\"duration\": 0, \"redraw\": true}, \"fromcurrent\": true, \"mode\": \"immediate\", \"transition\": {\"duration\": 0, \"easing\": \"linear\"}}], \"label\": \"1\", \"method\": \"animate\"}, {\"args\": [[\"2\"], {\"frame\": {\"duration\": 0, \"redraw\": true}, \"fromcurrent\": true, \"mode\": \"immediate\", \"transition\": {\"duration\": 0, \"easing\": \"linear\"}}], \"label\": \"2\", \"method\": \"animate\"}, {\"args\": [[\"3\"], {\"frame\": {\"duration\": 0, \"redraw\": true}, \"fromcurrent\": true, \"mode\": \"immediate\", \"transition\": {\"duration\": 0, \"easing\": \"linear\"}}], \"label\": \"3\", \"method\": \"animate\"}, {\"args\": [[\"4\"], {\"frame\": {\"duration\": 0, \"redraw\": true}, \"fromcurrent\": true, \"mode\": \"immediate\", \"transition\": {\"duration\": 0, \"easing\": \"linear\"}}], \"label\": \"4\", \"method\": \"animate\"}, {\"args\": [[\"5\"], {\"frame\": {\"duration\": 0, \"redraw\": true}, \"fromcurrent\": true, \"mode\": \"immediate\", \"transition\": {\"duration\": 0, \"easing\": \"linear\"}}], \"label\": \"5\", \"method\": \"animate\"}, {\"args\": [[\"6\"], {\"frame\": {\"duration\": 0, \"redraw\": true}, \"fromcurrent\": true, \"mode\": \"immediate\", \"transition\": {\"duration\": 0, \"easing\": \"linear\"}}], \"label\": \"6\", \"method\": \"animate\"}, {\"args\": [[\"7\"], {\"frame\": {\"duration\": 0, \"redraw\": true}, \"fromcurrent\": true, \"mode\": \"immediate\", \"transition\": {\"duration\": 0, \"easing\": \"linear\"}}], \"label\": \"7\", \"method\": \"animate\"}, {\"args\": [[\"8\"], {\"frame\": {\"duration\": 0, \"redraw\": true}, \"fromcurrent\": true, \"mode\": \"immediate\", \"transition\": {\"duration\": 0, \"easing\": \"linear\"}}], \"label\": \"8\", \"method\": \"animate\"}, {\"args\": [[\"9\"], {\"frame\": {\"duration\": 0, \"redraw\": true}, \"fromcurrent\": true, \"mode\": \"immediate\", \"transition\": {\"duration\": 0, \"easing\": \"linear\"}}], \"label\": \"9\", \"method\": \"animate\"}, {\"args\": [[\"10\"], {\"frame\": {\"duration\": 0, \"redraw\": true}, \"fromcurrent\": true, \"mode\": \"immediate\", \"transition\": {\"duration\": 0, \"easing\": \"linear\"}}], \"label\": \"10\", \"method\": \"animate\"}, {\"args\": [[\"11\"], {\"frame\": {\"duration\": 0, \"redraw\": true}, \"fromcurrent\": true, \"mode\": \"immediate\", \"transition\": {\"duration\": 0, \"easing\": \"linear\"}}], \"label\": \"11\", \"method\": \"animate\"}, {\"args\": [[\"12\"], {\"frame\": {\"duration\": 0, \"redraw\": true}, \"fromcurrent\": true, \"mode\": \"immediate\", \"transition\": {\"duration\": 0, \"easing\": \"linear\"}}], \"label\": \"12\", \"method\": \"animate\"}, {\"args\": [[\"13\"], {\"frame\": {\"duration\": 0, \"redraw\": true}, \"fromcurrent\": true, \"mode\": \"immediate\", \"transition\": {\"duration\": 0, \"easing\": \"linear\"}}], \"label\": \"13\", \"method\": \"animate\"}, {\"args\": [[\"14\"], {\"frame\": {\"duration\": 0, \"redraw\": true}, \"fromcurrent\": true, \"mode\": \"immediate\", \"transition\": {\"duration\": 0, \"easing\": \"linear\"}}], \"label\": \"14\", \"method\": \"animate\"}, {\"args\": [[\"15\"], {\"frame\": {\"duration\": 0, \"redraw\": true}, \"fromcurrent\": true, \"mode\": \"immediate\", \"transition\": {\"duration\": 0, \"easing\": \"linear\"}}], \"label\": \"15\", \"method\": \"animate\"}, {\"args\": [[\"16\"], {\"frame\": {\"duration\": 0, \"redraw\": true}, \"fromcurrent\": true, \"mode\": \"immediate\", \"transition\": {\"duration\": 0, \"easing\": \"linear\"}}], \"label\": \"16\", \"method\": \"animate\"}, {\"args\": [[\"17\"], {\"frame\": {\"duration\": 0, \"redraw\": true}, \"fromcurrent\": true, \"mode\": \"immediate\", \"transition\": {\"duration\": 0, \"easing\": \"linear\"}}], \"label\": \"17\", \"method\": \"animate\"}, {\"args\": [[\"18\"], {\"frame\": {\"duration\": 0, \"redraw\": true}, \"fromcurrent\": true, \"mode\": \"immediate\", \"transition\": {\"duration\": 0, \"easing\": \"linear\"}}], \"label\": \"18\", \"method\": \"animate\"}, {\"args\": [[\"19\"], {\"frame\": {\"duration\": 0, \"redraw\": true}, \"fromcurrent\": true, \"mode\": \"immediate\", \"transition\": {\"duration\": 0, \"easing\": \"linear\"}}], \"label\": \"19\", \"method\": \"animate\"}, {\"args\": [[\"20\"], {\"frame\": {\"duration\": 0, \"redraw\": true}, \"fromcurrent\": true, \"mode\": \"immediate\", \"transition\": {\"duration\": 0, \"easing\": \"linear\"}}], \"label\": \"20\", \"method\": \"animate\"}, {\"args\": [[\"21\"], {\"frame\": {\"duration\": 0, \"redraw\": true}, \"fromcurrent\": true, \"mode\": \"immediate\", \"transition\": {\"duration\": 0, \"easing\": \"linear\"}}], \"label\": \"21\", \"method\": \"animate\"}, {\"args\": [[\"22\"], {\"frame\": {\"duration\": 0, \"redraw\": true}, \"fromcurrent\": true, \"mode\": \"immediate\", \"transition\": {\"duration\": 0, \"easing\": \"linear\"}}], \"label\": \"22\", \"method\": \"animate\"}, {\"args\": [[\"23\"], {\"frame\": {\"duration\": 0, \"redraw\": true}, \"fromcurrent\": true, \"mode\": \"immediate\", \"transition\": {\"duration\": 0, \"easing\": \"linear\"}}], \"label\": \"23\", \"method\": \"animate\"}, {\"args\": [[\"24\"], {\"frame\": {\"duration\": 0, \"redraw\": true}, \"fromcurrent\": true, \"mode\": \"immediate\", \"transition\": {\"duration\": 0, \"easing\": \"linear\"}}], \"label\": \"24\", \"method\": \"animate\"}, {\"args\": [[\"25\"], {\"frame\": {\"duration\": 0, \"redraw\": true}, \"fromcurrent\": true, \"mode\": \"immediate\", \"transition\": {\"duration\": 0, \"easing\": \"linear\"}}], \"label\": \"25\", \"method\": \"animate\"}, {\"args\": [[\"26\"], {\"frame\": {\"duration\": 0, \"redraw\": true}, \"fromcurrent\": true, \"mode\": \"immediate\", \"transition\": {\"duration\": 0, \"easing\": \"linear\"}}], \"label\": \"26\", \"method\": \"animate\"}, {\"args\": [[\"27\"], {\"frame\": {\"duration\": 0, \"redraw\": true}, \"fromcurrent\": true, \"mode\": \"immediate\", \"transition\": {\"duration\": 0, \"easing\": \"linear\"}}], \"label\": \"27\", \"method\": \"animate\"}, {\"args\": [[\"28\"], {\"frame\": {\"duration\": 0, \"redraw\": true}, \"fromcurrent\": true, \"mode\": \"immediate\", \"transition\": {\"duration\": 0, \"easing\": \"linear\"}}], \"label\": \"28\", \"method\": \"animate\"}, {\"args\": [[\"29\"], {\"frame\": {\"duration\": 0, \"redraw\": true}, \"fromcurrent\": true, \"mode\": \"immediate\", \"transition\": {\"duration\": 0, \"easing\": \"linear\"}}], \"label\": \"29\", \"method\": \"animate\"}, {\"args\": [[\"30\"], {\"frame\": {\"duration\": 0, \"redraw\": true}, \"fromcurrent\": true, \"mode\": \"immediate\", \"transition\": {\"duration\": 0, \"easing\": \"linear\"}}], \"label\": \"30\", \"method\": \"animate\"}, {\"args\": [[\"31\"], {\"frame\": {\"duration\": 0, \"redraw\": true}, \"fromcurrent\": true, \"mode\": \"immediate\", \"transition\": {\"duration\": 0, \"easing\": \"linear\"}}], \"label\": \"31\", \"method\": \"animate\"}, {\"args\": [[\"32\"], {\"frame\": {\"duration\": 0, \"redraw\": true}, \"fromcurrent\": true, \"mode\": \"immediate\", \"transition\": {\"duration\": 0, \"easing\": \"linear\"}}], \"label\": \"32\", \"method\": \"animate\"}, {\"args\": [[\"33\"], {\"frame\": {\"duration\": 0, \"redraw\": true}, \"fromcurrent\": true, \"mode\": \"immediate\", \"transition\": {\"duration\": 0, \"easing\": \"linear\"}}], \"label\": \"33\", \"method\": \"animate\"}, {\"args\": [[\"34\"], {\"frame\": {\"duration\": 0, \"redraw\": true}, \"fromcurrent\": true, \"mode\": \"immediate\", \"transition\": {\"duration\": 0, \"easing\": \"linear\"}}], \"label\": \"34\", \"method\": \"animate\"}, {\"args\": [[\"35\"], {\"frame\": {\"duration\": 0, \"redraw\": true}, \"fromcurrent\": true, \"mode\": \"immediate\", \"transition\": {\"duration\": 0, \"easing\": \"linear\"}}], \"label\": \"35\", \"method\": \"animate\"}, {\"args\": [[\"36\"], {\"frame\": {\"duration\": 0, \"redraw\": true}, \"fromcurrent\": true, \"mode\": \"immediate\", \"transition\": {\"duration\": 0, \"easing\": \"linear\"}}], \"label\": \"36\", \"method\": \"animate\"}, {\"args\": [[\"37\"], {\"frame\": {\"duration\": 0, \"redraw\": true}, \"fromcurrent\": true, \"mode\": \"immediate\", \"transition\": {\"duration\": 0, \"easing\": \"linear\"}}], \"label\": \"37\", \"method\": \"animate\"}, {\"args\": [[\"38\"], {\"frame\": {\"duration\": 0, \"redraw\": true}, \"fromcurrent\": true, \"mode\": \"immediate\", \"transition\": {\"duration\": 0, \"easing\": \"linear\"}}], \"label\": \"38\", \"method\": \"animate\"}, {\"args\": [[\"39\"], {\"frame\": {\"duration\": 0, \"redraw\": true}, \"fromcurrent\": true, \"mode\": \"immediate\", \"transition\": {\"duration\": 0, \"easing\": \"linear\"}}], \"label\": \"39\", \"method\": \"animate\"}, {\"args\": [[\"40\"], {\"frame\": {\"duration\": 0, \"redraw\": true}, \"fromcurrent\": true, \"mode\": \"immediate\", \"transition\": {\"duration\": 0, \"easing\": \"linear\"}}], \"label\": \"40\", \"method\": \"animate\"}, {\"args\": [[\"41\"], {\"frame\": {\"duration\": 0, \"redraw\": true}, \"fromcurrent\": true, \"mode\": \"immediate\", \"transition\": {\"duration\": 0, \"easing\": \"linear\"}}], \"label\": \"41\", \"method\": \"animate\"}, {\"args\": [[\"42\"], {\"frame\": {\"duration\": 0, \"redraw\": true}, \"fromcurrent\": true, \"mode\": \"immediate\", \"transition\": {\"duration\": 0, \"easing\": \"linear\"}}], \"label\": \"42\", \"method\": \"animate\"}, {\"args\": [[\"43\"], {\"frame\": {\"duration\": 0, \"redraw\": true}, \"fromcurrent\": true, \"mode\": \"immediate\", \"transition\": {\"duration\": 0, \"easing\": \"linear\"}}], \"label\": \"43\", \"method\": \"animate\"}, {\"args\": [[\"44\"], {\"frame\": {\"duration\": 0, \"redraw\": true}, \"fromcurrent\": true, \"mode\": \"immediate\", \"transition\": {\"duration\": 0, \"easing\": \"linear\"}}], \"label\": \"44\", \"method\": \"animate\"}, {\"args\": [[\"45\"], {\"frame\": {\"duration\": 0, \"redraw\": true}, \"fromcurrent\": true, \"mode\": \"immediate\", \"transition\": {\"duration\": 0, \"easing\": \"linear\"}}], \"label\": \"45\", \"method\": \"animate\"}, {\"args\": [[\"46\"], {\"frame\": {\"duration\": 0, \"redraw\": true}, \"fromcurrent\": true, \"mode\": \"immediate\", \"transition\": {\"duration\": 0, \"easing\": \"linear\"}}], \"label\": \"46\", \"method\": \"animate\"}, {\"args\": [[\"47\"], {\"frame\": {\"duration\": 0, \"redraw\": true}, \"fromcurrent\": true, \"mode\": \"immediate\", \"transition\": {\"duration\": 0, \"easing\": \"linear\"}}], \"label\": \"47\", \"method\": \"animate\"}, {\"args\": [[\"48\"], {\"frame\": {\"duration\": 0, \"redraw\": true}, \"fromcurrent\": true, \"mode\": \"immediate\", \"transition\": {\"duration\": 0, \"easing\": \"linear\"}}], \"label\": \"48\", \"method\": \"animate\"}, {\"args\": [[\"49\"], {\"frame\": {\"duration\": 0, \"redraw\": true}, \"fromcurrent\": true, \"mode\": \"immediate\", \"transition\": {\"duration\": 0, \"easing\": \"linear\"}}], \"label\": \"49\", \"method\": \"animate\"}, {\"args\": [[\"50\"], {\"frame\": {\"duration\": 0, \"redraw\": true}, \"fromcurrent\": true, \"mode\": \"immediate\", \"transition\": {\"duration\": 0, \"easing\": \"linear\"}}], \"label\": \"50\", \"method\": \"animate\"}, {\"args\": [[\"51\"], {\"frame\": {\"duration\": 0, \"redraw\": true}, \"fromcurrent\": true, \"mode\": \"immediate\", \"transition\": {\"duration\": 0, \"easing\": \"linear\"}}], \"label\": \"51\", \"method\": \"animate\"}, {\"args\": [[\"52\"], {\"frame\": {\"duration\": 0, \"redraw\": true}, \"fromcurrent\": true, \"mode\": \"immediate\", \"transition\": {\"duration\": 0, \"easing\": \"linear\"}}], \"label\": \"52\", \"method\": \"animate\"}, {\"args\": [[\"53\"], {\"frame\": {\"duration\": 0, \"redraw\": true}, \"fromcurrent\": true, \"mode\": \"immediate\", \"transition\": {\"duration\": 0, \"easing\": \"linear\"}}], \"label\": \"53\", \"method\": \"animate\"}, {\"args\": [[\"54\"], {\"frame\": {\"duration\": 0, \"redraw\": true}, \"fromcurrent\": true, \"mode\": \"immediate\", \"transition\": {\"duration\": 0, \"easing\": \"linear\"}}], \"label\": \"54\", \"method\": \"animate\"}, {\"args\": [[\"55\"], {\"frame\": {\"duration\": 0, \"redraw\": true}, \"fromcurrent\": true, \"mode\": \"immediate\", \"transition\": {\"duration\": 0, \"easing\": \"linear\"}}], \"label\": \"55\", \"method\": \"animate\"}, {\"args\": [[\"56\"], {\"frame\": {\"duration\": 0, \"redraw\": true}, \"fromcurrent\": true, \"mode\": \"immediate\", \"transition\": {\"duration\": 0, \"easing\": \"linear\"}}], \"label\": \"56\", \"method\": \"animate\"}, {\"args\": [[\"57\"], {\"frame\": {\"duration\": 0, \"redraw\": true}, \"fromcurrent\": true, \"mode\": \"immediate\", \"transition\": {\"duration\": 0, \"easing\": \"linear\"}}], \"label\": \"57\", \"method\": \"animate\"}, {\"args\": [[\"58\"], {\"frame\": {\"duration\": 0, \"redraw\": true}, \"fromcurrent\": true, \"mode\": \"immediate\", \"transition\": {\"duration\": 0, \"easing\": \"linear\"}}], \"label\": \"58\", \"method\": \"animate\"}, {\"args\": [[\"59\"], {\"frame\": {\"duration\": 0, \"redraw\": true}, \"fromcurrent\": true, \"mode\": \"immediate\", \"transition\": {\"duration\": 0, \"easing\": \"linear\"}}], \"label\": \"59\", \"method\": \"animate\"}, {\"args\": [[\"60\"], {\"frame\": {\"duration\": 0, \"redraw\": true}, \"fromcurrent\": true, \"mode\": \"immediate\", \"transition\": {\"duration\": 0, \"easing\": \"linear\"}}], \"label\": \"60\", \"method\": \"animate\"}, {\"args\": [[\"61\"], {\"frame\": {\"duration\": 0, \"redraw\": true}, \"fromcurrent\": true, \"mode\": \"immediate\", \"transition\": {\"duration\": 0, \"easing\": \"linear\"}}], \"label\": \"61\", \"method\": \"animate\"}, {\"args\": [[\"62\"], {\"frame\": {\"duration\": 0, \"redraw\": true}, \"fromcurrent\": true, \"mode\": \"immediate\", \"transition\": {\"duration\": 0, \"easing\": \"linear\"}}], \"label\": \"62\", \"method\": \"animate\"}, {\"args\": [[\"63\"], {\"frame\": {\"duration\": 0, \"redraw\": true}, \"fromcurrent\": true, \"mode\": \"immediate\", \"transition\": {\"duration\": 0, \"easing\": \"linear\"}}], \"label\": \"63\", \"method\": \"animate\"}, {\"args\": [[\"64\"], {\"frame\": {\"duration\": 0, \"redraw\": true}, \"fromcurrent\": true, \"mode\": \"immediate\", \"transition\": {\"duration\": 0, \"easing\": \"linear\"}}], \"label\": \"64\", \"method\": \"animate\"}, {\"args\": [[\"65\"], {\"frame\": {\"duration\": 0, \"redraw\": true}, \"fromcurrent\": true, \"mode\": \"immediate\", \"transition\": {\"duration\": 0, \"easing\": \"linear\"}}], \"label\": \"65\", \"method\": \"animate\"}, {\"args\": [[\"66\"], {\"frame\": {\"duration\": 0, \"redraw\": true}, \"fromcurrent\": true, \"mode\": \"immediate\", \"transition\": {\"duration\": 0, \"easing\": \"linear\"}}], \"label\": \"66\", \"method\": \"animate\"}, {\"args\": [[\"67\"], {\"frame\": {\"duration\": 0, \"redraw\": true}, \"fromcurrent\": true, \"mode\": \"immediate\", \"transition\": {\"duration\": 0, \"easing\": \"linear\"}}], \"label\": \"67\", \"method\": \"animate\"}, {\"args\": [[\"68\"], {\"frame\": {\"duration\": 0, \"redraw\": true}, \"fromcurrent\": true, \"mode\": \"immediate\", \"transition\": {\"duration\": 0, \"easing\": \"linear\"}}], \"label\": \"68\", \"method\": \"animate\"}, {\"args\": [[\"69\"], {\"frame\": {\"duration\": 0, \"redraw\": true}, \"fromcurrent\": true, \"mode\": \"immediate\", \"transition\": {\"duration\": 0, \"easing\": \"linear\"}}], \"label\": \"69\", \"method\": \"animate\"}, {\"args\": [[\"70\"], {\"frame\": {\"duration\": 0, \"redraw\": true}, \"fromcurrent\": true, \"mode\": \"immediate\", \"transition\": {\"duration\": 0, \"easing\": \"linear\"}}], \"label\": \"70\", \"method\": \"animate\"}, {\"args\": [[\"71\"], {\"frame\": {\"duration\": 0, \"redraw\": true}, \"fromcurrent\": true, \"mode\": \"immediate\", \"transition\": {\"duration\": 0, \"easing\": \"linear\"}}], \"label\": \"71\", \"method\": \"animate\"}, {\"args\": [[\"72\"], {\"frame\": {\"duration\": 0, \"redraw\": true}, \"fromcurrent\": true, \"mode\": \"immediate\", \"transition\": {\"duration\": 0, \"easing\": \"linear\"}}], \"label\": \"72\", \"method\": \"animate\"}, {\"args\": [[\"73\"], {\"frame\": {\"duration\": 0, \"redraw\": true}, \"fromcurrent\": true, \"mode\": \"immediate\", \"transition\": {\"duration\": 0, \"easing\": \"linear\"}}], \"label\": \"73\", \"method\": \"animate\"}, {\"args\": [[\"74\"], {\"frame\": {\"duration\": 0, \"redraw\": true}, \"fromcurrent\": true, \"mode\": \"immediate\", \"transition\": {\"duration\": 0, \"easing\": \"linear\"}}], \"label\": \"74\", \"method\": \"animate\"}, {\"args\": [[\"75\"], {\"frame\": {\"duration\": 0, \"redraw\": true}, \"fromcurrent\": true, \"mode\": \"immediate\", \"transition\": {\"duration\": 0, \"easing\": \"linear\"}}], \"label\": \"75\", \"method\": \"animate\"}, {\"args\": [[\"76\"], {\"frame\": {\"duration\": 0, \"redraw\": true}, \"fromcurrent\": true, \"mode\": \"immediate\", \"transition\": {\"duration\": 0, \"easing\": \"linear\"}}], \"label\": \"76\", \"method\": \"animate\"}, {\"args\": [[\"77\"], {\"frame\": {\"duration\": 0, \"redraw\": true}, \"fromcurrent\": true, \"mode\": \"immediate\", \"transition\": {\"duration\": 0, \"easing\": \"linear\"}}], \"label\": \"77\", \"method\": \"animate\"}, {\"args\": [[\"78\"], {\"frame\": {\"duration\": 0, \"redraw\": true}, \"fromcurrent\": true, \"mode\": \"immediate\", \"transition\": {\"duration\": 0, \"easing\": \"linear\"}}], \"label\": \"78\", \"method\": \"animate\"}, {\"args\": [[\"79\"], {\"frame\": {\"duration\": 0, \"redraw\": true}, \"fromcurrent\": true, \"mode\": \"immediate\", \"transition\": {\"duration\": 0, \"easing\": \"linear\"}}], \"label\": \"79\", \"method\": \"animate\"}, {\"args\": [[\"80\"], {\"frame\": {\"duration\": 0, \"redraw\": true}, \"fromcurrent\": true, \"mode\": \"immediate\", \"transition\": {\"duration\": 0, \"easing\": \"linear\"}}], \"label\": \"80\", \"method\": \"animate\"}, {\"args\": [[\"81\"], {\"frame\": {\"duration\": 0, \"redraw\": true}, \"fromcurrent\": true, \"mode\": \"immediate\", \"transition\": {\"duration\": 0, \"easing\": \"linear\"}}], \"label\": \"81\", \"method\": \"animate\"}, {\"args\": [[\"82\"], {\"frame\": {\"duration\": 0, \"redraw\": true}, \"fromcurrent\": true, \"mode\": \"immediate\", \"transition\": {\"duration\": 0, \"easing\": \"linear\"}}], \"label\": \"82\", \"method\": \"animate\"}, {\"args\": [[\"83\"], {\"frame\": {\"duration\": 0, \"redraw\": true}, \"fromcurrent\": true, \"mode\": \"immediate\", \"transition\": {\"duration\": 0, \"easing\": \"linear\"}}], \"label\": \"83\", \"method\": \"animate\"}], \"x\": 0.1, \"xanchor\": \"left\", \"y\": 0, \"yanchor\": \"top\"}], \"template\": {\"data\": {\"bar\": [{\"error_x\": {\"color\": \"#2a3f5f\"}, \"error_y\": {\"color\": \"#2a3f5f\"}, \"marker\": {\"line\": {\"color\": \"#E5ECF6\", \"width\": 0.5}}, \"type\": \"bar\"}], \"barpolar\": [{\"marker\": {\"line\": {\"color\": \"#E5ECF6\", \"width\": 0.5}}, \"type\": \"barpolar\"}], \"carpet\": [{\"aaxis\": {\"endlinecolor\": \"#2a3f5f\", \"gridcolor\": \"white\", \"linecolor\": \"white\", \"minorgridcolor\": \"white\", \"startlinecolor\": \"#2a3f5f\"}, \"baxis\": {\"endlinecolor\": \"#2a3f5f\", \"gridcolor\": \"white\", \"linecolor\": \"white\", \"minorgridcolor\": \"white\", \"startlinecolor\": \"#2a3f5f\"}, \"type\": \"carpet\"}], \"choropleth\": [{\"colorbar\": {\"outlinewidth\": 0, \"ticks\": \"\"}, \"type\": \"choropleth\"}], \"contour\": [{\"colorbar\": {\"outlinewidth\": 0, \"ticks\": \"\"}, \"colorscale\": [[0.0, \"#0d0887\"], [0.1111111111111111, \"#46039f\"], [0.2222222222222222, \"#7201a8\"], [0.3333333333333333, \"#9c179e\"], [0.4444444444444444, \"#bd3786\"], [0.5555555555555556, \"#d8576b\"], [0.6666666666666666, \"#ed7953\"], [0.7777777777777778, \"#fb9f3a\"], [0.8888888888888888, \"#fdca26\"], [1.0, \"#f0f921\"]], \"type\": \"contour\"}], \"contourcarpet\": [{\"colorbar\": {\"outlinewidth\": 0, \"ticks\": \"\"}, \"type\": \"contourcarpet\"}], \"heatmap\": [{\"colorbar\": {\"outlinewidth\": 0, \"ticks\": \"\"}, \"colorscale\": [[0.0, \"#0d0887\"], [0.1111111111111111, \"#46039f\"], [0.2222222222222222, \"#7201a8\"], [0.3333333333333333, \"#9c179e\"], [0.4444444444444444, \"#bd3786\"], [0.5555555555555556, \"#d8576b\"], [0.6666666666666666, \"#ed7953\"], [0.7777777777777778, \"#fb9f3a\"], [0.8888888888888888, \"#fdca26\"], [1.0, \"#f0f921\"]], \"type\": \"heatmap\"}], \"heatmapgl\": [{\"colorbar\": {\"outlinewidth\": 0, \"ticks\": \"\"}, \"colorscale\": [[0.0, \"#0d0887\"], [0.1111111111111111, \"#46039f\"], [0.2222222222222222, \"#7201a8\"], [0.3333333333333333, \"#9c179e\"], [0.4444444444444444, \"#bd3786\"], [0.5555555555555556, \"#d8576b\"], [0.6666666666666666, \"#ed7953\"], [0.7777777777777778, \"#fb9f3a\"], [0.8888888888888888, \"#fdca26\"], [1.0, \"#f0f921\"]], \"type\": \"heatmapgl\"}], \"histogram\": [{\"marker\": {\"colorbar\": {\"outlinewidth\": 0, \"ticks\": \"\"}}, \"type\": \"histogram\"}], \"histogram2d\": [{\"colorbar\": {\"outlinewidth\": 0, \"ticks\": \"\"}, \"colorscale\": [[0.0, \"#0d0887\"], [0.1111111111111111, \"#46039f\"], [0.2222222222222222, \"#7201a8\"], [0.3333333333333333, \"#9c179e\"], [0.4444444444444444, \"#bd3786\"], [0.5555555555555556, \"#d8576b\"], [0.6666666666666666, \"#ed7953\"], [0.7777777777777778, \"#fb9f3a\"], [0.8888888888888888, \"#fdca26\"], [1.0, \"#f0f921\"]], \"type\": \"histogram2d\"}], \"histogram2dcontour\": [{\"colorbar\": {\"outlinewidth\": 0, \"ticks\": \"\"}, \"colorscale\": [[0.0, \"#0d0887\"], [0.1111111111111111, \"#46039f\"], [0.2222222222222222, \"#7201a8\"], [0.3333333333333333, \"#9c179e\"], [0.4444444444444444, \"#bd3786\"], [0.5555555555555556, \"#d8576b\"], [0.6666666666666666, \"#ed7953\"], [0.7777777777777778, \"#fb9f3a\"], [0.8888888888888888, \"#fdca26\"], [1.0, \"#f0f921\"]], \"type\": \"histogram2dcontour\"}], \"mesh3d\": [{\"colorbar\": {\"outlinewidth\": 0, \"ticks\": \"\"}, \"type\": \"mesh3d\"}], \"parcoords\": [{\"line\": {\"colorbar\": {\"outlinewidth\": 0, \"ticks\": \"\"}}, \"type\": \"parcoords\"}], \"pie\": [{\"automargin\": true, \"type\": \"pie\"}], \"scatter\": [{\"marker\": {\"colorbar\": {\"outlinewidth\": 0, \"ticks\": \"\"}}, \"type\": \"scatter\"}], \"scatter3d\": [{\"line\": {\"colorbar\": {\"outlinewidth\": 0, \"ticks\": \"\"}}, \"marker\": {\"colorbar\": {\"outlinewidth\": 0, \"ticks\": \"\"}}, \"type\": \"scatter3d\"}], \"scattercarpet\": [{\"marker\": {\"colorbar\": {\"outlinewidth\": 0, \"ticks\": \"\"}}, \"type\": \"scattercarpet\"}], \"scattergeo\": [{\"marker\": {\"colorbar\": {\"outlinewidth\": 0, \"ticks\": \"\"}}, \"type\": \"scattergeo\"}], \"scattergl\": [{\"marker\": {\"colorbar\": {\"outlinewidth\": 0, \"ticks\": \"\"}}, \"type\": \"scattergl\"}], \"scattermapbox\": [{\"marker\": {\"colorbar\": {\"outlinewidth\": 0, \"ticks\": \"\"}}, \"type\": \"scattermapbox\"}], \"scatterpolar\": [{\"marker\": {\"colorbar\": {\"outlinewidth\": 0, \"ticks\": \"\"}}, \"type\": \"scatterpolar\"}], \"scatterpolargl\": [{\"marker\": {\"colorbar\": {\"outlinewidth\": 0, \"ticks\": \"\"}}, \"type\": \"scatterpolargl\"}], \"scatterternary\": [{\"marker\": {\"colorbar\": {\"outlinewidth\": 0, \"ticks\": \"\"}}, \"type\": \"scatterternary\"}], \"surface\": [{\"colorbar\": {\"outlinewidth\": 0, \"ticks\": \"\"}, \"colorscale\": [[0.0, \"#0d0887\"], [0.1111111111111111, \"#46039f\"], [0.2222222222222222, \"#7201a8\"], [0.3333333333333333, \"#9c179e\"], [0.4444444444444444, \"#bd3786\"], [0.5555555555555556, \"#d8576b\"], [0.6666666666666666, \"#ed7953\"], [0.7777777777777778, \"#fb9f3a\"], [0.8888888888888888, \"#fdca26\"], [1.0, \"#f0f921\"]], \"type\": \"surface\"}], \"table\": [{\"cells\": {\"fill\": {\"color\": \"#EBF0F8\"}, \"line\": {\"color\": \"white\"}}, \"header\": {\"fill\": {\"color\": \"#C8D4E3\"}, \"line\": {\"color\": \"white\"}}, \"type\": \"table\"}]}, \"layout\": {\"annotationdefaults\": {\"arrowcolor\": \"#2a3f5f\", \"arrowhead\": 0, \"arrowwidth\": 1}, \"coloraxis\": {\"colorbar\": {\"outlinewidth\": 0, \"ticks\": \"\"}}, \"colorscale\": {\"diverging\": [[0, \"#8e0152\"], [0.1, \"#c51b7d\"], [0.2, \"#de77ae\"], [0.3, \"#f1b6da\"], [0.4, \"#fde0ef\"], [0.5, \"#f7f7f7\"], [0.6, \"#e6f5d0\"], [0.7, \"#b8e186\"], [0.8, \"#7fbc41\"], [0.9, \"#4d9221\"], [1, \"#276419\"]], \"sequential\": [[0.0, \"#0d0887\"], [0.1111111111111111, \"#46039f\"], [0.2222222222222222, \"#7201a8\"], [0.3333333333333333, \"#9c179e\"], [0.4444444444444444, \"#bd3786\"], [0.5555555555555556, \"#d8576b\"], [0.6666666666666666, \"#ed7953\"], [0.7777777777777778, \"#fb9f3a\"], [0.8888888888888888, \"#fdca26\"], [1.0, \"#f0f921\"]], \"sequentialminus\": [[0.0, \"#0d0887\"], [0.1111111111111111, \"#46039f\"], [0.2222222222222222, \"#7201a8\"], [0.3333333333333333, \"#9c179e\"], [0.4444444444444444, \"#bd3786\"], [0.5555555555555556, \"#d8576b\"], [0.6666666666666666, \"#ed7953\"], [0.7777777777777778, \"#fb9f3a\"], [0.8888888888888888, \"#fdca26\"], [1.0, \"#f0f921\"]]}, \"colorway\": [\"#636efa\", \"#EF553B\", \"#00cc96\", \"#ab63fa\", \"#FFA15A\", \"#19d3f3\", \"#FF6692\", \"#B6E880\", \"#FF97FF\", \"#FECB52\"], \"font\": {\"color\": \"#2a3f5f\"}, \"geo\": {\"bgcolor\": \"white\", \"lakecolor\": \"white\", \"landcolor\": \"#E5ECF6\", \"showlakes\": true, \"showland\": true, \"subunitcolor\": \"white\"}, \"hoverlabel\": {\"align\": \"left\"}, \"hovermode\": \"closest\", \"mapbox\": {\"style\": \"light\"}, \"paper_bgcolor\": \"white\", \"plot_bgcolor\": \"#E5ECF6\", \"polar\": {\"angularaxis\": {\"gridcolor\": \"white\", \"linecolor\": \"white\", \"ticks\": \"\"}, \"bgcolor\": \"#E5ECF6\", \"radialaxis\": {\"gridcolor\": \"white\", \"linecolor\": \"white\", \"ticks\": \"\"}}, \"scene\": {\"xaxis\": {\"backgroundcolor\": \"#E5ECF6\", \"gridcolor\": \"white\", \"gridwidth\": 2, \"linecolor\": \"white\", \"showbackground\": true, \"ticks\": \"\", \"zerolinecolor\": \"white\"}, \"yaxis\": {\"backgroundcolor\": \"#E5ECF6\", \"gridcolor\": \"white\", \"gridwidth\": 2, \"linecolor\": \"white\", \"showbackground\": true, \"ticks\": \"\", \"zerolinecolor\": \"white\"}, \"zaxis\": {\"backgroundcolor\": \"#E5ECF6\", \"gridcolor\": \"white\", \"gridwidth\": 2, \"linecolor\": \"white\", \"showbackground\": true, \"ticks\": \"\", \"zerolinecolor\": \"white\"}}, \"shapedefaults\": {\"line\": {\"color\": \"#2a3f5f\"}}, \"ternary\": {\"aaxis\": {\"gridcolor\": \"white\", \"linecolor\": \"white\", \"ticks\": \"\"}, \"baxis\": {\"gridcolor\": \"white\", \"linecolor\": \"white\", \"ticks\": \"\"}, \"bgcolor\": \"#E5ECF6\", \"caxis\": {\"gridcolor\": \"white\", \"linecolor\": \"white\", \"ticks\": \"\"}}, \"title\": {\"x\": 0.05}, \"xaxis\": {\"automargin\": true, \"gridcolor\": \"white\", \"linecolor\": \"white\", \"ticks\": \"\", \"title\": {\"standoff\": 15}, \"zerolinecolor\": \"white\", \"zerolinewidth\": 2}, \"yaxis\": {\"automargin\": true, \"gridcolor\": \"white\", \"linecolor\": \"white\", \"ticks\": \"\", \"title\": {\"standoff\": 15}, \"zerolinecolor\": \"white\", \"zerolinewidth\": 2}}}, \"updatemenus\": [{\"buttons\": [{\"args\": [null, {\"frame\": {\"duration\": 500, \"redraw\": true}, \"fromcurrent\": true, \"mode\": \"immediate\", \"transition\": {\"duration\": 500, \"easing\": \"linear\"}}], \"label\": \"&#9654;\", \"method\": \"animate\"}, {\"args\": [[null], {\"frame\": {\"duration\": 0, \"redraw\": true}, \"fromcurrent\": true, \"mode\": \"immediate\", \"transition\": {\"duration\": 0, \"easing\": \"linear\"}}], \"label\": \"&#9724;\", \"method\": \"animate\"}], \"direction\": \"left\", \"pad\": {\"r\": 10, \"t\": 70}, \"showactive\": false, \"type\": \"buttons\", \"x\": 0.1, \"xanchor\": \"right\", \"y\": 0, \"yanchor\": \"top\"}]},\n",
       "                        {\"responsive\": true}\n",
       "                    ).then(function(){\n",
       "                            Plotly.addFrames('63990a9e-4da5-40dd-a5e3-8c0af32f600a', [{\"data\": [{\"hoverlabel\": {\"namelength\": 0}, \"hovertemplate\": \"<b>%{hovertext}</b><br><br>frame=0<br>x=%{x}<br>y=%{y}<br>z=%{z}<br>diff=%{marker.color}\", \"hovertext\": [\"6\", \"5\", \"4\", \"3\", \"7\", \"8\", \"9\", null], \"ids\": [\"6\", \"5\", \"4\", \"3\", \"7\", \"8\", \"9\", null], \"legendgroup\": \"\", \"marker\": {\"color\": [1.021877470739863, 1.2188638213323957, 1.008020254039054, 0.0, 1.0080202540390537, 1.2188638213323957, 1.0218774707398628, 0.0], \"coloraxis\": \"coloraxis\", \"symbol\": \"circle\"}, \"mode\": \"markers\", \"name\": \"\", \"scene\": \"scene\", \"showlegend\": false, \"x\": [-0.07757367934440117, -0.4674916965430573, -0.41776612150092557, 0.0, -0.41977118501068916, -0.3521337092813368, 0.013946330634577033, -1.7845065236894273], \"y\": [1.2553034280125401, 1.0165671994500447, 0.8156152788048683, 0.0, -0.7698998307822628, -1.0464649242289612, -1.171759115105732, -0.12337824130077464], \"z\": [-1.909845271533082, -0.9330228865432362, 0.22278483441815575, 0.0, 0.2745154729700515, -0.8594147772514776, -1.923747045200775, -2.373371398023497], \"type\": \"scatter3d\"}, {\"hoverlabel\": {\"namelength\": 0}, \"hovertemplate\": \"<b>%{hovertext}</b><br><br>frame=0<br>x=%{x}<br>y=%{y}<br>z=%{z}\", \"hovertext\": [\"6\", \"5\", \"4\", \"3\", \"7\", \"8\", \"9\", null], \"ids\": [\"6\", \"5\", \"4\", \"3\", \"7\", \"8\", \"9\", null], \"legendgroup\": \"\", \"line\": {\"color\": \"#636efa\", \"dash\": \"solid\"}, \"mode\": \"lines\", \"name\": \"\", \"scene\": \"scene\", \"showlegend\": false, \"x\": [-0.07757367934440117, -0.4674916965430573, -0.41776612150092557, 0.0, -0.41977118501068916, -0.3521337092813368, 0.013946330634577033, -1.7845065236894273], \"y\": [1.2553034280125401, 1.0165671994500447, 0.8156152788048683, 0.0, -0.7698998307822628, -1.0464649242289612, -1.171759115105732, -0.12337824130077464], \"z\": [-1.909845271533082, -0.9330228865432362, 0.22278483441815575, 0.0, 0.2745154729700515, -0.8594147772514776, -1.923747045200775, -2.373371398023497], \"type\": \"scatter3d\"}], \"name\": \"0\"}, {\"data\": [{\"hoverlabel\": {\"namelength\": 0}, \"hovertemplate\": \"<b>%{hovertext}</b><br><br>frame=1<br>x=%{x}<br>y=%{y}<br>z=%{z}<br>diff=%{marker.color}\", \"hovertext\": [\"6\", \"5\", \"4\", \"3\", \"7\", \"8\", \"9\", null], \"ids\": [\"6\", \"5\", \"4\", \"3\", \"7\", \"8\", \"9\", null], \"legendgroup\": \"\", \"marker\": {\"color\": [1.0278481043022691, 1.2288000249474456, 1.0119412671248127, 0.0, 1.0119412671248125, 1.228800024947446, 1.0278481043022691, 0.0], \"coloraxis\": \"coloraxis\", \"symbol\": \"circle\"}, \"mode\": \"markers\", \"name\": \"\", \"scene\": \"scene\", \"showlegend\": false, \"x\": [-0.07160304578199496, -0.46352612649041464, -0.41179548793851933, 0.0, -0.4157610579911619, -0.34616307571893057, 0.01991696419698324, -1.778535890127021], \"y\": [1.251337857959897, 1.0126016293974014, 0.8156598357717518, 0.0, -0.7698998307822628, -1.048425430771841, -1.1757246851583751, -0.12533874784365442], \"z\": [-1.9098007145661984, -0.9330228865432363, 0.22478989792791917, 0.0, 0.2785255999895783, -0.8574097137417143, -1.9217419816910113, -2.36936127100397], \"type\": \"scatter3d\"}, {\"hoverlabel\": {\"namelength\": 0}, \"hovertemplate\": \"<b>%{hovertext}</b><br><br>frame=1<br>x=%{x}<br>y=%{y}<br>z=%{z}\", \"hovertext\": [\"6\", \"5\", \"4\", \"3\", \"7\", \"8\", \"9\", null], \"ids\": [\"6\", \"5\", \"4\", \"3\", \"7\", \"8\", \"9\", null], \"legendgroup\": \"\", \"line\": {\"color\": \"#636efa\", \"dash\": \"solid\"}, \"mode\": \"lines\", \"name\": \"\", \"scene\": \"scene\", \"showlegend\": false, \"x\": [-0.07160304578199496, -0.46352612649041464, -0.41179548793851933, 0.0, -0.4157610579911619, -0.34616307571893057, 0.01991696419698324, -1.778535890127021], \"y\": [1.251337857959897, 1.0126016293974014, 0.8156598357717518, 0.0, -0.7698998307822628, -1.048425430771841, -1.1757246851583751, -0.12533874784365442], \"z\": [-1.9098007145661984, -0.9330228865432363, 0.22478989792791917, 0.0, 0.2785255999895783, -0.8574097137417143, -1.9217419816910113, -2.36936127100397], \"type\": \"scatter3d\"}], \"name\": \"1\"}, {\"data\": [{\"hoverlabel\": {\"namelength\": 0}, \"hovertemplate\": \"<b>%{hovertext}</b><br><br>frame=2<br>x=%{x}<br>y=%{y}<br>z=%{z}<br>diff=%{marker.color}\", \"hovertext\": [\"6\", \"5\", \"4\", \"3\", \"7\", \"8\", \"9\", null], \"ids\": [\"6\", \"5\", \"4\", \"3\", \"7\", \"8\", \"9\", null], \"legendgroup\": \"\", \"marker\": {\"color\": [1.0239716481833945, 1.224879011861686, 1.0119858240916961, 0.0, 1.0119858240916961, 1.224879011861686, 1.0239716481833945, 0.0], \"coloraxis\": \"coloraxis\", \"symbol\": \"circle\"}, \"mode\": \"markers\", \"name\": \"\", \"scene\": \"scene\", \"showlegend\": false, \"x\": [-0.07561317280152217, -0.46352612649041464, -0.41179548793851933, 0.0, -0.4157610579911619, -0.34616307571893057, 0.01991696419698324, -1.778535890127021], \"y\": [1.25726393455542, 1.0145621359402812, 0.8156152788048683, 0.0, -0.7698998307822628, -1.0464649242289612, -1.1737641786154955, -0.12337824130077464], \"z\": [-1.9078402080233183, -0.9330228865432363, 0.22478989792791917, 0.0, 0.2785255999895783, -0.8574097137417143, -1.919781475148132, -2.3713663345137332], \"type\": \"scatter3d\"}, {\"hoverlabel\": {\"namelength\": 0}, \"hovertemplate\": \"<b>%{hovertext}</b><br><br>frame=2<br>x=%{x}<br>y=%{y}<br>z=%{z}\", \"hovertext\": [\"6\", \"5\", \"4\", \"3\", \"7\", \"8\", \"9\", null], \"ids\": [\"6\", \"5\", \"4\", \"3\", \"7\", \"8\", \"9\", null], \"legendgroup\": \"\", \"line\": {\"color\": \"#636efa\", \"dash\": \"solid\"}, \"mode\": \"lines\", \"name\": \"\", \"scene\": \"scene\", \"showlegend\": false, \"x\": [-0.07561317280152217, -0.46352612649041464, -0.41179548793851933, 0.0, -0.4157610579911619, -0.34616307571893057, 0.01991696419698324, -1.778535890127021], \"y\": [1.25726393455542, 1.0145621359402812, 0.8156152788048683, 0.0, -0.7698998307822628, -1.0464649242289612, -1.1737641786154955, -0.12337824130077464], \"z\": [-1.9078402080233183, -0.9330228865432363, 0.22478989792791917, 0.0, 0.2785255999895783, -0.8574097137417143, -1.919781475148132, -2.3713663345137332], \"type\": \"scatter3d\"}], \"name\": \"2\"}, {\"data\": [{\"hoverlabel\": {\"namelength\": 0}, \"hovertemplate\": \"<b>%{hovertext}</b><br><br>frame=3<br>x=%{x}<br>y=%{y}<br>z=%{z}<br>diff=%{marker.color}\", \"hovertext\": [\"6\", \"5\", \"4\", \"3\", \"7\", \"8\", \"9\", null], \"ids\": [\"6\", \"5\", \"4\", \"3\", \"7\", \"8\", \"9\", null], \"legendgroup\": \"\", \"marker\": {\"color\": [1.0318136743549133, 1.2288000249474458, 1.0158622802105721, 0.0, 1.0158622802105721, 1.228800024947446, 1.0318136743549133, 0.0], \"coloraxis\": \"coloraxis\", \"symbol\": \"circle\"}, \"mode\": \"markers\", \"name\": \"\", \"scene\": \"scene\", \"showlegend\": false, \"x\": [-0.07957874285416579, -0.46352612649041464, -0.41179548793851933, 0.0, -0.4157610579911619, -0.34616307571893057, 0.01991696419698324, -1.778535890127021], \"y\": [1.2533429214696605, 1.0126016293974014, 0.8156598357717518, 0.0, -0.7718603373251425, -1.0464203672620778, -1.1757246851583751, -0.12533874784365442], \"z\": [-1.9138108415857253, -0.937033013562763, 0.220824327875276, 0.0, 0.27652053647981495, -0.8594147772514776, -1.923747045200775, -2.3713663345137337], \"type\": \"scatter3d\"}, {\"hoverlabel\": {\"namelength\": 0}, \"hovertemplate\": \"<b>%{hovertext}</b><br><br>frame=3<br>x=%{x}<br>y=%{y}<br>z=%{z}\", \"hovertext\": [\"6\", \"5\", \"4\", \"3\", \"7\", \"8\", \"9\", null], \"ids\": [\"6\", \"5\", \"4\", \"3\", \"7\", \"8\", \"9\", null], \"legendgroup\": \"\", \"line\": {\"color\": \"#636efa\", \"dash\": \"solid\"}, \"mode\": \"lines\", \"name\": \"\", \"scene\": \"scene\", \"showlegend\": false, \"x\": [-0.07957874285416579, -0.46352612649041464, -0.41179548793851933, 0.0, -0.4157610579911619, -0.34616307571893057, 0.01991696419698324, -1.778535890127021], \"y\": [1.2533429214696605, 1.0126016293974014, 0.8156598357717518, 0.0, -0.7718603373251425, -1.0464203672620778, -1.1757246851583751, -0.12533874784365442], \"z\": [-1.9138108415857253, -0.937033013562763, 0.220824327875276, 0.0, 0.27652053647981495, -0.8594147772514776, -1.923747045200775, -2.3713663345137337], \"type\": \"scatter3d\"}], \"name\": \"3\"}, {\"data\": [{\"hoverlabel\": {\"namelength\": 0}, \"hovertemplate\": \"<b>%{hovertext}</b><br><br>frame=4<br>x=%{x}<br>y=%{y}<br>z=%{z}<br>diff=%{marker.color}\", \"hovertext\": [\"6\", \"5\", \"4\", \"3\", \"7\", \"8\", \"9\", null], \"ids\": [\"6\", \"5\", \"4\", \"3\", \"7\", \"8\", \"9\", null], \"legendgroup\": \"\", \"marker\": {\"color\": [1.031813674354913, 1.2307605314903256, 1.0178673437203356, 0.0, 1.0178673437203356, 1.230760531490326, 1.031813674354913, 0.0], \"coloraxis\": \"coloraxis\", \"symbol\": \"circle\"}, \"mode\": \"markers\", \"name\": \"\", \"scene\": \"scene\", \"showlegend\": false, \"x\": [-0.085549376416572, -0.4675362535099419, -0.4138005514482829, 0.0, -0.41776612150092557, -0.3481681392286942, 0.017911900687219637, -1.7805409536367847], \"y\": [1.2533429214696605, 1.0106411228545218, 0.8136547722619883, 0.0, -0.7718603373251425, -1.0464203672620778, -1.1757246851583751, -0.12533874784365442], \"z\": [-1.9158159050954886, -0.937033013562763, 0.220824327875276, 0.0, 0.27652053647981495, -0.861419840761241, -1.9217865386578952, -2.373371398023497], \"type\": \"scatter3d\"}, {\"hoverlabel\": {\"namelength\": 0}, \"hovertemplate\": \"<b>%{hovertext}</b><br><br>frame=4<br>x=%{x}<br>y=%{y}<br>z=%{z}\", \"hovertext\": [\"6\", \"5\", \"4\", \"3\", \"7\", \"8\", \"9\", null], \"ids\": [\"6\", \"5\", \"4\", \"3\", \"7\", \"8\", \"9\", null], \"legendgroup\": \"\", \"line\": {\"color\": \"#636efa\", \"dash\": \"solid\"}, \"mode\": \"lines\", \"name\": \"\", \"scene\": \"scene\", \"showlegend\": false, \"x\": [-0.085549376416572, -0.4675362535099419, -0.4138005514482829, 0.0, -0.41776612150092557, -0.3481681392286942, 0.017911900687219637, -1.7805409536367847], \"y\": [1.2533429214696605, 1.0106411228545218, 0.8136547722619883, 0.0, -0.7718603373251425, -1.0464203672620778, -1.1757246851583751, -0.12533874784365442], \"z\": [-1.9158159050954886, -0.937033013562763, 0.220824327875276, 0.0, 0.27652053647981495, -0.861419840761241, -1.9217865386578952, -2.373371398023497], \"type\": \"scatter3d\"}], \"name\": \"4\"}, {\"data\": [{\"hoverlabel\": {\"namelength\": 0}, \"hovertemplate\": \"<b>%{hovertext}</b><br><br>frame=5<br>x=%{x}<br>y=%{y}<br>z=%{z}<br>diff=%{marker.color}\", \"hovertext\": [\"6\", \"5\", \"4\", \"3\", \"7\", \"8\", \"9\", null], \"ids\": [\"6\", \"5\", \"4\", \"3\", \"7\", \"8\", \"9\", null], \"legendgroup\": \"\", \"marker\": {\"color\": [1.0417944349368469, 1.2347706585098526, 1.0119412671248125, 0.0, 1.0119412671248125, 1.2347706585098526, 1.0417944349368466, 0.0], \"coloraxis\": \"coloraxis\", \"symbol\": \"circle\"}, \"mode\": \"markers\", \"name\": \"\", \"scene\": \"scene\", \"showlegend\": false, \"x\": [-0.09152000997897922, -0.47150182356258546, -0.4158056149580465, 0.0, -0.41776612150092557, -0.3481681392286942, 0.017911900687219637, -1.7805409536367847], \"y\": [1.2433621608877272, 1.006630995834995, 0.8176203423146317, 0.0, -0.7719048942920261, -1.0424547972094342, -1.171759115105732, -0.12337824130077464], \"z\": [-1.9217419816910115, -0.938993520105643, 0.2188638213323962, 0.0, 0.2745600299369351, -0.8633803473041207, -1.9257075517436546, -2.375331904566376], \"type\": \"scatter3d\"}, {\"hoverlabel\": {\"namelength\": 0}, \"hovertemplate\": \"<b>%{hovertext}</b><br><br>frame=5<br>x=%{x}<br>y=%{y}<br>z=%{z}\", \"hovertext\": [\"6\", \"5\", \"4\", \"3\", \"7\", \"8\", \"9\", null], \"ids\": [\"6\", \"5\", \"4\", \"3\", \"7\", \"8\", \"9\", null], \"legendgroup\": \"\", \"line\": {\"color\": \"#636efa\", \"dash\": \"solid\"}, \"mode\": \"lines\", \"name\": \"\", \"scene\": \"scene\", \"showlegend\": false, \"x\": [-0.09152000997897922, -0.47150182356258546, -0.4158056149580465, 0.0, -0.41776612150092557, -0.3481681392286942, 0.017911900687219637, -1.7805409536367847], \"y\": [1.2433621608877272, 1.006630995834995, 0.8176203423146317, 0.0, -0.7719048942920261, -1.0424547972094342, -1.171759115105732, -0.12337824130077464], \"z\": [-1.9217419816910115, -0.938993520105643, 0.2188638213323962, 0.0, 0.2745600299369351, -0.8633803473041207, -1.9257075517436546, -2.375331904566376], \"type\": \"scatter3d\"}], \"name\": \"5\"}, {\"data\": [{\"hoverlabel\": {\"namelength\": 0}, \"hovertemplate\": \"<b>%{hovertext}</b><br><br>frame=6<br>x=%{x}<br>y=%{y}<br>z=%{z}<br>diff=%{marker.color}\", \"hovertext\": [\"6\", \"5\", \"4\", \"3\", \"7\", \"8\", \"9\", null], \"ids\": [\"6\", \"5\", \"4\", \"3\", \"7\", \"8\", \"9\", null], \"legendgroup\": \"\", \"marker\": {\"color\": [1.07164760274888, 1.2487169891444287, 1.0119412671248134, 0.0, 1.0119412671248134, 1.248716989144429, 1.0716476027488797, 0.0], \"coloraxis\": \"coloraxis\", \"symbol\": \"circle\"}, \"mode\": \"markers\", \"name\": \"\", \"scene\": \"scene\", \"showlegend\": false, \"x\": [-0.12132862082412768, -0.4774279001581071, -0.4157610579911619, 0.0, -0.41776612150092557, -0.3520891523144532, 0.007975697072170825, -1.7825014601796636], \"y\": [1.2493327944501338, 0.9966947922199452, 0.8156598357717518, 0.0, -0.7718603373251425, -1.0424547972094345, -1.1777297486681386, -0.12533874784365442], \"z\": [-1.9356883123255881, -0.938993520105643, 0.220824327875276, 0.0, 0.2745600299369351, -0.8613752837943573, -1.9217419816910115, -2.375331904566376], \"type\": \"scatter3d\"}, {\"hoverlabel\": {\"namelength\": 0}, \"hovertemplate\": \"<b>%{hovertext}</b><br><br>frame=6<br>x=%{x}<br>y=%{y}<br>z=%{z}\", \"hovertext\": [\"6\", \"5\", \"4\", \"3\", \"7\", \"8\", \"9\", null], \"ids\": [\"6\", \"5\", \"4\", \"3\", \"7\", \"8\", \"9\", null], \"legendgroup\": \"\", \"line\": {\"color\": \"#636efa\", \"dash\": \"solid\"}, \"mode\": \"lines\", \"name\": \"\", \"scene\": \"scene\", \"showlegend\": false, \"x\": [-0.12132862082412768, -0.4774279001581071, -0.4157610579911619, 0.0, -0.41776612150092557, -0.3520891523144532, 0.007975697072170825, -1.7825014601796636], \"y\": [1.2493327944501338, 0.9966947922199452, 0.8156598357717518, 0.0, -0.7718603373251425, -1.0424547972094345, -1.1777297486681386, -0.12533874784365442], \"z\": [-1.9356883123255881, -0.938993520105643, 0.220824327875276, 0.0, 0.2745600299369351, -0.8613752837943573, -1.9217419816910115, -2.375331904566376], \"type\": \"scatter3d\"}], \"name\": \"6\"}, {\"data\": [{\"hoverlabel\": {\"namelength\": 0}, \"hovertemplate\": \"<b>%{hovertext}</b><br><br>frame=7<br>x=%{x}<br>y=%{y}<br>z=%{z}<br>diff=%{marker.color}\", \"hovertext\": [\"6\", \"5\", \"4\", \"3\", \"7\", \"8\", \"9\", null], \"ids\": [\"6\", \"5\", \"4\", \"3\", \"7\", \"8\", \"9\", null], \"legendgroup\": \"\", \"marker\": {\"color\": [1.045715448022606, 1.236775722019616, 1.0119412671248131, 0.0, 1.0119412671248131, 1.2367757220196163, 1.0457154480226059, 0.0], \"coloraxis\": \"coloraxis\", \"symbol\": \"circle\"}, \"mode\": \"markers\", \"name\": \"\", \"scene\": \"scene\", \"showlegend\": false, \"x\": [-0.1372354580015837, -0.4814380271776343, -0.41776612150092557, 0.0, -0.41776612150092557, -0.3620699128963866, -0.01390177366769243, -1.7825014601796636], \"y\": [1.251337857959897, 0.9907241586575386, 0.8136547722619883, 0.0, -0.7718603373251425, -1.0305135300846213, -1.171759115105732, -0.12533874784365442], \"z\": [-1.9297176787631816, -0.938993520105643, 0.220824327875276, 0.0, 0.2745600299369351, -0.8613752837943573, -1.9316781853060614, -2.375331904566376], \"type\": \"scatter3d\"}, {\"hoverlabel\": {\"namelength\": 0}, \"hovertemplate\": \"<b>%{hovertext}</b><br><br>frame=7<br>x=%{x}<br>y=%{y}<br>z=%{z}\", \"hovertext\": [\"6\", \"5\", \"4\", \"3\", \"7\", \"8\", \"9\", null], \"ids\": [\"6\", \"5\", \"4\", \"3\", \"7\", \"8\", \"9\", null], \"legendgroup\": \"\", \"line\": {\"color\": \"#636efa\", \"dash\": \"solid\"}, \"mode\": \"lines\", \"name\": \"\", \"scene\": \"scene\", \"showlegend\": false, \"x\": [-0.1372354580015837, -0.4814380271776343, -0.41776612150092557, 0.0, -0.41776612150092557, -0.3620699128963866, -0.01390177366769243, -1.7825014601796636], \"y\": [1.251337857959897, 0.9907241586575386, 0.8136547722619883, 0.0, -0.7718603373251425, -1.0305135300846213, -1.171759115105732, -0.12533874784365442], \"z\": [-1.9297176787631816, -0.938993520105643, 0.220824327875276, 0.0, 0.2745600299369351, -0.8613752837943573, -1.9316781853060614, -2.375331904566376], \"type\": \"scatter3d\"}], \"name\": \"7\"}, {\"data\": [{\"hoverlabel\": {\"namelength\": 0}, \"hovertemplate\": \"<b>%{hovertext}</b><br><br>frame=8<br>x=%{x}<br>y=%{y}<br>z=%{z}<br>diff=%{marker.color}\", \"hovertext\": [\"6\", \"5\", \"4\", \"3\", \"7\", \"8\", \"9\", null], \"ids\": [\"6\", \"5\", \"4\", \"3\", \"7\", \"8\", \"9\", null], \"legendgroup\": \"\", \"marker\": {\"color\": [1.0577012721143024, 1.2526380022301882, 1.013946330634576, 0.0, 1.013946330634576, 1.2526380022301882, 1.0577012721143022, 0.0], \"coloraxis\": \"coloraxis\", \"symbol\": \"circle\"}, \"mode\": \"markers\", \"name\": \"\", \"scene\": \"scene\", \"showlegend\": false, \"x\": [-0.16111799225120957, -0.4874086607400405, -0.41972662804380456, 0.0, -0.4157610579911619, -0.3680405464587928, -0.04174987796996189, -1.7825014601796636], \"y\": [1.26523963162759, 0.980787955042489, 0.8136547722619885, 0.0, -0.7719048942920261, -1.0344791001372644, -1.1996072194080016, -0.12734381135341782], \"z\": [-1.9217419816910115, -0.934983393086116, 0.220824327875276, 0.0, 0.27255496642717175, -0.8554046502319509, -1.9257075517436546, -2.375331904566376], \"type\": \"scatter3d\"}, {\"hoverlabel\": {\"namelength\": 0}, \"hovertemplate\": \"<b>%{hovertext}</b><br><br>frame=8<br>x=%{x}<br>y=%{y}<br>z=%{z}\", \"hovertext\": [\"6\", \"5\", \"4\", \"3\", \"7\", \"8\", \"9\", null], \"ids\": [\"6\", \"5\", \"4\", \"3\", \"7\", \"8\", \"9\", null], \"legendgroup\": \"\", \"line\": {\"color\": \"#636efa\", \"dash\": \"solid\"}, \"mode\": \"lines\", \"name\": \"\", \"scene\": \"scene\", \"showlegend\": false, \"x\": [-0.16111799225120957, -0.4874086607400405, -0.41972662804380456, 0.0, -0.4157610579911619, -0.3680405464587928, -0.04174987796996189, -1.7825014601796636], \"y\": [1.26523963162759, 0.980787955042489, 0.8136547722619885, 0.0, -0.7719048942920261, -1.0344791001372644, -1.1996072194080016, -0.12734381135341782], \"z\": [-1.9217419816910115, -0.934983393086116, 0.220824327875276, 0.0, 0.27255496642717175, -0.8554046502319509, -1.9257075517436546, -2.375331904566376], \"type\": \"scatter3d\"}], \"name\": \"8\"}, {\"data\": [{\"hoverlabel\": {\"namelength\": 0}, \"hovertemplate\": \"<b>%{hovertext}</b><br><br>frame=9<br>x=%{x}<br>y=%{y}<br>z=%{z}<br>diff=%{marker.color}\", \"hovertext\": [\"6\", \"5\", \"4\", \"3\", \"7\", \"8\", \"9\", null], \"ids\": [\"6\", \"5\", \"4\", \"3\", \"7\", \"8\", \"9\", null], \"legendgroup\": \"\", \"marker\": {\"color\": [1.065632412219588, 1.2406967351053755, 1.0079756970721694, 0.0, 1.0079756970721694, 1.2406967351053755, 1.065632412219588, 0.0], \"coloraxis\": \"coloraxis\", \"symbol\": \"circle\"}, \"mode\": \"markers\", \"name\": \"\", \"scene\": \"scene\", \"showlegend\": false, \"x\": [-0.19694179362564884, -0.4893691672829205, -0.41972662804380456, 0.0, -0.4157610579911619, -0.38590789017912885, -0.07160304578199496, -1.7825014601796636], \"y\": [1.3090391300741997, 0.9787828915327255, 0.8136547722619885, 0.0, -0.7698998307822627, -1.040449733699671, -1.247372287907254, -0.12734381135341782], \"z\": [-1.9078402080233186, -0.9290127595237095, 0.22282939138503938, 0.0, 0.270594459884292, -0.8534441436890712, -1.9098007145661984, -2.375331904566376], \"type\": \"scatter3d\"}, {\"hoverlabel\": {\"namelength\": 0}, \"hovertemplate\": \"<b>%{hovertext}</b><br><br>frame=9<br>x=%{x}<br>y=%{y}<br>z=%{z}\", \"hovertext\": [\"6\", \"5\", \"4\", \"3\", \"7\", \"8\", \"9\", null], \"ids\": [\"6\", \"5\", \"4\", \"3\", \"7\", \"8\", \"9\", null], \"legendgroup\": \"\", \"line\": {\"color\": \"#636efa\", \"dash\": \"solid\"}, \"mode\": \"lines\", \"name\": \"\", \"scene\": \"scene\", \"showlegend\": false, \"x\": [-0.19694179362564884, -0.4893691672829205, -0.41972662804380456, 0.0, -0.4157610579911619, -0.38590789017912885, -0.07160304578199496, -1.7825014601796636], \"y\": [1.3090391300741997, 0.9787828915327255, 0.8136547722619885, 0.0, -0.7698998307822627, -1.040449733699671, -1.247372287907254, -0.12734381135341782], \"z\": [-1.9078402080233186, -0.9290127595237095, 0.22282939138503938, 0.0, 0.270594459884292, -0.8534441436890712, -1.9098007145661984, -2.375331904566376], \"type\": \"scatter3d\"}], \"name\": \"9\"}, {\"data\": [{\"hoverlabel\": {\"namelength\": 0}, \"hovertemplate\": \"<b>%{hovertext}</b><br><br>frame=10<br>x=%{x}<br>y=%{y}<br>z=%{z}<br>diff=%{marker.color}\", \"hovertext\": [\"6\", \"5\", \"4\", \"3\", \"7\", \"8\", \"9\", null], \"ids\": [\"6\", \"5\", \"4\", \"3\", \"7\", \"8\", \"9\", null], \"legendgroup\": \"\", \"marker\": {\"color\": [1.089514946469215, 1.2625296488783548, 1.009980760581934, 0.0, 1.009980760581934, 1.2625296488783544, 1.089514946469215, 0.0], \"coloraxis\": \"coloraxis\", \"symbol\": \"circle\"}, \"mode\": \"markers\", \"name\": \"\", \"scene\": \"scene\", \"showlegend\": false, \"x\": [-0.2267949614376819, -0.4953398008453267, -0.42574181857309534, 0.0, -0.42173169155356816, -0.41179548793851833, -0.10742684715643423, -1.7845065236894273], \"y\": [1.3866128094186014, 0.992729222167302, 0.8136547722619883, 0.0, -0.7658897037627359, -1.0722634080545836, -1.3487839445343988, -0.12533874784365442], \"z\": [-1.8740214701586426, -0.9210816194184231, 0.21881926436551258, 0.0, 0.27255496642717175, -0.8216304693341584, -1.8660457730864726, -2.37733696807614], \"type\": \"scatter3d\"}, {\"hoverlabel\": {\"namelength\": 0}, \"hovertemplate\": \"<b>%{hovertext}</b><br><br>frame=10<br>x=%{x}<br>y=%{y}<br>z=%{z}\", \"hovertext\": [\"6\", \"5\", \"4\", \"3\", \"7\", \"8\", \"9\", null], \"ids\": [\"6\", \"5\", \"4\", \"3\", \"7\", \"8\", \"9\", null], \"legendgroup\": \"\", \"line\": {\"color\": \"#636efa\", \"dash\": \"solid\"}, \"mode\": \"lines\", \"name\": \"\", \"scene\": \"scene\", \"showlegend\": false, \"x\": [-0.2267949614376819, -0.4953398008453267, -0.42574181857309534, 0.0, -0.42173169155356816, -0.41179548793851833, -0.10742684715643423, -1.7845065236894273], \"y\": [1.3866128094186014, 0.992729222167302, 0.8136547722619883, 0.0, -0.7658897037627359, -1.0722634080545836, -1.3487839445343988, -0.12533874784365442], \"z\": [-1.8740214701586426, -0.9210816194184231, 0.21881926436551258, 0.0, 0.27255496642717175, -0.8216304693341584, -1.8660457730864726, -2.37733696807614], \"type\": \"scatter3d\"}], \"name\": \"10\"}, {\"data\": [{\"hoverlabel\": {\"namelength\": 0}, \"hovertemplate\": \"<b>%{hovertext}</b><br><br>frame=11<br>x=%{x}<br>y=%{y}<br>z=%{z}<br>diff=%{marker.color}\", \"hovertext\": [\"6\", \"5\", \"4\", \"3\", \"7\", \"8\", \"9\", null], \"ids\": [\"6\", \"5\", \"4\", \"3\", \"7\", \"8\", \"9\", null], \"legendgroup\": \"\", \"marker\": {\"color\": [1.1133974807188418, 1.2487169891444296, 1.0119858240916975, 0.0, 1.0119858240916972, 1.2487169891444296, 1.1133974807188416, 0.0], \"coloraxis\": \"coloraxis\", \"symbol\": \"circle\"}, \"mode\": \"markers\", \"name\": \"\", \"scene\": \"scene\", \"showlegend\": false, \"x\": [-0.24069673510537534, -0.4913742307926841, -0.4256972616062118, 0.0, -0.41972662804380456, -0.429707388625738, -0.1412455850211099, -1.7825014601796636], \"y\": [1.46218142525324, 1.0105965658876381, 0.811649708752225, 0.0, -0.7659342607296195, -1.09418543576133, -1.448279651585547, -0.12734381135341782], \"z\": [-1.8441683023466096, -0.9071798457507302, 0.21881926436551258, 0.0, 0.2705499029174083, -0.8037185686469387, -1.8163201980443402, -2.3793420315859035], \"type\": \"scatter3d\"}, {\"hoverlabel\": {\"namelength\": 0}, \"hovertemplate\": \"<b>%{hovertext}</b><br><br>frame=11<br>x=%{x}<br>y=%{y}<br>z=%{z}\", \"hovertext\": [\"6\", \"5\", \"4\", \"3\", \"7\", \"8\", \"9\", null], \"ids\": [\"6\", \"5\", \"4\", \"3\", \"7\", \"8\", \"9\", null], \"legendgroup\": \"\", \"line\": {\"color\": \"#636efa\", \"dash\": \"solid\"}, \"mode\": \"lines\", \"name\": \"\", \"scene\": \"scene\", \"showlegend\": false, \"x\": [-0.24069673510537534, -0.4913742307926841, -0.4256972616062118, 0.0, -0.41972662804380456, -0.429707388625738, -0.1412455850211099, -1.7825014601796636], \"y\": [1.46218142525324, 1.0105965658876381, 0.811649708752225, 0.0, -0.7659342607296195, -1.09418543576133, -1.448279651585547, -0.12734381135341782], \"z\": [-1.8441683023466096, -0.9071798457507302, 0.21881926436551258, 0.0, 0.2705499029174083, -0.8037185686469387, -1.8163201980443402, -2.3793420315859035], \"type\": \"scatter3d\"}], \"name\": \"11\"}, {\"data\": [{\"hoverlabel\": {\"namelength\": 0}, \"hovertemplate\": \"<b>%{hovertext}</b><br><br>frame=12<br>x=%{x}<br>y=%{y}<br>z=%{z}<br>diff=%{marker.color}\", \"hovertext\": [\"6\", \"5\", \"4\", \"3\", \"7\", \"8\", \"9\", null], \"ids\": [\"6\", \"5\", \"4\", \"3\", \"7\", \"8\", \"9\", null], \"legendgroup\": \"\", \"marker\": {\"color\": [1.1073822901895514, 1.2566035722828326, 1.0178673437203358, 0.0, 1.017867343720336, 1.2566035722828324, 1.1073822901895516, 0.0], \"coloraxis\": \"coloraxis\", \"symbol\": \"circle\"}, \"mode\": \"markers\", \"name\": \"\", \"scene\": \"scene\", \"showlegend\": false, \"x\": [-0.24666736866778155, -0.4913742307926841, -0.429707388625738, 0.0, -0.42173169155356816, -0.4476192893129576, -0.1790298929384292, -1.7825014601796636], \"y\": [1.5358340915118822, 1.0325185935943846, 0.8077286956664655, 0.0, -0.7678947672724993, -1.1259991101162428, -1.5437652316171684, -0.1293043178962976], \"z\": [-1.7964032338473572, -0.8932335151161537, 0.2228293913850394, 0.0, 0.27255496642717175, -0.7738654008349057, -1.7645895594924443, -2.37929747461902], \"type\": \"scatter3d\"}, {\"hoverlabel\": {\"namelength\": 0}, \"hovertemplate\": \"<b>%{hovertext}</b><br><br>frame=12<br>x=%{x}<br>y=%{y}<br>z=%{z}\", \"hovertext\": [\"6\", \"5\", \"4\", \"3\", \"7\", \"8\", \"9\", null], \"ids\": [\"6\", \"5\", \"4\", \"3\", \"7\", \"8\", \"9\", null], \"legendgroup\": \"\", \"line\": {\"color\": \"#636efa\", \"dash\": \"solid\"}, \"mode\": \"lines\", \"name\": \"\", \"scene\": \"scene\", \"showlegend\": false, \"x\": [-0.24666736866778155, -0.4913742307926841, -0.429707388625738, 0.0, -0.42173169155356816, -0.4476192893129576, -0.1790298929384292, -1.7825014601796636], \"y\": [1.5358340915118822, 1.0325185935943846, 0.8077286956664655, 0.0, -0.7678947672724993, -1.1259991101162428, -1.5437652316171684, -0.1293043178962976], \"z\": [-1.7964032338473572, -0.8932335151161537, 0.2228293913850394, 0.0, 0.27255496642717175, -0.7738654008349057, -1.7645895594924443, -2.37929747461902], \"type\": \"scatter3d\"}], \"name\": \"12\"}, {\"data\": [{\"hoverlabel\": {\"namelength\": 0}, \"hovertemplate\": \"<b>%{hovertext}</b><br><br>frame=13<br>x=%{x}<br>y=%{y}<br>z=%{z}<br>diff=%{marker.color}\", \"hovertext\": [\"6\", \"5\", \"4\", \"3\", \"7\", \"8\", \"9\", null], \"ids\": [\"6\", \"5\", \"4\", \"3\", \"7\", \"8\", \"9\", null], \"legendgroup\": \"\", \"marker\": {\"color\": [1.1034167201369087, 1.2645792693550018, 1.0118967101579297, 0.0, 1.0118967101579297, 1.2645792693550018, 1.1034167201369085, 0.0], \"coloraxis\": \"coloraxis\", \"symbol\": \"circle\"}, \"mode\": \"markers\", \"name\": \"\", \"scene\": \"scene\", \"showlegend\": false, \"x\": [-0.2626187628121222, -0.4933792943024477, -0.43367295867838157, 0.0, -0.42574181857309534, -0.46553119000017823, -0.2188192643655121, -1.7845065236894273], \"y\": [1.667143472917943, 1.0762735350741104, 0.8076841386995818, 0.0, -0.7559535001476863, -1.1697540515959688, -1.6830057531285159, -0.12533874784365442], \"z\": [-1.7048832238683786, -0.8713560443762908, 0.220824327875276, 0.0, 0.27652053647981495, -0.7281053958454167, -1.6611282823886528, -2.3852681081814264], \"type\": \"scatter3d\"}, {\"hoverlabel\": {\"namelength\": 0}, \"hovertemplate\": \"<b>%{hovertext}</b><br><br>frame=13<br>x=%{x}<br>y=%{y}<br>z=%{z}\", \"hovertext\": [\"6\", \"5\", \"4\", \"3\", \"7\", \"8\", \"9\", null], \"ids\": [\"6\", \"5\", \"4\", \"3\", \"7\", \"8\", \"9\", null], \"legendgroup\": \"\", \"line\": {\"color\": \"#636efa\", \"dash\": \"solid\"}, \"mode\": \"lines\", \"name\": \"\", \"scene\": \"scene\", \"showlegend\": false, \"x\": [-0.2626187628121222, -0.4933792943024477, -0.43367295867838157, 0.0, -0.42574181857309534, -0.46553119000017823, -0.2188192643655121, -1.7845065236894273], \"y\": [1.667143472917943, 1.0762735350741104, 0.8076841386995818, 0.0, -0.7559535001476863, -1.1697540515959688, -1.6830057531285159, -0.12533874784365442], \"z\": [-1.7048832238683786, -0.8713560443762908, 0.220824327875276, 0.0, 0.27652053647981495, -0.7281053958454167, -1.6611282823886528, -2.3852681081814264], \"type\": \"scatter3d\"}], \"name\": \"13\"}, {\"data\": [{\"hoverlabel\": {\"namelength\": 0}, \"hovertemplate\": \"<b>%{hovertext}</b><br><br>frame=14<br>x=%{x}<br>y=%{y}<br>z=%{z}<br>diff=%{marker.color}\", \"hovertext\": [\"6\", \"5\", \"4\", \"3\", \"7\", \"8\", \"9\", null], \"ids\": [\"6\", \"5\", \"4\", \"3\", \"7\", \"8\", \"9\", null], \"legendgroup\": \"\", \"marker\": {\"color\": [1.1173184938046012, 1.2347261015429682, 1.021832913772979, 0.0, 1.021832913772979, 1.234726101542968, 1.1173184938046012, 0.0], \"coloraxis\": \"coloraxis\", \"symbol\": \"circle\"}, \"mode\": \"markers\", \"name\": \"\", \"scene\": \"scene\", \"showlegend\": false, \"x\": [-0.28449623355198445, -0.49734486435509034, -0.4416486557505514, 0.0, -0.43567802218814516, -0.4854481541971615, -0.24671192563466515, -1.7865115871991908], \"y\": [1.8282614651691533, 1.1439110108034627, 0.7957874285416523, 0.0, -0.7460172965326364, -1.223489753657628, -1.848133872399253, -0.12533874784365442], \"z\": [-1.5855596665540146, -0.8136993292288721, 0.23076053149032572, 0.0, 0.2963929437099144, -0.6704486806979979, -1.5258978878968323, -2.3892782352009534], \"type\": \"scatter3d\"}, {\"hoverlabel\": {\"namelength\": 0}, \"hovertemplate\": \"<b>%{hovertext}</b><br><br>frame=14<br>x=%{x}<br>y=%{y}<br>z=%{z}\", \"hovertext\": [\"6\", \"5\", \"4\", \"3\", \"7\", \"8\", \"9\", null], \"ids\": [\"6\", \"5\", \"4\", \"3\", \"7\", \"8\", \"9\", null], \"legendgroup\": \"\", \"line\": {\"color\": \"#636efa\", \"dash\": \"solid\"}, \"mode\": \"lines\", \"name\": \"\", \"scene\": \"scene\", \"showlegend\": false, \"x\": [-0.28449623355198445, -0.49734486435509034, -0.4416486557505514, 0.0, -0.43567802218814516, -0.4854481541971615, -0.24671192563466515, -1.7865115871991908], \"y\": [1.8282614651691533, 1.1439110108034627, 0.7957874285416523, 0.0, -0.7460172965326364, -1.223489753657628, -1.848133872399253, -0.12533874784365442], \"z\": [-1.5855596665540146, -0.8136993292288721, 0.23076053149032572, 0.0, 0.2963929437099144, -0.6704486806979979, -1.5258978878968323, -2.3892782352009534], \"type\": \"scatter3d\"}], \"name\": \"14\"}, {\"data\": [{\"hoverlabel\": {\"namelength\": 0}, \"hovertemplate\": \"<b>%{hovertext}</b><br><br>frame=15<br>x=%{x}<br>y=%{y}<br>z=%{z}<br>diff=%{marker.color}\", \"hovertext\": [\"6\", \"5\", \"4\", \"3\", \"7\", \"8\", \"9\", null], \"ids\": [\"6\", \"5\", \"4\", \"3\", \"7\", \"8\", \"9\", null], \"legendgroup\": \"\", \"marker\": {\"color\": [1.1174076077383674, 1.22086888484216, 1.0278035473353853, 0.0, 1.0278035473353853, 1.2208688848421598, 1.1174076077383674, 0.0], \"coloraxis\": \"coloraxis\", \"symbol\": \"circle\"}, \"mode\": \"markers\", \"name\": \"\", \"scene\": \"scene\", \"showlegend\": false, \"x\": [-0.30040307072944045, -0.5033154979174975, -0.44962435282272123, 0.0, -0.4376830856979088, -0.4913742307926841, -0.25860863579259497, -1.7845065236894273], \"y\": [1.9635364166278575, 1.2115484865328146, 0.7878117314694824, 0.0, -0.7400466629702298, -1.2632791250847106, -1.9814483173150772, -0.12533874784365442], \"z\": [-1.4482796515855467, -0.7619686906769763, 0.24470686212490228, 0.0, 0.30833421083472756, -0.6047717115115256, -1.3905783794712445, -2.3932438052535963], \"type\": \"scatter3d\"}, {\"hoverlabel\": {\"namelength\": 0}, \"hovertemplate\": \"<b>%{hovertext}</b><br><br>frame=15<br>x=%{x}<br>y=%{y}<br>z=%{z}\", \"hovertext\": [\"6\", \"5\", \"4\", \"3\", \"7\", \"8\", \"9\", null], \"ids\": [\"6\", \"5\", \"4\", \"3\", \"7\", \"8\", \"9\", null], \"legendgroup\": \"\", \"line\": {\"color\": \"#636efa\", \"dash\": \"solid\"}, \"mode\": \"lines\", \"name\": \"\", \"scene\": \"scene\", \"showlegend\": false, \"x\": [-0.30040307072944045, -0.5033154979174975, -0.44962435282272123, 0.0, -0.4376830856979088, -0.4913742307926841, -0.25860863579259497, -1.7845065236894273], \"y\": [1.9635364166278575, 1.2115484865328146, 0.7878117314694824, 0.0, -0.7400466629702298, -1.2632791250847106, -1.9814483173150772, -0.12533874784365442], \"z\": [-1.4482796515855467, -0.7619686906769763, 0.24470686212490228, 0.0, 0.30833421083472756, -0.6047717115115256, -1.3905783794712445, -2.3932438052535963], \"type\": \"scatter3d\"}], \"name\": \"15\"}, {\"data\": [{\"hoverlabel\": {\"namelength\": 0}, \"hovertemplate\": \"<b>%{hovertext}</b><br><br>frame=16<br>x=%{x}<br>y=%{y}<br>z=%{z}<br>diff=%{marker.color}\", \"hovertext\": [\"6\", \"5\", \"4\", \"3\", \"7\", \"8\", \"9\", null], \"ids\": [\"6\", \"5\", \"4\", \"3\", \"7\", \"8\", \"9\", null], \"legendgroup\": \"\", \"marker\": {\"color\": [1.087554439926336, 1.2188638213323968, 1.0298531678120333, 0.0, 1.0298531678120333, 1.2188638213323966, 1.087554439926336, 0.0], \"coloraxis\": \"coloraxis\", \"symbol\": \"circle\"}, \"mode\": \"markers\", \"name\": \"\", \"scene\": \"scene\", \"showlegend\": false, \"x\": [-0.3043686407820841, -0.49930537089797034, -0.45555042941824486, 0.0, -0.4416486557505514, -0.4854035972302769, -0.2546430657399514, -1.7825014601796636], \"y\": [2.068958200274529, 1.261274061574947, 0.785806667959719, 0.0, -0.7360810929175866, -1.3011079899689133, -2.0650371871887696, -0.12337824130077464], \"z\": [-1.3269064737945355, -0.7161641287206034, 0.25464306573995205, 0.0, 0.32032003492642436, -0.5510360094498664, -1.285156595824573, -2.3972093753062396], \"type\": \"scatter3d\"}, {\"hoverlabel\": {\"namelength\": 0}, \"hovertemplate\": \"<b>%{hovertext}</b><br><br>frame=16<br>x=%{x}<br>y=%{y}<br>z=%{z}\", \"hovertext\": [\"6\", \"5\", \"4\", \"3\", \"7\", \"8\", \"9\", null], \"ids\": [\"6\", \"5\", \"4\", \"3\", \"7\", \"8\", \"9\", null], \"legendgroup\": \"\", \"line\": {\"color\": \"#636efa\", \"dash\": \"solid\"}, \"mode\": \"lines\", \"name\": \"\", \"scene\": \"scene\", \"showlegend\": false, \"x\": [-0.3043686407820841, -0.49930537089797034, -0.45555042941824486, 0.0, -0.4416486557505514, -0.4854035972302769, -0.2546430657399514, -1.7825014601796636], \"y\": [2.068958200274529, 1.261274061574947, 0.785806667959719, 0.0, -0.7360810929175866, -1.3011079899689133, -2.0650371871887696, -0.12337824130077464], \"z\": [-1.3269064737945355, -0.7161641287206034, 0.25464306573995205, 0.0, 0.32032003492642436, -0.5510360094498664, -1.285156595824573, -2.3972093753062396], \"type\": \"scatter3d\"}], \"name\": \"16\"}, {\"data\": [{\"hoverlabel\": {\"namelength\": 0}, \"hovertemplate\": \"<b>%{hovertext}</b><br><br>frame=17<br>x=%{x}<br>y=%{y}<br>z=%{z}<br>diff=%{marker.color}\", \"hovertext\": [\"6\", \"5\", \"4\", \"3\", \"7\", \"8\", \"9\", null], \"ids\": [\"6\", \"5\", \"4\", \"3\", \"7\", \"8\", \"9\", null], \"legendgroup\": \"\", \"marker\": {\"color\": [1.0914754530120947, 1.218819264365513, 1.0318582313217963, 0.0, 1.0318582313217963, 1.218819264365513, 1.0914754530120947, 0.0], \"coloraxis\": \"coloraxis\", \"symbol\": \"circle\"}, \"mode\": \"markers\", \"name\": \"\", \"scene\": \"scene\", \"showlegend\": false, \"x\": [-0.3182704144497765, -0.49734486435509034, -0.46352612649041464, 0.0, -0.445614225803195, -0.4874086607400405, -0.2546430657399514, -1.7825014601796636], \"y\": [2.1724194773783205, 1.303068496511793, 0.7718603373251424, 0.0, -0.7281053958454167, -1.3448183744817555, -2.1604782102535074, -0.12734381135341782], \"z\": [-1.1857054457403087, -0.6525367800107782, 0.2705499029174083, 0.0, 0.3282511750317107, -0.48540359723027776, -1.145916074313226, -2.3992144388160033], \"type\": \"scatter3d\"}, {\"hoverlabel\": {\"namelength\": 0}, \"hovertemplate\": \"<b>%{hovertext}</b><br><br>frame=17<br>x=%{x}<br>y=%{y}<br>z=%{z}\", \"hovertext\": [\"6\", \"5\", \"4\", \"3\", \"7\", \"8\", \"9\", null], \"ids\": [\"6\", \"5\", \"4\", \"3\", \"7\", \"8\", \"9\", null], \"legendgroup\": \"\", \"line\": {\"color\": \"#636efa\", \"dash\": \"solid\"}, \"mode\": \"lines\", \"name\": \"\", \"scene\": \"scene\", \"showlegend\": false, \"x\": [-0.3182704144497765, -0.49734486435509034, -0.46352612649041464, 0.0, -0.445614225803195, -0.4874086607400405, -0.2546430657399514, -1.7825014601796636], \"y\": [2.1724194773783205, 1.303068496511793, 0.7718603373251424, 0.0, -0.7281053958454167, -1.3448183744817555, -2.1604782102535074, -0.12734381135341782], \"z\": [-1.1857054457403087, -0.6525367800107782, 0.2705499029174083, 0.0, 0.3282511750317107, -0.48540359723027776, -1.145916074313226, -2.3992144388160033], \"type\": \"scatter3d\"}], \"name\": \"17\"}, {\"data\": [{\"hoverlabel\": {\"namelength\": 0}, \"hovertemplate\": \"<b>%{hovertext}</b><br><br>frame=18<br>x=%{x}<br>y=%{y}<br>z=%{z}<br>diff=%{marker.color}\", \"hovertext\": [\"6\", \"5\", \"4\", \"3\", \"7\", \"8\", \"9\", null], \"ids\": [\"6\", \"5\", \"4\", \"3\", \"7\", \"8\", \"9\", null], \"legendgroup\": \"\", \"marker\": {\"color\": [1.1253387478436543, 1.2188638213323963, 1.037873421851087, 0.0, 1.037873421851087, 1.2188638213323963, 1.1253387478436543, 0.0], \"coloraxis\": \"coloraxis\", \"symbol\": \"circle\"}, \"mode\": \"markers\", \"name\": \"\", \"scene\": \"scene\", \"showlegend\": false, \"x\": [-0.33422180859411715, -0.49734486435509034, -0.47145726659570086, 0.0, -0.4495797958558376, -0.4774279001581071, -0.24867243217754517, -1.7804963966699001], \"y\": [2.267905057409942, 1.3607252116592117, 0.7658897037627358, 0.0, -0.7162086856874872, -1.3866128094186014, -2.2639394873572987, -0.12734381135341782], \"z\": [-1.018572262959808, -0.5789286707190195, 0.2804861065324581, 0.0, 0.3461630757189304, -0.40586941134299614, -0.9748173214800824, -2.407190135888173], \"type\": \"scatter3d\"}, {\"hoverlabel\": {\"namelength\": 0}, \"hovertemplate\": \"<b>%{hovertext}</b><br><br>frame=18<br>x=%{x}<br>y=%{y}<br>z=%{z}\", \"hovertext\": [\"6\", \"5\", \"4\", \"3\", \"7\", \"8\", \"9\", null], \"ids\": [\"6\", \"5\", \"4\", \"3\", \"7\", \"8\", \"9\", null], \"legendgroup\": \"\", \"line\": {\"color\": \"#636efa\", \"dash\": \"solid\"}, \"mode\": \"lines\", \"name\": \"\", \"scene\": \"scene\", \"showlegend\": false, \"x\": [-0.33422180859411715, -0.49734486435509034, -0.47145726659570086, 0.0, -0.4495797958558376, -0.4774279001581071, -0.24867243217754517, -1.7804963966699001], \"y\": [2.267905057409942, 1.3607252116592117, 0.7658897037627358, 0.0, -0.7162086856874872, -1.3866128094186014, -2.2639394873572987, -0.12734381135341782], \"z\": [-1.018572262959808, -0.5789286707190195, 0.2804861065324581, 0.0, 0.3461630757189304, -0.40586941134299614, -0.9748173214800824, -2.407190135888173], \"type\": \"scatter3d\"}], \"name\": \"18\"}, {\"data\": [{\"hoverlabel\": {\"namelength\": 0}, \"hovertemplate\": \"<b>%{hovertext}</b><br><br>frame=19<br>x=%{x}<br>y=%{y}<br>z=%{z}<br>diff=%{marker.color}\", \"hovertext\": [\"6\", \"5\", \"4\", \"3\", \"7\", \"8\", \"9\", null], \"ids\": [\"6\", \"5\", \"4\", \"3\", \"7\", \"8\", \"9\", null], \"legendgroup\": \"\", \"marker\": {\"color\": [1.17301470240914, 1.2526380022301888, 1.0297640538782664, 0.0, 1.0297640538782664, 1.2526380022301886, 1.17301470240914, 0.0], \"coloraxis\": \"coloraxis\", \"symbol\": \"circle\"}, \"mode\": \"markers\", \"name\": \"\", \"scene\": \"scene\", \"showlegend\": false, \"x\": [-0.3540942158242158, -0.49930537089797034, -0.4833985337205143, 0.0, -0.4674916965430573, -0.4774279001581071, -0.23869167159561175, -1.7825014601796636], \"y\": [2.3753764615332598, 1.4065297736155846, 0.7500274235521632, 0.0, -0.6982522280333838, -1.4363383844607338, -2.3733268410566137, -0.1293043178962976], \"z\": [-0.7977479350845321, -0.49141878775956793, 0.3004030707294412, 0.0, 0.36603548294902993, -0.29046686711439146, -0.7380861564273501, -2.4131607694505792], \"type\": \"scatter3d\"}, {\"hoverlabel\": {\"namelength\": 0}, \"hovertemplate\": \"<b>%{hovertext}</b><br><br>frame=19<br>x=%{x}<br>y=%{y}<br>z=%{z}\", \"hovertext\": [\"6\", \"5\", \"4\", \"3\", \"7\", \"8\", \"9\", null], \"ids\": [\"6\", \"5\", \"4\", \"3\", \"7\", \"8\", \"9\", null], \"legendgroup\": \"\", \"line\": {\"color\": \"#636efa\", \"dash\": \"solid\"}, \"mode\": \"lines\", \"name\": \"\", \"scene\": \"scene\", \"showlegend\": false, \"x\": [-0.3540942158242158, -0.49930537089797034, -0.4833985337205143, 0.0, -0.4674916965430573, -0.4774279001581071, -0.23869167159561175, -1.7825014601796636], \"y\": [2.3753764615332598, 1.4065297736155846, 0.7500274235521632, 0.0, -0.6982522280333838, -1.4363383844607338, -2.3733268410566137, -0.1293043178962976], \"z\": [-0.7977479350845321, -0.49141878775956793, 0.3004030707294412, 0.0, 0.36603548294902993, -0.29046686711439146, -0.7380861564273501, -2.4131607694505792], \"type\": \"scatter3d\"}], \"name\": \"19\"}, {\"data\": [{\"hoverlabel\": {\"namelength\": 0}, \"hovertemplate\": \"<b>%{hovertext}</b><br><br>frame=20<br>x=%{x}<br>y=%{y}<br>z=%{z}<br>diff=%{marker.color}\", \"hovertext\": [\"6\", \"5\", \"4\", \"3\", \"7\", \"8\", \"9\", null], \"ids\": [\"6\", \"5\", \"4\", \"3\", \"7\", \"8\", \"9\", null], \"legendgroup\": \"\", \"marker\": {\"color\": [1.254553951806186, 1.2366866080858492, 1.021788356806096, 0.0, 1.0217883568060957, 1.236686608085849, 1.254553951806186, 0.0], \"coloraxis\": \"coloraxis\", \"symbol\": \"circle\"}, \"mode\": \"markers\", \"name\": \"\", \"scene\": \"scene\", \"showlegend\": false, \"x\": [-0.36804054645879386, -0.49734486435509134, -0.4874086607400415, 0.0, -0.4774724571249917, -0.46553119000017823, -0.21088812426022588, -1.778535890127021], \"y\": [2.448984570825019, 1.4582604121674805, 0.7341205863747068, 0.0, -0.6763747572935209, -1.4641864887630034, -2.456871153963422, -0.1293043178962976], \"z\": [-0.584899304281426, -0.38394738363624964, 0.31234433785425436, 0.0, 0.3819423201264862, -0.1850005265008365, -0.49538435781221113, -2.421091909555866], \"type\": \"scatter3d\"}, {\"hoverlabel\": {\"namelength\": 0}, \"hovertemplate\": \"<b>%{hovertext}</b><br><br>frame=20<br>x=%{x}<br>y=%{y}<br>z=%{z}\", \"hovertext\": [\"6\", \"5\", \"4\", \"3\", \"7\", \"8\", \"9\", null], \"ids\": [\"6\", \"5\", \"4\", \"3\", \"7\", \"8\", \"9\", null], \"legendgroup\": \"\", \"line\": {\"color\": \"#636efa\", \"dash\": \"solid\"}, \"mode\": \"lines\", \"name\": \"\", \"scene\": \"scene\", \"showlegend\": false, \"x\": [-0.36804054645879386, -0.49734486435509134, -0.4874086607400415, 0.0, -0.4774724571249917, -0.46553119000017823, -0.21088812426022588, -1.778535890127021], \"y\": [2.448984570825019, 1.4582604121674805, 0.7341205863747068, 0.0, -0.6763747572935209, -1.4641864887630034, -2.456871153963422, -0.1293043178962976], \"z\": [-0.584899304281426, -0.38394738363624964, 0.31234433785425436, 0.0, 0.3819423201264862, -0.1850005265008365, -0.49538435781221113, -2.421091909555866], \"type\": \"scatter3d\"}], \"name\": \"20\"}, {\"data\": [{\"hoverlabel\": {\"namelength\": 0}, \"hovertemplate\": \"<b>%{hovertext}</b><br><br>frame=21<br>x=%{x}<br>y=%{y}<br>z=%{z}<br>diff=%{marker.color}\", \"hovertext\": [\"6\", \"5\", \"4\", \"3\", \"7\", \"8\", \"9\", null], \"ids\": [\"6\", \"5\", \"4\", \"3\", \"7\", \"8\", \"9\", null], \"legendgroup\": \"\", \"marker\": {\"color\": [1.304413197748968, 1.2506774956873086, 1.0039655700526426, 0.0, 1.0039655700526424, 1.2506774956873086, 1.304413197748968, 0.0], \"coloraxis\": \"coloraxis\", \"symbol\": \"circle\"}, \"mode\": \"markers\", \"name\": \"\", \"scene\": \"scene\", \"showlegend\": false, \"x\": [-0.3879129536888925, -0.5013104344077339, -0.49930537089797034, 0.0, -0.48540359723027793, -0.45755549292800846, -0.19493673011588625, -1.7745257631074938], \"y\": [2.496705082357388, 1.5000102901374426, 0.7261448893025368, 0.0, -0.648571209958135, -1.4841034529599864, -2.492739512304745, -0.12734381135341782], \"z\": [-0.3998987777805896, -0.31434940136401784, 0.3222805414693041, 0.0, 0.38991801719865615, -0.09152000997897838, -0.2844962335519849, -2.431072670137799], \"type\": \"scatter3d\"}, {\"hoverlabel\": {\"namelength\": 0}, \"hovertemplate\": \"<b>%{hovertext}</b><br><br>frame=21<br>x=%{x}<br>y=%{y}<br>z=%{z}\", \"hovertext\": [\"6\", \"5\", \"4\", \"3\", \"7\", \"8\", \"9\", null], \"ids\": [\"6\", \"5\", \"4\", \"3\", \"7\", \"8\", \"9\", null], \"legendgroup\": \"\", \"line\": {\"color\": \"#636efa\", \"dash\": \"solid\"}, \"mode\": \"lines\", \"name\": \"\", \"scene\": \"scene\", \"showlegend\": false, \"x\": [-0.3879129536888925, -0.5013104344077339, -0.49930537089797034, 0.0, -0.48540359723027793, -0.45755549292800846, -0.19493673011588625, -1.7745257631074938], \"y\": [2.496705082357388, 1.5000102901374426, 0.7261448893025368, 0.0, -0.648571209958135, -1.4841034529599864, -2.492739512304745, -0.12734381135341782], \"z\": [-0.3998987777805896, -0.31434940136401784, 0.3222805414693041, 0.0, 0.38991801719865615, -0.09152000997897838, -0.2844962335519849, -2.431072670137799], \"type\": \"scatter3d\"}], \"name\": \"21\"}, {\"data\": [{\"hoverlabel\": {\"namelength\": 0}, \"hovertemplate\": \"<b>%{hovertext}</b><br><br>frame=22<br>x=%{x}<br>y=%{y}<br>z=%{z}<br>diff=%{marker.color}\", \"hovertext\": [\"6\", \"5\", \"4\", \"3\", \"7\", \"8\", \"9\", null], \"ids\": [\"6\", \"5\", \"4\", \"3\", \"7\", \"8\", \"9\", null], \"legendgroup\": \"\", \"marker\": {\"color\": [1.3679959894919096, 1.2625742058452385, 1.025843040792505, 0.0, 1.025843040792505, 1.2625742058452385, 1.3679959894919096, 0.0], \"coloraxis\": \"coloraxis\", \"symbol\": \"circle\"}, \"mode\": \"markers\", \"name\": \"\", \"scene\": \"scene\", \"showlegend\": false, \"x\": [-0.40782991788587575, -0.5013104344077339, -0.5033154979174965, 0.0, -0.4913742307926841, -0.445614225803195, -0.1830400199579564, -1.7725652565646137], \"y\": [2.5146169830446077, 1.5119515572622557, 0.6982967850002674, 0.0, -0.6365853858664381, -1.4920345930652728, -2.5285187567123004, -0.13728001496846756], \"z\": [-0.2347261015429689, -0.24069673510537548, 0.3322167450843539, 0.0, 0.4078299178858759, -0.013901773667692923, -0.10542178364667132, -2.4390038102430855], \"type\": \"scatter3d\"}, {\"hoverlabel\": {\"namelength\": 0}, \"hovertemplate\": \"<b>%{hovertext}</b><br><br>frame=22<br>x=%{x}<br>y=%{y}<br>z=%{z}\", \"hovertext\": [\"6\", \"5\", \"4\", \"3\", \"7\", \"8\", \"9\", null], \"ids\": [\"6\", \"5\", \"4\", \"3\", \"7\", \"8\", \"9\", null], \"legendgroup\": \"\", \"line\": {\"color\": \"#636efa\", \"dash\": \"solid\"}, \"mode\": \"lines\", \"name\": \"\", \"scene\": \"scene\", \"showlegend\": false, \"x\": [-0.40782991788587575, -0.5013104344077339, -0.5033154979174965, 0.0, -0.4913742307926841, -0.445614225803195, -0.1830400199579564, -1.7725652565646137], \"y\": [2.5146169830446077, 1.5119515572622557, 0.6982967850002674, 0.0, -0.6365853858664381, -1.4920345930652728, -2.5285187567123004, -0.13728001496846756], \"z\": [-0.2347261015429689, -0.24069673510537548, 0.3322167450843539, 0.0, 0.4078299178858759, -0.013901773667692923, -0.10542178364667132, -2.4390038102430855], \"type\": \"scatter3d\"}], \"name\": \"22\"}, {\"data\": [{\"hoverlabel\": {\"namelength\": 0}, \"hovertemplate\": \"<b>%{hovertext}</b><br><br>frame=23<br>x=%{x}<br>y=%{y}<br>z=%{z}<br>diff=%{marker.color}\", \"hovertext\": [\"6\", \"5\", \"4\", \"3\", \"7\", \"8\", \"9\", null], \"ids\": [\"6\", \"5\", \"4\", \"3\", \"7\", \"8\", \"9\", null], \"legendgroup\": \"\", \"marker\": {\"color\": [1.4138005514482823, 1.2765650934466986, 1.03582380137444, 0.0, 1.03582380137444, 1.276565093446698, 1.4138005514482823, 0.0], \"coloraxis\": \"coloraxis\", \"symbol\": \"circle\"}, \"mode\": \"markers\", \"name\": \"\", \"scene\": \"scene\", \"showlegend\": false, \"x\": [-0.4515848593656012, -0.5112911949896674, -0.5192223350949535, 0.0, -0.5053205614272601, -0.4376830856979088, -0.1830400199579564, -1.7745703200743774], \"y\": [2.522548123149894, 1.5218877608773056, 0.6704041237311142, 0.0, -0.6187180421461023, -1.4940396565750362, -2.534489390274707, -0.14525571204063753], \"z\": [-0.047765068499252605, -0.1492212820932807, 0.3461630757189304, 0.0, 0.4197711850106891, 0.08158380636392863, 0.0855493764165718, -2.4449744438054917], \"type\": \"scatter3d\"}, {\"hoverlabel\": {\"namelength\": 0}, \"hovertemplate\": \"<b>%{hovertext}</b><br><br>frame=23<br>x=%{x}<br>y=%{y}<br>z=%{z}\", \"hovertext\": [\"6\", \"5\", \"4\", \"3\", \"7\", \"8\", \"9\", null], \"ids\": [\"6\", \"5\", \"4\", \"3\", \"7\", \"8\", \"9\", null], \"legendgroup\": \"\", \"line\": {\"color\": \"#636efa\", \"dash\": \"solid\"}, \"mode\": \"lines\", \"name\": \"\", \"scene\": \"scene\", \"showlegend\": false, \"x\": [-0.4515848593656012, -0.5112911949896674, -0.5192223350949535, 0.0, -0.5053205614272601, -0.4376830856979088, -0.1830400199579564, -1.7745703200743774], \"y\": [2.522548123149894, 1.5218877608773056, 0.6704041237311142, 0.0, -0.6187180421461023, -1.4940396565750362, -2.534489390274707, -0.14525571204063753], \"z\": [-0.047765068499252605, -0.1492212820932807, 0.3461630757189304, 0.0, 0.4197711850106891, 0.08158380636392863, 0.0855493764165718, -2.4449744438054917], \"type\": \"scatter3d\"}], \"name\": \"23\"}, {\"data\": [{\"hoverlabel\": {\"namelength\": 0}, \"hovertemplate\": \"<b>%{hovertext}</b><br><br>frame=24<br>x=%{x}<br>y=%{y}<br>z=%{z}<br>diff=%{marker.color}\", \"hovertext\": [\"6\", \"5\", \"4\", \"3\", \"7\", \"8\", \"9\", null], \"ids\": [\"6\", \"5\", \"4\", \"3\", \"7\", \"8\", \"9\", null], \"legendgroup\": \"\", \"marker\": {\"color\": [1.4177661215009247, 1.252682559197072, 1.019916964196983, 0.0, 1.019916964196983, 1.252682559197072, 1.4177661215009247, 0.0], \"coloraxis\": \"coloraxis\", \"symbol\": \"circle\"}, \"mode\": \"markers\", \"name\": \"\", \"scene\": \"scene\", \"showlegend\": false, \"x\": [-0.49533980084532775, -0.531163602219767, -0.531163602219767, 0.0, -0.5211828416378336, -0.4495797958558386, -0.19890230016852986, -1.7705601930548511], \"y\": [2.5126119195348444, 1.5258533309299487, 0.6465661464483717, 0.0, -0.598801077949119, -1.4940396565750362, -2.53845496032735, -0.1492212820932807], \"z\": [0.14521115507375393, -0.045760004989489206, 0.35805978587685994, 0.0, 0.41576105799116225, 0.15715242219856704, 0.24069673510537545, -2.458920774440068], \"type\": \"scatter3d\"}, {\"hoverlabel\": {\"namelength\": 0}, \"hovertemplate\": \"<b>%{hovertext}</b><br><br>frame=24<br>x=%{x}<br>y=%{y}<br>z=%{z}\", \"hovertext\": [\"6\", \"5\", \"4\", \"3\", \"7\", \"8\", \"9\", null], \"ids\": [\"6\", \"5\", \"4\", \"3\", \"7\", \"8\", \"9\", null], \"legendgroup\": \"\", \"line\": {\"color\": \"#636efa\", \"dash\": \"solid\"}, \"mode\": \"lines\", \"name\": \"\", \"scene\": \"scene\", \"showlegend\": false, \"x\": [-0.49533980084532775, -0.531163602219767, -0.531163602219767, 0.0, -0.5211828416378336, -0.4495797958558386, -0.19890230016852986, -1.7705601930548511], \"y\": [2.5126119195348444, 1.5258533309299487, 0.6465661464483717, 0.0, -0.598801077949119, -1.4940396565750362, -2.53845496032735, -0.1492212820932807], \"z\": [0.14521115507375393, -0.045760004989489206, 0.35805978587685994, 0.0, 0.41576105799116225, 0.15715242219856704, 0.24069673510537545, -2.458920774440068], \"type\": \"scatter3d\"}], \"name\": \"24\"}, {\"data\": [{\"hoverlabel\": {\"namelength\": 0}, \"hovertemplate\": \"<b>%{hovertext}</b><br><br>frame=25<br>x=%{x}<br>y=%{y}<br>z=%{z}<br>diff=%{marker.color}\", \"hovertext\": [\"6\", \"5\", \"4\", \"3\", \"7\", \"8\", \"9\", null], \"ids\": [\"6\", \"5\", \"4\", \"3\", \"7\", \"8\", \"9\", null], \"legendgroup\": \"\", \"marker\": {\"color\": [1.38996257416554, 1.2407412920722587, 1.0219665846736297, 0.0, 1.0219665846736297, 1.2407412920722583, 1.38996257416554, 0.0], \"coloraxis\": \"coloraxis\", \"symbol\": \"circle\"}, \"mode\": \"markers\", \"name\": \"\", \"scene\": \"scene\", \"showlegend\": false, \"x\": [-0.5192223350949546, -0.5431048693445805, -0.5490755029069867, 0.0, -0.5371342357821742, -0.4535899228753658, -0.20491749069781967, -1.7606239894398015], \"y\": [2.4926949553378615, 1.5218877608773056, 0.6186734851792185, 0.0, -0.580933734228783, -1.4861085164697496, -2.520587616607014, -0.14525571204063753], \"z\": [0.35213370928133697, 0.04776506849925259, 0.3740111800211999, 0.0, 0.4217762485204525, 0.23477065850985251, 0.3998987777805896, -2.466851914545355], \"type\": \"scatter3d\"}, {\"hoverlabel\": {\"namelength\": 0}, \"hovertemplate\": \"<b>%{hovertext}</b><br><br>frame=25<br>x=%{x}<br>y=%{y}<br>z=%{z}\", \"hovertext\": [\"6\", \"5\", \"4\", \"3\", \"7\", \"8\", \"9\", null], \"ids\": [\"6\", \"5\", \"4\", \"3\", \"7\", \"8\", \"9\", null], \"legendgroup\": \"\", \"line\": {\"color\": \"#636efa\", \"dash\": \"solid\"}, \"mode\": \"lines\", \"name\": \"\", \"scene\": \"scene\", \"showlegend\": false, \"x\": [-0.5192223350949546, -0.5431048693445805, -0.5490755029069867, 0.0, -0.5371342357821742, -0.4535899228753658, -0.20491749069781967, -1.7606239894398015], \"y\": [2.4926949553378615, 1.5218877608773056, 0.6186734851792185, 0.0, -0.580933734228783, -1.4861085164697496, -2.520587616607014, -0.14525571204063753], \"z\": [0.35213370928133697, 0.04776506849925259, 0.3740111800211999, 0.0, 0.4217762485204525, 0.23477065850985251, 0.3998987777805896, -2.466851914545355], \"type\": \"scatter3d\"}], \"name\": \"25\"}, {\"data\": [{\"hoverlabel\": {\"namelength\": 0}, \"hovertemplate\": \"<b>%{hovertext}</b><br><br>frame=26<br>x=%{x}<br>y=%{y}<br>z=%{z}<br>diff=%{marker.color}\", \"hovertext\": [\"6\", \"5\", \"4\", \"3\", \"7\", \"8\", \"9\", null], \"ids\": [\"6\", \"5\", \"4\", \"3\", \"7\", \"8\", \"9\", null], \"legendgroup\": \"\", \"marker\": {\"color\": [1.387957510655776, 1.2108881242602263, 1.0179564576541034, 0.0, 1.0179564576541034, 1.210888124260226, 1.387957510655776, 0.0], \"coloraxis\": \"coloraxis\", \"symbol\": \"circle\"}, \"mode\": \"markers\", \"name\": \"\", \"scene\": \"scene\", \"showlegend\": false, \"x\": [-0.5331686657295306, -0.5391392992919368, -0.5550461364693928, 0.0, -0.547070439397223, -0.4535899228753648, -0.2068779972406997, -1.7506877858247516], \"y\": [2.454910647420542, 1.503975860190086, 0.5967960144393556, 0.0, -0.5689924671039698, -1.46819661578253, -2.4947000188476243, -0.14525571204063753], \"z\": [0.5331686657295304, 0.14325064853087413, 0.38595244714601307, 0.0, 0.4237367550633323, 0.3043686407820844, 0.5550461364693933, -2.4728225481077613], \"type\": \"scatter3d\"}, {\"hoverlabel\": {\"namelength\": 0}, \"hovertemplate\": \"<b>%{hovertext}</b><br><br>frame=26<br>x=%{x}<br>y=%{y}<br>z=%{z}\", \"hovertext\": [\"6\", \"5\", \"4\", \"3\", \"7\", \"8\", \"9\", null], \"ids\": [\"6\", \"5\", \"4\", \"3\", \"7\", \"8\", \"9\", null], \"legendgroup\": \"\", \"line\": {\"color\": \"#636efa\", \"dash\": \"solid\"}, \"mode\": \"lines\", \"name\": \"\", \"scene\": \"scene\", \"showlegend\": false, \"x\": [-0.5331686657295306, -0.5391392992919368, -0.5550461364693928, 0.0, -0.547070439397223, -0.4535899228753648, -0.2068779972406997, -1.7506877858247516], \"y\": [2.454910647420542, 1.503975860190086, 0.5967960144393556, 0.0, -0.5689924671039698, -1.46819661578253, -2.4947000188476243, -0.14525571204063753], \"z\": [0.5331686657295304, 0.14325064853087413, 0.38595244714601307, 0.0, 0.4237367550633323, 0.3043686407820844, 0.5550461364693933, -2.4728225481077613], \"type\": \"scatter3d\"}], \"name\": \"26\"}, {\"data\": [{\"hoverlabel\": {\"namelength\": 0}, \"hovertemplate\": \"<b>%{hovertext}</b><br><br>frame=27<br>x=%{x}<br>y=%{y}<br>z=%{z}<br>diff=%{marker.color}\", \"hovertext\": [\"6\", \"5\", \"4\", \"3\", \"7\", \"8\", \"9\", null], \"ids\": [\"6\", \"5\", \"4\", \"3\", \"7\", \"8\", \"9\", null], \"legendgroup\": \"\", \"marker\": {\"color\": [1.4058248543761125, 1.1909711600632436, 1.0060151905292898, 0.0, 1.0060151905292898, 1.1909711600632433, 1.4058248543761125, 0.0], \"coloraxis\": \"coloraxis\", \"symbol\": \"circle\"}, \"mode\": \"markers\", \"name\": \"\", \"scene\": \"scene\", \"showlegend\": false, \"x\": [-0.5510360094498666, -0.5510360094498666, -0.5629772765746791, 0.0, -0.5590117065220365, -0.46352612649041464, -0.2188192643655121, -1.748682722314988], \"y\": [2.4151212759934597, 1.4960001631179158, 0.5788841137521359, 0.0, -0.547114996364107, -1.448279651585547, -2.4549106474205415, -0.13928507847823096], \"z\": [0.6704486806979979, 0.2188638213323962, 0.3879575106557764, 0.0, 0.4217762485204525, 0.3700456099685567, 0.7042674185626739, -2.480753688213048], \"type\": \"scatter3d\"}, {\"hoverlabel\": {\"namelength\": 0}, \"hovertemplate\": \"<b>%{hovertext}</b><br><br>frame=27<br>x=%{x}<br>y=%{y}<br>z=%{z}\", \"hovertext\": [\"6\", \"5\", \"4\", \"3\", \"7\", \"8\", \"9\", null], \"ids\": [\"6\", \"5\", \"4\", \"3\", \"7\", \"8\", \"9\", null], \"legendgroup\": \"\", \"line\": {\"color\": \"#636efa\", \"dash\": \"solid\"}, \"mode\": \"lines\", \"name\": \"\", \"scene\": \"scene\", \"showlegend\": false, \"x\": [-0.5510360094498666, -0.5510360094498666, -0.5629772765746791, 0.0, -0.5590117065220365, -0.46352612649041464, -0.2188192643655121, -1.748682722314988], \"y\": [2.4151212759934597, 1.4960001631179158, 0.5788841137521359, 0.0, -0.547114996364107, -1.448279651585547, -2.4549106474205415, -0.13928507847823096], \"z\": [0.6704486806979979, 0.2188638213323962, 0.3879575106557764, 0.0, 0.4217762485204525, 0.3700456099685567, 0.7042674185626739, -2.480753688213048], \"type\": \"scatter3d\"}], \"name\": \"27\"}, {\"data\": [{\"hoverlabel\": {\"namelength\": 0}, \"hovertemplate\": \"<b>%{hovertext}</b><br><br>frame=28<br>x=%{x}<br>y=%{y}<br>z=%{z}<br>diff=%{marker.color}\", \"hovertext\": [\"6\", \"5\", \"4\", \"3\", \"7\", \"8\", \"9\", null], \"ids\": [\"6\", \"5\", \"4\", \"3\", \"7\", \"8\", \"9\", null], \"legendgroup\": \"\", \"marker\": {\"color\": [1.4138451084151646, 1.1751088798526708, 0.997994936490237, 0.0, 0.9979949364902369, 1.1751088798526708, 1.4138451084151646, 0.0], \"coloraxis\": \"coloraxis\", \"symbol\": \"circle\"}, \"mode\": \"markers\", \"name\": \"\", \"scene\": \"scene\", \"showlegend\": false, \"x\": [-0.5570066430122729, -0.5550461364693938, -0.5729134801897299, 0.0, -0.5689479101370863, -0.4654866330332947, -0.22875546798056293, -1.7427120887525818], \"y\": [2.3554149403693936, 1.4800933259404596, 0.5590117065220365, 0.0, -0.5351737292392938, -1.430367750898327, -2.409195199397936, -0.13928507847823096], \"z\": [0.8295616094394448, 0.310339274344491, 0.40185928432346935, 0.0, 0.4197266280438054, 0.4456142258031951, 0.8613752837943573, -2.484763815232575], \"type\": \"scatter3d\"}, {\"hoverlabel\": {\"namelength\": 0}, \"hovertemplate\": \"<b>%{hovertext}</b><br><br>frame=28<br>x=%{x}<br>y=%{y}<br>z=%{z}\", \"hovertext\": [\"6\", \"5\", \"4\", \"3\", \"7\", \"8\", \"9\", null], \"ids\": [\"6\", \"5\", \"4\", \"3\", \"7\", \"8\", \"9\", null], \"legendgroup\": \"\", \"line\": {\"color\": \"#636efa\", \"dash\": \"solid\"}, \"mode\": \"lines\", \"name\": \"\", \"scene\": \"scene\", \"showlegend\": false, \"x\": [-0.5570066430122729, -0.5550461364693938, -0.5729134801897299, 0.0, -0.5689479101370863, -0.4654866330332947, -0.22875546798056293, -1.7427120887525818], \"y\": [2.3554149403693936, 1.4800933259404596, 0.5590117065220365, 0.0, -0.5351737292392938, -1.430367750898327, -2.409195199397936, -0.13928507847823096], \"z\": [0.8295616094394448, 0.310339274344491, 0.40185928432346935, 0.0, 0.4197266280438054, 0.4456142258031951, 0.8613752837943573, -2.484763815232575], \"type\": \"scatter3d\"}], \"name\": \"28\"}, {\"data\": [{\"hoverlabel\": {\"namelength\": 0}, \"hovertemplate\": \"<b>%{hovertext}</b><br><br>frame=29<br>x=%{x}<br>y=%{y}<br>z=%{z}<br>diff=%{marker.color}\", \"hovertext\": [\"6\", \"5\", \"4\", \"3\", \"7\", \"8\", \"9\", null], \"ids\": [\"6\", \"5\", \"4\", \"3\", \"7\", \"8\", \"9\", null], \"legendgroup\": \"\", \"marker\": {\"color\": [1.4277023251159755, 1.192931666606123, 0.9979949364902359, 0.0, 0.9979949364902359, 1.1929316666061227, 1.4277023251159755, 0.0], \"coloraxis\": \"coloraxis\", \"symbol\": \"circle\"}, \"mode\": \"markers\", \"name\": \"\", \"scene\": \"scene\", \"showlegend\": false, \"x\": [-0.5510805664167503, -0.5510805664167503, -0.5868598108243059, 0.0, -0.5749631006663771, -0.44962435282272223, -0.20095192064517706, -1.7347809486472956], \"y\": [2.2858169580971617, 1.4562553486577168, 0.5431048693445801, 0.0, -0.517261828552074, -1.406485216648701, -2.3355425331392943, -0.13728001496846756], \"z\": [0.9966947922199452, 0.38595244714601307, 0.4078299178858759, 0.0, 0.4197711850106891, 0.5271980321671238, 1.0245428965222148, -2.4967050823573875], \"type\": \"scatter3d\"}, {\"hoverlabel\": {\"namelength\": 0}, \"hovertemplate\": \"<b>%{hovertext}</b><br><br>frame=29<br>x=%{x}<br>y=%{y}<br>z=%{z}\", \"hovertext\": [\"6\", \"5\", \"4\", \"3\", \"7\", \"8\", \"9\", null], \"ids\": [\"6\", \"5\", \"4\", \"3\", \"7\", \"8\", \"9\", null], \"legendgroup\": \"\", \"line\": {\"color\": \"#636efa\", \"dash\": \"solid\"}, \"mode\": \"lines\", \"name\": \"\", \"scene\": \"scene\", \"showlegend\": false, \"x\": [-0.5510805664167503, -0.5510805664167503, -0.5868598108243059, 0.0, -0.5749631006663771, -0.44962435282272223, -0.20095192064517706, -1.7347809486472956], \"y\": [2.2858169580971617, 1.4562553486577168, 0.5431048693445801, 0.0, -0.517261828552074, -1.406485216648701, -2.3355425331392943, -0.13728001496846756], \"z\": [0.9966947922199452, 0.38595244714601307, 0.4078299178858759, 0.0, 0.4197711850106891, 0.5271980321671238, 1.0245428965222148, -2.4967050823573875], \"type\": \"scatter3d\"}], \"name\": \"29\"}, {\"data\": [{\"hoverlabel\": {\"namelength\": 0}, \"hovertemplate\": \"<b>%{hovertext}</b><br><br>frame=30<br>x=%{x}<br>y=%{y}<br>z=%{z}<br>diff=%{marker.color}\", \"hovertext\": [\"6\", \"5\", \"4\", \"3\", \"7\", \"8\", \"9\", null], \"ids\": [\"6\", \"5\", \"4\", \"3\", \"7\", \"8\", \"9\", null], \"legendgroup\": \"\", \"marker\": {\"color\": [1.4575554929280086, 1.1809903994813105, 1.015906837177457, 0.0, 1.015906837177457, 1.1809903994813105, 1.4575554929280086, 0.0], \"coloraxis\": \"coloraxis\", \"symbol\": \"circle\"}, \"mode\": \"markers\", \"name\": \"\", \"scene\": \"scene\", \"showlegend\": false, \"x\": [-0.5371787927490578, -0.5351737292392942, -0.5928750013535967, 0.0, -0.5789286707190198, -0.4178106784678091, -0.16713318278050038, -1.7248447450322457], \"y\": [2.196302011627947, 1.4204315472832776, 0.5212273986047171, 0.0, -0.5172172715851904, -1.3666958452216185, -2.2519982202324855, -0.14124558502111073], \"z\": [1.1518867078756325, 0.483443090687398, 0.41380055144828254, 0.0, 0.4197711850106891, 0.6008061414588824, 1.183700382230545, -2.5026311589529113], \"type\": \"scatter3d\"}, {\"hoverlabel\": {\"namelength\": 0}, \"hovertemplate\": \"<b>%{hovertext}</b><br><br>frame=30<br>x=%{x}<br>y=%{y}<br>z=%{z}\", \"hovertext\": [\"6\", \"5\", \"4\", \"3\", \"7\", \"8\", \"9\", null], \"ids\": [\"6\", \"5\", \"4\", \"3\", \"7\", \"8\", \"9\", null], \"legendgroup\": \"\", \"line\": {\"color\": \"#636efa\", \"dash\": \"solid\"}, \"mode\": \"lines\", \"name\": \"\", \"scene\": \"scene\", \"showlegend\": false, \"x\": [-0.5371787927490578, -0.5351737292392942, -0.5928750013535967, 0.0, -0.5789286707190198, -0.4178106784678091, -0.16713318278050038, -1.7248447450322457], \"y\": [2.196302011627947, 1.4204315472832776, 0.5212273986047171, 0.0, -0.5172172715851904, -1.3666958452216185, -2.2519982202324855, -0.14124558502111073], \"z\": [1.1518867078756325, 0.483443090687398, 0.41380055144828254, 0.0, 0.4197711850106891, 0.6008061414588824, 1.183700382230545, -2.5026311589529113], \"type\": \"scatter3d\"}], \"name\": \"30\"}, {\"data\": [{\"hoverlabel\": {\"namelength\": 0}, \"hovertemplate\": \"<b>%{hovertext}</b><br><br>frame=31<br>x=%{x}<br>y=%{y}<br>z=%{z}<br>diff=%{marker.color}\", \"hovertext\": [\"6\", \"5\", \"4\", \"3\", \"7\", \"8\", \"9\", null], \"ids\": [\"6\", \"5\", \"4\", \"3\", \"7\", \"8\", \"9\", null], \"legendgroup\": \"\", \"marker\": {\"color\": [1.4914187877595677, 1.1969863505925333, 1.0278481043022691, 0.0, 1.0278481043022691, 1.1969863505925333, 1.4914187877595677, 0.0], \"coloraxis\": \"coloraxis\", \"symbol\": \"circle\"}, \"mode\": \"markers\", \"name\": \"\", \"scene\": \"scene\", \"showlegend\": false, \"x\": [-0.5192668920618372, -0.5192668920618372, -0.6028112049686456, 0.0, -0.5869043677911895, -0.39789371427082587, -0.1313093814060611, -1.7188741114698385], \"y\": [2.102776938139205, 1.384607745908838, 0.5053205614272609, 0.0, -0.5112911949896675, -1.328911537304299, -2.144571373076051, -0.14325064853087413], \"z\": [1.2950927994396229, 0.5510805664167501, 0.4098349813956393, 0.0, 0.41580561495804585, 0.6823899478228111, 1.3567596416065686, -2.510606856025081], \"type\": \"scatter3d\"}, {\"hoverlabel\": {\"namelength\": 0}, \"hovertemplate\": \"<b>%{hovertext}</b><br><br>frame=31<br>x=%{x}<br>y=%{y}<br>z=%{z}\", \"hovertext\": [\"6\", \"5\", \"4\", \"3\", \"7\", \"8\", \"9\", null], \"ids\": [\"6\", \"5\", \"4\", \"3\", \"7\", \"8\", \"9\", null], \"legendgroup\": \"\", \"line\": {\"color\": \"#636efa\", \"dash\": \"solid\"}, \"mode\": \"lines\", \"name\": \"\", \"scene\": \"scene\", \"showlegend\": false, \"x\": [-0.5192668920618372, -0.5192668920618372, -0.6028112049686456, 0.0, -0.5869043677911895, -0.39789371427082587, -0.1313093814060611, -1.7188741114698385], \"y\": [2.102776938139205, 1.384607745908838, 0.5053205614272609, 0.0, -0.5112911949896675, -1.328911537304299, -2.144571373076051, -0.14325064853087413], \"z\": [1.2950927994396229, 0.5510805664167501, 0.4098349813956393, 0.0, 0.41580561495804585, 0.6823899478228111, 1.3567596416065686, -2.510606856025081], \"type\": \"scatter3d\"}], \"name\": \"31\"}, {\"data\": [{\"hoverlabel\": {\"namelength\": 0}, \"hovertemplate\": \"<b>%{hovertext}</b><br><br>frame=32<br>x=%{x}<br>y=%{y}<br>z=%{z}<br>diff=%{marker.color}\", \"hovertext\": [\"6\", \"5\", \"4\", \"3\", \"7\", \"8\", \"9\", null], \"ids\": [\"6\", \"5\", \"4\", \"3\", \"7\", \"8\", \"9\", null], \"legendgroup\": \"\", \"marker\": {\"color\": [1.4873641037731575, 1.1670886258136166, 1.0298086108451492, 0.0, 1.0298086108451492, 1.1670886258136166, 1.4873641037731575, 0.0], \"coloraxis\": \"coloraxis\", \"symbol\": \"circle\"}, \"mode\": \"markers\", \"name\": \"\", \"scene\": \"scene\", \"showlegend\": false, \"x\": [-0.4814380271776343, -0.4913742307926841, -0.6087372815641682, 0.0, -0.5908699378438321, -0.38194232012648627, -0.10346127710379163, -1.7088933508879052], \"y\": [2.0073359150744667, 1.3547991350636888, 0.4933792943024477, 0.0, -0.5013104344077342, -1.2751758352426399, -2.0371445259196164, -0.14124558502111073], \"z\": [1.4124558502111075, 0.6147079151265753, 0.4078299178858759, 0.0, 0.40381979086634917, 0.7519879300950428, 1.4920345930652728, -2.520587616607014], \"type\": \"scatter3d\"}, {\"hoverlabel\": {\"namelength\": 0}, \"hovertemplate\": \"<b>%{hovertext}</b><br><br>frame=32<br>x=%{x}<br>y=%{y}<br>z=%{z}\", \"hovertext\": [\"6\", \"5\", \"4\", \"3\", \"7\", \"8\", \"9\", null], \"ids\": [\"6\", \"5\", \"4\", \"3\", \"7\", \"8\", \"9\", null], \"legendgroup\": \"\", \"line\": {\"color\": \"#636efa\", \"dash\": \"solid\"}, \"mode\": \"lines\", \"name\": \"\", \"scene\": \"scene\", \"showlegend\": false, \"x\": [-0.4814380271776343, -0.4913742307926841, -0.6087372815641682, 0.0, -0.5908699378438321, -0.38194232012648627, -0.10346127710379163, -1.7088933508879052], \"y\": [2.0073359150744667, 1.3547991350636888, 0.4933792943024477, 0.0, -0.5013104344077342, -1.2751758352426399, -2.0371445259196164, -0.14124558502111073], \"z\": [1.4124558502111075, 0.6147079151265753, 0.4078299178858759, 0.0, 0.40381979086634917, 0.7519879300950428, 1.4920345930652728, -2.520587616607014], \"type\": \"scatter3d\"}], \"name\": \"32\"}, {\"data\": [{\"hoverlabel\": {\"namelength\": 0}, \"hovertemplate\": \"<b>%{hovertext}</b><br><br>frame=33<br>x=%{x}<br>y=%{y}<br>z=%{z}<br>diff=%{marker.color}\", \"hovertext\": [\"6\", \"5\", \"4\", \"3\", \"7\", \"8\", \"9\", null], \"ids\": [\"6\", \"5\", \"4\", \"3\", \"7\", \"8\", \"9\", null], \"legendgroup\": \"\", \"marker\": {\"color\": [1.4476192893129582, 1.1272992543865339, 1.0298531678120328, 0.0, 1.0298531678120328, 1.1272992543865339, 1.4476192893129585, 0.0], \"coloraxis\": \"coloraxis\", \"symbol\": \"circle\"}, \"mode\": \"markers\", \"name\": \"\", \"scene\": \"scene\", \"showlegend\": false, \"x\": [-0.43567802218814516, -0.45755549292800846, -0.616712978636339, 0.0, -0.5988010779491194, -0.3660354829490302, -0.08354431290680839, -1.7009176538157353], \"y\": [1.876026533668406, 1.3070340665644362, 0.48540359723027776, 0.0, -0.49137423079268433, -1.205577852970408, -1.881952610263929, -0.14325064853087413], \"z\": [1.5516963717224548, 0.6843504543656908, 0.4058248543761125, 0.0, 0.3998542208137059, 0.8215859123672747, 1.6412558751585533, -2.526558250169421], \"type\": \"scatter3d\"}, {\"hoverlabel\": {\"namelength\": 0}, \"hovertemplate\": \"<b>%{hovertext}</b><br><br>frame=33<br>x=%{x}<br>y=%{y}<br>z=%{z}\", \"hovertext\": [\"6\", \"5\", \"4\", \"3\", \"7\", \"8\", \"9\", null], \"ids\": [\"6\", \"5\", \"4\", \"3\", \"7\", \"8\", \"9\", null], \"legendgroup\": \"\", \"line\": {\"color\": \"#636efa\", \"dash\": \"solid\"}, \"mode\": \"lines\", \"name\": \"\", \"scene\": \"scene\", \"showlegend\": false, \"x\": [-0.43567802218814516, -0.45755549292800846, -0.616712978636339, 0.0, -0.5988010779491194, -0.3660354829490302, -0.08354431290680839, -1.7009176538157353], \"y\": [1.876026533668406, 1.3070340665644362, 0.48540359723027776, 0.0, -0.49137423079268433, -1.205577852970408, -1.881952610263929, -0.14325064853087413], \"z\": [1.5516963717224548, 0.6843504543656908, 0.4058248543761125, 0.0, 0.3998542208137059, 0.8215859123672747, 1.6412558751585533, -2.526558250169421], \"type\": \"scatter3d\"}], \"name\": \"33\"}, {\"data\": [{\"hoverlabel\": {\"namelength\": 0}, \"hovertemplate\": \"<b>%{hovertext}</b><br><br>frame=34<br>x=%{x}<br>y=%{y}<br>z=%{z}<br>diff=%{marker.color}\", \"hovertext\": [\"6\", \"5\", \"4\", \"3\", \"7\", \"8\", \"9\", null], \"ids\": [\"6\", \"5\", \"4\", \"3\", \"7\", \"8\", \"9\", null], \"legendgroup\": \"\", \"marker\": {\"color\": [1.411840044905402, 1.0855493764165716, 1.0059706335624061, 0.0, 1.0059706335624061, 1.0855493764165716, 1.411840044905402, 0.0], \"coloraxis\": \"coloraxis\", \"symbol\": \"circle\"}, \"mode\": \"markers\", \"name\": \"\", \"scene\": \"scene\", \"showlegend\": false, \"x\": [-0.38795751065577605, -0.42177624852045276, -0.6206785486889816, 0.0, -0.6067767750212891, -0.35810434284374404, -0.05970633562406614, -1.692986513710449], \"y\": [1.7327313281706482, 1.2553034280125406, 0.48143802717763456, 0.0, -0.4715018235625848, -1.1379403772410561, -1.7168690479600754, -0.14525571204063753], \"z\": [1.6790401830758725, 0.751987930095043, 0.40185928432346935, 0.0, 0.3998542208137059, 0.8912284516063903, 1.7784913331601375, -2.5325288837318274], \"type\": \"scatter3d\"}, {\"hoverlabel\": {\"namelength\": 0}, \"hovertemplate\": \"<b>%{hovertext}</b><br><br>frame=34<br>x=%{x}<br>y=%{y}<br>z=%{z}\", \"hovertext\": [\"6\", \"5\", \"4\", \"3\", \"7\", \"8\", \"9\", null], \"ids\": [\"6\", \"5\", \"4\", \"3\", \"7\", \"8\", \"9\", null], \"legendgroup\": \"\", \"line\": {\"color\": \"#636efa\", \"dash\": \"solid\"}, \"mode\": \"lines\", \"name\": \"\", \"scene\": \"scene\", \"showlegend\": false, \"x\": [-0.38795751065577605, -0.42177624852045276, -0.6206785486889816, 0.0, -0.6067767750212891, -0.35810434284374404, -0.05970633562406614, -1.692986513710449], \"y\": [1.7327313281706482, 1.2553034280125406, 0.48143802717763456, 0.0, -0.4715018235625848, -1.1379403772410561, -1.7168690479600754, -0.14525571204063753], \"z\": [1.6790401830758725, 0.751987930095043, 0.40185928432346935, 0.0, 0.3998542208137059, 0.8912284516063903, 1.7784913331601375, -2.5325288837318274], \"type\": \"scatter3d\"}], \"name\": \"34\"}, {\"data\": [{\"hoverlabel\": {\"namelength\": 0}, \"hovertemplate\": \"<b>%{hovertext}</b><br><br>frame=35<br>x=%{x}<br>y=%{y}<br>z=%{z}<br>diff=%{marker.color}\", \"hovertext\": [\"6\", \"5\", \"4\", \"3\", \"7\", \"8\", \"9\", null], \"ids\": [\"6\", \"5\", \"4\", \"3\", \"7\", \"8\", \"9\", null], \"legendgroup\": \"\", \"marker\": {\"color\": [1.3799818135836066, 1.0517306385518959, 1.007931140105286, 0.0, 1.007931140105286, 1.0517306385518959, 1.3799818135836066, 0.0], \"coloraxis\": \"coloraxis\", \"symbol\": \"circle\"}, \"mode\": \"markers\", \"name\": \"\", \"scene\": \"scene\", \"showlegend\": false, \"x\": [-0.33622687210387975, -0.3919230807084187, -0.6266491822513878, 0.0, -0.6127474085836954, -0.34816813922869316, -0.04776506849925169, -1.6870158801480417], \"y\": [1.5656427023570314, 1.1836558252636613, 0.4734623301054646, 0.0, -0.4655311900001783, -1.0703029015117038, -1.5676477658667949, -0.15122634560304413], \"z\": [1.7864670302323074, 0.8216304693341584, 0.39388358725129935, 0.0, 0.3919230807084196, 0.942959090158286, 1.8759819767015224, -2.5364944537844702], \"type\": \"scatter3d\"}, {\"hoverlabel\": {\"namelength\": 0}, \"hovertemplate\": \"<b>%{hovertext}</b><br><br>frame=35<br>x=%{x}<br>y=%{y}<br>z=%{z}\", \"hovertext\": [\"6\", \"5\", \"4\", \"3\", \"7\", \"8\", \"9\", null], \"ids\": [\"6\", \"5\", \"4\", \"3\", \"7\", \"8\", \"9\", null], \"legendgroup\": \"\", \"line\": {\"color\": \"#636efa\", \"dash\": \"solid\"}, \"mode\": \"lines\", \"name\": \"\", \"scene\": \"scene\", \"showlegend\": false, \"x\": [-0.33622687210387975, -0.3919230807084187, -0.6266491822513878, 0.0, -0.6127474085836954, -0.34816813922869316, -0.04776506849925169, -1.6870158801480417], \"y\": [1.5656427023570314, 1.1836558252636613, 0.4734623301054646, 0.0, -0.4655311900001783, -1.0703029015117038, -1.5676477658667949, -0.15122634560304413], \"z\": [1.7864670302323074, 0.8216304693341584, 0.39388358725129935, 0.0, 0.3919230807084196, 0.942959090158286, 1.8759819767015224, -2.5364944537844702], \"type\": \"scatter3d\"}], \"name\": \"35\"}, {\"data\": [{\"hoverlabel\": {\"namelength\": 0}, \"hovertemplate\": \"<b>%{hovertext}</b><br><br>frame=36<br>x=%{x}<br>y=%{y}<br>z=%{z}<br>diff=%{marker.color}\", \"hovertext\": [\"6\", \"5\", \"4\", \"3\", \"7\", \"8\", \"9\", null], \"ids\": [\"6\", \"5\", \"4\", \"3\", \"7\", \"8\", \"9\", null], \"legendgroup\": \"\", \"marker\": {\"color\": [1.3780213070407261, 1.053735702061659, 1.0199169641969827, 0.0, 1.0199169641969827, 1.053735702061659, 1.3780213070407261, 0.0], \"coloraxis\": \"coloraxis\", \"symbol\": \"circle\"}, \"mode\": \"markers\", \"name\": \"\", \"scene\": \"scene\", \"showlegend\": false, \"x\": [-0.28053066349934186, -0.3560992793339804, -0.6326643727806787, 0.0, -0.616712978636339, -0.32428560497906833, -0.01791190068722065, -1.677079676532993], \"y\": [1.4025196465960577, 1.1180234130440727, 0.46352612649041486, 0.0, -0.4655311900001783, -1.0205773264695717, -1.4224366107930408, -0.1551919156556873], \"z\": [1.8700559001059993, 0.8673904743236476, 0.3919230807084196, 0.0, 0.3899625741655398, 0.9867585886048955, 1.965541480137621, -2.544425593889757], \"type\": \"scatter3d\"}, {\"hoverlabel\": {\"namelength\": 0}, \"hovertemplate\": \"<b>%{hovertext}</b><br><br>frame=36<br>x=%{x}<br>y=%{y}<br>z=%{z}\", \"hovertext\": [\"6\", \"5\", \"4\", \"3\", \"7\", \"8\", \"9\", null], \"ids\": [\"6\", \"5\", \"4\", \"3\", \"7\", \"8\", \"9\", null], \"legendgroup\": \"\", \"line\": {\"color\": \"#636efa\", \"dash\": \"solid\"}, \"mode\": \"lines\", \"name\": \"\", \"scene\": \"scene\", \"showlegend\": false, \"x\": [-0.28053066349934186, -0.3560992793339804, -0.6326643727806787, 0.0, -0.616712978636339, -0.32428560497906833, -0.01791190068722065, -1.677079676532993], \"y\": [1.4025196465960577, 1.1180234130440727, 0.46352612649041486, 0.0, -0.4655311900001783, -1.0205773264695717, -1.4224366107930408, -0.1551919156556873], \"z\": [1.8700559001059993, 0.8673904743236476, 0.3919230807084196, 0.0, 0.3899625741655398, 0.9867585886048955, 1.965541480137621, -2.544425593889757], \"type\": \"scatter3d\"}], \"name\": \"36\"}, {\"data\": [{\"hoverlabel\": {\"namelength\": 0}, \"hovertemplate\": \"<b>%{hovertext}</b><br><br>frame=37<br>x=%{x}<br>y=%{y}<br>z=%{z}<br>diff=%{marker.color}\", \"hovertext\": [\"6\", \"5\", \"4\", \"3\", \"7\", \"8\", \"9\", null], \"ids\": [\"6\", \"5\", \"4\", \"3\", \"7\", \"8\", \"9\", null], \"legendgroup\": \"\", \"marker\": {\"color\": [1.3521337092813386, 1.023837977282743, 1.025798483825622, 0.0, 1.025798483825622, 1.023837977282743, 1.3521337092813386, 0.0], \"coloraxis\": \"coloraxis\", \"symbol\": \"circle\"}, \"mode\": \"markers\", \"name\": \"\", \"scene\": \"scene\", \"showlegend\": false, \"x\": [-0.23076053149032655, -0.31827041444977755, -0.634580322356675, 0.0, -0.6206785486889826, -0.3063291473249641, 0.009980760581933416, -1.6670989159510596], \"y\": [1.2692497586471168, 1.0643322679492973, 0.4575554929280083, 0.0, -0.46152106298065143, -0.9608709908455058, -1.2891221658772167, -0.1492212820932807], \"z\": [1.927712615253418, 0.9032142756980871, 0.39588865076106283, 0.0, 0.38795751065577644, 1.0185722629598082, 2.0192326252323967, -2.54643065739952], \"type\": \"scatter3d\"}, {\"hoverlabel\": {\"namelength\": 0}, \"hovertemplate\": \"<b>%{hovertext}</b><br><br>frame=37<br>x=%{x}<br>y=%{y}<br>z=%{z}\", \"hovertext\": [\"6\", \"5\", \"4\", \"3\", \"7\", \"8\", \"9\", null], \"ids\": [\"6\", \"5\", \"4\", \"3\", \"7\", \"8\", \"9\", null], \"legendgroup\": \"\", \"line\": {\"color\": \"#636efa\", \"dash\": \"solid\"}, \"mode\": \"lines\", \"name\": \"\", \"scene\": \"scene\", \"showlegend\": false, \"x\": [-0.23076053149032655, -0.31827041444977755, -0.634580322356675, 0.0, -0.6206785486889826, -0.3063291473249641, 0.009980760581933416, -1.6670989159510596], \"y\": [1.2692497586471168, 1.0643322679492973, 0.4575554929280083, 0.0, -0.46152106298065143, -0.9608709908455058, -1.2891221658772167, -0.1492212820932807], \"z\": [1.927712615253418, 0.9032142756980871, 0.39588865076106283, 0.0, 0.38795751065577644, 1.0185722629598082, 2.0192326252323967, -2.54643065739952], \"type\": \"scatter3d\"}], \"name\": \"37\"}, {\"data\": [{\"hoverlabel\": {\"namelength\": 0}, \"hovertemplate\": \"<b>%{hovertext}</b><br><br>frame=38<br>x=%{x}<br>y=%{y}<br>z=%{z}<br>diff=%{marker.color}\", \"hovertext\": [\"6\", \"5\", \"4\", \"3\", \"7\", \"8\", \"9\", null], \"ids\": [\"6\", \"5\", \"4\", \"3\", \"7\", \"8\", \"9\", null], \"legendgroup\": \"\", \"marker\": {\"color\": [1.348168139228693, 1.0020050635097635, 1.0258875977593898, 0.0, 1.0258875977593898, 1.0020050635097637, 1.348168139228693, 0.0], \"coloraxis\": \"coloraxis\", \"symbol\": \"circle\"}, \"mode\": \"markers\", \"name\": \"\", \"scene\": \"scene\", \"showlegend\": false, \"x\": [-0.19694179362564884, -0.29839800721967685, -0.6346248793235576, 0.0, -0.6246886757085078, -0.28846180360462703, 0.04972557504213272, -1.661172839355536], \"y\": [1.1478765808561058, 1.0225378330124513, 0.4515848593656018, 0.0, -0.46352612649041486, -0.9091849092604937, -1.1638279750004457, -0.14525571204063753], \"z\": [1.9675019866805008, 0.9230866829281865, 0.3899180171986562, 0.0, 0.3859078901791294, 1.0285084665748578, 2.0530513630970724, -2.55440635447169], \"type\": \"scatter3d\"}, {\"hoverlabel\": {\"namelength\": 0}, \"hovertemplate\": \"<b>%{hovertext}</b><br><br>frame=38<br>x=%{x}<br>y=%{y}<br>z=%{z}\", \"hovertext\": [\"6\", \"5\", \"4\", \"3\", \"7\", \"8\", \"9\", null], \"ids\": [\"6\", \"5\", \"4\", \"3\", \"7\", \"8\", \"9\", null], \"legendgroup\": \"\", \"line\": {\"color\": \"#636efa\", \"dash\": \"solid\"}, \"mode\": \"lines\", \"name\": \"\", \"scene\": \"scene\", \"showlegend\": false, \"x\": [-0.19694179362564884, -0.29839800721967685, -0.6346248793235576, 0.0, -0.6246886757085078, -0.28846180360462703, 0.04972557504213272, -1.661172839355536], \"y\": [1.1478765808561058, 1.0225378330124513, 0.4515848593656018, 0.0, -0.46352612649041486, -0.9091849092604937, -1.1638279750004457, -0.14525571204063753], \"z\": [1.9675019866805008, 0.9230866829281865, 0.3899180171986562, 0.0, 0.3859078901791294, 1.0285084665748578, 2.0530513630970724, -2.55440635447169], \"type\": \"scatter3d\"}], \"name\": \"38\"}, {\"data\": [{\"hoverlabel\": {\"namelength\": 0}, \"hovertemplate\": \"<b>%{hovertext}</b><br><br>frame=39<br>x=%{x}<br>y=%{y}<br>z=%{z}<br>diff=%{marker.color}\", \"hovertext\": [\"6\", \"5\", \"4\", \"3\", \"7\", \"8\", \"9\", null], \"ids\": [\"6\", \"5\", \"4\", \"3\", \"7\", \"8\", \"9\", null], \"legendgroup\": \"\", \"marker\": {\"color\": [1.3381428216798776, 0.9979949364902367, 1.0218329137729794, 0.0, 1.0218329137729794, 0.9979949364902367, 1.3381428216798776, 0.0], \"coloraxis\": \"coloraxis\", \"symbol\": \"circle\"}, \"mode\": \"markers\", \"name\": \"\", \"scene\": \"scene\", \"showlegend\": false, \"x\": [-0.16708862581361678, -0.28249117004222085, -0.6365853858664376, 0.0, -0.6266491822513878, -0.2804861065324572, 0.06964253923911597, -1.6531971422833662], \"y\": [1.0743130285312306, 0.992729222167302, 0.4555949863851285, 0.0, -0.4575554929280083, -0.8812922479913405, -1.0901753087418034, -0.14124558502111073], \"z\": [1.9854138873677203, 0.938993520105643, 0.3899180171986562, 0.0, 0.37998181358360644, 1.0464203672620775, 2.0709632637842925, -2.5583719245243333], \"type\": \"scatter3d\"}, {\"hoverlabel\": {\"namelength\": 0}, \"hovertemplate\": \"<b>%{hovertext}</b><br><br>frame=39<br>x=%{x}<br>y=%{y}<br>z=%{z}\", \"hovertext\": [\"6\", \"5\", \"4\", \"3\", \"7\", \"8\", \"9\", null], \"ids\": [\"6\", \"5\", \"4\", \"3\", \"7\", \"8\", \"9\", null], \"legendgroup\": \"\", \"line\": {\"color\": \"#636efa\", \"dash\": \"solid\"}, \"mode\": \"lines\", \"name\": \"\", \"scene\": \"scene\", \"showlegend\": false, \"x\": [-0.16708862581361678, -0.28249117004222085, -0.6365853858664376, 0.0, -0.6266491822513878, -0.2804861065324572, 0.06964253923911597, -1.6531971422833662], \"y\": [1.0743130285312306, 0.992729222167302, 0.4555949863851285, 0.0, -0.4575554929280083, -0.8812922479913405, -1.0901753087418034, -0.14124558502111073], \"z\": [1.9854138873677203, 0.938993520105643, 0.3899180171986562, 0.0, 0.37998181358360644, 1.0464203672620775, 2.0709632637842925, -2.5583719245243333], \"type\": \"scatter3d\"}], \"name\": \"39\"}, {\"data\": [{\"hoverlabel\": {\"namelength\": 0}, \"hovertemplate\": \"<b>%{hovertext}</b><br><br>frame=40<br>x=%{x}<br>y=%{y}<br>z=%{z}<br>diff=%{marker.color}\", \"hovertext\": [\"6\", \"5\", \"4\", \"3\", \"7\", \"8\", \"9\", null], \"ids\": [\"6\", \"5\", \"4\", \"3\", \"7\", \"8\", \"9\", null], \"legendgroup\": \"\", \"marker\": {\"color\": [1.3282511750317103, 1.0040101270195265, 1.0139908876014598, 0.0, 1.0139908876014598, 1.0040101270195265, 1.3282511750317103, 0.0], \"coloraxis\": \"coloraxis\", \"symbol\": \"circle\"}, \"mode\": \"markers\", \"name\": \"\", \"scene\": \"scene\", \"showlegend\": false, \"x\": [-0.14521115507375354, -0.2625742058452386, -0.6405955128859648, 0.0, -0.6346248793235586, -0.2785255999895782, 0.07761823631128577, -1.6472265087209599], \"y\": [0.972812257970319, 0.958910484302626, 0.45158485936560167, 0.0, -0.44962435282272195, -0.8395423700213781, -0.9946897287101817, -0.14325064853087413], \"z\": [2.0113014851271105, 0.9409985836154063, 0.3879575106557764, 0.0, 0.37797675007384307, 1.048425430771841, 2.094845798033919, -2.562337494576976], \"type\": \"scatter3d\"}, {\"hoverlabel\": {\"namelength\": 0}, \"hovertemplate\": \"<b>%{hovertext}</b><br><br>frame=40<br>x=%{x}<br>y=%{y}<br>z=%{z}\", \"hovertext\": [\"6\", \"5\", \"4\", \"3\", \"7\", \"8\", \"9\", null], \"ids\": [\"6\", \"5\", \"4\", \"3\", \"7\", \"8\", \"9\", null], \"legendgroup\": \"\", \"line\": {\"color\": \"#636efa\", \"dash\": \"solid\"}, \"mode\": \"lines\", \"name\": \"\", \"scene\": \"scene\", \"showlegend\": false, \"x\": [-0.14521115507375354, -0.2625742058452386, -0.6405955128859648, 0.0, -0.6346248793235586, -0.2785255999895782, 0.07761823631128577, -1.6472265087209599], \"y\": [0.972812257970319, 0.958910484302626, 0.45158485936560167, 0.0, -0.44962435282272195, -0.8395423700213781, -0.9946897287101817, -0.14325064853087413], \"z\": [2.0113014851271105, 0.9409985836154063, 0.3879575106557764, 0.0, 0.37797675007384307, 1.048425430771841, 2.094845798033919, -2.562337494576976], \"type\": \"scatter3d\"}], \"name\": \"40\"}, {\"data\": [{\"hoverlabel\": {\"namelength\": 0}, \"hovertemplate\": \"<b>%{hovertext}</b><br><br>frame=41<br>x=%{x}<br>y=%{y}<br>z=%{z}<br>diff=%{marker.color}\", \"hovertext\": [\"6\", \"5\", \"4\", \"3\", \"7\", \"8\", \"9\", null], \"ids\": [\"6\", \"5\", \"4\", \"3\", \"7\", \"8\", \"9\", null], \"legendgroup\": \"\", \"marker\": {\"color\": [1.3421529486994035, 1.0258875977593895, 1.0079756970721703, 0.0, 1.00797569707217, 1.0258875977593898, 1.3421529486994033, 0.0], \"coloraxis\": \"coloraxis\", \"symbol\": \"circle\"}, \"mode\": \"markers\", \"name\": \"\", \"scene\": \"scene\", \"showlegend\": false, \"x\": [-0.12132862082412768, -0.2526380022301888, -0.6425560194288449, 0.0, -0.6405509559190813, -0.28048610653245826, 0.07164760274887855, -1.6412558751585538], \"y\": [0.883297311501104, 0.931017823033473, 0.4476192893129586, 0.0, -0.4476192893129585, -0.8156598357717518, -0.9310178230334728, -0.1492212820932807], \"z\": [2.017227561722633, 0.9489297237206926, 0.3799372566167228, 0.0, 0.3739666230543162, 1.062327204439534, 2.1186837753166614, -2.566347621596503], \"type\": \"scatter3d\"}, {\"hoverlabel\": {\"namelength\": 0}, \"hovertemplate\": \"<b>%{hovertext}</b><br><br>frame=41<br>x=%{x}<br>y=%{y}<br>z=%{z}\", \"hovertext\": [\"6\", \"5\", \"4\", \"3\", \"7\", \"8\", \"9\", null], \"ids\": [\"6\", \"5\", \"4\", \"3\", \"7\", \"8\", \"9\", null], \"legendgroup\": \"\", \"line\": {\"color\": \"#636efa\", \"dash\": \"solid\"}, \"mode\": \"lines\", \"name\": \"\", \"scene\": \"scene\", \"showlegend\": false, \"x\": [-0.12132862082412768, -0.2526380022301888, -0.6425560194288449, 0.0, -0.6405509559190813, -0.28048610653245826, 0.07164760274887855, -1.6412558751585538], \"y\": [0.883297311501104, 0.931017823033473, 0.4476192893129586, 0.0, -0.4476192893129585, -0.8156598357717518, -0.9310178230334728, -0.1492212820932807], \"z\": [2.017227561722633, 0.9489297237206926, 0.3799372566167228, 0.0, 0.3739666230543162, 1.062327204439534, 2.1186837753166614, -2.566347621596503], \"type\": \"scatter3d\"}], \"name\": \"41\"}, {\"data\": [{\"hoverlabel\": {\"namelength\": 0}, \"hovertemplate\": \"<b>%{hovertext}</b><br><br>frame=42<br>x=%{x}<br>y=%{y}<br>z=%{z}<br>diff=%{marker.color}\", \"hovertext\": [\"6\", \"5\", \"4\", \"3\", \"7\", \"8\", \"9\", null], \"ids\": [\"6\", \"5\", \"4\", \"3\", \"7\", \"8\", \"9\", null], \"legendgroup\": \"\", \"marker\": {\"color\": [1.3441580122091665, 1.0218774707398623, 1.013901773667692, 0.0, 1.013901773667692, 1.0218774707398626, 1.3441580122091665, 0.0], \"coloraxis\": \"coloraxis\", \"symbol\": \"circle\"}, \"mode\": \"markers\", \"name\": \"\", \"scene\": \"scene\", \"showlegend\": false, \"x\": [-0.10346127710379062, -0.24074129207225894, -0.6426005763957274, 0.0, -0.6405955128859648, -0.27255496642717103, 0.07957874285416579, -1.6333247350532665], \"y\": [0.8116942657191087, 0.9151109858560166, 0.4476192893129586, 0.0, -0.4456142258031951, -0.7917773015221256, -0.8713560443762908, -0.1492212820932807], \"z\": [2.02123768874216, 0.950934787230456, 0.3819423201264862, 0.0, 0.3680405464587933, 1.0643322679492973, 2.122693902336188, -2.570313191649146], \"type\": \"scatter3d\"}, {\"hoverlabel\": {\"namelength\": 0}, \"hovertemplate\": \"<b>%{hovertext}</b><br><br>frame=42<br>x=%{x}<br>y=%{y}<br>z=%{z}\", \"hovertext\": [\"6\", \"5\", \"4\", \"3\", \"7\", \"8\", \"9\", null], \"ids\": [\"6\", \"5\", \"4\", \"3\", \"7\", \"8\", \"9\", null], \"legendgroup\": \"\", \"line\": {\"color\": \"#636efa\", \"dash\": \"solid\"}, \"mode\": \"lines\", \"name\": \"\", \"scene\": \"scene\", \"showlegend\": false, \"x\": [-0.10346127710379062, -0.24074129207225894, -0.6426005763957274, 0.0, -0.6405955128859648, -0.27255496642717103, 0.07957874285416579, -1.6333247350532665], \"y\": [0.8116942657191087, 0.9151109858560166, 0.4476192893129586, 0.0, -0.4456142258031951, -0.7917773015221256, -0.8713560443762908, -0.1492212820932807], \"z\": [2.02123768874216, 0.950934787230456, 0.3819423201264862, 0.0, 0.3680405464587933, 1.0643322679492973, 2.122693902336188, -2.570313191649146], \"type\": \"scatter3d\"}], \"name\": \"42\"}, {\"data\": [{\"hoverlabel\": {\"namelength\": 0}, \"hovertemplate\": \"<b>%{hovertext}</b><br><br>frame=43<br>x=%{x}<br>y=%{y}<br>z=%{z}<br>diff=%{marker.color}\", \"hovertext\": [\"6\", \"5\", \"4\", \"3\", \"7\", \"8\", \"9\", null], \"ids\": [\"6\", \"5\", \"4\", \"3\", \"7\", \"8\", \"9\", null], \"legendgroup\": \"\", \"marker\": {\"color\": [1.3541387727911005, 1.033907851798443, 1.00797569707217, 0.0, 1.00797569707217, 1.033907851798443, 1.3541387727911005, 0.0], \"coloraxis\": \"coloraxis\", \"symbol\": \"circle\"}, \"mode\": \"markers\", \"name\": \"\", \"scene\": \"scene\", \"showlegend\": false, \"x\": [-0.08550481944968841, -0.22675040447079933, -0.6425560194288449, 0.0, -0.6425560194288449, -0.27054990291740844, 0.09749064354138441, -1.6293146080337404], \"y\": [0.72213476228301, 0.879287184481577, 0.4476192893129585, 0.0, -0.4436537192603153, -0.7659342607296195, -0.7798805913641961, -0.15122634560304413], \"z\": [2.023242752251923, 0.9608709908455058, 0.3779767500738431, 0.0, 0.36603548294902993, 1.0643322679492973, 2.1366402329707648, -2.5742787617017897], \"type\": \"scatter3d\"}, {\"hoverlabel\": {\"namelength\": 0}, \"hovertemplate\": \"<b>%{hovertext}</b><br><br>frame=43<br>x=%{x}<br>y=%{y}<br>z=%{z}\", \"hovertext\": [\"6\", \"5\", \"4\", \"3\", \"7\", \"8\", \"9\", null], \"ids\": [\"6\", \"5\", \"4\", \"3\", \"7\", \"8\", \"9\", null], \"legendgroup\": \"\", \"line\": {\"color\": \"#636efa\", \"dash\": \"solid\"}, \"mode\": \"lines\", \"name\": \"\", \"scene\": \"scene\", \"showlegend\": false, \"x\": [-0.08550481944968841, -0.22675040447079933, -0.6425560194288449, 0.0, -0.6425560194288449, -0.27054990291740844, 0.09749064354138441, -1.6293146080337404], \"y\": [0.72213476228301, 0.879287184481577, 0.4476192893129585, 0.0, -0.4436537192603153, -0.7659342607296195, -0.7798805913641961, -0.15122634560304413], \"z\": [2.023242752251923, 0.9608709908455058, 0.3779767500738431, 0.0, 0.36603548294902993, 1.0643322679492973, 2.1366402329707648, -2.5742787617017897], \"type\": \"scatter3d\"}], \"name\": \"43\"}, {\"data\": [{\"hoverlabel\": {\"namelength\": 0}, \"hovertemplate\": \"<b>%{hovertext}</b><br><br>frame=44<br>x=%{x}<br>y=%{y}<br>z=%{z}<br>diff=%{marker.color}\", \"hovertext\": [\"6\", \"5\", \"4\", \"3\", \"7\", \"8\", \"9\", null], \"ids\": [\"6\", \"5\", \"4\", \"3\", \"7\", \"8\", \"9\", null], \"legendgroup\": \"\", \"marker\": {\"color\": [1.3500840888046906, 1.027803547335385, 1.017867343720336, 0.0, 1.017867343720336, 1.027803547335385, 1.3500840888046908, 0.0], \"coloraxis\": \"coloraxis\", \"symbol\": \"circle\"}, \"mode\": \"markers\", \"name\": \"\", \"scene\": \"scene\", \"showlegend\": false, \"x\": [-0.06362734870982616, -0.2108435672933433, -0.6405509559190823, 0.0, -0.6405509559190823, -0.260569142335475, 0.11740760773836766, -1.623343974471334], \"y\": [0.6684436171882344, 0.8693955378334111, 0.4436537192603153, 0.0, -0.4456142258031951, -0.7460172965326364, -0.7320709658980599, -0.14721621858351733], \"z\": [2.03117389235721, 0.964836560898149, 0.37797675007384307, 0.0, 0.36206991289638674, 1.066292774492177, 2.136595676003881, -2.576283825211553], \"type\": \"scatter3d\"}, {\"hoverlabel\": {\"namelength\": 0}, \"hovertemplate\": \"<b>%{hovertext}</b><br><br>frame=44<br>x=%{x}<br>y=%{y}<br>z=%{z}\", \"hovertext\": [\"6\", \"5\", \"4\", \"3\", \"7\", \"8\", \"9\", null], \"ids\": [\"6\", \"5\", \"4\", \"3\", \"7\", \"8\", \"9\", null], \"legendgroup\": \"\", \"line\": {\"color\": \"#636efa\", \"dash\": \"solid\"}, \"mode\": \"lines\", \"name\": \"\", \"scene\": \"scene\", \"showlegend\": false, \"x\": [-0.06362734870982616, -0.2108435672933433, -0.6405509559190823, 0.0, -0.6405509559190823, -0.260569142335475, 0.11740760773836766, -1.623343974471334], \"y\": [0.6684436171882344, 0.8693955378334111, 0.4436537192603153, 0.0, -0.4456142258031951, -0.7460172965326364, -0.7320709658980599, -0.14721621858351733], \"z\": [2.03117389235721, 0.964836560898149, 0.37797675007384307, 0.0, 0.36206991289638674, 1.066292774492177, 2.136595676003881, -2.576283825211553], \"type\": \"scatter3d\"}], \"name\": \"44\"}, {\"data\": [{\"hoverlabel\": {\"namelength\": 0}, \"hovertemplate\": \"<b>%{hovertext}</b><br><br>frame=45<br>x=%{x}<br>y=%{y}<br>z=%{z}<br>diff=%{marker.color}\", \"hovertext\": [\"6\", \"5\", \"4\", \"3\", \"7\", \"8\", \"9\", null], \"ids\": [\"6\", \"5\", \"4\", \"3\", \"7\", \"8\", \"9\", null], \"legendgroup\": \"\", \"marker\": {\"color\": [1.3421083917325196, 1.0198724072300998, 1.0198724072300998, 0.0, 1.0198724072300995, 1.0198724072300998, 1.3421083917325196, 0.0], \"coloraxis\": \"coloraxis\", \"symbol\": \"circle\"}, \"mode\": \"markers\", \"name\": \"\", \"scene\": \"scene\", \"showlegend\": false, \"x\": [-0.04972557504213272, -0.20692255420758326, -0.6405955128859648, 0.0, -0.6426005763957284, -0.256648129249716, 0.12333368433389028, -1.621383467928454], \"y\": [0.6366299428333219, 0.8554492071988345, 0.4436537192603153, 0.0, -0.441648655750552, -0.7301104593551799, -0.7002572915431472, -0.14325064853087413], \"z\": [2.0292133858143298, 0.9648811178650326, 0.37797675007384307, 0.0, 0.3581043428437436, 1.0603666978966542, 2.134635169461001, -2.580249395264196], \"type\": \"scatter3d\"}, {\"hoverlabel\": {\"namelength\": 0}, \"hovertemplate\": \"<b>%{hovertext}</b><br><br>frame=45<br>x=%{x}<br>y=%{y}<br>z=%{z}\", \"hovertext\": [\"6\", \"5\", \"4\", \"3\", \"7\", \"8\", \"9\", null], \"ids\": [\"6\", \"5\", \"4\", \"3\", \"7\", \"8\", \"9\", null], \"legendgroup\": \"\", \"line\": {\"color\": \"#636efa\", \"dash\": \"solid\"}, \"mode\": \"lines\", \"name\": \"\", \"scene\": \"scene\", \"showlegend\": false, \"x\": [-0.04972557504213272, -0.20692255420758326, -0.6405955128859648, 0.0, -0.6426005763957284, -0.256648129249716, 0.12333368433389028, -1.621383467928454], \"y\": [0.6366299428333219, 0.8554492071988345, 0.4436537192603153, 0.0, -0.441648655750552, -0.7301104593551799, -0.7002572915431472, -0.14325064853087413], \"z\": [2.0292133858143298, 0.9648811178650326, 0.37797675007384307, 0.0, 0.3581043428437436, 1.0603666978966542, 2.134635169461001, -2.580249395264196], \"type\": \"scatter3d\"}], \"name\": \"45\"}, {\"data\": [{\"hoverlabel\": {\"namelength\": 0}, \"hovertemplate\": \"<b>%{hovertext}</b><br><br>frame=46<br>x=%{x}<br>y=%{y}<br>z=%{z}<br>diff=%{marker.color}\", \"hovertext\": [\"6\", \"5\", \"4\", \"3\", \"7\", \"8\", \"9\", null], \"ids\": [\"6\", \"5\", \"4\", \"3\", \"7\", \"8\", \"9\", null], \"legendgroup\": \"\", \"marker\": {\"color\": [1.334177251627234, 1.025798483825623, 1.0278481043022702, 0.0, 1.0278481043022702, 1.025798483825623, 1.3341772516272339, 0.0], \"coloraxis\": \"coloraxis\", \"symbol\": \"circle\"}, \"mode\": \"markers\", \"name\": \"\", \"scene\": \"scene\", \"showlegend\": false, \"x\": [-0.035823801374439274, -0.19694179362564884, -0.6346248793235576, 0.0, -0.6405955128859648, -0.25067749568730874, 0.14124558502111093, -1.6154128343660468], \"y\": [0.6207231056558655, 0.8475180670935482, 0.4416486557505519, 0.0, -0.44561422580319515, -0.7261003323356533, -0.6704041237311144, -0.14124558502111073], \"z\": [2.025203258794803, 0.9688466879176757, 0.37597168656407964, 0.0, 0.35805978587685994, 1.0623272044395338, 2.132630105951238, -2.5802493952641963], \"type\": \"scatter3d\"}, {\"hoverlabel\": {\"namelength\": 0}, \"hovertemplate\": \"<b>%{hovertext}</b><br><br>frame=46<br>x=%{x}<br>y=%{y}<br>z=%{z}\", \"hovertext\": [\"6\", \"5\", \"4\", \"3\", \"7\", \"8\", \"9\", null], \"ids\": [\"6\", \"5\", \"4\", \"3\", \"7\", \"8\", \"9\", null], \"legendgroup\": \"\", \"line\": {\"color\": \"#636efa\", \"dash\": \"solid\"}, \"mode\": \"lines\", \"name\": \"\", \"scene\": \"scene\", \"showlegend\": false, \"x\": [-0.035823801374439274, -0.19694179362564884, -0.6346248793235576, 0.0, -0.6405955128859648, -0.25067749568730874, 0.14124558502111093, -1.6154128343660468], \"y\": [0.6207231056558655, 0.8475180670935482, 0.4416486557505519, 0.0, -0.44561422580319515, -0.7261003323356533, -0.6704041237311144, -0.14124558502111073], \"z\": [2.025203258794803, 0.9688466879176757, 0.37597168656407964, 0.0, 0.35805978587685994, 1.0623272044395338, 2.132630105951238, -2.5802493952641963], \"type\": \"scatter3d\"}], \"name\": \"46\"}, {\"data\": [{\"hoverlabel\": {\"namelength\": 0}, \"hovertemplate\": \"<b>%{hovertext}</b><br><br>frame=47<br>x=%{x}<br>y=%{y}<br>z=%{z}<br>diff=%{marker.color}\", \"hovertext\": [\"6\", \"5\", \"4\", \"3\", \"7\", \"8\", \"9\", null], \"ids\": [\"6\", \"5\", \"4\", \"3\", \"7\", \"8\", \"9\", null], \"legendgroup\": \"\", \"marker\": {\"color\": [1.3063737042918482, 1.029853167812033, 1.0398339283939664, 0.0, 1.0398339283939664, 1.029853167812033, 1.3063737042918482, 0.0], \"coloraxis\": \"coloraxis\", \"symbol\": \"circle\"}, \"mode\": \"markers\", \"name\": \"\", \"scene\": \"scene\", \"showlegend\": false, \"x\": [-0.027848104302269465, -0.19097116006324263, -0.6346248793235576, 0.0, -0.6445610829386075, -0.24867243217754517, 0.14521115507375454, -1.6154128343660468], \"y\": [0.606776775021289, 0.8394978130544944, 0.4396435922407885, 0.0, -0.4456587827700788, -0.7201742557401303, -0.6366299428333219, -0.13928507847823096], \"z\": [2.02123768874216, 0.966886181374796, 0.3780213070407267, 0.0, 0.3541387727911004, 1.0583616343868907, 2.124698965845951, -2.584214965316839], \"type\": \"scatter3d\"}, {\"hoverlabel\": {\"namelength\": 0}, \"hovertemplate\": \"<b>%{hovertext}</b><br><br>frame=47<br>x=%{x}<br>y=%{y}<br>z=%{z}\", \"hovertext\": [\"6\", \"5\", \"4\", \"3\", \"7\", \"8\", \"9\", null], \"ids\": [\"6\", \"5\", \"4\", \"3\", \"7\", \"8\", \"9\", null], \"legendgroup\": \"\", \"line\": {\"color\": \"#636efa\", \"dash\": \"solid\"}, \"mode\": \"lines\", \"name\": \"\", \"scene\": \"scene\", \"showlegend\": false, \"x\": [-0.027848104302269465, -0.19097116006324263, -0.6346248793235576, 0.0, -0.6445610829386075, -0.24867243217754517, 0.14521115507375454, -1.6154128343660468], \"y\": [0.606776775021289, 0.8394978130544944, 0.4396435922407885, 0.0, -0.4456587827700788, -0.7201742557401303, -0.6366299428333219, -0.13928507847823096], \"z\": [2.02123768874216, 0.966886181374796, 0.3780213070407267, 0.0, 0.3541387727911004, 1.0583616343868907, 2.124698965845951, -2.584214965316839], \"type\": \"scatter3d\"}], \"name\": \"47\"}, {\"data\": [{\"hoverlabel\": {\"namelength\": 0}, \"hovertemplate\": \"<b>%{hovertext}</b><br><br>frame=48<br>x=%{x}<br>y=%{y}<br>z=%{z}<br>diff=%{marker.color}\", \"hovertext\": [\"6\", \"5\", \"4\", \"3\", \"7\", \"8\", \"9\", null], \"ids\": [\"6\", \"5\", \"4\", \"3\", \"7\", \"8\", \"9\", null], \"legendgroup\": \"\", \"marker\": {\"color\": [1.2944324371670344, 1.031858231321796, 1.0398339283939664, 0.0, 1.0398339283939662, 1.031858231321796, 1.2944324371670344, 0.0], \"coloraxis\": \"coloraxis\", \"symbol\": \"circle\"}, \"mode\": \"markers\", \"name\": \"\", \"scene\": \"scene\", \"showlegend\": false, \"x\": [-0.019872407230099653, -0.18896609655348004, -0.6346248793235586, 0.0, -0.6445610829386085, -0.24470686212490256, 0.15519191565568694, -1.6134077708562842], \"y\": [0.606776775021289, 0.8375373065116147, 0.4396435922407885, 0.0, -0.4476192893129586, -0.7201742557401303, -0.6226836121987454, -0.13928507847823096], \"z\": [2.02123768874216, 0.966886181374796, 0.3780213070407267, 0.0, 0.35609927933398017, 1.0603666978966542, 2.124698965845951, -2.584214965316839], \"type\": \"scatter3d\"}, {\"hoverlabel\": {\"namelength\": 0}, \"hovertemplate\": \"<b>%{hovertext}</b><br><br>frame=48<br>x=%{x}<br>y=%{y}<br>z=%{z}\", \"hovertext\": [\"6\", \"5\", \"4\", \"3\", \"7\", \"8\", \"9\", null], \"ids\": [\"6\", \"5\", \"4\", \"3\", \"7\", \"8\", \"9\", null], \"legendgroup\": \"\", \"line\": {\"color\": \"#636efa\", \"dash\": \"solid\"}, \"mode\": \"lines\", \"name\": \"\", \"scene\": \"scene\", \"showlegend\": false, \"x\": [-0.019872407230099653, -0.18896609655348004, -0.6346248793235586, 0.0, -0.6445610829386085, -0.24470686212490256, 0.15519191565568694, -1.6134077708562842], \"y\": [0.606776775021289, 0.8375373065116147, 0.4396435922407885, 0.0, -0.4476192893129586, -0.7201742557401303, -0.6226836121987454, -0.13928507847823096], \"z\": [2.02123768874216, 0.966886181374796, 0.3780213070407267, 0.0, 0.35609927933398017, 1.0603666978966542, 2.124698965845951, -2.584214965316839], \"type\": \"scatter3d\"}], \"name\": \"48\"}, {\"data\": [{\"hoverlabel\": {\"namelength\": 0}, \"hovertemplate\": \"<b>%{hovertext}</b><br><br>frame=49<br>x=%{x}<br>y=%{y}<br>z=%{z}<br>diff=%{marker.color}\", \"hovertext\": [\"6\", \"5\", \"4\", \"3\", \"7\", \"8\", \"9\", null], \"ids\": [\"6\", \"5\", \"4\", \"3\", \"7\", \"8\", \"9\", null], \"legendgroup\": \"\", \"marker\": {\"color\": [1.2705499029174088, 1.0179564576541038, 1.0378288648842027, 0.0, 1.0378288648842025, 1.0179564576541038, 1.2705499029174088, 0.0], \"coloraxis\": \"coloraxis\", \"symbol\": \"circle\"}, \"mode\": \"markers\", \"name\": \"\", \"scene\": \"scene\", \"showlegend\": false, \"x\": [-0.023882534249625845, -0.19097116006324263, -0.6346248793235576, 0.0, -0.6426005763957274, -0.23873622856249532, 0.16512811927073778, -1.6154128343660468], \"y\": [0.662472983625828, 0.8474735101266644, 0.4396435922407885, 0.0, -0.4476192893129586, -0.7281499528123003, -0.6445610829386083, -0.13928507847823096], \"z\": [2.0172721186895166, 0.9648811178650325, 0.37998181358360644, 0.0, 0.3581043428437436, 1.0543960643342476, 2.1167232687737814, -2.584214965316839], \"type\": \"scatter3d\"}, {\"hoverlabel\": {\"namelength\": 0}, \"hovertemplate\": \"<b>%{hovertext}</b><br><br>frame=49<br>x=%{x}<br>y=%{y}<br>z=%{z}\", \"hovertext\": [\"6\", \"5\", \"4\", \"3\", \"7\", \"8\", \"9\", null], \"ids\": [\"6\", \"5\", \"4\", \"3\", \"7\", \"8\", \"9\", null], \"legendgroup\": \"\", \"line\": {\"color\": \"#636efa\", \"dash\": \"solid\"}, \"mode\": \"lines\", \"name\": \"\", \"scene\": \"scene\", \"showlegend\": false, \"x\": [-0.023882534249625845, -0.19097116006324263, -0.6346248793235576, 0.0, -0.6426005763957274, -0.23873622856249532, 0.16512811927073778, -1.6154128343660468], \"y\": [0.662472983625828, 0.8474735101266644, 0.4396435922407885, 0.0, -0.4476192893129586, -0.7281499528123003, -0.6445610829386083, -0.13928507847823096], \"z\": [2.0172721186895166, 0.9648811178650325, 0.37998181358360644, 0.0, 0.3581043428437436, 1.0543960643342476, 2.1167232687737814, -2.584214965316839], \"type\": \"scatter3d\"}], \"name\": \"49\"}, {\"data\": [{\"hoverlabel\": {\"namelength\": 0}, \"hovertemplate\": \"<b>%{hovertext}</b><br><br>frame=50<br>x=%{x}<br>y=%{y}<br>z=%{z}<br>diff=%{marker.color}\", \"hovertext\": [\"6\", \"5\", \"4\", \"3\", \"7\", \"8\", \"9\", null], \"ids\": [\"6\", \"5\", \"4\", \"3\", \"7\", \"8\", \"9\", null], \"legendgroup\": \"\", \"marker\": {\"color\": [1.264623826321885, 0.9960789869142405, 1.0278926612691528, 0.0, 1.0278926612691528, 0.9960789869142403, 1.264623826321885, 0.0], \"coloraxis\": \"coloraxis\", \"symbol\": \"circle\"}, \"mode\": \"markers\", \"name\": \"\", \"scene\": \"scene\", \"showlegend\": false, \"x\": [-0.035779244407555685, -0.20090736367829246, -0.6346248793235586, 0.0, -0.6405955128859648, -0.23873622856249532, 0.15519191565568694, -1.6193784044186905], \"y\": [0.7798360343973123, 0.8971990851687968, 0.4456142258031951, 0.0, -0.4436537192603153, -0.7539929936048063, -0.7539929936048063, -0.13928507847823096], \"z\": [2.00528629459782, 0.942959090158286, 0.38394738363624964, 0.0, 0.36006484938662336, 1.044415303752314, 2.1047820016489682, -2.5822544587739595], \"type\": \"scatter3d\"}, {\"hoverlabel\": {\"namelength\": 0}, \"hovertemplate\": \"<b>%{hovertext}</b><br><br>frame=50<br>x=%{x}<br>y=%{y}<br>z=%{z}\", \"hovertext\": [\"6\", \"5\", \"4\", \"3\", \"7\", \"8\", \"9\", null], \"ids\": [\"6\", \"5\", \"4\", \"3\", \"7\", \"8\", \"9\", null], \"legendgroup\": \"\", \"line\": {\"color\": \"#636efa\", \"dash\": \"solid\"}, \"mode\": \"lines\", \"name\": \"\", \"scene\": \"scene\", \"showlegend\": false, \"x\": [-0.035779244407555685, -0.20090736367829246, -0.6346248793235586, 0.0, -0.6405955128859648, -0.23873622856249532, 0.15519191565568694, -1.6193784044186905], \"y\": [0.7798360343973123, 0.8971990851687968, 0.4456142258031951, 0.0, -0.4436537192603153, -0.7539929936048063, -0.7539929936048063, -0.13928507847823096], \"z\": [2.00528629459782, 0.942959090158286, 0.38394738363624964, 0.0, 0.36006484938662336, 1.044415303752314, 2.1047820016489682, -2.5822544587739595], \"type\": \"scatter3d\"}], \"name\": \"50\"}, {\"data\": [{\"hoverlabel\": {\"namelength\": 0}, \"hovertemplate\": \"<b>%{hovertext}</b><br><br>frame=51<br>x=%{x}<br>y=%{y}<br>z=%{z}<br>diff=%{marker.color}\", \"hovertext\": [\"6\", \"5\", \"4\", \"3\", \"7\", \"8\", \"9\", null], \"ids\": [\"6\", \"5\", \"4\", \"3\", \"7\", \"8\", \"9\", null], \"legendgroup\": \"\", \"marker\": {\"color\": [1.2705499029174083, 0.997994936490237, 1.029853167812033, 0.0, 1.0298531678120328, 0.997994936490237, 1.2705499029174085, 0.0], \"coloraxis\": \"coloraxis\", \"symbol\": \"circle\"}, \"mode\": \"markers\", \"name\": \"\", \"scene\": \"scene\", \"showlegend\": false, \"x\": [-0.051686081585012734, -0.2168142008557495, -0.632619815813795, 0.0, -0.6425560194288449, -0.24867243217754617, 0.1372800149684673, -1.623343974471334], \"y\": [0.8932335151161537, 0.9310623800003566, 0.4456142258031951, 0.0, -0.4476192893129586, -0.7897722380123622, -0.8753216144289339, -0.14325064853087413], \"z\": [1.9854138873677203, 0.9270522529808297, 0.38198687709336987, 0.0, 0.36407497640615016, 1.0344791001372644, 2.0849095944188685, -2.580249395264196], \"type\": \"scatter3d\"}, {\"hoverlabel\": {\"namelength\": 0}, \"hovertemplate\": \"<b>%{hovertext}</b><br><br>frame=51<br>x=%{x}<br>y=%{y}<br>z=%{z}\", \"hovertext\": [\"6\", \"5\", \"4\", \"3\", \"7\", \"8\", \"9\", null], \"ids\": [\"6\", \"5\", \"4\", \"3\", \"7\", \"8\", \"9\", null], \"legendgroup\": \"\", \"line\": {\"color\": \"#636efa\", \"dash\": \"solid\"}, \"mode\": \"lines\", \"name\": \"\", \"scene\": \"scene\", \"showlegend\": false, \"x\": [-0.051686081585012734, -0.2168142008557495, -0.632619815813795, 0.0, -0.6425560194288449, -0.24867243217754617, 0.1372800149684673, -1.623343974471334], \"y\": [0.8932335151161537, 0.9310623800003566, 0.4456142258031951, 0.0, -0.4476192893129586, -0.7897722380123622, -0.8753216144289339, -0.14325064853087413], \"z\": [1.9854138873677203, 0.9270522529808297, 0.38198687709336987, 0.0, 0.36407497640615016, 1.0344791001372644, 2.0849095944188685, -2.580249395264196], \"type\": \"scatter3d\"}], \"name\": \"51\"}, {\"data\": [{\"hoverlabel\": {\"namelength\": 0}, \"hovertemplate\": \"<b>%{hovertext}</b><br><br>frame=52<br>x=%{x}<br>y=%{y}<br>z=%{z}<br>diff=%{marker.color}\", \"hovertext\": [\"6\", \"5\", \"4\", \"3\", \"7\", \"8\", \"9\", null], \"ids\": [\"6\", \"5\", \"4\", \"3\", \"7\", \"8\", \"9\", null], \"legendgroup\": \"\", \"marker\": {\"color\": [1.2725549664271718, 0.9939848094707099, 1.0218774707398628, 0.0, 1.0218774707398628, 0.9939848094707099, 1.2725549664271718, 0.0], \"coloraxis\": \"coloraxis\", \"symbol\": \"circle\"}, \"mode\": \"markers\", \"name\": \"\", \"scene\": \"scene\", \"showlegend\": false, \"x\": [-0.0895149464692146, -0.23869167159561175, -0.6365853858664386, 0.0, -0.6445610829386085, -0.2685448394076448, 0.10546634061355524, -1.6293146080337404], \"y\": [1.0245428965222148, 0.980787955042489, 0.4476192893129585, 0.0, -0.441648655750552, -0.8315666729492082, -1.0046259323252316, -0.14124558502111073], \"z\": [1.9675019866805008, 0.9071798457507302, 0.3819423201264862, 0.0, 0.36206991289638674, 1.0205327695026878, 2.064992630221886, -2.576283825211553], \"type\": \"scatter3d\"}, {\"hoverlabel\": {\"namelength\": 0}, \"hovertemplate\": \"<b>%{hovertext}</b><br><br>frame=52<br>x=%{x}<br>y=%{y}<br>z=%{z}\", \"hovertext\": [\"6\", \"5\", \"4\", \"3\", \"7\", \"8\", \"9\", null], \"ids\": [\"6\", \"5\", \"4\", \"3\", \"7\", \"8\", \"9\", null], \"legendgroup\": \"\", \"line\": {\"color\": \"#636efa\", \"dash\": \"solid\"}, \"mode\": \"lines\", \"name\": \"\", \"scene\": \"scene\", \"showlegend\": false, \"x\": [-0.0895149464692146, -0.23869167159561175, -0.6365853858664386, 0.0, -0.6445610829386085, -0.2685448394076448, 0.10546634061355524, -1.6293146080337404], \"y\": [1.0245428965222148, 0.980787955042489, 0.4476192893129585, 0.0, -0.441648655750552, -0.8315666729492082, -1.0046259323252316, -0.14124558502111073], \"z\": [1.9675019866805008, 0.9071798457507302, 0.3819423201264862, 0.0, 0.36206991289638674, 1.0205327695026878, 2.064992630221886, -2.576283825211553], \"type\": \"scatter3d\"}], \"name\": \"52\"}, {\"data\": [{\"hoverlabel\": {\"namelength\": 0}, \"hovertemplate\": \"<b>%{hovertext}</b><br><br>frame=53<br>x=%{x}<br>y=%{y}<br>z=%{z}<br>diff=%{marker.color}\", \"hovertext\": [\"6\", \"5\", \"4\", \"3\", \"7\", \"8\", \"9\", null], \"ids\": [\"6\", \"5\", \"4\", \"3\", \"7\", \"8\", \"9\", null], \"legendgroup\": \"\", \"marker\": {\"color\": [1.284496233551985, 1.0059706335624066, 1.0139463306345773, 0.0, 1.0139463306345773, 1.0059706335624066, 1.2844962335519847, 0.0], \"coloraxis\": \"coloraxis\", \"symbol\": \"circle\"}, \"mode\": \"markers\", \"name\": \"\", \"scene\": \"scene\", \"showlegend\": false, \"x\": [-0.11139241720907786, -0.2625742058452386, -0.6405509559190813, 0.0, -0.6465215894814885, -0.28048610653245826, 0.085549376416572, -1.6273095445239767], \"y\": [1.1319697436786493, 1.022582389979335, 0.4535899228753651, 0.0, -0.4515848593656018, -0.8872628815537471, -1.1200284765538362, -0.14124558502111073], \"z\": [1.9297176787631816, 0.8832973115011038, 0.3720506734783201, 0.0, 0.36206991289638674, 1.0066755528018785, 2.0292133858143298, -2.578244331754433], \"type\": \"scatter3d\"}, {\"hoverlabel\": {\"namelength\": 0}, \"hovertemplate\": \"<b>%{hovertext}</b><br><br>frame=53<br>x=%{x}<br>y=%{y}<br>z=%{z}\", \"hovertext\": [\"6\", \"5\", \"4\", \"3\", \"7\", \"8\", \"9\", null], \"ids\": [\"6\", \"5\", \"4\", \"3\", \"7\", \"8\", \"9\", null], \"legendgroup\": \"\", \"line\": {\"color\": \"#636efa\", \"dash\": \"solid\"}, \"mode\": \"lines\", \"name\": \"\", \"scene\": \"scene\", \"showlegend\": false, \"x\": [-0.11139241720907786, -0.2625742058452386, -0.6405509559190813, 0.0, -0.6465215894814885, -0.28048610653245826, 0.085549376416572, -1.6273095445239767], \"y\": [1.1319697436786493, 1.022582389979335, 0.4535899228753651, 0.0, -0.4515848593656018, -0.8872628815537471, -1.1200284765538362, -0.14124558502111073], \"z\": [1.9297176787631816, 0.8832973115011038, 0.3720506734783201, 0.0, 0.36206991289638674, 1.0066755528018785, 2.0292133858143298, -2.578244331754433], \"type\": \"scatter3d\"}], \"name\": \"53\"}, {\"data\": [{\"hoverlabel\": {\"namelength\": 0}, \"hovertemplate\": \"<b>%{hovertext}</b><br><br>frame=54<br>x=%{x}<br>y=%{y}<br>z=%{z}<br>diff=%{marker.color}\", \"hovertext\": [\"6\", \"5\", \"4\", \"3\", \"7\", \"8\", \"9\", null], \"ids\": [\"6\", \"5\", \"4\", \"3\", \"7\", \"8\", \"9\", null], \"legendgroup\": \"\", \"marker\": {\"color\": [1.284451676585101, 0.9921134168615972, 1.025843040792506, 0.0, 1.025843040792506, 0.9921134168615974, 1.2844516765851006, 0.0], \"coloraxis\": \"coloraxis\", \"symbol\": \"circle\"}, \"mode\": \"markers\", \"name\": \"\", \"scene\": \"scene\", \"showlegend\": false, \"x\": [-0.12333368433389129, -0.28048610653245826, -0.6385904493762012, 0.0, -0.6485266529912511, -0.28846180360462803, 0.06964253923911495, -1.6293146080337404], \"y\": [1.2115484865328146, 1.0623272044395338, 0.45358992287536515, 0.0, -0.4555949863851285, -0.9151555428229002, -1.1996072194080016, -0.13928507847823096], \"z\": [1.9018695744609122, 0.8574097137417142, 0.3759716865640797, 0.0, 0.36206991289638674, 0.9887190951477751, 2.00528629459782, -2.576283825211553], \"type\": \"scatter3d\"}, {\"hoverlabel\": {\"namelength\": 0}, \"hovertemplate\": \"<b>%{hovertext}</b><br><br>frame=54<br>x=%{x}<br>y=%{y}<br>z=%{z}\", \"hovertext\": [\"6\", \"5\", \"4\", \"3\", \"7\", \"8\", \"9\", null], \"ids\": [\"6\", \"5\", \"4\", \"3\", \"7\", \"8\", \"9\", null], \"legendgroup\": \"\", \"line\": {\"color\": \"#636efa\", \"dash\": \"solid\"}, \"mode\": \"lines\", \"name\": \"\", \"scene\": \"scene\", \"showlegend\": false, \"x\": [-0.12333368433389129, -0.28048610653245826, -0.6385904493762012, 0.0, -0.6485266529912511, -0.28846180360462803, 0.06964253923911495, -1.6293146080337404], \"y\": [1.2115484865328146, 1.0623272044395338, 0.45358992287536515, 0.0, -0.4555949863851285, -0.9151555428229002, -1.1996072194080016, -0.13928507847823096], \"z\": [1.9018695744609122, 0.8574097137417142, 0.3759716865640797, 0.0, 0.36206991289638674, 0.9887190951477751, 2.00528629459782, -2.576283825211553], \"type\": \"scatter3d\"}], \"name\": \"54\"}, {\"data\": [{\"hoverlabel\": {\"namelength\": 0}, \"hovertemplate\": \"<b>%{hovertext}</b><br><br>frame=55<br>x=%{x}<br>y=%{y}<br>z=%{z}<br>diff=%{marker.color}\", \"hovertext\": [\"6\", \"5\", \"4\", \"3\", \"7\", \"8\", \"9\", null], \"ids\": [\"6\", \"5\", \"4\", \"3\", \"7\", \"8\", \"9\", null], \"legendgroup\": \"\", \"marker\": {\"color\": [1.262574205845238, 1.005926076595524, 1.0158177232436891, 0.0, 1.0158177232436891, 1.0059260765955238, 1.2625742058452383, 0.0], \"coloraxis\": \"coloraxis\", \"symbol\": \"circle\"}, \"mode\": \"markers\", \"name\": \"\", \"scene\": \"scene\", \"showlegend\": false, \"x\": [-0.12930431789629748, -0.28445167658510084, -0.6385904493762012, 0.0, -0.6485266529912511, -0.3023635772723215, 0.05373570206165892, -1.6293146080337404], \"y\": [1.2951373564065067, 1.0961904992710936, 0.46357068345729846, 0.0, -0.45951599947088806, -0.9469246602109292, -1.27321532869976, -0.13527495145870416], \"z\": [1.8660457730864726, 0.8375373065116147, 0.3720061165114365, 0.0, 0.36206991289638674, 0.9748173214800824, 1.9675019866805008, -2.5742787617017897], \"type\": \"scatter3d\"}, {\"hoverlabel\": {\"namelength\": 0}, \"hovertemplate\": \"<b>%{hovertext}</b><br><br>frame=55<br>x=%{x}<br>y=%{y}<br>z=%{z}\", \"hovertext\": [\"6\", \"5\", \"4\", \"3\", \"7\", \"8\", \"9\", null], \"ids\": [\"6\", \"5\", \"4\", \"3\", \"7\", \"8\", \"9\", null], \"legendgroup\": \"\", \"line\": {\"color\": \"#636efa\", \"dash\": \"solid\"}, \"mode\": \"lines\", \"name\": \"\", \"scene\": \"scene\", \"showlegend\": false, \"x\": [-0.12930431789629748, -0.28445167658510084, -0.6385904493762012, 0.0, -0.6485266529912511, -0.3023635772723215, 0.05373570206165892, -1.6293146080337404], \"y\": [1.2951373564065067, 1.0961904992710936, 0.46357068345729846, 0.0, -0.45951599947088806, -0.9469246602109292, -1.27321532869976, -0.13527495145870416], \"z\": [1.8660457730864726, 0.8375373065116147, 0.3720061165114365, 0.0, 0.36206991289638674, 0.9748173214800824, 1.9675019866805008, -2.5742787617017897], \"type\": \"scatter3d\"}], \"name\": \"55\"}, {\"data\": [{\"hoverlabel\": {\"namelength\": 0}, \"hovertemplate\": \"<b>%{hovertext}</b><br><br>frame=56<br>x=%{x}<br>y=%{y}<br>z=%{z}<br>diff=%{marker.color}\", \"hovertext\": [\"6\", \"5\", \"4\", \"3\", \"7\", \"8\", \"9\", null], \"ids\": [\"6\", \"5\", \"4\", \"3\", \"7\", \"8\", \"9\", null], \"legendgroup\": \"\", \"marker\": {\"color\": [1.2665843328647652, 1.0020050635097633, 1.0119412671248136, 0.0, 1.0119412671248136, 1.0020050635097628, 1.2665843328647652, 0.0], \"coloraxis\": \"coloraxis\", \"symbol\": \"circle\"}, \"mode\": \"markers\", \"name\": \"\", \"scene\": \"scene\", \"showlegend\": false, \"x\": [-0.12729925438653492, -0.28449623355198544, -0.632619815813795, 0.0, -0.6445610829386085, -0.3004030707294415, 0.04179443493684548, -1.6313196715435039], \"y\": [1.3826026823990747, 1.1359353137312926, 0.46949676005282137, 0.0, -0.4615656199475351, -0.9827930185522523, -1.370705972241145, -0.1333144449158244], \"z\": [1.8183252615541037, 0.8037185686469387, 0.37000105300167313, 0.0, 0.36206991289638674, 0.942959090158286, 1.9277126152534183, -2.576283825211553], \"type\": \"scatter3d\"}, {\"hoverlabel\": {\"namelength\": 0}, \"hovertemplate\": \"<b>%{hovertext}</b><br><br>frame=56<br>x=%{x}<br>y=%{y}<br>z=%{z}\", \"hovertext\": [\"6\", \"5\", \"4\", \"3\", \"7\", \"8\", \"9\", null], \"ids\": [\"6\", \"5\", \"4\", \"3\", \"7\", \"8\", \"9\", null], \"legendgroup\": \"\", \"line\": {\"color\": \"#636efa\", \"dash\": \"solid\"}, \"mode\": \"lines\", \"name\": \"\", \"scene\": \"scene\", \"showlegend\": false, \"x\": [-0.12729925438653492, -0.28449623355198544, -0.632619815813795, 0.0, -0.6445610829386085, -0.3004030707294415, 0.04179443493684548, -1.6313196715435039], \"y\": [1.3826026823990747, 1.1359353137312926, 0.46949676005282137, 0.0, -0.4615656199475351, -0.9827930185522523, -1.370705972241145, -0.1333144449158244], \"z\": [1.8183252615541037, 0.8037185686469387, 0.37000105300167313, 0.0, 0.36206991289638674, 0.942959090158286, 1.9277126152534183, -2.576283825211553], \"type\": \"scatter3d\"}], \"name\": \"56\"}, {\"data\": [{\"hoverlabel\": {\"namelength\": 0}, \"hovertemplate\": \"<b>%{hovertext}</b><br><br>frame=57<br>x=%{x}<br>y=%{y}<br>z=%{z}<br>diff=%{marker.color}\", \"hovertext\": [\"6\", \"5\", \"4\", \"3\", \"7\", \"8\", \"9\", null], \"ids\": [\"6\", \"5\", \"4\", \"3\", \"7\", \"8\", \"9\", null], \"legendgroup\": \"\", \"marker\": {\"color\": [1.2486724321775453, 1.00196050654288, 0.9940293664375939, 0.0, 0.9940293664375939, 1.00196050654288, 1.2486724321775453, 0.0], \"coloraxis\": \"coloraxis\", \"symbol\": \"circle\"}, \"mode\": \"markers\", \"name\": \"\", \"scene\": \"scene\", \"showlegend\": false, \"x\": [-0.12137317779101127, -0.29443243716703427, -0.6286542457611514, 0.0, -0.6405955128859648, -0.3063737042918477, 0.03778430791731929, -1.63729030510591], \"y\": [1.4880690230126297, 1.1797348121779019, 0.48540359723027776, 0.0, -0.4575554929280083, -1.0324740366275011, -1.4761277558878163, -0.131309381406061], \"z\": [1.762584495982681, 0.7758704643446692, 0.370001053001673, 0.0, 0.36006484938662325, 0.9131504793131368, 1.864040709576709, -2.570313191649146], \"type\": \"scatter3d\"}, {\"hoverlabel\": {\"namelength\": 0}, \"hovertemplate\": \"<b>%{hovertext}</b><br><br>frame=57<br>x=%{x}<br>y=%{y}<br>z=%{z}\", \"hovertext\": [\"6\", \"5\", \"4\", \"3\", \"7\", \"8\", \"9\", null], \"ids\": [\"6\", \"5\", \"4\", \"3\", \"7\", \"8\", \"9\", null], \"legendgroup\": \"\", \"line\": {\"color\": \"#636efa\", \"dash\": \"solid\"}, \"mode\": \"lines\", \"name\": \"\", \"scene\": \"scene\", \"showlegend\": false, \"x\": [-0.12137317779101127, -0.29443243716703427, -0.6286542457611514, 0.0, -0.6405955128859648, -0.3063737042918477, 0.03778430791731929, -1.63729030510591], \"y\": [1.4880690230126297, 1.1797348121779019, 0.48540359723027776, 0.0, -0.4575554929280083, -1.0324740366275011, -1.4761277558878163, -0.131309381406061], \"z\": [1.762584495982681, 0.7758704643446692, 0.370001053001673, 0.0, 0.36006484938662325, 0.9131504793131368, 1.864040709576709, -2.570313191649146], \"type\": \"scatter3d\"}], \"name\": \"57\"}, {\"data\": [{\"hoverlabel\": {\"namelength\": 0}, \"hovertemplate\": \"<b>%{hovertext}</b><br><br>frame=58<br>x=%{x}<br>y=%{y}<br>z=%{z}<br>diff=%{marker.color}\", \"hovertext\": [\"6\", \"5\", \"4\", \"3\", \"7\", \"8\", \"9\", null], \"ids\": [\"6\", \"5\", \"4\", \"3\", \"7\", \"8\", \"9\", null], \"legendgroup\": \"\", \"marker\": {\"color\": [1.2327655950000886, 1.0417944349368458, 0.9979503795233524, 0.0, 0.9979503795233523, 1.0417944349368458, 1.2327655950000889, 0.0], \"coloraxis\": \"coloraxis\", \"symbol\": \"circle\"}, \"mode\": \"markers\", \"name\": \"\", \"scene\": \"scene\", \"showlegend\": false, \"x\": [-0.11143697417596145, -0.29844256418656145, -0.6246886757085088, 0.0, -0.6386350063430848, -0.3143494013640175, 0.0437549414797255, -1.6452660021780798], \"y\": [1.605432073784114, 1.2214846901478642, 0.48941372424980456, 0.0, -0.46749169654305806, -1.09418543576133, -1.5954958701690642, -0.131309381406061], \"z\": [1.681045246585636, 0.7241398257927735, 0.3739666230543162, 0.0, 0.3680405464587933, 0.8773266779386973, 1.7685551295450874, -2.566347621596503], \"type\": \"scatter3d\"}, {\"hoverlabel\": {\"namelength\": 0}, \"hovertemplate\": \"<b>%{hovertext}</b><br><br>frame=58<br>x=%{x}<br>y=%{y}<br>z=%{z}\", \"hovertext\": [\"6\", \"5\", \"4\", \"3\", \"7\", \"8\", \"9\", null], \"ids\": [\"6\", \"5\", \"4\", \"3\", \"7\", \"8\", \"9\", null], \"legendgroup\": \"\", \"line\": {\"color\": \"#636efa\", \"dash\": \"solid\"}, \"mode\": \"lines\", \"name\": \"\", \"scene\": \"scene\", \"showlegend\": false, \"x\": [-0.11143697417596145, -0.29844256418656145, -0.6246886757085088, 0.0, -0.6386350063430848, -0.3143494013640175, 0.0437549414797255, -1.6452660021780798], \"y\": [1.605432073784114, 1.2214846901478642, 0.48941372424980456, 0.0, -0.46749169654305806, -1.09418543576133, -1.5954958701690642, -0.131309381406061], \"z\": [1.681045246585636, 0.7241398257927735, 0.3739666230543162, 0.0, 0.3680405464587933, 0.8773266779386973, 1.7685551295450874, -2.566347621596503], \"type\": \"scatter3d\"}], \"name\": \"58\"}, {\"data\": [{\"hoverlabel\": {\"namelength\": 0}, \"hovertemplate\": \"<b>%{hovertext}</b><br><br>frame=59<br>x=%{x}<br>y=%{y}<br>z=%{z}<br>diff=%{marker.color}\", \"hovertext\": [\"6\", \"5\", \"4\", \"3\", \"7\", \"8\", \"9\", null], \"ids\": [\"6\", \"5\", \"4\", \"3\", \"7\", \"8\", \"9\", null], \"legendgroup\": \"\", \"marker\": {\"color\": [1.240696735105376, 1.0437103845128415, 0.9919797459609465, 0.0, 0.9919797459609466, 1.0437103845128417, 1.2406967351053757, 0.0], \"coloraxis\": \"coloraxis\", \"symbol\": \"circle\"}, \"mode\": \"markers\", \"name\": \"\", \"scene\": \"scene\", \"showlegend\": false, \"x\": [-0.10346127710379163, -0.2983980072196779, -0.6206785486889816, 0.0, -0.632619815813795, -0.3103392743444903, 0.04972557504213272, -1.6531971422833662], \"y\": [1.7268052515751253, 1.2791859622621666, 0.5013549913746177, 0.0, -0.4813934702107509, -1.1498370873989854, -1.7427120887525815, -0.1293043178962976], \"z\": [1.583554603044251, 0.6644780471355913, 0.3760162435309633, 0.0, 0.3760162435309633, 0.8255960393868016, 1.6551576488262465, -2.5583719245243333], \"type\": \"scatter3d\"}, {\"hoverlabel\": {\"namelength\": 0}, \"hovertemplate\": \"<b>%{hovertext}</b><br><br>frame=59<br>x=%{x}<br>y=%{y}<br>z=%{z}\", \"hovertext\": [\"6\", \"5\", \"4\", \"3\", \"7\", \"8\", \"9\", null], \"ids\": [\"6\", \"5\", \"4\", \"3\", \"7\", \"8\", \"9\", null], \"legendgroup\": \"\", \"line\": {\"color\": \"#636efa\", \"dash\": \"solid\"}, \"mode\": \"lines\", \"name\": \"\", \"scene\": \"scene\", \"showlegend\": false, \"x\": [-0.10346127710379163, -0.2983980072196779, -0.6206785486889816, 0.0, -0.632619815813795, -0.3103392743444903, 0.04972557504213272, -1.6531971422833662], \"y\": [1.7268052515751253, 1.2791859622621666, 0.5013549913746177, 0.0, -0.4813934702107509, -1.1498370873989854, -1.7427120887525815, -0.1293043178962976], \"z\": [1.583554603044251, 0.6644780471355913, 0.3760162435309633, 0.0, 0.3760162435309633, 0.8255960393868016, 1.6551576488262465, -2.5583719245243333], \"type\": \"scatter3d\"}], \"name\": \"59\"}, {\"data\": [{\"hoverlabel\": {\"namelength\": 0}, \"hovertemplate\": \"<b>%{hovertext}</b><br><br>frame=60<br>x=%{x}<br>y=%{y}<br>z=%{z}<br>diff=%{marker.color}\", \"hovertext\": [\"6\", \"5\", \"4\", \"3\", \"7\", \"8\", \"9\", null], \"ids\": [\"6\", \"5\", \"4\", \"3\", \"7\", \"8\", \"9\", null], \"legendgroup\": \"\", \"marker\": {\"color\": [1.244662305158019, 1.051730638551895, 0.9860536693654226, 0.0, 0.9860536693654226, 1.0517306385518952, 1.244662305158019, 0.0], \"coloraxis\": \"coloraxis\", \"symbol\": \"circle\"}, \"mode\": \"markers\", \"name\": \"\", \"scene\": \"scene\", \"showlegend\": false, \"x\": [-0.09147545301209462, -0.30833421083472773, -0.6147079151265754, 0.0, -0.6266491822513878, -0.3103392743444903, 0.05770127211430253, -1.6611282823886524], \"y\": [1.8620802030338293, 1.328911537304299, 0.517261828552074, 0.0, -0.49137423079268433, -1.219479626638101, -1.8998645109511485, -0.12533874784365442], \"z\": [1.4522452216381898, 0.5908699378438328, 0.3760162435309633, 0.0, 0.3760162435309633, 0.7500274235521632, 1.5099464937524925, -2.5524012909619267], \"type\": \"scatter3d\"}, {\"hoverlabel\": {\"namelength\": 0}, \"hovertemplate\": \"<b>%{hovertext}</b><br><br>frame=60<br>x=%{x}<br>y=%{y}<br>z=%{z}\", \"hovertext\": [\"6\", \"5\", \"4\", \"3\", \"7\", \"8\", \"9\", null], \"ids\": [\"6\", \"5\", \"4\", \"3\", \"7\", \"8\", \"9\", null], \"legendgroup\": \"\", \"line\": {\"color\": \"#636efa\", \"dash\": \"solid\"}, \"mode\": \"lines\", \"name\": \"\", \"scene\": \"scene\", \"showlegend\": false, \"x\": [-0.09147545301209462, -0.30833421083472773, -0.6147079151265754, 0.0, -0.6266491822513878, -0.3103392743444903, 0.05770127211430253, -1.6611282823886524], \"y\": [1.8620802030338293, 1.328911537304299, 0.517261828552074, 0.0, -0.49137423079268433, -1.219479626638101, -1.8998645109511485, -0.12533874784365442], \"z\": [1.4522452216381898, 0.5908699378438328, 0.3760162435309633, 0.0, 0.3760162435309633, 0.7500274235521632, 1.5099464937524925, -2.5524012909619267], \"type\": \"scatter3d\"}], \"name\": \"60\"}, {\"data\": [{\"hoverlabel\": {\"namelength\": 0}, \"hovertemplate\": \"<b>%{hovertext}</b><br><br>frame=61<br>x=%{x}<br>y=%{y}<br>z=%{z}<br>diff=%{marker.color}\", \"hovertext\": [\"6\", \"5\", \"4\", \"3\", \"7\", \"8\", \"9\", null], \"ids\": [\"6\", \"5\", \"4\", \"3\", \"7\", \"8\", \"9\", null], \"legendgroup\": \"\", \"marker\": {\"color\": [1.2108435672933426, 1.0556516516376555, 0.9940293664375927, 0.0, 0.9940293664375927, 1.0556516516376555, 1.2108435672933426, 0.0], \"coloraxis\": \"coloraxis\", \"symbol\": \"circle\"}, \"mode\": \"markers\", \"name\": \"\", \"scene\": \"scene\", \"showlegend\": false, \"x\": [-0.08354431290680839, -0.3083342108347267, -0.6047717115115255, 0.0, -0.616712978636338, -0.3083342108347267, 0.06563241221958875, -1.6691039794608222], \"y\": [1.9854138873677203, 1.3647353386787384, 0.5291585387100036, 0.0, -0.509286131479904, -1.2712102651899968, -2.0152670551797534, -0.11936811428124787], \"z\": [1.3170148271463695, 0.525237525624244, 0.37998181358360644, 0.0, 0.3780213070407266, 0.674414250750641, 1.348828501501282, -2.544425593889757], \"type\": \"scatter3d\"}, {\"hoverlabel\": {\"namelength\": 0}, \"hovertemplate\": \"<b>%{hovertext}</b><br><br>frame=61<br>x=%{x}<br>y=%{y}<br>z=%{z}\", \"hovertext\": [\"6\", \"5\", \"4\", \"3\", \"7\", \"8\", \"9\", null], \"ids\": [\"6\", \"5\", \"4\", \"3\", \"7\", \"8\", \"9\", null], \"legendgroup\": \"\", \"line\": {\"color\": \"#636efa\", \"dash\": \"solid\"}, \"mode\": \"lines\", \"name\": \"\", \"scene\": \"scene\", \"showlegend\": false, \"x\": [-0.08354431290680839, -0.3083342108347267, -0.6047717115115255, 0.0, -0.616712978636338, -0.3083342108347267, 0.06563241221958875, -1.6691039794608222], \"y\": [1.9854138873677203, 1.3647353386787384, 0.5291585387100036, 0.0, -0.509286131479904, -1.2712102651899968, -2.0152670551797534, -0.11936811428124787], \"z\": [1.3170148271463695, 0.525237525624244, 0.37998181358360644, 0.0, 0.3780213070407266, 0.674414250750641, 1.348828501501282, -2.544425593889757], \"type\": \"scatter3d\"}], \"name\": \"61\"}, {\"data\": [{\"hoverlabel\": {\"namelength\": 0}, \"hovertemplate\": \"<b>%{hovertext}</b><br><br>frame=62<br>x=%{x}<br>y=%{y}<br>z=%{z}<br>diff=%{marker.color}\", \"hovertext\": [\"6\", \"5\", \"4\", \"3\", \"7\", \"8\", \"9\", null], \"ids\": [\"6\", \"5\", \"4\", \"3\", \"7\", \"8\", \"9\", null], \"legendgroup\": \"\", \"marker\": {\"color\": [1.2009964776120599, 1.085593933383455, 0.9921134168615975, 0.0, 0.9921134168615975, 1.085593933383455, 1.2009964776120599, 0.0], \"coloraxis\": \"coloraxis\", \"symbol\": \"circle\"}, \"mode\": \"markers\", \"name\": \"\", \"scene\": \"scene\", \"showlegend\": false, \"x\": [-0.06964253923911597, -0.3044131977489687, -0.598845634916003, 0.0, -0.6087818385310528, -0.3103838313113749, 0.06763747572935135, -1.677079676532993], \"y\": [2.0868701009617485, 1.3945439495238878, 0.5390947423250534, 0.0, -0.5192668920618375, -1.3170148271463695, -2.0968508615436816, -0.11740760773836807], \"z\": [1.1717145581388482, 0.46152106298065143, 0.37597168656407964, 0.0, 0.37797675007384307, 0.6186734851792185, 1.2254502602005075, -2.5384995172942335], \"type\": \"scatter3d\"}, {\"hoverlabel\": {\"namelength\": 0}, \"hovertemplate\": \"<b>%{hovertext}</b><br><br>frame=62<br>x=%{x}<br>y=%{y}<br>z=%{z}\", \"hovertext\": [\"6\", \"5\", \"4\", \"3\", \"7\", \"8\", \"9\", null], \"ids\": [\"6\", \"5\", \"4\", \"3\", \"7\", \"8\", \"9\", null], \"legendgroup\": \"\", \"line\": {\"color\": \"#636efa\", \"dash\": \"solid\"}, \"mode\": \"lines\", \"name\": \"\", \"scene\": \"scene\", \"showlegend\": false, \"x\": [-0.06964253923911597, -0.3044131977489687, -0.598845634916003, 0.0, -0.6087818385310528, -0.3103838313113749, 0.06763747572935135, -1.677079676532993], \"y\": [2.0868701009617485, 1.3945439495238878, 0.5390947423250534, 0.0, -0.5192668920618375, -1.3170148271463695, -2.0968508615436816, -0.11740760773836807], \"z\": [1.1717145581388482, 0.46152106298065143, 0.37597168656407964, 0.0, 0.37797675007384307, 0.6186734851792185, 1.2254502602005075, -2.5384995172942335], \"type\": \"scatter3d\"}], \"name\": \"62\"}, {\"data\": [{\"hoverlabel\": {\"namelength\": 0}, \"hovertemplate\": \"<b>%{hovertext}</b><br><br>frame=63<br>x=%{x}<br>y=%{y}<br>z=%{z}<br>diff=%{marker.color}\", \"hovertext\": [\"6\", \"5\", \"4\", \"3\", \"7\", \"8\", \"9\", null], \"ids\": [\"6\", \"5\", \"4\", \"3\", \"7\", \"8\", \"9\", null], \"legendgroup\": \"\", \"marker\": {\"color\": [1.1989914141022968, 1.105466340613555, 0.9841377197894268, 0.0, 0.9841377197894268, 1.1054663406135554, 1.1989914141022968, 0.0], \"coloraxis\": \"coloraxis\", \"symbol\": \"circle\"}, \"mode\": \"markers\", \"name\": \"\", \"scene\": \"scene\", \"showlegend\": false, \"x\": [-0.04776506849925271, -0.29643750067679786, -0.5908699378438331, 0.0, -0.6028112049686456, -0.3063737042918477, 0.07360810929175857, -1.6830503100953993], \"y\": [2.1803506174836067, 1.4243971173359207, 0.557006643012273, 0.0, -0.5271980321671238, -1.3428578679388756, -2.1843607445031337, -0.1114369741759615], \"z\": [1.020532769502688, 0.37200611651143645, 0.3739666230543162, 0.0, 0.37597168656407964, 0.5490755029069867, 1.0941408787944467, -2.5325288837318274], \"type\": \"scatter3d\"}, {\"hoverlabel\": {\"namelength\": 0}, \"hovertemplate\": \"<b>%{hovertext}</b><br><br>frame=63<br>x=%{x}<br>y=%{y}<br>z=%{z}\", \"hovertext\": [\"6\", \"5\", \"4\", \"3\", \"7\", \"8\", \"9\", null], \"ids\": [\"6\", \"5\", \"4\", \"3\", \"7\", \"8\", \"9\", null], \"legendgroup\": \"\", \"line\": {\"color\": \"#636efa\", \"dash\": \"solid\"}, \"mode\": \"lines\", \"name\": \"\", \"scene\": \"scene\", \"showlegend\": false, \"x\": [-0.04776506849925271, -0.29643750067679786, -0.5908699378438331, 0.0, -0.6028112049686456, -0.3063737042918477, 0.07360810929175857, -1.6830503100953993], \"y\": [2.1803506174836067, 1.4243971173359207, 0.557006643012273, 0.0, -0.5271980321671238, -1.3428578679388756, -2.1843607445031337, -0.1114369741759615], \"z\": [1.020532769502688, 0.37200611651143645, 0.3739666230543162, 0.0, 0.37597168656407964, 0.5490755029069867, 1.0941408787944467, -2.5325288837318274], \"type\": \"scatter3d\"}], \"name\": \"63\"}, {\"data\": [{\"hoverlabel\": {\"namelength\": 0}, \"hovertemplate\": \"<b>%{hovertext}</b><br><br>frame=64<br>x=%{x}<br>y=%{y}<br>z=%{z}<br>diff=%{marker.color}\", \"hovertext\": [\"6\", \"5\", \"4\", \"3\", \"7\", \"8\", \"9\", null], \"ids\": [\"6\", \"5\", \"4\", \"3\", \"7\", \"8\", \"9\", null], \"legendgroup\": \"\", \"marker\": {\"color\": [1.220779770908392, 1.121373177791011, 0.9701913891548513, 0.0, 0.9701913891548513, 1.121373177791011, 1.220779770908392, 0.0], \"coloraxis\": \"coloraxis\", \"symbol\": \"circle\"}, \"mode\": \"markers\", \"name\": \"\", \"scene\": \"scene\", \"showlegend\": false, \"x\": [-0.035823801374439274, -0.29443243716703427, -0.5808891772618987, 0.0, -0.5948355078964758, -0.30040307072944045, 0.08354431290680839, -1.6870158801480417], \"y\": [2.2699101209197052, 1.4582158552005966, 0.5868598108243059, 0.0, -0.5371342357821736, -1.3687009087313817, -2.2400569531076724, -0.1094319106661981], \"z\": [0.835576799968735, 0.2824911700422215, 0.36804054645879336, 0.0, 0.3740111800211999, 0.4874086607400412, 0.9668416244079122, -2.5285187567123], \"type\": \"scatter3d\"}, {\"hoverlabel\": {\"namelength\": 0}, \"hovertemplate\": \"<b>%{hovertext}</b><br><br>frame=64<br>x=%{x}<br>y=%{y}<br>z=%{z}\", \"hovertext\": [\"6\", \"5\", \"4\", \"3\", \"7\", \"8\", \"9\", null], \"ids\": [\"6\", \"5\", \"4\", \"3\", \"7\", \"8\", \"9\", null], \"legendgroup\": \"\", \"line\": {\"color\": \"#636efa\", \"dash\": \"solid\"}, \"mode\": \"lines\", \"name\": \"\", \"scene\": \"scene\", \"showlegend\": false, \"x\": [-0.035823801374439274, -0.29443243716703427, -0.5808891772618987, 0.0, -0.5948355078964758, -0.30040307072944045, 0.08354431290680839, -1.6870158801480417], \"y\": [2.2699101209197052, 1.4582158552005966, 0.5868598108243059, 0.0, -0.5371342357821736, -1.3687009087313817, -2.2400569531076724, -0.1094319106661981], \"z\": [0.835576799968735, 0.2824911700422215, 0.36804054645879336, 0.0, 0.3740111800211999, 0.4874086607400412, 0.9668416244079122, -2.5285187567123], \"type\": \"scatter3d\"}], \"name\": \"64\"}, {\"data\": [{\"hoverlabel\": {\"namelength\": 0}, \"hovertemplate\": \"<b>%{hovertext}</b><br><br>frame=65<br>x=%{x}<br>y=%{y}<br>z=%{z}<br>diff=%{marker.color}\", \"hovertext\": [\"6\", \"5\", \"4\", \"3\", \"7\", \"8\", \"9\", null], \"ids\": [\"6\", \"5\", \"4\", \"3\", \"7\", \"8\", \"9\", null], \"legendgroup\": \"\", \"marker\": {\"color\": [1.2506774956873077, 1.1731483733097898, 0.978122529260137, 0.0, 0.978122529260137, 1.1731483733097896, 1.2506774956873077, 0.0], \"coloraxis\": \"coloraxis\", \"symbol\": \"circle\"}, \"mode\": \"markers\", \"name\": \"\", \"scene\": \"scene\", \"showlegend\": false, \"x\": [-0.015906837177456033, -0.29242737365727167, -0.5749631006663761, 0.0, -0.5828942407716623, -0.29643750067679786, 0.09348051652185822, -1.6949915772202127], \"y\": [2.3395081031919376, 1.4780882624306964, 0.6087372815641688, 0.0, -0.5550461364693933, -1.4025196465960577, -2.305733922294144, -0.1114369741759615], \"z\": [0.6167129786363388, 0.16713318278050043, 0.35413877279110034, 0.0, 0.3780213070407267, 0.41184004490540277, 0.7917773015221256, -2.520543059640131], \"type\": \"scatter3d\"}, {\"hoverlabel\": {\"namelength\": 0}, \"hovertemplate\": \"<b>%{hovertext}</b><br><br>frame=65<br>x=%{x}<br>y=%{y}<br>z=%{z}\", \"hovertext\": [\"6\", \"5\", \"4\", \"3\", \"7\", \"8\", \"9\", null], \"ids\": [\"6\", \"5\", \"4\", \"3\", \"7\", \"8\", \"9\", null], \"legendgroup\": \"\", \"line\": {\"color\": \"#636efa\", \"dash\": \"solid\"}, \"mode\": \"lines\", \"name\": \"\", \"scene\": \"scene\", \"showlegend\": false, \"x\": [-0.015906837177456033, -0.29242737365727167, -0.5749631006663761, 0.0, -0.5828942407716623, -0.29643750067679786, 0.09348051652185822, -1.6949915772202127], \"y\": [2.3395081031919376, 1.4780882624306964, 0.6087372815641688, 0.0, -0.5550461364693933, -1.4025196465960577, -2.305733922294144, -0.1114369741759615], \"z\": [0.6167129786363388, 0.16713318278050043, 0.35413877279110034, 0.0, 0.3780213070407267, 0.41184004490540277, 0.7917773015221256, -2.520543059640131], \"type\": \"scatter3d\"}], \"name\": \"65\"}, {\"data\": [{\"hoverlabel\": {\"namelength\": 0}, \"hovertemplate\": \"<b>%{hovertext}</b><br><br>frame=66<br>x=%{x}<br>y=%{y}<br>z=%{z}<br>diff=%{marker.color}\", \"hovertext\": [\"6\", \"5\", \"4\", \"3\", \"7\", \"8\", \"9\", null], \"ids\": [\"6\", \"5\", \"4\", \"3\", \"7\", \"8\", \"9\", null], \"legendgroup\": \"\", \"marker\": {\"color\": [1.2904223101475079, 1.2247898979279188, 0.972107338730847, 0.0, 0.9721073387308469, 1.2247898979279188, 1.2904223101475079, 0.0], \"coloraxis\": \"coloraxis\", \"symbol\": \"circle\"}, \"mode\": \"markers\", \"name\": \"\", \"scene\": \"scene\", \"showlegend\": false, \"x\": [-0.007931140105286222, -0.2983980072196779, -0.5629772765746791, 0.0, -0.5729134801897289, -0.2904223101475081, 0.09749064354138441, -1.7009176538157353], \"y\": [2.401219502325766, 1.4940396565750362, 0.6326643727806788, 0.0, -0.564982340084443, -1.4283626873885638, -2.3574200038791573, -0.11139241720907787], \"z\": [0.3918785237415359, 0.05369114509477554, 0.34215294869940355, 0.0, 0.3720061165114365, 0.336182315136997, 0.6206785486889819, -2.5146169830446072], \"type\": \"scatter3d\"}, {\"hoverlabel\": {\"namelength\": 0}, \"hovertemplate\": \"<b>%{hovertext}</b><br><br>frame=66<br>x=%{x}<br>y=%{y}<br>z=%{z}\", \"hovertext\": [\"6\", \"5\", \"4\", \"3\", \"7\", \"8\", \"9\", null], \"ids\": [\"6\", \"5\", \"4\", \"3\", \"7\", \"8\", \"9\", null], \"legendgroup\": \"\", \"line\": {\"color\": \"#636efa\", \"dash\": \"solid\"}, \"mode\": \"lines\", \"name\": \"\", \"scene\": \"scene\", \"showlegend\": false, \"x\": [-0.007931140105286222, -0.2983980072196779, -0.5629772765746791, 0.0, -0.5729134801897289, -0.2904223101475081, 0.09749064354138441, -1.7009176538157353], \"y\": [2.401219502325766, 1.4940396565750362, 0.6326643727806788, 0.0, -0.564982340084443, -1.4283626873885638, -2.3574200038791573, -0.11139241720907787], \"z\": [0.3918785237415359, 0.05369114509477554, 0.34215294869940355, 0.0, 0.3720061165114365, 0.336182315136997, 0.6206785486889819, -2.5146169830446072], \"type\": \"scatter3d\"}], \"name\": \"66\"}, {\"data\": [{\"hoverlabel\": {\"namelength\": 0}, \"hovertemplate\": \"<b>%{hovertext}</b><br><br>frame=67<br>x=%{x}<br>y=%{y}<br>z=%{z}<br>diff=%{marker.color}\", \"hovertext\": [\"6\", \"5\", \"4\", \"3\", \"7\", \"8\", \"9\", null], \"ids\": [\"6\", \"5\", \"4\", \"3\", \"7\", \"8\", \"9\", null], \"legendgroup\": \"\", \"marker\": {\"color\": [1.3203645918933082, 1.2487169891444292, 0.9781225292601365, 0.0, 0.9781225292601365, 1.248716989144429, 1.3203645918933082, 0.0], \"coloraxis\": \"coloraxis\", \"symbol\": \"circle\"}, \"mode\": \"markers\", \"name\": \"\", \"scene\": \"scene\", \"showlegend\": false, \"x\": [0.0040101270195272085, -0.2983980072196779, -0.5570066430122729, 0.0, -0.5609722130649155, -0.28645674009486444, 0.09949570705114903, -1.7088933508879052], \"y\": [2.4190868460461026, 1.4960001631179158, 0.6505317165010148, 0.0, -0.5848993042814261, -1.446319145042667, -2.3972539322731232, -0.11740760773836807], \"z\": [0.19297622357300653, -0.039744814460198986, 0.33622687210388064, 0.0, 0.3760162435309633, 0.2467119256346657, 0.43968814920767224, -2.5026311589529113], \"type\": \"scatter3d\"}, {\"hoverlabel\": {\"namelength\": 0}, \"hovertemplate\": \"<b>%{hovertext}</b><br><br>frame=67<br>x=%{x}<br>y=%{y}<br>z=%{z}\", \"hovertext\": [\"6\", \"5\", \"4\", \"3\", \"7\", \"8\", \"9\", null], \"ids\": [\"6\", \"5\", \"4\", \"3\", \"7\", \"8\", \"9\", null], \"legendgroup\": \"\", \"line\": {\"color\": \"#636efa\", \"dash\": \"solid\"}, \"mode\": \"lines\", \"name\": \"\", \"scene\": \"scene\", \"showlegend\": false, \"x\": [0.0040101270195272085, -0.2983980072196779, -0.5570066430122729, 0.0, -0.5609722130649155, -0.28645674009486444, 0.09949570705114903, -1.7088933508879052], \"y\": [2.4190868460461026, 1.4960001631179158, 0.6505317165010148, 0.0, -0.5848993042814261, -1.446319145042667, -2.3972539322731232, -0.11740760773836807], \"z\": [0.19297622357300653, -0.039744814460198986, 0.33622687210388064, 0.0, 0.3760162435309633, 0.2467119256346657, 0.43968814920767224, -2.5026311589529113], \"type\": \"scatter3d\"}], \"name\": \"67\"}, {\"data\": [{\"hoverlabel\": {\"namelength\": 0}, \"hovertemplate\": \"<b>%{hovertext}</b><br><br>frame=68<br>x=%{x}<br>y=%{y}<br>z=%{z}<br>diff=%{marker.color}\", \"hovertext\": [\"6\", \"5\", \"4\", \"3\", \"7\", \"8\", \"9\", null], \"ids\": [\"6\", \"5\", \"4\", \"3\", \"7\", \"8\", \"9\", null], \"legendgroup\": \"\", \"marker\": {\"color\": [1.383991940603133, 1.2944769941339183, 0.9921134168615968, 0.0, 0.9921134168615969, 1.2944769941339183, 1.383991940603133, 0.0], \"coloraxis\": \"coloraxis\", \"symbol\": \"circle\"}, \"mode\": \"markers\", \"name\": \"\", \"scene\": \"scene\", \"showlegend\": false, \"x\": [0.007931140105286222, -0.3024081342392041, -0.5490755029069867, 0.0, -0.5530856299265129, -0.28449623355198445, 0.11139241720907786, -1.7188741114698385], \"y\": [2.4330331766806794, 1.4920345930652728, 0.6683990602213509, 0.0, -0.6028112049686459, -1.4582604121674803, -2.423096973065629, -0.11740760773836807], \"z\": [-0.03381873786467604, -0.1551919156556873, 0.31831497141666093, 0.0, 0.3720061165114365, 0.15514735868880367, 0.2566481292497154, -2.4947000188476243], \"type\": \"scatter3d\"}, {\"hoverlabel\": {\"namelength\": 0}, \"hovertemplate\": \"<b>%{hovertext}</b><br><br>frame=68<br>x=%{x}<br>y=%{y}<br>z=%{z}\", \"hovertext\": [\"6\", \"5\", \"4\", \"3\", \"7\", \"8\", \"9\", null], \"ids\": [\"6\", \"5\", \"4\", \"3\", \"7\", \"8\", \"9\", null], \"legendgroup\": \"\", \"line\": {\"color\": \"#636efa\", \"dash\": \"solid\"}, \"mode\": \"lines\", \"name\": \"\", \"scene\": \"scene\", \"showlegend\": false, \"x\": [0.007931140105286222, -0.3024081342392041, -0.5490755029069867, 0.0, -0.5530856299265129, -0.28449623355198445, 0.11139241720907786, -1.7188741114698385], \"y\": [2.4330331766806794, 1.4920345930652728, 0.6683990602213509, 0.0, -0.6028112049686459, -1.4582604121674803, -2.423096973065629, -0.11740760773836807], \"z\": [-0.03381873786467604, -0.1551919156556873, 0.31831497141666093, 0.0, 0.3720061165114365, 0.15514735868880367, 0.2566481292497154, -2.4947000188476243], \"type\": \"scatter3d\"}], \"name\": \"68\"}, {\"data\": [{\"hoverlabel\": {\"namelength\": 0}, \"hovertemplate\": \"<b>%{hovertext}</b><br><br>frame=69<br>x=%{x}<br>y=%{y}<br>z=%{z}<br>diff=%{marker.color}\", \"hovertext\": [\"6\", \"5\", \"4\", \"3\", \"7\", \"8\", \"9\", null], \"ids\": [\"6\", \"5\", \"4\", \"3\", \"7\", \"8\", \"9\", null], \"legendgroup\": \"\", \"marker\": {\"color\": [1.4138451084151653, 1.3481681392286937, 0.9960344299473565, 0.0, 0.9960344299473565, 1.3481681392286937, 1.4138451084151653, 0.0], \"coloraxis\": \"coloraxis\", \"symbol\": \"circle\"}, \"mode\": \"markers\", \"name\": \"\", \"scene\": \"scene\", \"showlegend\": false, \"x\": [0.005970633562407222, -0.3023635772723205, -0.5391392992919368, 0.0, -0.5450653758874594, -0.28249117004222085, 0.11143697417596145, -1.7268052515751247], \"y\": [2.4270625431182724, 1.4641864887630034, 0.6843504543656909, 0.0, -0.6187180421461023, -1.4642310457298868, -2.4171263395032225, -0.11740760773836807], \"z\": [-0.24270179861513885, -0.2526380022301886, 0.310339274344491, 0.0, 0.36608003991591354, 0.07561317280152208, 0.07561317280152208, -2.4867243217754544], \"type\": \"scatter3d\"}, {\"hoverlabel\": {\"namelength\": 0}, \"hovertemplate\": \"<b>%{hovertext}</b><br><br>frame=69<br>x=%{x}<br>y=%{y}<br>z=%{z}\", \"hovertext\": [\"6\", \"5\", \"4\", \"3\", \"7\", \"8\", \"9\", null], \"ids\": [\"6\", \"5\", \"4\", \"3\", \"7\", \"8\", \"9\", null], \"legendgroup\": \"\", \"line\": {\"color\": \"#636efa\", \"dash\": \"solid\"}, \"mode\": \"lines\", \"name\": \"\", \"scene\": \"scene\", \"showlegend\": false, \"x\": [0.005970633562407222, -0.3023635772723205, -0.5391392992919368, 0.0, -0.5450653758874594, -0.28249117004222085, 0.11143697417596145, -1.7268052515751247], \"y\": [2.4270625431182724, 1.4641864887630034, 0.6843504543656909, 0.0, -0.6187180421461023, -1.4642310457298868, -2.4171263395032225, -0.11740760773836807], \"z\": [-0.24270179861513885, -0.2526380022301886, 0.310339274344491, 0.0, 0.36608003991591354, 0.07561317280152208, 0.07561317280152208, -2.4867243217754544], \"type\": \"scatter3d\"}], \"name\": \"69\"}, {\"data\": [{\"hoverlabel\": {\"namelength\": 0}, \"hovertemplate\": \"<b>%{hovertext}</b><br><br>frame=70<br>x=%{x}<br>y=%{y}<br>z=%{z}<br>diff=%{marker.color}\", \"hovertext\": [\"6\", \"5\", \"4\", \"3\", \"7\", \"8\", \"9\", null], \"ids\": [\"6\", \"5\", \"4\", \"3\", \"7\", \"8\", \"9\", null], \"legendgroup\": \"\", \"marker\": {\"color\": [1.5032709409506144, 1.401770170389702, 1.0078865831384034, 0.0, 1.0078865831384034, 1.401770170389702, 1.5032709409506144, 0.0], \"coloraxis\": \"coloraxis\", \"symbol\": \"circle\"}, \"mode\": \"markers\", \"name\": \"\", \"scene\": \"scene\", \"showlegend\": false, \"x\": [-0.0020050635097636042, -0.3163099079068975, -0.531163602219767, 0.0, -0.5371342357821742, -0.2785255999895782, 0.12930431789629748, -1.7347809486472956], \"y\": [2.391283298710716, 1.4522897786050737, 0.7042674185626739, 0.0, -0.6405509559190814, -1.4582158552005966, -2.4071455789212894, -0.11339748071884126], \"z\": [-0.45354536590848143, -0.35805978587685994, 0.30240813423920465, 0.0, 0.36804054645879336, 0.0, -0.09744608657450134, -2.4747830546506417], \"type\": \"scatter3d\"}, {\"hoverlabel\": {\"namelength\": 0}, \"hovertemplate\": \"<b>%{hovertext}</b><br><br>frame=70<br>x=%{x}<br>y=%{y}<br>z=%{z}\", \"hovertext\": [\"6\", \"5\", \"4\", \"3\", \"7\", \"8\", \"9\", null], \"ids\": [\"6\", \"5\", \"4\", \"3\", \"7\", \"8\", \"9\", null], \"legendgroup\": \"\", \"line\": {\"color\": \"#636efa\", \"dash\": \"solid\"}, \"mode\": \"lines\", \"name\": \"\", \"scene\": \"scene\", \"showlegend\": false, \"x\": [-0.0020050635097636042, -0.3163099079068975, -0.531163602219767, 0.0, -0.5371342357821742, -0.2785255999895782, 0.12930431789629748, -1.7347809486472956], \"y\": [2.391283298710716, 1.4522897786050737, 0.7042674185626739, 0.0, -0.6405509559190814, -1.4582158552005966, -2.4071455789212894, -0.11339748071884126], \"z\": [-0.45354536590848143, -0.35805978587685994, 0.30240813423920465, 0.0, 0.36804054645879336, 0.0, -0.09744608657450134, -2.4747830546506417], \"type\": \"scatter3d\"}], \"name\": \"70\"}, {\"data\": [{\"hoverlabel\": {\"namelength\": 0}, \"hovertemplate\": \"<b>%{hovertext}</b><br><br>frame=71<br>x=%{x}<br>y=%{y}<br>z=%{z}<br>diff=%{marker.color}\", \"hovertext\": [\"6\", \"5\", \"4\", \"3\", \"7\", \"8\", \"9\", null], \"ids\": [\"6\", \"5\", \"4\", \"3\", \"7\", \"8\", \"9\", null], \"legendgroup\": \"\", \"marker\": {\"color\": [1.5650268970513261, 1.4674916965430582, 1.0099807605819333, 0.0, 1.009980760581933, 1.467491696543058, 1.5650268970513261, 0.0], \"coloraxis\": \"coloraxis\", \"symbol\": \"circle\"}, \"mode\": \"markers\", \"name\": \"\", \"scene\": \"scene\", \"showlegend\": false, \"x\": [-0.003965570052643618, -0.3163099079068975, -0.5212273986047172, 0.0, -0.531163602219767, -0.27054990291740844, 0.1313093814060611, -1.7427120887525818], \"y\": [2.3474838002641074, 1.4064852166487007, 0.7201296987732467, 0.0, -0.648571209958135, -1.4542502851479535, -2.3813470950956663, -0.1114369741759615], \"z\": [-0.6485266529912513, -0.4416040987836684, 0.29046686711439146, 0.0, 0.3620699128963867, -0.06763747572935208, -0.2526380022301886, -2.468812421088235], \"type\": \"scatter3d\"}, {\"hoverlabel\": {\"namelength\": 0}, \"hovertemplate\": \"<b>%{hovertext}</b><br><br>frame=71<br>x=%{x}<br>y=%{y}<br>z=%{z}\", \"hovertext\": [\"6\", \"5\", \"4\", \"3\", \"7\", \"8\", \"9\", null], \"ids\": [\"6\", \"5\", \"4\", \"3\", \"7\", \"8\", \"9\", null], \"legendgroup\": \"\", \"line\": {\"color\": \"#636efa\", \"dash\": \"solid\"}, \"mode\": \"lines\", \"name\": \"\", \"scene\": \"scene\", \"showlegend\": false, \"x\": [-0.003965570052643618, -0.3163099079068975, -0.5212273986047172, 0.0, -0.531163602219767, -0.27054990291740844, 0.1313093814060611, -1.7427120887525818], \"y\": [2.3474838002641074, 1.4064852166487007, 0.7201296987732467, 0.0, -0.648571209958135, -1.4542502851479535, -2.3813470950956663, -0.1114369741759615], \"z\": [-0.6485266529912513, -0.4416040987836684, 0.29046686711439146, 0.0, 0.3620699128963867, -0.06763747572935208, -0.2526380022301886, -2.468812421088235], \"type\": \"scatter3d\"}], \"name\": \"71\"}, {\"data\": [{\"hoverlabel\": {\"namelength\": 0}, \"hovertemplate\": \"<b>%{hovertext}</b><br><br>frame=72<br>x=%{x}<br>y=%{y}<br>z=%{z}<br>diff=%{marker.color}\", \"hovertext\": [\"6\", \"5\", \"4\", \"3\", \"7\", \"8\", \"9\", null], \"ids\": [\"6\", \"5\", \"4\", \"3\", \"7\", \"8\", \"9\", null], \"legendgroup\": \"\", \"marker\": {\"color\": [1.6007615844919991, 1.4973894213219743, 1.0298086108451492, 0.0, 1.0298086108451492, 1.4973894213219743, 1.6007615844919991, 0.0], \"coloraxis\": \"coloraxis\", \"symbol\": \"circle\"}, \"mode\": \"markers\", \"name\": \"\", \"scene\": \"scene\", \"showlegend\": false, \"x\": [-0.003965570052643618, -0.3163099079068975, -0.5092861314799038, 0.0, -0.5192223350949535, -0.2625742058452386, 0.14922128209328073, -1.748682722314988], \"y\": [2.2818513880445184, 1.3687009087313817, 0.7321155228649434, 0.0, -0.6644334901687078, -1.4343333209509705, -2.335542533139294, -0.11339748071884126], \"z\": [-0.8394978130544944, -0.5331686657295304, 0.27255496642717175, 0.0, 0.3601094063535069, -0.15514735868880367, -0.4456142258031951, -2.464846851035592], \"type\": \"scatter3d\"}, {\"hoverlabel\": {\"namelength\": 0}, \"hovertemplate\": \"<b>%{hovertext}</b><br><br>frame=72<br>x=%{x}<br>y=%{y}<br>z=%{z}\", \"hovertext\": [\"6\", \"5\", \"4\", \"3\", \"7\", \"8\", \"9\", null], \"ids\": [\"6\", \"5\", \"4\", \"3\", \"7\", \"8\", \"9\", null], \"legendgroup\": \"\", \"line\": {\"color\": \"#636efa\", \"dash\": \"solid\"}, \"mode\": \"lines\", \"name\": \"\", \"scene\": \"scene\", \"showlegend\": false, \"x\": [-0.003965570052643618, -0.3163099079068975, -0.5092861314799038, 0.0, -0.5192223350949535, -0.2625742058452386, 0.14922128209328073, -1.748682722314988], \"y\": [2.2818513880445184, 1.3687009087313817, 0.7321155228649434, 0.0, -0.6644334901687078, -1.4343333209509705, -2.335542533139294, -0.11339748071884126], \"z\": [-0.8394978130544944, -0.5331686657295304, 0.27255496642717175, 0.0, 0.3601094063535069, -0.15514735868880367, -0.4456142258031951, -2.464846851035592], \"type\": \"scatter3d\"}], \"name\": \"72\"}, {\"data\": [{\"hoverlabel\": {\"namelength\": 0}, \"hovertemplate\": \"<b>%{hovertext}</b><br><br>frame=73<br>x=%{x}<br>y=%{y}<br>z=%{z}<br>diff=%{marker.color}\", \"hovertext\": [\"6\", \"5\", \"4\", \"3\", \"7\", \"8\", \"9\", null], \"ids\": [\"6\", \"5\", \"4\", \"3\", \"7\", \"8\", \"9\", null], \"legendgroup\": \"\", \"marker\": {\"color\": [1.6147524720934592, 1.5232770190813643, 1.0298531678120328, 0.0, 1.0298531678120328, 1.5232770190813647, 1.6147524720934592, 0.0], \"coloraxis\": \"coloraxis\", \"symbol\": \"circle\"}, \"mode\": \"markers\", \"name\": \"\", \"scene\": \"scene\", \"showlegend\": false, \"x\": [-0.01390177366769243, -0.33021168157458997, -0.5013104344077339, 0.0, -0.5072810679701402, -0.2625742058452376, 0.15519191565568796, -1.7546533558773942], \"y\": [2.19229188460842, 1.3149652066697226, 0.7460172965326363, 0.0, -0.6744142507506412, -1.4025642035629413, -2.259973917304656, -0.11740760773836807], \"z\": [-1.0245428965222148, -0.6167129786363388, 0.2586086357925952, 0.0, 0.35409421582421674, -0.24867243217754542, -0.6465661464483717, -2.4569157109303053], \"type\": \"scatter3d\"}, {\"hoverlabel\": {\"namelength\": 0}, \"hovertemplate\": \"<b>%{hovertext}</b><br><br>frame=73<br>x=%{x}<br>y=%{y}<br>z=%{z}\", \"hovertext\": [\"6\", \"5\", \"4\", \"3\", \"7\", \"8\", \"9\", null], \"ids\": [\"6\", \"5\", \"4\", \"3\", \"7\", \"8\", \"9\", null], \"legendgroup\": \"\", \"line\": {\"color\": \"#636efa\", \"dash\": \"solid\"}, \"mode\": \"lines\", \"name\": \"\", \"scene\": \"scene\", \"showlegend\": false, \"x\": [-0.01390177366769243, -0.33021168157458997, -0.5013104344077339, 0.0, -0.5072810679701402, -0.2625742058452376, 0.15519191565568796, -1.7546533558773942], \"y\": [2.19229188460842, 1.3149652066697226, 0.7460172965326363, 0.0, -0.6744142507506412, -1.4025642035629413, -2.259973917304656, -0.11740760773836807], \"z\": [-1.0245428965222148, -0.6167129786363388, 0.2586086357925952, 0.0, 0.35409421582421674, -0.24867243217754542, -0.6465661464483717, -2.4569157109303053], \"type\": \"scatter3d\"}], \"name\": \"73\"}, {\"data\": [{\"hoverlabel\": {\"namelength\": 0}, \"hovertemplate\": \"<b>%{hovertext}</b><br><br>frame=74<br>x=%{x}<br>y=%{y}<br>z=%{z}<br>diff=%{marker.color}\", \"hovertext\": [\"6\", \"5\", \"4\", \"3\", \"7\", \"8\", \"9\", null], \"ids\": [\"6\", \"5\", \"4\", \"3\", \"7\", \"8\", \"9\", null], \"legendgroup\": \"\", \"marker\": {\"color\": [1.594790950929593, 1.5231879051475965, 1.0238825342496263, 0.0, 1.0238825342496263, 1.5231879051475965, 1.594790950929593, 0.0], \"coloraxis\": \"coloraxis\", \"symbol\": \"circle\"}, \"mode\": \"markers\", \"name\": \"\", \"scene\": \"scene\", \"showlegend\": false, \"x\": [-0.03782886488420288, -0.34616307571892957, -0.49934992786485394, 0.0, -0.49934992786485394, -0.27255496642717103, 0.12729925438653492, -1.7646341164593276], \"y\": [2.0868701009617485, 1.259313555032067, 0.7539929936048063, 0.0, -0.6883160244183341, -1.370705972241145, -2.1803506174836067, -0.11936811428124786], \"z\": [-1.209543423023051, -0.6962917214905039, 0.2526380022301886, 0.0, 0.3421975056662872, -0.3581043428437436, -0.8733611078860541, -2.4489400138581354], \"type\": \"scatter3d\"}, {\"hoverlabel\": {\"namelength\": 0}, \"hovertemplate\": \"<b>%{hovertext}</b><br><br>frame=74<br>x=%{x}<br>y=%{y}<br>z=%{z}\", \"hovertext\": [\"6\", \"5\", \"4\", \"3\", \"7\", \"8\", \"9\", null], \"ids\": [\"6\", \"5\", \"4\", \"3\", \"7\", \"8\", \"9\", null], \"legendgroup\": \"\", \"line\": {\"color\": \"#636efa\", \"dash\": \"solid\"}, \"mode\": \"lines\", \"name\": \"\", \"scene\": \"scene\", \"showlegend\": false, \"x\": [-0.03782886488420288, -0.34616307571892957, -0.49934992786485394, 0.0, -0.49934992786485394, -0.27255496642717103, 0.12729925438653492, -1.7646341164593276], \"y\": [2.0868701009617485, 1.259313555032067, 0.7539929936048063, 0.0, -0.6883160244183341, -1.370705972241145, -2.1803506174836067, -0.11936811428124786], \"z\": [-1.209543423023051, -0.6962917214905039, 0.2526380022301886, 0.0, 0.3421975056662872, -0.3581043428437436, -0.8733611078860541, -2.4489400138581354], \"type\": \"scatter3d\"}], \"name\": \"74\"}, {\"data\": [{\"hoverlabel\": {\"namelength\": 0}, \"hovertemplate\": \"<b>%{hovertext}</b><br><br>frame=75<br>x=%{x}<br>y=%{y}<br>z=%{z}<br>diff=%{marker.color}\", \"hovertext\": [\"6\", \"5\", \"4\", \"3\", \"7\", \"8\", \"9\", null], \"ids\": [\"6\", \"5\", \"4\", \"3\", \"7\", \"8\", \"9\", null], \"legendgroup\": \"\", \"marker\": {\"color\": [1.5073256249370237, 1.483443090687398, 1.0278926612691535, 0.0, 1.0278926612691535, 1.4834430906873983, 1.5073256249370237, 0.0], \"coloraxis\": \"coloraxis\", \"symbol\": \"circle\"}, \"mode\": \"markers\", \"name\": \"\", \"scene\": \"scene\", \"showlegend\": false, \"x\": [-0.04776506849925271, -0.35810434284374404, -0.4913742307926841, 0.0, -0.4933792943024477, -0.28249117004222185, 0.09749064354138441, -1.7665946230022076], \"y\": [1.9854138873677205, 1.2115484865328148, 0.7619241337100927, 0.0, -0.7022623550529107, -1.3189753336892494, -2.070963263784292, -0.11740760773836807], \"z\": [-1.3567596416065686, -0.7539484366379228, 0.24270179861513888, 0.0, 0.3282511750317107, -0.45354536590848143, -1.0802391051267535, -2.4429693802957284], \"type\": \"scatter3d\"}, {\"hoverlabel\": {\"namelength\": 0}, \"hovertemplate\": \"<b>%{hovertext}</b><br><br>frame=75<br>x=%{x}<br>y=%{y}<br>z=%{z}\", \"hovertext\": [\"6\", \"5\", \"4\", \"3\", \"7\", \"8\", \"9\", null], \"ids\": [\"6\", \"5\", \"4\", \"3\", \"7\", \"8\", \"9\", null], \"legendgroup\": \"\", \"line\": {\"color\": \"#636efa\", \"dash\": \"solid\"}, \"mode\": \"lines\", \"name\": \"\", \"scene\": \"scene\", \"showlegend\": false, \"x\": [-0.04776506849925271, -0.35810434284374404, -0.4913742307926841, 0.0, -0.4933792943024477, -0.28249117004222185, 0.09749064354138441, -1.7665946230022076], \"y\": [1.9854138873677205, 1.2115484865328148, 0.7619241337100927, 0.0, -0.7022623550529107, -1.3189753336892494, -2.070963263784292, -0.11740760773836807], \"z\": [-1.3567596416065686, -0.7539484366379228, 0.24270179861513888, 0.0, 0.3282511750317107, -0.45354536590848143, -1.0802391051267535, -2.4429693802957284], \"type\": \"scatter3d\"}], \"name\": \"75\"}, {\"data\": [{\"hoverlabel\": {\"namelength\": 0}, \"hovertemplate\": \"<b>%{hovertext}</b><br><br>frame=76<br>x=%{x}<br>y=%{y}<br>z=%{z}<br>diff=%{marker.color}\", \"hovertext\": [\"6\", \"5\", \"4\", \"3\", \"7\", \"8\", \"9\", null], \"ids\": [\"6\", \"5\", \"4\", \"3\", \"7\", \"8\", \"9\", null], \"legendgroup\": \"\", \"marker\": {\"color\": [1.3322167450843538, 1.421731691553569, 1.045670891055722, 0.0, 1.045670891055722, 1.4217316915535694, 1.3322167450843538, 0.0], \"coloraxis\": \"coloraxis\", \"symbol\": \"circle\"}, \"mode\": \"markers\", \"name\": \"\", \"scene\": \"scene\", \"showlegend\": false, \"x\": [-0.06166684216694615, -0.3640304194392666, -0.4794329636678717, 0.0, -0.4893691672829215, -0.29639294370991426, 0.07761823631128476, -1.7685551295450876], \"y\": [1.8958989408985054, 1.159817847980919, 0.7698998307822627, 0.0, -0.71415906521084, -1.2592689980651837, -1.9098007145661984, -0.11339748071884126], \"z\": [-1.482098389450223, -0.8116942657191086, 0.22679496143768255, 0.0, 0.31827041444977733, -0.5570511999791566, -1.3030684965117931, -2.441008873752849], \"type\": \"scatter3d\"}, {\"hoverlabel\": {\"namelength\": 0}, \"hovertemplate\": \"<b>%{hovertext}</b><br><br>frame=76<br>x=%{x}<br>y=%{y}<br>z=%{z}\", \"hovertext\": [\"6\", \"5\", \"4\", \"3\", \"7\", \"8\", \"9\", null], \"ids\": [\"6\", \"5\", \"4\", \"3\", \"7\", \"8\", \"9\", null], \"legendgroup\": \"\", \"line\": {\"color\": \"#636efa\", \"dash\": \"solid\"}, \"mode\": \"lines\", \"name\": \"\", \"scene\": \"scene\", \"showlegend\": false, \"x\": [-0.06166684216694615, -0.3640304194392666, -0.4794329636678717, 0.0, -0.4893691672829215, -0.29639294370991426, 0.07761823631128476, -1.7685551295450876], \"y\": [1.8958989408985054, 1.159817847980919, 0.7698998307822627, 0.0, -0.71415906521084, -1.2592689980651837, -1.9098007145661984, -0.11339748071884126], \"z\": [-1.482098389450223, -0.8116942657191086, 0.22679496143768255, 0.0, 0.31827041444977733, -0.5570511999791566, -1.3030684965117931, -2.441008873752849], \"type\": \"scatter3d\"}], \"name\": \"76\"}, {\"data\": [{\"hoverlabel\": {\"namelength\": 0}, \"hovertemplate\": \"<b>%{hovertext}</b><br><br>frame=77<br>x=%{x}<br>y=%{y}<br>z=%{z}<br>diff=%{marker.color}\", \"hovertext\": [\"6\", \"5\", \"4\", \"3\", \"7\", \"8\", \"9\", null], \"ids\": [\"6\", \"5\", \"4\", \"3\", \"7\", \"8\", \"9\", null], \"legendgroup\": \"\", \"marker\": {\"color\": [1.2009073636782928, 1.33021168157459, 1.0218329137729796, 0.0, 1.0218329137729798, 1.3302116815745895, 1.2009073636782928, 0.0], \"coloraxis\": \"coloraxis\", \"symbol\": \"circle\"}, \"mode\": \"markers\", \"name\": \"\", \"scene\": \"scene\", \"showlegend\": false, \"x\": [-0.06166684216694514, -0.3680405464587928, -0.4754673936152281, 0.0, -0.47150182356258447, -0.29844256418656145, 0.04972557504213272, -1.7745703200743774], \"y\": [1.7944427273044772, 1.118023413044073, 0.7758704643446693, 0.0, -0.7161641287206034, -1.1777297486681386, -1.7685551295450876, -0.1094319106661981], \"z\": [-1.5716133359194377, -0.8335271794920879, 0.22282939138503938, 0.0, 0.3004030707294412, -0.632619815813795, -1.4562107916908333, -2.436998746733322], \"type\": \"scatter3d\"}, {\"hoverlabel\": {\"namelength\": 0}, \"hovertemplate\": \"<b>%{hovertext}</b><br><br>frame=77<br>x=%{x}<br>y=%{y}<br>z=%{z}\", \"hovertext\": [\"6\", \"5\", \"4\", \"3\", \"7\", \"8\", \"9\", null], \"ids\": [\"6\", \"5\", \"4\", \"3\", \"7\", \"8\", \"9\", null], \"legendgroup\": \"\", \"line\": {\"color\": \"#636efa\", \"dash\": \"solid\"}, \"mode\": \"lines\", \"name\": \"\", \"scene\": \"scene\", \"showlegend\": false, \"x\": [-0.06166684216694514, -0.3680405464587928, -0.4754673936152281, 0.0, -0.47150182356258447, -0.29844256418656145, 0.04972557504213272, -1.7745703200743774], \"y\": [1.7944427273044772, 1.118023413044073, 0.7758704643446693, 0.0, -0.7161641287206034, -1.1777297486681386, -1.7685551295450876, -0.1094319106661981], \"z\": [-1.5716133359194377, -0.8335271794920879, 0.22282939138503938, 0.0, 0.3004030707294412, -0.632619815813795, -1.4562107916908333, -2.436998746733322], \"type\": \"scatter3d\"}], \"name\": \"77\"}, {\"data\": [{\"hoverlabel\": {\"namelength\": 0}, \"hovertemplate\": \"<b>%{hovertext}</b><br><br>frame=78<br>x=%{x}<br>y=%{y}<br>z=%{z}<br>diff=%{marker.color}\", \"hovertext\": [\"6\", \"5\", \"4\", \"3\", \"7\", \"8\", \"9\", null], \"ids\": [\"6\", \"5\", \"4\", \"3\", \"7\", \"8\", \"9\", null], \"legendgroup\": \"\", \"marker\": {\"color\": [1.0934805165218577, 1.3242856049790674, 1.043754941479726, 0.0, 1.043754941479726, 1.324285604979067, 1.0934805165218577, 0.0], \"coloraxis\": \"coloraxis\", \"symbol\": \"circle\"}, \"mode\": \"markers\", \"name\": \"\", \"scene\": \"scene\", \"showlegend\": false, \"x\": [-0.08358886987369198, -0.3919230807084197, -0.4794775206347553, 0.0, -0.45956055643777205, -0.3083787678016113, -0.0020050635097636042, -1.778535890127021], \"y\": [1.6870158801480426, 1.0802391051267537, 0.7739099578017894, 0.0, -0.7301104593551802, -1.137940377241056, -1.627309544523977, -0.11339748071884126], \"z\": [-1.6631333458984163, -0.8673904743236477, 0.22282939138503938, 0.0, 0.29046686711439146, -0.6843504543656909, -1.5915303001164212, -2.433033176680679], \"type\": \"scatter3d\"}, {\"hoverlabel\": {\"namelength\": 0}, \"hovertemplate\": \"<b>%{hovertext}</b><br><br>frame=78<br>x=%{x}<br>y=%{y}<br>z=%{z}\", \"hovertext\": [\"6\", \"5\", \"4\", \"3\", \"7\", \"8\", \"9\", null], \"ids\": [\"6\", \"5\", \"4\", \"3\", \"7\", \"8\", \"9\", null], \"legendgroup\": \"\", \"line\": {\"color\": \"#636efa\", \"dash\": \"solid\"}, \"mode\": \"lines\", \"name\": \"\", \"scene\": \"scene\", \"showlegend\": false, \"x\": [-0.08358886987369198, -0.3919230807084197, -0.4794775206347553, 0.0, -0.45956055643777205, -0.3083787678016113, -0.0020050635097636042, -1.778535890127021], \"y\": [1.6870158801480426, 1.0802391051267537, 0.7739099578017894, 0.0, -0.7301104593551802, -1.137940377241056, -1.627309544523977, -0.11339748071884126], \"z\": [-1.6631333458984163, -0.8673904743236477, 0.22282939138503938, 0.0, 0.29046686711439146, -0.6843504543656909, -1.5915303001164212, -2.433033176680679], \"type\": \"scatter3d\"}], \"name\": \"78\"}, {\"data\": [{\"hoverlabel\": {\"namelength\": 0}, \"hovertemplate\": \"<b>%{hovertext}</b><br><br>frame=79<br>x=%{x}<br>y=%{y}<br>z=%{z}<br>diff=%{marker.color}\", \"hovertext\": [\"6\", \"5\", \"4\", \"3\", \"7\", \"8\", \"9\", null], \"ids\": [\"6\", \"5\", \"4\", \"3\", \"7\", \"8\", \"9\", null], \"legendgroup\": \"\", \"marker\": {\"color\": [1.1094319106661987, 1.3163544648737813, 1.0258875977593893, 0.0, 1.0258875977593893, 1.3163544648737813, 1.1094319106661983, 0.0], \"coloraxis\": \"coloraxis\", \"symbol\": \"circle\"}, \"mode\": \"markers\", \"name\": \"\", \"scene\": \"scene\", \"showlegend\": false, \"x\": [-0.11139241720907786, -0.4018592843234695, -0.46152106298065104, 0.0, -0.45755549292800846, -0.3063737042918477, -0.005970633562406208, -1.7825014601796636], \"y\": [1.5895252366066577, 1.0424102402425508, 0.7858066679597189, 0.0, -0.7321155228649434, -1.1061267028861432, -1.5278583944397124, -0.1114369741759615], \"z\": [-1.7506877858247516, -0.8892679450635105, 0.2148536943128694, 0.0, 0.29046686711439146, -0.7321155228649434, -1.6850108166382793, -2.4290676066280357], \"type\": \"scatter3d\"}, {\"hoverlabel\": {\"namelength\": 0}, \"hovertemplate\": \"<b>%{hovertext}</b><br><br>frame=79<br>x=%{x}<br>y=%{y}<br>z=%{z}\", \"hovertext\": [\"6\", \"5\", \"4\", \"3\", \"7\", \"8\", \"9\", null], \"ids\": [\"6\", \"5\", \"4\", \"3\", \"7\", \"8\", \"9\", null], \"legendgroup\": \"\", \"line\": {\"color\": \"#636efa\", \"dash\": \"solid\"}, \"mode\": \"lines\", \"name\": \"\", \"scene\": \"scene\", \"showlegend\": false, \"x\": [-0.11139241720907786, -0.4018592843234695, -0.46152106298065104, 0.0, -0.45755549292800846, -0.3063737042918477, -0.005970633562406208, -1.7825014601796636], \"y\": [1.5895252366066577, 1.0424102402425508, 0.7858066679597189, 0.0, -0.7321155228649434, -1.1061267028861432, -1.5278583944397124, -0.1114369741759615], \"z\": [-1.7506877858247516, -0.8892679450635105, 0.2148536943128694, 0.0, 0.29046686711439146, -0.7321155228649434, -1.6850108166382793, -2.4290676066280357], \"type\": \"scatter3d\"}], \"name\": \"79\"}, {\"data\": [{\"hoverlabel\": {\"namelength\": 0}, \"hovertemplate\": \"<b>%{hovertext}</b><br><br>frame=80<br>x=%{x}<br>y=%{y}<br>z=%{z}<br>diff=%{marker.color}\", \"hovertext\": [\"6\", \"5\", \"4\", \"3\", \"7\", \"8\", \"9\", null], \"ids\": [\"6\", \"5\", \"4\", \"3\", \"7\", \"8\", \"9\", null], \"legendgroup\": \"\", \"marker\": {\"color\": [1.0616222852000627, 1.3122997808873702, 1.0237934203158596, 0.0, 1.0237934203158596, 1.3122997808873702, 1.0616222852000627, 0.0], \"coloraxis\": \"coloraxis\", \"symbol\": \"circle\"}, \"mode\": \"markers\", \"name\": \"\", \"scene\": \"scene\", \"showlegend\": false, \"x\": [-0.11540254422860506, -0.43567802218814516, -0.45755549292800846, 0.0, -0.4535899228753648, -0.2904668671143917, 0.003965570052643618, -1.7845065236894273], \"y\": [1.4920791500321564, 1.0384892271567912, 0.7878117314694824, 0.0, -0.7380415994604664, -1.0682978380019406, -1.4005145830862946, -0.1074268471564347], \"z\": [-1.804378930919527, -0.9051747822409668, 0.2188638213323962, 0.0, 0.28846180360462803, -0.7678947672724993, -1.7705601930548511, -2.421091909555866], \"type\": \"scatter3d\"}, {\"hoverlabel\": {\"namelength\": 0}, \"hovertemplate\": \"<b>%{hovertext}</b><br><br>frame=80<br>x=%{x}<br>y=%{y}<br>z=%{z}\", \"hovertext\": [\"6\", \"5\", \"4\", \"3\", \"7\", \"8\", \"9\", null], \"ids\": [\"6\", \"5\", \"4\", \"3\", \"7\", \"8\", \"9\", null], \"legendgroup\": \"\", \"line\": {\"color\": \"#636efa\", \"dash\": \"solid\"}, \"mode\": \"lines\", \"name\": \"\", \"scene\": \"scene\", \"showlegend\": false, \"x\": [-0.11540254422860506, -0.43567802218814516, -0.45755549292800846, 0.0, -0.4535899228753648, -0.2904668671143917, 0.003965570052643618, -1.7845065236894273], \"y\": [1.4920791500321564, 1.0384892271567912, 0.7878117314694824, 0.0, -0.7380415994604664, -1.0682978380019406, -1.4005145830862946, -0.1074268471564347], \"z\": [-1.804378930919527, -0.9051747822409668, 0.2188638213323962, 0.0, 0.28846180360462803, -0.7678947672724993, -1.7705601930548511, -2.421091909555866], \"type\": \"scatter3d\"}], \"name\": \"80\"}, {\"data\": [{\"hoverlabel\": {\"namelength\": 0}, \"hovertemplate\": \"<b>%{hovertext}</b><br><br>frame=81<br>x=%{x}<br>y=%{y}<br>z=%{z}<br>diff=%{marker.color}\", \"hovertext\": [\"6\", \"5\", \"4\", \"3\", \"7\", \"8\", \"9\", null], \"ids\": [\"6\", \"5\", \"4\", \"3\", \"7\", \"8\", \"9\", null], \"legendgroup\": \"\", \"marker\": {\"color\": [1.025843040792506, 1.2765650934466986, 1.0219220277067471, 0.0, 1.0219220277067471, 1.2765650934466988, 1.025843040792506, 0.0], \"coloraxis\": \"coloraxis\", \"symbol\": \"circle\"}, \"mode\": \"markers\", \"name\": \"\", \"scene\": \"scene\", \"showlegend\": false, \"x\": [-0.10742684715643423, -0.4416486557505514, -0.4535899228753648, 0.0, -0.44962435282272123, -0.27255496642717103, 0.02383797728274327, -1.7904771572518334], \"y\": [1.4005145830862944, 1.0305135300846213, 0.7917773015221256, 0.0, -0.74606185349952, -1.0384892271567912, -1.2871616593343367, -0.1114369741759615], \"z\": [-1.8501389359090163, -0.9091849092604937, 0.21681420085574918, 0.0, 0.2804861065324581, -0.8096892022093453, -1.84220779580373, -2.419131403012986], \"type\": \"scatter3d\"}, {\"hoverlabel\": {\"namelength\": 0}, \"hovertemplate\": \"<b>%{hovertext}</b><br><br>frame=81<br>x=%{x}<br>y=%{y}<br>z=%{z}\", \"hovertext\": [\"6\", \"5\", \"4\", \"3\", \"7\", \"8\", \"9\", null], \"ids\": [\"6\", \"5\", \"4\", \"3\", \"7\", \"8\", \"9\", null], \"legendgroup\": \"\", \"line\": {\"color\": \"#636efa\", \"dash\": \"solid\"}, \"mode\": \"lines\", \"name\": \"\", \"scene\": \"scene\", \"showlegend\": false, \"x\": [-0.10742684715643423, -0.4416486557505514, -0.4535899228753648, 0.0, -0.44962435282272123, -0.27255496642717103, 0.02383797728274327, -1.7904771572518334], \"y\": [1.4005145830862944, 1.0305135300846213, 0.7917773015221256, 0.0, -0.74606185349952, -1.0384892271567912, -1.2871616593343367, -0.1114369741759615], \"z\": [-1.8501389359090163, -0.9091849092604937, 0.21681420085574918, 0.0, 0.2804861065324581, -0.8096892022093453, -1.84220779580373, -2.419131403012986], \"type\": \"scatter3d\"}], \"name\": \"81\"}, {\"data\": [{\"hoverlabel\": {\"namelength\": 0}, \"hovertemplate\": \"<b>%{hovertext}</b><br><br>frame=82<br>x=%{x}<br>y=%{y}<br>z=%{z}<br>diff=%{marker.color}\", \"hovertext\": [\"6\", \"5\", \"4\", \"3\", \"7\", \"8\", \"9\", null], \"ids\": [\"6\", \"5\", \"4\", \"3\", \"7\", \"8\", \"9\", null], \"legendgroup\": \"\", \"marker\": {\"color\": [0.9781225292601379, 1.220779770908392, 1.0198724072300993, 0.0, 1.019872407230099, 1.220779770908392, 0.9781225292601377, 0.0], \"coloraxis\": \"coloraxis\", \"symbol\": \"circle\"}, \"mode\": \"markers\", \"name\": \"\", \"scene\": \"scene\", \"showlegend\": false, \"x\": [-0.08358886987369198, -0.43567802218814516, -0.4416486557505514, 0.0, -0.4337175156452652, -0.25865319275947857, 0.03181367435491308, -1.7924822207615971], \"y\": [1.348828501501282, 1.0444153037523143, 0.7977479350845322, 0.0, -0.7539929936048063, -1.0225378330124513, -1.2115484865328148, -0.1094319106661981], \"z\": [-1.8839576737736925, -0.8971990851687968, 0.2168587578226328, 0.0, 0.27255496642717175, -0.8315666729492082, -1.8839576737736925, -2.4151212759934593], \"type\": \"scatter3d\"}, {\"hoverlabel\": {\"namelength\": 0}, \"hovertemplate\": \"<b>%{hovertext}</b><br><br>frame=82<br>x=%{x}<br>y=%{y}<br>z=%{z}\", \"hovertext\": [\"6\", \"5\", \"4\", \"3\", \"7\", \"8\", \"9\", null], \"ids\": [\"6\", \"5\", \"4\", \"3\", \"7\", \"8\", \"9\", null], \"legendgroup\": \"\", \"line\": {\"color\": \"#636efa\", \"dash\": \"solid\"}, \"mode\": \"lines\", \"name\": \"\", \"scene\": \"scene\", \"showlegend\": false, \"x\": [-0.08358886987369198, -0.43567802218814516, -0.4416486557505514, 0.0, -0.4337175156452652, -0.25865319275947857, 0.03181367435491308, -1.7924822207615971], \"y\": [1.348828501501282, 1.0444153037523143, 0.7977479350845322, 0.0, -0.7539929936048063, -1.0225378330124513, -1.2115484865328148, -0.1094319106661981], \"z\": [-1.8839576737736925, -0.8971990851687968, 0.2168587578226328, 0.0, 0.27255496642717175, -0.8315666729492082, -1.8839576737736925, -2.4151212759934593], \"type\": \"scatter3d\"}], \"name\": \"82\"}, {\"data\": [{\"hoverlabel\": {\"namelength\": 0}, \"hovertemplate\": \"<b>%{hovertext}</b><br><br>frame=83<br>x=%{x}<br>y=%{y}<br>z=%{z}<br>diff=%{marker.color}\", \"hovertext\": [\"6\", \"5\", \"4\", \"3\", \"7\", \"8\", \"9\", null], \"ids\": [\"6\", \"5\", \"4\", \"3\", \"7\", \"8\", \"9\", null], \"legendgroup\": \"\", \"marker\": {\"color\": [0.9780779722932531, 1.2128931877699896, 1.0218774707398621, 0.0, 1.0218774707398623, 1.2128931877699896, 0.9780779722932529, 0.0], \"coloraxis\": \"coloraxis\", \"symbol\": \"circle\"}, \"mode\": \"markers\", \"name\": \"\", \"scene\": \"scene\", \"showlegend\": false, \"x\": [-0.06959798227223135, -0.429707388625739, -0.429707388625739, 0.0, -0.43367295867838157, -0.2625742058452386, 0.02588759775938945, -1.794442727304477], \"y\": [1.2950927994396229, 1.0384446701899077, 0.7977479350845322, 0.0, -0.7619241337100927, -1.0165671994500447, -1.1697540515959688, -0.1094319106661981], \"z\": [-1.901869574460912, -0.9091403522936101, 0.21881926436551258, 0.0, 0.27255496642717175, -0.8415028765642579, -1.9098007145661984, -2.411155705940816], \"type\": \"scatter3d\"}, {\"hoverlabel\": {\"namelength\": 0}, \"hovertemplate\": \"<b>%{hovertext}</b><br><br>frame=83<br>x=%{x}<br>y=%{y}<br>z=%{z}\", \"hovertext\": [\"6\", \"5\", \"4\", \"3\", \"7\", \"8\", \"9\", null], \"ids\": [\"6\", \"5\", \"4\", \"3\", \"7\", \"8\", \"9\", null], \"legendgroup\": \"\", \"line\": {\"color\": \"#636efa\", \"dash\": \"solid\"}, \"mode\": \"lines\", \"name\": \"\", \"scene\": \"scene\", \"showlegend\": false, \"x\": [-0.06959798227223135, -0.429707388625739, -0.429707388625739, 0.0, -0.43367295867838157, -0.2625742058452386, 0.02588759775938945, -1.794442727304477], \"y\": [1.2950927994396229, 1.0384446701899077, 0.7977479350845322, 0.0, -0.7619241337100927, -1.0165671994500447, -1.1697540515959688, -0.1094319106661981], \"z\": [-1.901869574460912, -0.9091403522936101, 0.21881926436551258, 0.0, 0.27255496642717175, -0.8415028765642579, -1.9098007145661984, -2.411155705940816], \"type\": \"scatter3d\"}], \"name\": \"83\"}]);\n",
       "                        }).then(function(){\n",
       "                            \n",
       "var gd = document.getElementById('63990a9e-4da5-40dd-a5e3-8c0af32f600a');\n",
       "var x = new MutationObserver(function (mutations, observer) {{\n",
       "        var display = window.getComputedStyle(gd).display;\n",
       "        if (!display || display === 'none') {{\n",
       "            console.log([gd, 'removed!']);\n",
       "            Plotly.purge(gd);\n",
       "            observer.disconnect();\n",
       "        }}\n",
       "}});\n",
       "\n",
       "// Listen for the removal of the full notebook cells\n",
       "var notebookContainer = gd.closest('#notebook-container');\n",
       "if (notebookContainer) {{\n",
       "    x.observe(notebookContainer, {childList: true});\n",
       "}}\n",
       "\n",
       "// Listen for the clearing of the current output cell\n",
       "var outputEl = gd.closest('.output');\n",
       "if (outputEl) {{\n",
       "    x.observe(outputEl, {childList: true});\n",
       "}}\n",
       "\n",
       "                        })\n",
       "                };\n",
       "                });\n",
       "            </script>\n",
       "        </div>"
      ]
     },
     "metadata": {},
     "output_type": "display_data"
    }
   ],
   "source": [
    "for df in log_progress(dfs):\n",
    "    get_df_figure_3d(df, types = ['scatter', 'line'], colored_diffs = True).show()"
   ]
  },
  {
   "cell_type": "code",
   "execution_count": null,
   "metadata": {},
   "outputs": [],
   "source": []
  }
 ],
 "metadata": {
  "kernelspec": {
   "display_name": "Python 3",
   "language": "python",
   "name": "python3"
  },
  "language_info": {
   "codemirror_mode": {
    "name": "ipython",
    "version": 3
   },
   "file_extension": ".py",
   "mimetype": "text/x-python",
   "name": "python",
   "nbconvert_exporter": "python",
   "pygments_lexer": "ipython3",
   "version": "3.6.10"
  },
  "varInspector": {
   "cols": {
    "lenName": 16,
    "lenType": 16,
    "lenVar": 40
   },
   "kernels_config": {
    "python": {
     "delete_cmd_postfix": "",
     "delete_cmd_prefix": "del ",
     "library": "var_list.py",
     "varRefreshCmd": "print(var_dic_list())"
    },
    "r": {
     "delete_cmd_postfix": ") ",
     "delete_cmd_prefix": "rm(",
     "library": "var_list.r",
     "varRefreshCmd": "cat(var_dic_list()) "
    }
   },
   "types_to_exclude": [
    "module",
    "function",
    "builtin_function_or_method",
    "instance",
    "_Feature"
   ],
   "window_display": false
  }
 },
 "nbformat": 4,
 "nbformat_minor": 4
}
